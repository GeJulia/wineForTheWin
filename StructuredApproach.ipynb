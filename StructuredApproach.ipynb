{
 "cells": [
  {
   "cell_type": "code",
   "execution_count": 1,
   "metadata": {},
   "outputs": [
    {
     "name": "stderr",
     "output_type": "stream",
     "text": [
      "Using TensorFlow backend.\n"
     ]
    }
   ],
   "source": [
    "import pandas as pd\n",
    "import numpy as np \n",
    "import matplotlib.pyplot as plt\n",
    "import seaborn as sns\n",
    "import tensorflow as tf \n",
    "from sklearn.model_selection import train_test_split\n",
    "from tensorflow.keras import layers\n",
    "\n",
    "import keras as keras\n",
    "\n",
    "from keras import models\n",
    "from keras import metrics\n",
    "from keras.models import Sequential\n",
    "from keras.layers import Dense, Dropout, Activation, LeakyReLU, BatchNormalization\n",
    "from keras.optimizers import SGD\n",
    "from keras.utils.np_utils import to_categorical\n",
    "from keras.wrappers.scikit_learn import KerasClassifier\n",
    "from sklearn.model_selection import cross_val_score\n",
    "from sklearn.neural_network import MLPClassifier\n",
    "\n",
    "from sklearn.metrics import confusion_matrix\n",
    "from sklearn.metrics import classification_report\n",
    "from sklearn.metrics import accuracy_score\n",
    "from sklearn.utils.multiclass import unique_labels\n",
    "from sklearn.model_selection import StratifiedKFold\n",
    "from sklearn.model_selection import cross_val_predict\n",
    "from sklearn.model_selection import GridSearchCV\n",
    "from sklearn.preprocessing import LabelBinarizer\n",
    "import math\n",
    "from keras import backend as K"
   ]
  },
  {
   "cell_type": "code",
   "execution_count": 2,
   "metadata": {},
   "outputs": [],
   "source": [
    "#tf.enable_eager_execution()"
   ]
  },
  {
   "cell_type": "code",
   "execution_count": 3,
   "metadata": {},
   "outputs": [],
   "source": [
    "#labels = [[0.0, 1.0, 2.0]]\n",
    "ratio_0_red = 1599 / 744.0\n",
    "ratio_1_red = 1599 / 638.0\n",
    "ratio_2_red = 1599 / 217.0\n",
    "ratio_0_white = 4898 / 1640.0\n",
    "ratio_1_white = 4898 / 2198.0\n",
    "ratio_2_white = 4898 / 1060.0\n",
    "\n",
    "class_weight_white = {\"0\": ratio_0_white, \"1\": ratio_1_white, \"2\": ratio_2_white}\n",
    "class_weight_red = {\"0\": ratio_0_red, \"1\": ratio_1_red, \"2\": ratio_2_red}\n",
    "\n",
    "#class_weight_white = [[0, ratio_0_white][1, ratio_1_white][2, ratio_2_white]]\n",
    "#class_weight_red = [[0, ratio_0_red][1, ratio_1_red][2, ratio_2_red]]\n",
    "#class_weight = tf.constant([[ratio_0_red, ratio_1_red, ratio_2_red]])\n",
    "#logits = [0] # shape [batch_size, 3]\n",
    "#weight_per_label = tf.transpose( tf.matmul(labels\n",
    "#                           , tf.transpose(class_weight)) ) #shape [1, batch_size]\n",
    "#labels = [[0,1,2]]\n",
    "#xent = tf.multiply(weight_per_label, \n",
    "#                   tf.nn.softmax_cross_entropy_with_logits_v2(logits=logits,labels=labels, name=\"xent_raw\")) #shape [1, batch_size]\n",
    "#shape 1\n"
   ]
  },
  {
   "cell_type": "markdown",
   "metadata": {
    "collapsed": true
   },
   "source": [
    "logits = ... # shape: [batch_size, 4]\n",
    "scaled_logits = tf.multiply(logits, class_weight) # shape [batch_size, 4]\n",
    "loss = tf.nn.softmax_cross_entropy_with_logits(logits=scaled_logits, labels=labels)"
   ]
  },
  {
   "cell_type": "code",
   "execution_count": 4,
   "metadata": {},
   "outputs": [],
   "source": [
    "def root_mean_squared_error(y_true, y_pred):\n",
    "        return K.sqrt(K.mean(K.square(y_pred - y_true), axis=-1)) "
   ]
  },
  {
   "cell_type": "code",
   "execution_count": 5,
   "metadata": {},
   "outputs": [],
   "source": [
    "def confusion_matrix_report(y_true, y_pred):    \n",
    "    cm, labels = confusion_matrix(y_true, y_pred), unique_labels(y_true, y_pred)\n",
    "    column_width = max([len(str(x)) for x in labels] + [5])  # 5 is value length\n",
    "    report = \" \" * column_width + \" \" + \"{:_^{}}\".format(\"Prediction\", column_width * len(labels))+ \"\\n\"\n",
    "    report += \" \" * column_width + \" \".join([\"{:>{}}\".format(label, column_width) for label in labels]) + \"\\n\"\n",
    "    for i, label1 in enumerate(labels):\n",
    "        report += \"{:>{}}\".format(label1, column_width) + \" \".join([\"{:{}d}\".format(cm[i, j], column_width) for j in range(len(labels))]) + \"\\n\"\n",
    "    return report"
   ]
  },
  {
   "cell_type": "code",
   "execution_count": 6,
   "metadata": {},
   "outputs": [],
   "source": [
    "red = pd.read_csv('data/winequality-red1.csv')\n",
    "white = pd.read_csv('data/winequality-white1.csv')"
   ]
  },
  {
   "cell_type": "code",
   "execution_count": 7,
   "metadata": {},
   "outputs": [],
   "source": [
    "conditions = [(white['quality'] <= 5),\n",
    "              (white['quality'] >= 7)]\n",
    "choices = [0, 2]\n",
    "white['quality_class'] = np.select(conditions, choices, default = 1)\n",
    "conditions = [(red['quality'] <= 5),\n",
    "              (red['quality'] >= 7)]\n",
    "red['quality_class'] = np.select(conditions, choices, default = 1)"
   ]
  },
  {
   "cell_type": "code",
   "execution_count": 8,
   "metadata": {},
   "outputs": [],
   "source": [
    "for column in white:\n",
    "    if column != 'quality' and column != 'quality_class':\n",
    "        mean = white[column].mean()\n",
    "        sd = white[column].std()\n",
    "        white[column] = (white[column]-mean)/sd\n",
    "for column in red:\n",
    "    if column != 'quality' and column != 'quality_class':\n",
    "        mean = red[column].mean()\n",
    "        sd = red[column].std()\n",
    "        red[column] = (red[column]-mean)/sd"
   ]
  },
  {
   "cell_type": "code",
   "execution_count": 9,
   "metadata": {},
   "outputs": [],
   "source": [
    "white_data = white.drop(['quality', 'quality_class'], axis = 1)\n",
    "red_data = red.drop(['quality', 'quality_class'], axis = 1)"
   ]
  },
  {
   "cell_type": "code",
   "execution_count": 10,
   "metadata": {},
   "outputs": [],
   "source": [
    "white_class = white['quality_class']\n",
    "red_class = red['quality_class']"
   ]
  },
  {
   "cell_type": "code",
   "execution_count": 11,
   "metadata": {},
   "outputs": [],
   "source": [
    "# Data and classes are prepared"
   ]
  },
  {
   "cell_type": "markdown",
   "metadata": {},
   "source": [
    "print(white_data.describe())\n",
    "print(white_class.describe())\n",
    "print(red_data.describe())\n",
    "print(red_class.describe())"
   ]
  },
  {
   "cell_type": "code",
   "execution_count": 12,
   "metadata": {},
   "outputs": [],
   "source": [
    "white_data = white_data.values\n",
    "white_class = white_class.values\n",
    "#categorical_labels_white = to_categorical(white_class, num_classes=None)\n",
    "red_data = red_data.values\n",
    "red_class = red_class.values\n",
    "#categorical_labels_red = to_categorical(red_class, num_classes=None)\n",
    "number_of_features = 11"
   ]
  },
  {
   "cell_type": "code",
   "execution_count": 16,
   "metadata": {},
   "outputs": [],
   "source": [
    "cv = StratifiedKFold(n_splits=10, shuffle=True, random_state=42)"
   ]
  },
  {
   "cell_type": "markdown",
   "metadata": {},
   "source": [
    "## Structured Approach"
   ]
  },
  {
   "cell_type": "markdown",
   "metadata": {},
   "source": [
    "## Cross Validation"
   ]
  },
  {
   "cell_type": "markdown",
   "metadata": {},
   "source": [
    "### Verfication for new approach"
   ]
  },
  {
   "cell_type": "markdown",
   "metadata": {},
   "source": [
    "#### RELU 8 red"
   ]
  },
  {
   "cell_type": "code",
   "execution_count": 30,
   "metadata": {},
   "outputs": [],
   "source": [
    "def create_network_relu_8():\n",
    "    model = tf.keras.models.Sequential([\n",
    "        tf.keras.layers.Dense(8, activation=tf.nn.relu),\n",
    "        tf.keras.layers.Dense(3, activation=tf.nn.softmax)\n",
    "    ])\n",
    "    \n",
    "    model.compile(optimizer='adam',\n",
    "              loss='sparse_categorical_crossentropy',\n",
    "              metrics=['accuracy'])#,\n",
    "              #class_weight=class_weight_red)\n",
    "    \n",
    "    return model"
   ]
  },
  {
   "cell_type": "code",
   "execution_count": 31,
   "metadata": {},
   "outputs": [],
   "source": [
    "neural_network = KerasClassifier(build_fn=create_network_relu_8, \n",
    "                                     epochs=75,\n",
    "                                     verbose=0)"
   ]
  },
  {
   "cell_type": "code",
   "execution_count": 32,
   "metadata": {},
   "outputs": [],
   "source": [
    "prediction_red = cross_val_predict(neural_network, \n",
    "                                   red_data, red_class, cv=cv)"
   ]
  },
  {
   "cell_type": "code",
   "execution_count": 33,
   "metadata": {
    "scrolled": true
   },
   "outputs": [
    {
     "name": "stdout",
     "output_type": "stream",
     "text": [
      "rmse: \n",
      "0.6311687442672026\n",
      "acc: \n",
      "0.6353971232020013\n",
      "      __Prediction___\n",
      "         0     1     2\n",
      "    0  581   157     6\n",
      "    1  221   357    60\n",
      "    2   12   127    78\n",
      "\n",
      "              precision    recall  f1-score   support\n",
      "\n",
      "           0       0.71      0.78      0.75       744\n",
      "           1       0.56      0.56      0.56       638\n",
      "           2       0.54      0.36      0.43       217\n",
      "\n",
      "   micro avg       0.64      0.64      0.64      1599\n",
      "   macro avg       0.60      0.57      0.58      1599\n",
      "weighted avg       0.63      0.64      0.63      1599\n",
      "\n"
     ]
    }
   ],
   "source": [
    "print('rmse: ' )\n",
    "print(math.sqrt(np.mean((red_class-prediction_red)*(red_class-prediction_red))))\n",
    "print('acc: ' )\n",
    "print(accuracy_score(red_class, prediction_red))\n",
    "print(confusion_matrix_report(red_class, prediction_red))\n",
    "print(classification_report(red_class, prediction_red))"
   ]
  },
  {
   "cell_type": "code",
   "execution_count": 34,
   "metadata": {},
   "outputs": [],
   "source": [
    "neural_network = KerasClassifier(build_fn=create_network_relu_8, \n",
    "                                     epochs=100,\n",
    "                                     verbose=0)"
   ]
  },
  {
   "cell_type": "code",
   "execution_count": 35,
   "metadata": {},
   "outputs": [],
   "source": [
    "prediction_red = cross_val_predict(neural_network, \n",
    "                                   red_data, red_class, cv=cv)"
   ]
  },
  {
   "cell_type": "code",
   "execution_count": 36,
   "metadata": {
    "scrolled": true
   },
   "outputs": [
    {
     "name": "stdout",
     "output_type": "stream",
     "text": [
      "rmse: \n",
      "0.6361036805684829\n",
      "acc: \n",
      "0.6404002501563477\n",
      "      __Prediction___\n",
      "         0     1     2\n",
      "    0  575   158    11\n",
      "    1  219   359    60\n",
      "    2   13   114    90\n",
      "\n",
      "              precision    recall  f1-score   support\n",
      "\n",
      "           0       0.71      0.77      0.74       744\n",
      "           1       0.57      0.56      0.57       638\n",
      "           2       0.56      0.41      0.48       217\n",
      "\n",
      "   micro avg       0.64      0.64      0.64      1599\n",
      "   macro avg       0.61      0.58      0.59      1599\n",
      "weighted avg       0.63      0.64      0.64      1599\n",
      "\n"
     ]
    }
   ],
   "source": [
    "print('rmse: ' )\n",
    "print(math.sqrt(np.mean((red_class-prediction_red)*(red_class-prediction_red))))\n",
    "print('acc: ' )\n",
    "print(accuracy_score(red_class, prediction_red))\n",
    "print(confusion_matrix_report(red_class, prediction_red))\n",
    "print(classification_report(red_class, prediction_red))"
   ]
  },
  {
   "cell_type": "code",
   "execution_count": 37,
   "metadata": {},
   "outputs": [],
   "source": [
    "neural_network = KerasClassifier(build_fn=create_network_relu_8, \n",
    "                                     epochs=100,\n",
    "                                     verbose=0)"
   ]
  },
  {
   "cell_type": "code",
   "execution_count": 38,
   "metadata": {},
   "outputs": [],
   "source": [
    "prediction_red = cross_val_predict(neural_network, \n",
    "                                   red_data, red_class, cv=cv)"
   ]
  },
  {
   "cell_type": "code",
   "execution_count": 39,
   "metadata": {
    "scrolled": true
   },
   "outputs": [
    {
     "name": "stdout",
     "output_type": "stream",
     "text": [
      "rmse: \n",
      "0.6444063447939946\n",
      "acc: \n",
      "0.6353971232020013\n",
      "      __Prediction___\n",
      "         0     1     2\n",
      "    0  573   158    13\n",
      "    1  221   355    62\n",
      "    2   14   115    88\n",
      "\n",
      "              precision    recall  f1-score   support\n",
      "\n",
      "           0       0.71      0.77      0.74       744\n",
      "           1       0.57      0.56      0.56       638\n",
      "           2       0.54      0.41      0.46       217\n",
      "\n",
      "   micro avg       0.64      0.64      0.64      1599\n",
      "   macro avg       0.60      0.58      0.59      1599\n",
      "weighted avg       0.63      0.64      0.63      1599\n",
      "\n"
     ]
    }
   ],
   "source": [
    "print('rmse: ' )\n",
    "print(math.sqrt(np.mean((red_class-prediction_red)*(red_class-prediction_red))))\n",
    "print('acc: ' )\n",
    "print(accuracy_score(red_class, prediction_red))\n",
    "print(confusion_matrix_report(red_class, prediction_red))\n",
    "print(classification_report(red_class, prediction_red))"
   ]
  },
  {
   "cell_type": "markdown",
   "metadata": {},
   "source": [
    "#### RELU 16 Red"
   ]
  },
  {
   "cell_type": "code",
   "execution_count": 40,
   "metadata": {},
   "outputs": [],
   "source": [
    "def create_network_relu_16():\n",
    "    model = tf.keras.models.Sequential([\n",
    "        tf.keras.layers.Dense(16, activation=tf.nn.relu),\n",
    "        tf.keras.layers.Dense(3, activation=tf.nn.softmax)\n",
    "    ])\n",
    "    \n",
    "    model.compile(optimizer='adam',\n",
    "              loss='sparse_categorical_crossentropy',\n",
    "              metrics=['accuracy'])#,\n",
    "              #class_weight=class_weight_red)\n",
    "    \n",
    "    return model"
   ]
  },
  {
   "cell_type": "code",
   "execution_count": 43,
   "metadata": {},
   "outputs": [],
   "source": [
    "neural_network = KerasClassifier(build_fn=create_network_relu_16, \n",
    "                                     epochs=75,\n",
    "                                     verbose=0)"
   ]
  },
  {
   "cell_type": "code",
   "execution_count": 44,
   "metadata": {},
   "outputs": [],
   "source": [
    "prediction_red = cross_val_predict(neural_network, \n",
    "                                   red_data, red_class, cv=cv)"
   ]
  },
  {
   "cell_type": "code",
   "execution_count": 45,
   "metadata": {
    "scrolled": true
   },
   "outputs": [
    {
     "name": "stdout",
     "output_type": "stream",
     "text": [
      "rmse: \n",
      "0.6370860806605\n",
      "acc: \n",
      "0.6466541588492808\n",
      "      __Prediction___\n",
      "         0     1     2\n",
      "    0  585   145    14\n",
      "    1  218   359    61\n",
      "    2   14   113    90\n",
      "\n",
      "              precision    recall  f1-score   support\n",
      "\n",
      "           0       0.72      0.79      0.75       744\n",
      "           1       0.58      0.56      0.57       638\n",
      "           2       0.55      0.41      0.47       217\n",
      "\n",
      "   micro avg       0.65      0.65      0.65      1599\n",
      "   macro avg       0.61      0.59      0.60      1599\n",
      "weighted avg       0.64      0.65      0.64      1599\n",
      "\n"
     ]
    }
   ],
   "source": [
    "print('rmse: ' )\n",
    "print(math.sqrt(np.mean((red_class-prediction_red)*(red_class-prediction_red))))\n",
    "print('acc: ' )\n",
    "print(accuracy_score(red_class, prediction_red))\n",
    "print(confusion_matrix_report(red_class, prediction_red))\n",
    "print(classification_report(red_class, prediction_red))"
   ]
  },
  {
   "cell_type": "code",
   "execution_count": 46,
   "metadata": {},
   "outputs": [],
   "source": [
    "neural_network = KerasClassifier(build_fn=create_network_relu_16, \n",
    "                                     epochs=75,\n",
    "                                     verbose=0)"
   ]
  },
  {
   "cell_type": "code",
   "execution_count": 47,
   "metadata": {},
   "outputs": [],
   "source": [
    "prediction_red = cross_val_predict(neural_network, \n",
    "                                   red_data, red_class, cv=cv)"
   ]
  },
  {
   "cell_type": "code",
   "execution_count": 48,
   "metadata": {
    "scrolled": true
   },
   "outputs": [
    {
     "name": "stdout",
     "output_type": "stream",
     "text": [
      "rmse: \n",
      "0.6516443817375827\n",
      "acc: \n",
      "0.6353971232020013\n",
      "      __Prediction___\n",
      "         0     1     2\n",
      "    0  570   162    12\n",
      "    1  223   360    55\n",
      "    2   20   111    86\n",
      "\n",
      "              precision    recall  f1-score   support\n",
      "\n",
      "           0       0.70      0.77      0.73       744\n",
      "           1       0.57      0.56      0.57       638\n",
      "           2       0.56      0.40      0.46       217\n",
      "\n",
      "   micro avg       0.64      0.64      0.64      1599\n",
      "   macro avg       0.61      0.58      0.59      1599\n",
      "weighted avg       0.63      0.64      0.63      1599\n",
      "\n"
     ]
    }
   ],
   "source": [
    "print('rmse: ' )\n",
    "print(math.sqrt(np.mean((red_class-prediction_red)*(red_class-prediction_red))))\n",
    "print('acc: ' )\n",
    "print(accuracy_score(red_class, prediction_red))\n",
    "print(confusion_matrix_report(red_class, prediction_red))\n",
    "print(classification_report(red_class, prediction_red))"
   ]
  },
  {
   "cell_type": "code",
   "execution_count": 49,
   "metadata": {},
   "outputs": [],
   "source": [
    "neural_network = KerasClassifier(build_fn=create_network_relu_16, \n",
    "                                     epochs=75,\n",
    "                                     verbose=0)"
   ]
  },
  {
   "cell_type": "code",
   "execution_count": 50,
   "metadata": {},
   "outputs": [],
   "source": [
    "prediction_red = cross_val_predict(neural_network, \n",
    "                                   red_data, red_class, cv=cv)"
   ]
  },
  {
   "cell_type": "code",
   "execution_count": 51,
   "metadata": {
    "scrolled": false
   },
   "outputs": [
    {
     "name": "stdout",
     "output_type": "stream",
     "text": [
      "rmse: \n",
      "0.622187229130073\n",
      "acc: \n",
      "0.6541588492808005\n",
      "      __Prediction___\n",
      "         0     1     2\n",
      "    0  581   156     7\n",
      "    1  210   375    53\n",
      "    2   15   112    90\n",
      "\n",
      "              precision    recall  f1-score   support\n",
      "\n",
      "           0       0.72      0.78      0.75       744\n",
      "           1       0.58      0.59      0.59       638\n",
      "           2       0.60      0.41      0.49       217\n",
      "\n",
      "   micro avg       0.65      0.65      0.65      1599\n",
      "   macro avg       0.63      0.59      0.61      1599\n",
      "weighted avg       0.65      0.65      0.65      1599\n",
      "\n"
     ]
    }
   ],
   "source": [
    "print('rmse: ' )\n",
    "print(math.sqrt(np.mean((red_class-prediction_red)*(red_class-prediction_red))))\n",
    "print('acc: ' )\n",
    "print(accuracy_score(red_class, prediction_red))\n",
    "print(confusion_matrix_report(red_class, prediction_red))\n",
    "print(classification_report(red_class, prediction_red))"
   ]
  },
  {
   "cell_type": "markdown",
   "metadata": {},
   "source": [
    "#### RELU 32 Red"
   ]
  },
  {
   "cell_type": "code",
   "execution_count": 55,
   "metadata": {},
   "outputs": [],
   "source": [
    "def create_network_relu_32():\n",
    "    model = tf.keras.models.Sequential([\n",
    "        tf.keras.layers.Dense(32, activation=tf.nn.relu),\n",
    "        tf.keras.layers.Dense(3, activation=tf.nn.softmax)\n",
    "    ])\n",
    "    \n",
    "    model.compile(optimizer='adam',\n",
    "              loss='sparse_categorical_crossentropy',\n",
    "              metrics=['accuracy'])#,\n",
    "              #class_weight=class_weight_red)\n",
    "    \n",
    "    return model"
   ]
  },
  {
   "cell_type": "code",
   "execution_count": 56,
   "metadata": {},
   "outputs": [],
   "source": [
    "neural_network = KerasClassifier(build_fn=create_network_relu_32, \n",
    "                                     epochs=75,\n",
    "                                     verbose=0)"
   ]
  },
  {
   "cell_type": "code",
   "execution_count": 57,
   "metadata": {},
   "outputs": [],
   "source": [
    "prediction_red = cross_val_predict(neural_network, \n",
    "                                   red_data, red_class, cv=cv)"
   ]
  },
  {
   "cell_type": "code",
   "execution_count": 58,
   "metadata": {
    "scrolled": true
   },
   "outputs": [
    {
     "name": "stdout",
     "output_type": "stream",
     "text": [
      "rmse: \n",
      "0.6395354787013959\n",
      "acc: \n",
      "0.6472795497185742\n",
      "      __Prediction___\n",
      "         0     1     2\n",
      "    0  574   156    14\n",
      "    1  216   366    56\n",
      "    2   16   106    95\n",
      "\n",
      "              precision    recall  f1-score   support\n",
      "\n",
      "           0       0.71      0.77      0.74       744\n",
      "           1       0.58      0.57      0.58       638\n",
      "           2       0.58      0.44      0.50       217\n",
      "\n",
      "   micro avg       0.65      0.65      0.65      1599\n",
      "   macro avg       0.62      0.59      0.61      1599\n",
      "weighted avg       0.64      0.65      0.64      1599\n",
      "\n"
     ]
    }
   ],
   "source": [
    "print('rmse: ' )\n",
    "print(math.sqrt(np.mean((red_class-prediction_red)*(red_class-prediction_red))))\n",
    "print('acc: ' )\n",
    "print(accuracy_score(red_class, prediction_red))\n",
    "print(confusion_matrix_report(red_class, prediction_red))\n",
    "print(classification_report(red_class, prediction_red))"
   ]
  },
  {
   "cell_type": "code",
   "execution_count": 59,
   "metadata": {},
   "outputs": [],
   "source": [
    "neural_network = KerasClassifier(build_fn=create_network_relu_32, \n",
    "                                     epochs=75,\n",
    "                                     verbose=0)"
   ]
  },
  {
   "cell_type": "code",
   "execution_count": 60,
   "metadata": {},
   "outputs": [],
   "source": [
    "prediction_red = cross_val_predict(neural_network, \n",
    "                                   red_data, red_class, cv=cv)"
   ]
  },
  {
   "cell_type": "code",
   "execution_count": 61,
   "metadata": {
    "scrolled": true
   },
   "outputs": [
    {
     "name": "stdout",
     "output_type": "stream",
     "text": [
      "rmse: \n",
      "0.6410006249027402\n",
      "acc: \n",
      "0.6397748592870544\n",
      "      __Prediction___\n",
      "         0     1     2\n",
      "    0  573   161    10\n",
      "    1  209   362    67\n",
      "    2   17   112    88\n",
      "\n",
      "              precision    recall  f1-score   support\n",
      "\n",
      "           0       0.72      0.77      0.74       744\n",
      "           1       0.57      0.57      0.57       638\n",
      "           2       0.53      0.41      0.46       217\n",
      "\n",
      "   micro avg       0.64      0.64      0.64      1599\n",
      "   macro avg       0.61      0.58      0.59      1599\n",
      "weighted avg       0.63      0.64      0.64      1599\n",
      "\n"
     ]
    }
   ],
   "source": [
    "print('rmse: ' )\n",
    "print(math.sqrt(np.mean((red_class-prediction_red)*(red_class-prediction_red))))\n",
    "print('acc: ' )\n",
    "print(accuracy_score(red_class, prediction_red))\n",
    "print(confusion_matrix_report(red_class, prediction_red))\n",
    "print(classification_report(red_class, prediction_red))"
   ]
  },
  {
   "cell_type": "code",
   "execution_count": 62,
   "metadata": {},
   "outputs": [],
   "source": [
    "neural_network = KerasClassifier(build_fn=create_network_relu_32, \n",
    "                                     epochs=75,\n",
    "                                     verbose=0)"
   ]
  },
  {
   "cell_type": "code",
   "execution_count": 63,
   "metadata": {},
   "outputs": [],
   "source": [
    "prediction_red = cross_val_predict(neural_network, \n",
    "                                   red_data, red_class, cv=cv)"
   ]
  },
  {
   "cell_type": "code",
   "execution_count": 64,
   "metadata": {
    "scrolled": true
   },
   "outputs": [
    {
     "name": "stdout",
     "output_type": "stream",
     "text": [
      "rmse: \n",
      "0.6266940768159515\n",
      "acc: \n",
      "0.6541588492808005\n",
      "      __Prediction___\n",
      "         0     1     2\n",
      "    0  584   152     8\n",
      "    1  210   370    58\n",
      "    2   17   108    92\n",
      "\n",
      "              precision    recall  f1-score   support\n",
      "\n",
      "           0       0.72      0.78      0.75       744\n",
      "           1       0.59      0.58      0.58       638\n",
      "           2       0.58      0.42      0.49       217\n",
      "\n",
      "   micro avg       0.65      0.65      0.65      1599\n",
      "   macro avg       0.63      0.60      0.61      1599\n",
      "weighted avg       0.65      0.65      0.65      1599\n",
      "\n"
     ]
    }
   ],
   "source": [
    "print('rmse: ' )\n",
    "print(math.sqrt(np.mean((red_class-prediction_red)*(red_class-prediction_red))))\n",
    "print('acc: ' )\n",
    "print(accuracy_score(red_class, prediction_red))\n",
    "print(confusion_matrix_report(red_class, prediction_red))\n",
    "print(classification_report(red_class, prediction_red))"
   ]
  },
  {
   "cell_type": "markdown",
   "metadata": {},
   "source": [
    "#### Red Deep"
   ]
  },
  {
   "cell_type": "code",
   "execution_count": 106,
   "metadata": {},
   "outputs": [],
   "source": [
    "def create_network_deep_red():\n",
    "    model = tf.keras.Sequential()\n",
    "    model.add(layers.Flatten())\n",
    "    model.add(layers.Dense(24, activation='selu', kernel_initializer='lecun_normal', bias_initializer='lecun_normal'))\n",
    "    model.add(layers.AlphaDropout(0.01))\n",
    "    model.add(layers.Dense(96, activation='selu', kernel_initializer='lecun_normal', bias_initializer='lecun_normal'))\n",
    "\n",
    "    model.add(layers.Dense(96, activation='selu', kernel_initializer='lecun_normal', bias_initializer='lecun_normal'))\n",
    "    model.add(layers.AlphaDropout(0.01))\n",
    "    model.add(layers.Dense(96, activation='selu', kernel_initializer='lecun_normal', bias_initializer='lecun_normal'))\n",
    "\n",
    "    model.add(layers.Dense(96, activation='selu', kernel_initializer='lecun_normal', bias_initializer='lecun_normal'))\n",
    "    model.add(layers.AlphaDropout(0.01))\n",
    "    model.add(layers.Dense(96, activation='selu', kernel_initializer='lecun_normal', bias_initializer='lecun_normal'))\n",
    "    model.add(layers.AlphaDropout(0.01))\n",
    "    model.add(layers.Dense(96, activation='selu', kernel_initializer='lecun_normal', bias_initializer='lecun_normal'))\n",
    "\n",
    "    model.add(layers.Dense(96, activation='selu', kernel_initializer='lecun_normal', bias_initializer='lecun_normal'))\n",
    "    model.add(layers.AlphaDropout(0.01))\n",
    "    model.add(layers.Dense(12, activation='selu', kernel_initializer='lecun_normal', bias_initializer='lecun_normal'))\n",
    "    model.add(layers.Dense(3, activation='softmax'))\n",
    "    \n",
    "    model.compile(optimizer='adam',\n",
    "              loss='sparse_categorical_crossentropy',\n",
    "              metrics=['accuracy'])#,\n",
    "              #class_weight=class_weight_red)\n",
    "    \n",
    "    return model"
   ]
  },
  {
   "cell_type": "code",
   "execution_count": 107,
   "metadata": {},
   "outputs": [],
   "source": [
    "neural_network = KerasClassifier(build_fn=create_network_deep_red, \n",
    "                                     epochs=75,\n",
    "                                     verbose=0)"
   ]
  },
  {
   "cell_type": "code",
   "execution_count": 108,
   "metadata": {},
   "outputs": [],
   "source": [
    "prediction_red = cross_val_predict(neural_network, \n",
    "                                   red_data, red_class, cv=cv)"
   ]
  },
  {
   "cell_type": "code",
   "execution_count": 109,
   "metadata": {
    "scrolled": true
   },
   "outputs": [
    {
     "name": "stdout",
     "output_type": "stream",
     "text": [
      "rmse: \n",
      "0.6261949177747328\n",
      "acc: \n",
      "0.6810506566604128\n",
      "      __Prediction___\n",
      "         0     1     2\n",
      "    0  571   153    20\n",
      "    1  178   390    70\n",
      "    2   19    70   128\n",
      "\n",
      "              precision    recall  f1-score   support\n",
      "\n",
      "           0       0.74      0.77      0.76       744\n",
      "           1       0.64      0.61      0.62       638\n",
      "           2       0.59      0.59      0.59       217\n",
      "\n",
      "   micro avg       0.68      0.68      0.68      1599\n",
      "   macro avg       0.66      0.66      0.66      1599\n",
      "weighted avg       0.68      0.68      0.68      1599\n",
      "\n"
     ]
    }
   ],
   "source": [
    "print('rmse: ' )\n",
    "print(math.sqrt(np.mean((red_class-prediction_red)*(red_class-prediction_red))))\n",
    "print('acc: ' )\n",
    "print(accuracy_score(red_class, prediction_red))\n",
    "print(confusion_matrix_report(red_class, prediction_red))\n",
    "print(classification_report(red_class, prediction_red))"
   ]
  },
  {
   "cell_type": "code",
   "execution_count": 110,
   "metadata": {},
   "outputs": [],
   "source": [
    "neural_network = KerasClassifier(build_fn=create_network_deep_red, \n",
    "                                     epochs=75,\n",
    "                                     verbose=0)"
   ]
  },
  {
   "cell_type": "code",
   "execution_count": 111,
   "metadata": {},
   "outputs": [],
   "source": [
    "prediction_red = cross_val_predict(neural_network, \n",
    "                                   red_data, red_class, cv=cv)"
   ]
  },
  {
   "cell_type": "code",
   "execution_count": 112,
   "metadata": {
    "scrolled": true
   },
   "outputs": [
    {
     "name": "stdout",
     "output_type": "stream",
     "text": [
      "rmse: \n",
      "0.61358398228325\n",
      "acc: \n",
      "0.6797998749218261\n",
      "      __Prediction___\n",
      "         0     1     2\n",
      "    0  562   168    14\n",
      "    1  173   394    71\n",
      "    2   16    70   131\n",
      "\n",
      "              precision    recall  f1-score   support\n",
      "\n",
      "           0       0.75      0.76      0.75       744\n",
      "           1       0.62      0.62      0.62       638\n",
      "           2       0.61      0.60      0.61       217\n",
      "\n",
      "   micro avg       0.68      0.68      0.68      1599\n",
      "   macro avg       0.66      0.66      0.66      1599\n",
      "weighted avg       0.68      0.68      0.68      1599\n",
      "\n"
     ]
    }
   ],
   "source": [
    "print('rmse: ' )\n",
    "print(math.sqrt(np.mean((red_class-prediction_red)*(red_class-prediction_red))))\n",
    "print('acc: ' )\n",
    "print(accuracy_score(red_class, prediction_red))\n",
    "print(confusion_matrix_report(red_class, prediction_red))\n",
    "print(classification_report(red_class, prediction_red))"
   ]
  },
  {
   "cell_type": "code",
   "execution_count": 113,
   "metadata": {},
   "outputs": [],
   "source": [
    "neural_network = KerasClassifier(build_fn=create_network_deep_red, \n",
    "                                     epochs=75,\n",
    "                                     verbose=0)"
   ]
  },
  {
   "cell_type": "code",
   "execution_count": 114,
   "metadata": {},
   "outputs": [],
   "source": [
    "prediction_red = cross_val_predict(neural_network, \n",
    "                                   red_data, red_class, cv=cv)"
   ]
  },
  {
   "cell_type": "code",
   "execution_count": 115,
   "metadata": {
    "scrolled": false
   },
   "outputs": [
    {
     "name": "stdout",
     "output_type": "stream",
     "text": [
      "rmse: \n",
      "0.6001875879364265\n",
      "acc: \n",
      "0.699812382739212\n",
      "      __Prediction___\n",
      "         0     1     2\n",
      "    0  569   156    19\n",
      "    1  159   408    71\n",
      "    2   13    62   142\n",
      "\n",
      "              precision    recall  f1-score   support\n",
      "\n",
      "           0       0.77      0.76      0.77       744\n",
      "           1       0.65      0.64      0.65       638\n",
      "           2       0.61      0.65      0.63       217\n",
      "\n",
      "   micro avg       0.70      0.70      0.70      1599\n",
      "   macro avg       0.68      0.69      0.68      1599\n",
      "weighted avg       0.70      0.70      0.70      1599\n",
      "\n"
     ]
    }
   ],
   "source": [
    "print('rmse: ' )\n",
    "print(math.sqrt(np.mean((red_class-prediction_red)*(red_class-prediction_red))))\n",
    "print('acc: ' )\n",
    "print(accuracy_score(red_class, prediction_red))\n",
    "print(confusion_matrix_report(red_class, prediction_red))\n",
    "print(classification_report(red_class, prediction_red))"
   ]
  },
  {
   "cell_type": "code",
   "execution_count": 116,
   "metadata": {},
   "outputs": [],
   "source": [
    "neural_network = KerasClassifier(build_fn=create_network_deep_red, \n",
    "                                     epochs=75,\n",
    "                                     verbose=0)"
   ]
  },
  {
   "cell_type": "code",
   "execution_count": 117,
   "metadata": {},
   "outputs": [],
   "source": [
    "prediction_red = cross_val_predict(neural_network, \n",
    "                                   red_data, red_class, cv=cv)"
   ]
  },
  {
   "cell_type": "code",
   "execution_count": 118,
   "metadata": {
    "scrolled": false
   },
   "outputs": [
    {
     "name": "stdout",
     "output_type": "stream",
     "text": [
      "rmse: \n",
      "0.6017485465880458\n",
      "acc: \n",
      "0.699812382739212\n",
      "      __Prediction___\n",
      "         0     1     2\n",
      "    0  568   159    17\n",
      "    1  163   410    65\n",
      "    2   16    60   141\n",
      "\n",
      "              precision    recall  f1-score   support\n",
      "\n",
      "           0       0.76      0.76      0.76       744\n",
      "           1       0.65      0.64      0.65       638\n",
      "           2       0.63      0.65      0.64       217\n",
      "\n",
      "   micro avg       0.70      0.70      0.70      1599\n",
      "   macro avg       0.68      0.69      0.68      1599\n",
      "weighted avg       0.70      0.70      0.70      1599\n",
      "\n"
     ]
    }
   ],
   "source": [
    "print('rmse: ' )\n",
    "print(math.sqrt(np.mean((red_class-prediction_red)*(red_class-prediction_red))))\n",
    "print('acc: ' )\n",
    "print(accuracy_score(red_class, prediction_red))\n",
    "print(confusion_matrix_report(red_class, prediction_red))\n",
    "print(classification_report(red_class, prediction_red))"
   ]
  },
  {
   "cell_type": "code",
   "execution_count": 119,
   "metadata": {},
   "outputs": [],
   "source": [
    "neural_network = KerasClassifier(build_fn=create_network_deep_red, \n",
    "                                     epochs=75,\n",
    "                                     verbose=0)"
   ]
  },
  {
   "cell_type": "code",
   "execution_count": 120,
   "metadata": {
    "collapsed": true
   },
   "outputs": [
    {
     "ename": "KeyboardInterrupt",
     "evalue": "",
     "output_type": "error",
     "traceback": [
      "\u001b[1;31m---------------------------------------------------------------------------\u001b[0m",
      "\u001b[1;31mKeyboardInterrupt\u001b[0m                         Traceback (most recent call last)",
      "\u001b[1;32m<ipython-input-120-fd37d64e37dc>\u001b[0m in \u001b[0;36m<module>\u001b[1;34m\u001b[0m\n\u001b[0;32m      1\u001b[0m prediction_red = cross_val_predict(neural_network, \n\u001b[1;32m----> 2\u001b[1;33m                                    red_data, red_class, cv=cv)\n\u001b[0m",
      "\u001b[1;32m~\\Anaconda3\\envs\\tensorflow_env\\lib\\site-packages\\sklearn\\model_selection\\_validation.py\u001b[0m in \u001b[0;36mcross_val_predict\u001b[1;34m(estimator, X, y, groups, cv, n_jobs, verbose, fit_params, pre_dispatch, method)\u001b[0m\n\u001b[0;32m    775\u001b[0m     prediction_blocks = parallel(delayed(_fit_and_predict)(\n\u001b[0;32m    776\u001b[0m         clone(estimator), X, y, train, test, verbose, fit_params, method)\n\u001b[1;32m--> 777\u001b[1;33m         for train, test in cv.split(X, y, groups))\n\u001b[0m\u001b[0;32m    778\u001b[0m \u001b[1;33m\u001b[0m\u001b[0m\n\u001b[0;32m    779\u001b[0m     \u001b[1;31m# Concatenate the predictions\u001b[0m\u001b[1;33m\u001b[0m\u001b[1;33m\u001b[0m\u001b[1;33m\u001b[0m\u001b[0m\n",
      "\u001b[1;32m~\\Anaconda3\\envs\\tensorflow_env\\lib\\site-packages\\sklearn\\externals\\joblib\\parallel.py\u001b[0m in \u001b[0;36m__call__\u001b[1;34m(self, iterable)\u001b[0m\n\u001b[0;32m    984\u001b[0m                 \u001b[0mself\u001b[0m\u001b[1;33m.\u001b[0m\u001b[0m_iterating\u001b[0m \u001b[1;33m=\u001b[0m \u001b[0mself\u001b[0m\u001b[1;33m.\u001b[0m\u001b[0m_original_iterator\u001b[0m \u001b[1;32mis\u001b[0m \u001b[1;32mnot\u001b[0m \u001b[1;32mNone\u001b[0m\u001b[1;33m\u001b[0m\u001b[1;33m\u001b[0m\u001b[0m\n\u001b[0;32m    985\u001b[0m \u001b[1;33m\u001b[0m\u001b[0m\n\u001b[1;32m--> 986\u001b[1;33m             \u001b[1;32mwhile\u001b[0m \u001b[0mself\u001b[0m\u001b[1;33m.\u001b[0m\u001b[0mdispatch_one_batch\u001b[0m\u001b[1;33m(\u001b[0m\u001b[0miterator\u001b[0m\u001b[1;33m)\u001b[0m\u001b[1;33m:\u001b[0m\u001b[1;33m\u001b[0m\u001b[1;33m\u001b[0m\u001b[0m\n\u001b[0m\u001b[0;32m    987\u001b[0m                 \u001b[1;32mpass\u001b[0m\u001b[1;33m\u001b[0m\u001b[1;33m\u001b[0m\u001b[0m\n\u001b[0;32m    988\u001b[0m \u001b[1;33m\u001b[0m\u001b[0m\n",
      "\u001b[1;32m~\\Anaconda3\\envs\\tensorflow_env\\lib\\site-packages\\sklearn\\externals\\joblib\\parallel.py\u001b[0m in \u001b[0;36mdispatch_one_batch\u001b[1;34m(self, iterator)\u001b[0m\n\u001b[0;32m    823\u001b[0m                 \u001b[1;32mreturn\u001b[0m \u001b[1;32mFalse\u001b[0m\u001b[1;33m\u001b[0m\u001b[1;33m\u001b[0m\u001b[0m\n\u001b[0;32m    824\u001b[0m             \u001b[1;32melse\u001b[0m\u001b[1;33m:\u001b[0m\u001b[1;33m\u001b[0m\u001b[1;33m\u001b[0m\u001b[0m\n\u001b[1;32m--> 825\u001b[1;33m                 \u001b[0mself\u001b[0m\u001b[1;33m.\u001b[0m\u001b[0m_dispatch\u001b[0m\u001b[1;33m(\u001b[0m\u001b[0mtasks\u001b[0m\u001b[1;33m)\u001b[0m\u001b[1;33m\u001b[0m\u001b[1;33m\u001b[0m\u001b[0m\n\u001b[0m\u001b[0;32m    826\u001b[0m                 \u001b[1;32mreturn\u001b[0m \u001b[1;32mTrue\u001b[0m\u001b[1;33m\u001b[0m\u001b[1;33m\u001b[0m\u001b[0m\n\u001b[0;32m    827\u001b[0m \u001b[1;33m\u001b[0m\u001b[0m\n",
      "\u001b[1;32m~\\Anaconda3\\envs\\tensorflow_env\\lib\\site-packages\\sklearn\\externals\\joblib\\parallel.py\u001b[0m in \u001b[0;36m_dispatch\u001b[1;34m(self, batch)\u001b[0m\n\u001b[0;32m    780\u001b[0m         \u001b[1;32mwith\u001b[0m \u001b[0mself\u001b[0m\u001b[1;33m.\u001b[0m\u001b[0m_lock\u001b[0m\u001b[1;33m:\u001b[0m\u001b[1;33m\u001b[0m\u001b[1;33m\u001b[0m\u001b[0m\n\u001b[0;32m    781\u001b[0m             \u001b[0mjob_idx\u001b[0m \u001b[1;33m=\u001b[0m \u001b[0mlen\u001b[0m\u001b[1;33m(\u001b[0m\u001b[0mself\u001b[0m\u001b[1;33m.\u001b[0m\u001b[0m_jobs\u001b[0m\u001b[1;33m)\u001b[0m\u001b[1;33m\u001b[0m\u001b[1;33m\u001b[0m\u001b[0m\n\u001b[1;32m--> 782\u001b[1;33m             \u001b[0mjob\u001b[0m \u001b[1;33m=\u001b[0m \u001b[0mself\u001b[0m\u001b[1;33m.\u001b[0m\u001b[0m_backend\u001b[0m\u001b[1;33m.\u001b[0m\u001b[0mapply_async\u001b[0m\u001b[1;33m(\u001b[0m\u001b[0mbatch\u001b[0m\u001b[1;33m,\u001b[0m \u001b[0mcallback\u001b[0m\u001b[1;33m=\u001b[0m\u001b[0mcb\u001b[0m\u001b[1;33m)\u001b[0m\u001b[1;33m\u001b[0m\u001b[1;33m\u001b[0m\u001b[0m\n\u001b[0m\u001b[0;32m    783\u001b[0m             \u001b[1;31m# A job can complete so quickly than its callback is\u001b[0m\u001b[1;33m\u001b[0m\u001b[1;33m\u001b[0m\u001b[1;33m\u001b[0m\u001b[0m\n\u001b[0;32m    784\u001b[0m             \u001b[1;31m# called before we get here, causing self._jobs to\u001b[0m\u001b[1;33m\u001b[0m\u001b[1;33m\u001b[0m\u001b[1;33m\u001b[0m\u001b[0m\n",
      "\u001b[1;32m~\\Anaconda3\\envs\\tensorflow_env\\lib\\site-packages\\sklearn\\externals\\joblib\\_parallel_backends.py\u001b[0m in \u001b[0;36mapply_async\u001b[1;34m(self, func, callback)\u001b[0m\n\u001b[0;32m    180\u001b[0m     \u001b[1;32mdef\u001b[0m \u001b[0mapply_async\u001b[0m\u001b[1;33m(\u001b[0m\u001b[0mself\u001b[0m\u001b[1;33m,\u001b[0m \u001b[0mfunc\u001b[0m\u001b[1;33m,\u001b[0m \u001b[0mcallback\u001b[0m\u001b[1;33m=\u001b[0m\u001b[1;32mNone\u001b[0m\u001b[1;33m)\u001b[0m\u001b[1;33m:\u001b[0m\u001b[1;33m\u001b[0m\u001b[1;33m\u001b[0m\u001b[0m\n\u001b[0;32m    181\u001b[0m         \u001b[1;34m\"\"\"Schedule a func to be run\"\"\"\u001b[0m\u001b[1;33m\u001b[0m\u001b[1;33m\u001b[0m\u001b[0m\n\u001b[1;32m--> 182\u001b[1;33m         \u001b[0mresult\u001b[0m \u001b[1;33m=\u001b[0m \u001b[0mImmediateResult\u001b[0m\u001b[1;33m(\u001b[0m\u001b[0mfunc\u001b[0m\u001b[1;33m)\u001b[0m\u001b[1;33m\u001b[0m\u001b[1;33m\u001b[0m\u001b[0m\n\u001b[0m\u001b[0;32m    183\u001b[0m         \u001b[1;32mif\u001b[0m \u001b[0mcallback\u001b[0m\u001b[1;33m:\u001b[0m\u001b[1;33m\u001b[0m\u001b[1;33m\u001b[0m\u001b[0m\n\u001b[0;32m    184\u001b[0m             \u001b[0mcallback\u001b[0m\u001b[1;33m(\u001b[0m\u001b[0mresult\u001b[0m\u001b[1;33m)\u001b[0m\u001b[1;33m\u001b[0m\u001b[1;33m\u001b[0m\u001b[0m\n",
      "\u001b[1;32m~\\Anaconda3\\envs\\tensorflow_env\\lib\\site-packages\\sklearn\\externals\\joblib\\_parallel_backends.py\u001b[0m in \u001b[0;36m__init__\u001b[1;34m(self, batch)\u001b[0m\n\u001b[0;32m    543\u001b[0m         \u001b[1;31m# Don't delay the application, to avoid keeping the input\u001b[0m\u001b[1;33m\u001b[0m\u001b[1;33m\u001b[0m\u001b[1;33m\u001b[0m\u001b[0m\n\u001b[0;32m    544\u001b[0m         \u001b[1;31m# arguments in memory\u001b[0m\u001b[1;33m\u001b[0m\u001b[1;33m\u001b[0m\u001b[1;33m\u001b[0m\u001b[0m\n\u001b[1;32m--> 545\u001b[1;33m         \u001b[0mself\u001b[0m\u001b[1;33m.\u001b[0m\u001b[0mresults\u001b[0m \u001b[1;33m=\u001b[0m \u001b[0mbatch\u001b[0m\u001b[1;33m(\u001b[0m\u001b[1;33m)\u001b[0m\u001b[1;33m\u001b[0m\u001b[1;33m\u001b[0m\u001b[0m\n\u001b[0m\u001b[0;32m    546\u001b[0m \u001b[1;33m\u001b[0m\u001b[0m\n\u001b[0;32m    547\u001b[0m     \u001b[1;32mdef\u001b[0m \u001b[0mget\u001b[0m\u001b[1;33m(\u001b[0m\u001b[0mself\u001b[0m\u001b[1;33m)\u001b[0m\u001b[1;33m:\u001b[0m\u001b[1;33m\u001b[0m\u001b[1;33m\u001b[0m\u001b[0m\n",
      "\u001b[1;32m~\\Anaconda3\\envs\\tensorflow_env\\lib\\site-packages\\sklearn\\externals\\joblib\\parallel.py\u001b[0m in \u001b[0;36m__call__\u001b[1;34m(self)\u001b[0m\n\u001b[0;32m    259\u001b[0m         \u001b[1;32mwith\u001b[0m \u001b[0mparallel_backend\u001b[0m\u001b[1;33m(\u001b[0m\u001b[0mself\u001b[0m\u001b[1;33m.\u001b[0m\u001b[0m_backend\u001b[0m\u001b[1;33m)\u001b[0m\u001b[1;33m:\u001b[0m\u001b[1;33m\u001b[0m\u001b[1;33m\u001b[0m\u001b[0m\n\u001b[0;32m    260\u001b[0m             return [func(*args, **kwargs)\n\u001b[1;32m--> 261\u001b[1;33m                     for func, args, kwargs in self.items]\n\u001b[0m\u001b[0;32m    262\u001b[0m \u001b[1;33m\u001b[0m\u001b[0m\n\u001b[0;32m    263\u001b[0m     \u001b[1;32mdef\u001b[0m \u001b[0m__len__\u001b[0m\u001b[1;33m(\u001b[0m\u001b[0mself\u001b[0m\u001b[1;33m)\u001b[0m\u001b[1;33m:\u001b[0m\u001b[1;33m\u001b[0m\u001b[1;33m\u001b[0m\u001b[0m\n",
      "\u001b[1;32m~\\Anaconda3\\envs\\tensorflow_env\\lib\\site-packages\\sklearn\\externals\\joblib\\parallel.py\u001b[0m in \u001b[0;36m<listcomp>\u001b[1;34m(.0)\u001b[0m\n\u001b[0;32m    259\u001b[0m         \u001b[1;32mwith\u001b[0m \u001b[0mparallel_backend\u001b[0m\u001b[1;33m(\u001b[0m\u001b[0mself\u001b[0m\u001b[1;33m.\u001b[0m\u001b[0m_backend\u001b[0m\u001b[1;33m)\u001b[0m\u001b[1;33m:\u001b[0m\u001b[1;33m\u001b[0m\u001b[1;33m\u001b[0m\u001b[0m\n\u001b[0;32m    260\u001b[0m             return [func(*args, **kwargs)\n\u001b[1;32m--> 261\u001b[1;33m                     for func, args, kwargs in self.items]\n\u001b[0m\u001b[0;32m    262\u001b[0m \u001b[1;33m\u001b[0m\u001b[0m\n\u001b[0;32m    263\u001b[0m     \u001b[1;32mdef\u001b[0m \u001b[0m__len__\u001b[0m\u001b[1;33m(\u001b[0m\u001b[0mself\u001b[0m\u001b[1;33m)\u001b[0m\u001b[1;33m:\u001b[0m\u001b[1;33m\u001b[0m\u001b[1;33m\u001b[0m\u001b[0m\n",
      "\u001b[1;32m~\\Anaconda3\\envs\\tensorflow_env\\lib\\site-packages\\sklearn\\model_selection\\_validation.py\u001b[0m in \u001b[0;36m_fit_and_predict\u001b[1;34m(estimator, X, y, train, test, verbose, fit_params, method)\u001b[0m\n\u001b[0;32m    848\u001b[0m         \u001b[0mestimator\u001b[0m\u001b[1;33m.\u001b[0m\u001b[0mfit\u001b[0m\u001b[1;33m(\u001b[0m\u001b[0mX_train\u001b[0m\u001b[1;33m,\u001b[0m \u001b[1;33m**\u001b[0m\u001b[0mfit_params\u001b[0m\u001b[1;33m)\u001b[0m\u001b[1;33m\u001b[0m\u001b[1;33m\u001b[0m\u001b[0m\n\u001b[0;32m    849\u001b[0m     \u001b[1;32melse\u001b[0m\u001b[1;33m:\u001b[0m\u001b[1;33m\u001b[0m\u001b[1;33m\u001b[0m\u001b[0m\n\u001b[1;32m--> 850\u001b[1;33m         \u001b[0mestimator\u001b[0m\u001b[1;33m.\u001b[0m\u001b[0mfit\u001b[0m\u001b[1;33m(\u001b[0m\u001b[0mX_train\u001b[0m\u001b[1;33m,\u001b[0m \u001b[0my_train\u001b[0m\u001b[1;33m,\u001b[0m \u001b[1;33m**\u001b[0m\u001b[0mfit_params\u001b[0m\u001b[1;33m)\u001b[0m\u001b[1;33m\u001b[0m\u001b[1;33m\u001b[0m\u001b[0m\n\u001b[0m\u001b[0;32m    851\u001b[0m     \u001b[0mfunc\u001b[0m \u001b[1;33m=\u001b[0m \u001b[0mgetattr\u001b[0m\u001b[1;33m(\u001b[0m\u001b[0mestimator\u001b[0m\u001b[1;33m,\u001b[0m \u001b[0mmethod\u001b[0m\u001b[1;33m)\u001b[0m\u001b[1;33m\u001b[0m\u001b[1;33m\u001b[0m\u001b[0m\n\u001b[0;32m    852\u001b[0m     \u001b[0mpredictions\u001b[0m \u001b[1;33m=\u001b[0m \u001b[0mfunc\u001b[0m\u001b[1;33m(\u001b[0m\u001b[0mX_test\u001b[0m\u001b[1;33m)\u001b[0m\u001b[1;33m\u001b[0m\u001b[1;33m\u001b[0m\u001b[0m\n",
      "\u001b[1;32m~\\Anaconda3\\envs\\tensorflow_env\\lib\\site-packages\\keras\\wrappers\\scikit_learn.py\u001b[0m in \u001b[0;36mfit\u001b[1;34m(self, x, y, sample_weight, **kwargs)\u001b[0m\n\u001b[0;32m    208\u001b[0m         \u001b[1;32mif\u001b[0m \u001b[0msample_weight\u001b[0m \u001b[1;32mis\u001b[0m \u001b[1;32mnot\u001b[0m \u001b[1;32mNone\u001b[0m\u001b[1;33m:\u001b[0m\u001b[1;33m\u001b[0m\u001b[1;33m\u001b[0m\u001b[0m\n\u001b[0;32m    209\u001b[0m             \u001b[0mkwargs\u001b[0m\u001b[1;33m[\u001b[0m\u001b[1;34m'sample_weight'\u001b[0m\u001b[1;33m]\u001b[0m \u001b[1;33m=\u001b[0m \u001b[0msample_weight\u001b[0m\u001b[1;33m\u001b[0m\u001b[1;33m\u001b[0m\u001b[0m\n\u001b[1;32m--> 210\u001b[1;33m         \u001b[1;32mreturn\u001b[0m \u001b[0msuper\u001b[0m\u001b[1;33m(\u001b[0m\u001b[0mKerasClassifier\u001b[0m\u001b[1;33m,\u001b[0m \u001b[0mself\u001b[0m\u001b[1;33m)\u001b[0m\u001b[1;33m.\u001b[0m\u001b[0mfit\u001b[0m\u001b[1;33m(\u001b[0m\u001b[0mx\u001b[0m\u001b[1;33m,\u001b[0m \u001b[0my\u001b[0m\u001b[1;33m,\u001b[0m \u001b[1;33m**\u001b[0m\u001b[0mkwargs\u001b[0m\u001b[1;33m)\u001b[0m\u001b[1;33m\u001b[0m\u001b[1;33m\u001b[0m\u001b[0m\n\u001b[0m\u001b[0;32m    211\u001b[0m \u001b[1;33m\u001b[0m\u001b[0m\n\u001b[0;32m    212\u001b[0m     \u001b[1;32mdef\u001b[0m \u001b[0mpredict\u001b[0m\u001b[1;33m(\u001b[0m\u001b[0mself\u001b[0m\u001b[1;33m,\u001b[0m \u001b[0mx\u001b[0m\u001b[1;33m,\u001b[0m \u001b[1;33m**\u001b[0m\u001b[0mkwargs\u001b[0m\u001b[1;33m)\u001b[0m\u001b[1;33m:\u001b[0m\u001b[1;33m\u001b[0m\u001b[1;33m\u001b[0m\u001b[0m\n",
      "\u001b[1;32m~\\Anaconda3\\envs\\tensorflow_env\\lib\\site-packages\\keras\\wrappers\\scikit_learn.py\u001b[0m in \u001b[0;36mfit\u001b[1;34m(self, x, y, **kwargs)\u001b[0m\n\u001b[0;32m    150\u001b[0m         \u001b[0mfit_args\u001b[0m\u001b[1;33m.\u001b[0m\u001b[0mupdate\u001b[0m\u001b[1;33m(\u001b[0m\u001b[0mkwargs\u001b[0m\u001b[1;33m)\u001b[0m\u001b[1;33m\u001b[0m\u001b[1;33m\u001b[0m\u001b[0m\n\u001b[0;32m    151\u001b[0m \u001b[1;33m\u001b[0m\u001b[0m\n\u001b[1;32m--> 152\u001b[1;33m         \u001b[0mhistory\u001b[0m \u001b[1;33m=\u001b[0m \u001b[0mself\u001b[0m\u001b[1;33m.\u001b[0m\u001b[0mmodel\u001b[0m\u001b[1;33m.\u001b[0m\u001b[0mfit\u001b[0m\u001b[1;33m(\u001b[0m\u001b[0mx\u001b[0m\u001b[1;33m,\u001b[0m \u001b[0my\u001b[0m\u001b[1;33m,\u001b[0m \u001b[1;33m**\u001b[0m\u001b[0mfit_args\u001b[0m\u001b[1;33m)\u001b[0m\u001b[1;33m\u001b[0m\u001b[1;33m\u001b[0m\u001b[0m\n\u001b[0m\u001b[0;32m    153\u001b[0m \u001b[1;33m\u001b[0m\u001b[0m\n\u001b[0;32m    154\u001b[0m         \u001b[1;32mreturn\u001b[0m \u001b[0mhistory\u001b[0m\u001b[1;33m\u001b[0m\u001b[1;33m\u001b[0m\u001b[0m\n",
      "\u001b[1;32m~\\Anaconda3\\envs\\tensorflow_env\\lib\\site-packages\\tensorflow\\python\\keras\\engine\\training.py\u001b[0m in \u001b[0;36mfit\u001b[1;34m(self, x, y, batch_size, epochs, verbose, callbacks, validation_split, validation_data, shuffle, class_weight, sample_weight, initial_epoch, steps_per_epoch, validation_steps, max_queue_size, workers, use_multiprocessing, **kwargs)\u001b[0m\n\u001b[0;32m   1637\u001b[0m           \u001b[0minitial_epoch\u001b[0m\u001b[1;33m=\u001b[0m\u001b[0minitial_epoch\u001b[0m\u001b[1;33m,\u001b[0m\u001b[1;33m\u001b[0m\u001b[1;33m\u001b[0m\u001b[0m\n\u001b[0;32m   1638\u001b[0m           \u001b[0msteps_per_epoch\u001b[0m\u001b[1;33m=\u001b[0m\u001b[0msteps_per_epoch\u001b[0m\u001b[1;33m,\u001b[0m\u001b[1;33m\u001b[0m\u001b[1;33m\u001b[0m\u001b[0m\n\u001b[1;32m-> 1639\u001b[1;33m           validation_steps=validation_steps)\n\u001b[0m\u001b[0;32m   1640\u001b[0m \u001b[1;33m\u001b[0m\u001b[0m\n\u001b[0;32m   1641\u001b[0m   def evaluate(self,\n",
      "\u001b[1;32m~\\Anaconda3\\envs\\tensorflow_env\\lib\\site-packages\\tensorflow\\python\\keras\\engine\\training_arrays.py\u001b[0m in \u001b[0;36mfit_loop\u001b[1;34m(model, inputs, targets, sample_weights, batch_size, epochs, verbose, callbacks, val_inputs, val_targets, val_sample_weights, shuffle, initial_epoch, steps_per_epoch, validation_steps)\u001b[0m\n\u001b[0;32m    213\u001b[0m           \u001b[0mins_batch\u001b[0m\u001b[1;33m[\u001b[0m\u001b[0mi\u001b[0m\u001b[1;33m]\u001b[0m \u001b[1;33m=\u001b[0m \u001b[0mins_batch\u001b[0m\u001b[1;33m[\u001b[0m\u001b[0mi\u001b[0m\u001b[1;33m]\u001b[0m\u001b[1;33m.\u001b[0m\u001b[0mtoarray\u001b[0m\u001b[1;33m(\u001b[0m\u001b[1;33m)\u001b[0m\u001b[1;33m\u001b[0m\u001b[1;33m\u001b[0m\u001b[0m\n\u001b[0;32m    214\u001b[0m \u001b[1;33m\u001b[0m\u001b[0m\n\u001b[1;32m--> 215\u001b[1;33m         \u001b[0mouts\u001b[0m \u001b[1;33m=\u001b[0m \u001b[0mf\u001b[0m\u001b[1;33m(\u001b[0m\u001b[0mins_batch\u001b[0m\u001b[1;33m)\u001b[0m\u001b[1;33m\u001b[0m\u001b[1;33m\u001b[0m\u001b[0m\n\u001b[0m\u001b[0;32m    216\u001b[0m         \u001b[1;32mif\u001b[0m \u001b[1;32mnot\u001b[0m \u001b[0misinstance\u001b[0m\u001b[1;33m(\u001b[0m\u001b[0mouts\u001b[0m\u001b[1;33m,\u001b[0m \u001b[0mlist\u001b[0m\u001b[1;33m)\u001b[0m\u001b[1;33m:\u001b[0m\u001b[1;33m\u001b[0m\u001b[1;33m\u001b[0m\u001b[0m\n\u001b[0;32m    217\u001b[0m           \u001b[0mouts\u001b[0m \u001b[1;33m=\u001b[0m \u001b[1;33m[\u001b[0m\u001b[0mouts\u001b[0m\u001b[1;33m]\u001b[0m\u001b[1;33m\u001b[0m\u001b[1;33m\u001b[0m\u001b[0m\n",
      "\u001b[1;32m~\\Anaconda3\\envs\\tensorflow_env\\lib\\site-packages\\tensorflow\\python\\keras\\backend.py\u001b[0m in \u001b[0;36m__call__\u001b[1;34m(self, inputs)\u001b[0m\n\u001b[0;32m   2945\u001b[0m       \u001b[1;32mraise\u001b[0m \u001b[0mTypeError\u001b[0m\u001b[1;33m(\u001b[0m\u001b[1;34m'`inputs` should be a list or tuple.'\u001b[0m\u001b[1;33m)\u001b[0m\u001b[1;33m\u001b[0m\u001b[1;33m\u001b[0m\u001b[0m\n\u001b[0;32m   2946\u001b[0m \u001b[1;33m\u001b[0m\u001b[0m\n\u001b[1;32m-> 2947\u001b[1;33m     \u001b[0msession\u001b[0m \u001b[1;33m=\u001b[0m \u001b[0mget_session\u001b[0m\u001b[1;33m(\u001b[0m\u001b[1;33m)\u001b[0m\u001b[1;33m\u001b[0m\u001b[1;33m\u001b[0m\u001b[0m\n\u001b[0m\u001b[0;32m   2948\u001b[0m     \u001b[0mfeed_arrays\u001b[0m \u001b[1;33m=\u001b[0m \u001b[1;33m[\u001b[0m\u001b[1;33m]\u001b[0m\u001b[1;33m\u001b[0m\u001b[1;33m\u001b[0m\u001b[0m\n\u001b[0;32m   2949\u001b[0m     \u001b[0marray_vals\u001b[0m \u001b[1;33m=\u001b[0m \u001b[1;33m[\u001b[0m\u001b[1;33m]\u001b[0m\u001b[1;33m\u001b[0m\u001b[1;33m\u001b[0m\u001b[0m\n",
      "\u001b[1;32m~\\Anaconda3\\envs\\tensorflow_env\\lib\\site-packages\\tensorflow\\python\\keras\\backend.py\u001b[0m in \u001b[0;36mget_session\u001b[1;34m()\u001b[0m\n\u001b[0;32m    467\u001b[0m   \u001b[1;32mif\u001b[0m \u001b[1;32mnot\u001b[0m \u001b[0m_MANUAL_VAR_INIT\u001b[0m\u001b[1;33m:\u001b[0m\u001b[1;33m\u001b[0m\u001b[1;33m\u001b[0m\u001b[0m\n\u001b[0;32m    468\u001b[0m     \u001b[1;32mwith\u001b[0m \u001b[0msession\u001b[0m\u001b[1;33m.\u001b[0m\u001b[0mgraph\u001b[0m\u001b[1;33m.\u001b[0m\u001b[0mas_default\u001b[0m\u001b[1;33m(\u001b[0m\u001b[1;33m)\u001b[0m\u001b[1;33m:\u001b[0m\u001b[1;33m\u001b[0m\u001b[1;33m\u001b[0m\u001b[0m\n\u001b[1;32m--> 469\u001b[1;33m       \u001b[0m_initialize_variables\u001b[0m\u001b[1;33m(\u001b[0m\u001b[0msession\u001b[0m\u001b[1;33m)\u001b[0m\u001b[1;33m\u001b[0m\u001b[1;33m\u001b[0m\u001b[0m\n\u001b[0m\u001b[0;32m    470\u001b[0m   \u001b[1;32mreturn\u001b[0m \u001b[0msession\u001b[0m\u001b[1;33m\u001b[0m\u001b[1;33m\u001b[0m\u001b[0m\n\u001b[0;32m    471\u001b[0m \u001b[1;33m\u001b[0m\u001b[0m\n",
      "\u001b[1;32m~\\Anaconda3\\envs\\tensorflow_env\\lib\\site-packages\\tensorflow\\python\\keras\\backend.py\u001b[0m in \u001b[0;36m_initialize_variables\u001b[1;34m(session)\u001b[0m\n\u001b[0;32m    722\u001b[0m   \u001b[0mvariables\u001b[0m \u001b[1;33m=\u001b[0m \u001b[0m_get_variables\u001b[0m\u001b[1;33m(\u001b[0m\u001b[0mops\u001b[0m\u001b[1;33m.\u001b[0m\u001b[0mget_default_graph\u001b[0m\u001b[1;33m(\u001b[0m\u001b[1;33m)\u001b[0m\u001b[1;33m)\u001b[0m\u001b[1;33m\u001b[0m\u001b[1;33m\u001b[0m\u001b[0m\n\u001b[0;32m    723\u001b[0m   \u001b[0mcandidate_vars\u001b[0m \u001b[1;33m=\u001b[0m \u001b[1;33m[\u001b[0m\u001b[1;33m]\u001b[0m\u001b[1;33m\u001b[0m\u001b[1;33m\u001b[0m\u001b[0m\n\u001b[1;32m--> 724\u001b[1;33m   \u001b[1;32mfor\u001b[0m \u001b[0mv\u001b[0m \u001b[1;32min\u001b[0m \u001b[0mvariables\u001b[0m\u001b[1;33m:\u001b[0m\u001b[1;33m\u001b[0m\u001b[1;33m\u001b[0m\u001b[0m\n\u001b[0m\u001b[0;32m    725\u001b[0m     \u001b[1;32mif\u001b[0m \u001b[1;32mnot\u001b[0m \u001b[0mgetattr\u001b[0m\u001b[1;33m(\u001b[0m\u001b[0mv\u001b[0m\u001b[1;33m,\u001b[0m \u001b[1;34m'_keras_initialized'\u001b[0m\u001b[1;33m,\u001b[0m \u001b[1;32mFalse\u001b[0m\u001b[1;33m)\u001b[0m\u001b[1;33m:\u001b[0m\u001b[1;33m\u001b[0m\u001b[1;33m\u001b[0m\u001b[0m\n\u001b[0;32m    726\u001b[0m       \u001b[0mcandidate_vars\u001b[0m\u001b[1;33m.\u001b[0m\u001b[0mappend\u001b[0m\u001b[1;33m(\u001b[0m\u001b[0mv\u001b[0m\u001b[1;33m)\u001b[0m\u001b[1;33m\u001b[0m\u001b[1;33m\u001b[0m\u001b[0m\n",
      "\u001b[1;32m~\\Anaconda3\\envs\\tensorflow_env\\lib\\_weakrefset.py\u001b[0m in \u001b[0;36m__iter__\u001b[1;34m(self)\u001b[0m\n\u001b[0;32m     63\u001b[0m                     \u001b[1;31m# Caveat: the iterator will keep a strong reference to\u001b[0m\u001b[1;33m\u001b[0m\u001b[1;33m\u001b[0m\u001b[1;33m\u001b[0m\u001b[0m\n\u001b[0;32m     64\u001b[0m                     \u001b[1;31m# `item` until it is resumed or closed.\u001b[0m\u001b[1;33m\u001b[0m\u001b[1;33m\u001b[0m\u001b[1;33m\u001b[0m\u001b[0m\n\u001b[1;32m---> 65\u001b[1;33m                     \u001b[1;32myield\u001b[0m \u001b[0mitem\u001b[0m\u001b[1;33m\u001b[0m\u001b[1;33m\u001b[0m\u001b[0m\n\u001b[0m\u001b[0;32m     66\u001b[0m \u001b[1;33m\u001b[0m\u001b[0m\n\u001b[0;32m     67\u001b[0m     \u001b[1;32mdef\u001b[0m \u001b[0m__len__\u001b[0m\u001b[1;33m(\u001b[0m\u001b[0mself\u001b[0m\u001b[1;33m)\u001b[0m\u001b[1;33m:\u001b[0m\u001b[1;33m\u001b[0m\u001b[1;33m\u001b[0m\u001b[0m\n",
      "\u001b[1;31mKeyboardInterrupt\u001b[0m: "
     ]
    }
   ],
   "source": [
    "prediction_red = cross_val_predict(neural_network, \n",
    "                                   red_data, red_class, cv=cv)"
   ]
  },
  {
   "cell_type": "code",
   "execution_count": null,
   "metadata": {
    "scrolled": true
   },
   "outputs": [],
   "source": [
    "print('rmse: ' )\n",
    "print(math.sqrt(np.mean((red_class-prediction_red)*(red_class-prediction_red))))\n",
    "print('acc: ' )\n",
    "print(accuracy_score(red_class, prediction_red))\n",
    "print(confusion_matrix_report(red_class, prediction_red))\n",
    "print(classification_report(red_class, prediction_red))"
   ]
  },
  {
   "cell_type": "markdown",
   "metadata": {},
   "source": [
    "#### RELU 8 white"
   ]
  },
  {
   "cell_type": "code",
   "execution_count": 65,
   "metadata": {},
   "outputs": [],
   "source": [
    "def create_network_relu_8():\n",
    "    model = tf.keras.models.Sequential([\n",
    "        tf.keras.layers.Dense(8, activation=tf.nn.relu),\n",
    "        tf.keras.layers.Dense(3, activation=tf.nn.softmax)\n",
    "    ])\n",
    "    \n",
    "    model.compile(optimizer='adam',\n",
    "              loss='sparse_categorical_crossentropy',\n",
    "              metrics=['accuracy'])#,\n",
    "              #class_weight=class_weight_white)\n",
    "    \n",
    "    return model"
   ]
  },
  {
   "cell_type": "code",
   "execution_count": 66,
   "metadata": {},
   "outputs": [],
   "source": [
    "neural_network = KerasClassifier(build_fn=create_network_relu_8, \n",
    "                                     epochs=75,\n",
    "                                     verbose=0)"
   ]
  },
  {
   "cell_type": "code",
   "execution_count": 67,
   "metadata": {},
   "outputs": [],
   "source": [
    "prediction_white = cross_val_predict(neural_network, \n",
    "                                   white_data, white_class, cv=cv)"
   ]
  },
  {
   "cell_type": "code",
   "execution_count": 68,
   "metadata": {
    "scrolled": true
   },
   "outputs": [
    {
     "name": "stdout",
     "output_type": "stream",
     "text": [
      "rmse: \n",
      "0.6663773701965007\n",
      "acc: \n",
      "0.5939158840342997\n",
      "      __Prediction___\n",
      "         0     1     2\n",
      "    0 1013   604    23\n",
      "    1  490  1450   258\n",
      "    2   39   575   446\n",
      "\n",
      "              precision    recall  f1-score   support\n",
      "\n",
      "           0       0.66      0.62      0.64      1640\n",
      "           1       0.55      0.66      0.60      2198\n",
      "           2       0.61      0.42      0.50      1060\n",
      "\n",
      "   micro avg       0.59      0.59      0.59      4898\n",
      "   macro avg       0.61      0.57      0.58      4898\n",
      "weighted avg       0.60      0.59      0.59      4898\n",
      "\n"
     ]
    }
   ],
   "source": [
    "print('rmse: ' )\n",
    "print(math.sqrt(np.mean((white_class-prediction_white)*(white_class-prediction_white))))\n",
    "print('acc: ' )\n",
    "print(accuracy_score(white_class, prediction_white))\n",
    "print(confusion_matrix_report(white_class, prediction_white))\n",
    "print(classification_report(white_class, prediction_white))"
   ]
  },
  {
   "cell_type": "code",
   "execution_count": 69,
   "metadata": {},
   "outputs": [],
   "source": [
    "neural_network = KerasClassifier(build_fn=create_network_relu_8, \n",
    "                                     epochs=100,\n",
    "                                     verbose=0)"
   ]
  },
  {
   "cell_type": "code",
   "execution_count": 70,
   "metadata": {},
   "outputs": [],
   "source": [
    "prediction_white = cross_val_predict(neural_network, \n",
    "                                   white_data, white_class, cv=cv)"
   ]
  },
  {
   "cell_type": "code",
   "execution_count": 71,
   "metadata": {
    "scrolled": true
   },
   "outputs": [
    {
     "name": "stdout",
     "output_type": "stream",
     "text": [
      "rmse: \n",
      "0.6676017669481857\n",
      "acc: \n",
      "0.5977950183748468\n",
      "      __Prediction___\n",
      "         0     1     2\n",
      "    0 1037   570    33\n",
      "    1  489  1444   265\n",
      "    2   38   575   447\n",
      "\n",
      "              precision    recall  f1-score   support\n",
      "\n",
      "           0       0.66      0.63      0.65      1640\n",
      "           1       0.56      0.66      0.60      2198\n",
      "           2       0.60      0.42      0.50      1060\n",
      "\n",
      "   micro avg       0.60      0.60      0.60      4898\n",
      "   macro avg       0.61      0.57      0.58      4898\n",
      "weighted avg       0.60      0.60      0.59      4898\n",
      "\n"
     ]
    }
   ],
   "source": [
    "print('rmse: ' )\n",
    "print(math.sqrt(np.mean((white_class-prediction_white)*(white_class-prediction_white))))\n",
    "print('acc: ' )\n",
    "print(accuracy_score(white_class, prediction_white))\n",
    "print(confusion_matrix_report(white_class, prediction_white))\n",
    "print(classification_report(white_class, prediction_white))"
   ]
  },
  {
   "cell_type": "code",
   "execution_count": 72,
   "metadata": {},
   "outputs": [],
   "source": [
    "neural_network = KerasClassifier(build_fn=create_network_relu_8, \n",
    "                                     epochs=100,\n",
    "                                     verbose=0)"
   ]
  },
  {
   "cell_type": "code",
   "execution_count": 73,
   "metadata": {},
   "outputs": [],
   "source": [
    "prediction_white = cross_val_predict(neural_network, \n",
    "                                   white_data, white_class, cv=cv)"
   ]
  },
  {
   "cell_type": "code",
   "execution_count": 74,
   "metadata": {
    "scrolled": true
   },
   "outputs": [
    {
     "name": "stdout",
     "output_type": "stream",
     "text": [
      "rmse: \n",
      "0.6679075154262929\n",
      "acc: \n",
      "0.5937117190690078\n",
      "      __Prediction___\n",
      "         0     1     2\n",
      "    0 1043   570    27\n",
      "    1  504  1426   268\n",
      "    2   38   583   439\n",
      "\n",
      "              precision    recall  f1-score   support\n",
      "\n",
      "           0       0.66      0.64      0.65      1640\n",
      "           1       0.55      0.65      0.60      2198\n",
      "           2       0.60      0.41      0.49      1060\n",
      "\n",
      "   micro avg       0.59      0.59      0.59      4898\n",
      "   macro avg       0.60      0.57      0.58      4898\n",
      "weighted avg       0.60      0.59      0.59      4898\n",
      "\n"
     ]
    }
   ],
   "source": [
    "print('rmse: ' )\n",
    "print(math.sqrt(np.mean((white_class-prediction_white)*(white_class-prediction_white))))\n",
    "print('acc: ' )\n",
    "print(accuracy_score(white_class, prediction_white))\n",
    "print(confusion_matrix_report(white_class, prediction_white))\n",
    "print(classification_report(white_class, prediction_white))"
   ]
  },
  {
   "cell_type": "markdown",
   "metadata": {},
   "source": [
    "#### RELU 16 white"
   ]
  },
  {
   "cell_type": "code",
   "execution_count": 75,
   "metadata": {},
   "outputs": [],
   "source": [
    "def create_network_relu_16():\n",
    "    model = tf.keras.models.Sequential([\n",
    "        tf.keras.layers.Dense(16, activation=tf.nn.relu),\n",
    "        tf.keras.layers.Dense(3, activation=tf.nn.softmax)\n",
    "    ])\n",
    "    \n",
    "    model.compile(optimizer='adam',\n",
    "              loss='sparse_categorical_crossentropy',\n",
    "              metrics=['accuracy'])#,\n",
    "              #class_weight=class_weight_white)\n",
    "    \n",
    "    return model"
   ]
  },
  {
   "cell_type": "code",
   "execution_count": 76,
   "metadata": {},
   "outputs": [],
   "source": [
    "neural_network = KerasClassifier(build_fn=create_network_relu_16, \n",
    "                                     epochs=75,\n",
    "                                     verbose=0)"
   ]
  },
  {
   "cell_type": "code",
   "execution_count": 77,
   "metadata": {},
   "outputs": [],
   "source": [
    "prediction_white = cross_val_predict(neural_network, \n",
    "                                   white_data, white_class, cv=cv)"
   ]
  },
  {
   "cell_type": "code",
   "execution_count": 78,
   "metadata": {
    "scrolled": true
   },
   "outputs": [
    {
     "name": "stdout",
     "output_type": "stream",
     "text": [
      "rmse: \n",
      "0.6608395121052415\n",
      "acc: \n",
      "0.6031033074724377\n",
      "      __Prediction___\n",
      "         0     1     2\n",
      "    0 1050   568    22\n",
      "    1  478  1432   288\n",
      "    2   43   545   472\n",
      "\n",
      "              precision    recall  f1-score   support\n",
      "\n",
      "           0       0.67      0.64      0.65      1640\n",
      "           1       0.56      0.65      0.60      2198\n",
      "           2       0.60      0.45      0.51      1060\n",
      "\n",
      "   micro avg       0.60      0.60      0.60      4898\n",
      "   macro avg       0.61      0.58      0.59      4898\n",
      "weighted avg       0.61      0.60      0.60      4898\n",
      "\n"
     ]
    }
   ],
   "source": [
    "print('rmse: ' )\n",
    "print(math.sqrt(np.mean((white_class-prediction_white)*(white_class-prediction_white))))\n",
    "print('acc: ' )\n",
    "print(accuracy_score(white_class, prediction_white))\n",
    "print(confusion_matrix_report(white_class, prediction_white))\n",
    "print(classification_report(white_class, prediction_white))"
   ]
  },
  {
   "cell_type": "code",
   "execution_count": 79,
   "metadata": {},
   "outputs": [],
   "source": [
    "neural_network = KerasClassifier(build_fn=create_network_relu_16, \n",
    "                                     epochs=75,\n",
    "                                     verbose=0)"
   ]
  },
  {
   "cell_type": "code",
   "execution_count": 80,
   "metadata": {},
   "outputs": [],
   "source": [
    "prediction_white = cross_val_predict(neural_network, \n",
    "                                   white_data, white_class, cv=cv)"
   ]
  },
  {
   "cell_type": "code",
   "execution_count": 81,
   "metadata": {
    "scrolled": true
   },
   "outputs": [
    {
     "name": "stdout",
     "output_type": "stream",
     "text": [
      "rmse: \n",
      "0.6695866365013083\n",
      "acc: \n",
      "0.5963658636178032\n",
      "      __Prediction___\n",
      "         0     1     2\n",
      "    0 1047   557    36\n",
      "    1  494  1404   300\n",
      "    2   37   553   470\n",
      "\n",
      "              precision    recall  f1-score   support\n",
      "\n",
      "           0       0.66      0.64      0.65      1640\n",
      "           1       0.56      0.64      0.60      2198\n",
      "           2       0.58      0.44      0.50      1060\n",
      "\n",
      "   micro avg       0.60      0.60      0.60      4898\n",
      "   macro avg       0.60      0.57      0.58      4898\n",
      "weighted avg       0.60      0.60      0.59      4898\n",
      "\n"
     ]
    }
   ],
   "source": [
    "print('rmse: ' )\n",
    "print(math.sqrt(np.mean((white_class-prediction_white)*(white_class-prediction_white))))\n",
    "print('acc: ' )\n",
    "print(accuracy_score(white_class, prediction_white))\n",
    "print(confusion_matrix_report(white_class, prediction_white))\n",
    "print(classification_report(white_class, prediction_white))"
   ]
  },
  {
   "cell_type": "code",
   "execution_count": 82,
   "metadata": {},
   "outputs": [],
   "source": [
    "neural_network = KerasClassifier(build_fn=create_network_relu_16, \n",
    "                                     epochs=75,\n",
    "                                     verbose=0)"
   ]
  },
  {
   "cell_type": "code",
   "execution_count": 83,
   "metadata": {},
   "outputs": [],
   "source": [
    "prediction_white = cross_val_predict(neural_network, \n",
    "                                   white_data, white_class, cv=cv)"
   ]
  },
  {
   "cell_type": "code",
   "execution_count": 84,
   "metadata": {
    "scrolled": false
   },
   "outputs": [
    {
     "name": "stdout",
     "output_type": "stream",
     "text": [
      "rmse: \n",
      "0.6663773701965007\n",
      "acc: \n",
      "0.5957533687219273\n",
      "      __Prediction___\n",
      "         0     1     2\n",
      "    0 1056   557    27\n",
      "    1  493  1411   294\n",
      "    2   38   571   451\n",
      "\n",
      "              precision    recall  f1-score   support\n",
      "\n",
      "           0       0.67      0.64      0.65      1640\n",
      "           1       0.56      0.64      0.60      2198\n",
      "           2       0.58      0.43      0.49      1060\n",
      "\n",
      "   micro avg       0.60      0.60      0.60      4898\n",
      "   macro avg       0.60      0.57      0.58      4898\n",
      "weighted avg       0.60      0.60      0.59      4898\n",
      "\n"
     ]
    }
   ],
   "source": [
    "print('rmse: ' )\n",
    "print(math.sqrt(np.mean((white_class-prediction_white)*(white_class-prediction_white))))\n",
    "print('acc: ' )\n",
    "print(accuracy_score(white_class, prediction_white))\n",
    "print(confusion_matrix_report(white_class, prediction_white))\n",
    "print(classification_report(white_class, prediction_white))"
   ]
  },
  {
   "cell_type": "markdown",
   "metadata": {},
   "source": [
    "#### RELU 32 white"
   ]
  },
  {
   "cell_type": "code",
   "execution_count": 85,
   "metadata": {},
   "outputs": [],
   "source": [
    "def create_network_relu_32():\n",
    "    model = tf.keras.models.Sequential([\n",
    "        tf.keras.layers.Dense(32, activation=tf.nn.relu),\n",
    "        tf.keras.layers.Dense(3, activation=tf.nn.softmax)\n",
    "    ])\n",
    "    \n",
    "    model.compile(optimizer='adam',\n",
    "              loss='sparse_categorical_crossentropy',\n",
    "              metrics=['accuracy'])#,\n",
    "              #class_weight=class_weight_white)\n",
    "    \n",
    "    return model"
   ]
  },
  {
   "cell_type": "code",
   "execution_count": 86,
   "metadata": {},
   "outputs": [],
   "source": [
    "neural_network = KerasClassifier(build_fn=create_network_relu_32, \n",
    "                                     epochs=75,\n",
    "                                     verbose=0)"
   ]
  },
  {
   "cell_type": "code",
   "execution_count": 87,
   "metadata": {},
   "outputs": [],
   "source": [
    "prediction_white = cross_val_predict(neural_network, \n",
    "                                   white_data, white_class, cv=cv)"
   ]
  },
  {
   "cell_type": "code",
   "execution_count": 88,
   "metadata": {
    "scrolled": true
   },
   "outputs": [
    {
     "name": "stdout",
     "output_type": "stream",
     "text": [
      "rmse: \n",
      "0.6656109784878433\n",
      "acc: \n",
      "0.6041241322988975\n",
      "      __Prediction___\n",
      "         0     1     2\n",
      "    0 1044   567    29\n",
      "    1  481  1424   293\n",
      "    2   48   521   491\n",
      "\n",
      "              precision    recall  f1-score   support\n",
      "\n",
      "           0       0.66      0.64      0.65      1640\n",
      "           1       0.57      0.65      0.60      2198\n",
      "           2       0.60      0.46      0.52      1060\n",
      "\n",
      "   micro avg       0.60      0.60      0.60      4898\n",
      "   macro avg       0.61      0.58      0.59      4898\n",
      "weighted avg       0.61      0.60      0.60      4898\n",
      "\n"
     ]
    }
   ],
   "source": [
    "print('rmse: ' )\n",
    "print(math.sqrt(np.mean((white_class-prediction_white)*(white_class-prediction_white))))\n",
    "print('acc: ' )\n",
    "print(accuracy_score(white_class, prediction_white))\n",
    "print(confusion_matrix_report(white_class, prediction_white))\n",
    "print(classification_report(white_class, prediction_white))"
   ]
  },
  {
   "cell_type": "code",
   "execution_count": 89,
   "metadata": {},
   "outputs": [],
   "source": [
    "neural_network = KerasClassifier(build_fn=create_network_relu_32, \n",
    "                                     epochs=75,\n",
    "                                     verbose=0)"
   ]
  },
  {
   "cell_type": "code",
   "execution_count": 90,
   "metadata": {},
   "outputs": [],
   "source": [
    "prediction_white = cross_val_predict(neural_network, \n",
    "                                   white_data, white_class, cv=cv)"
   ]
  },
  {
   "cell_type": "code",
   "execution_count": 91,
   "metadata": {
    "scrolled": true
   },
   "outputs": [
    {
     "name": "stdout",
     "output_type": "stream",
     "text": [
      "rmse: \n",
      "0.6662241623843376\n",
      "acc: \n",
      "0.6057574520212332\n",
      "      __Prediction___\n",
      "         0     1     2\n",
      "    0 1046   559    35\n",
      "    1  473  1419   306\n",
      "    2   46   512   502\n",
      "\n",
      "              precision    recall  f1-score   support\n",
      "\n",
      "           0       0.67      0.64      0.65      1640\n",
      "           1       0.57      0.65      0.61      2198\n",
      "           2       0.60      0.47      0.53      1060\n",
      "\n",
      "   micro avg       0.61      0.61      0.61      4898\n",
      "   macro avg       0.61      0.59      0.60      4898\n",
      "weighted avg       0.61      0.61      0.60      4898\n",
      "\n"
     ]
    }
   ],
   "source": [
    "print('rmse: ' )\n",
    "print(math.sqrt(np.mean((white_class-prediction_white)*(white_class-prediction_white))))\n",
    "print('acc: ' )\n",
    "print(accuracy_score(white_class, prediction_white))\n",
    "print(confusion_matrix_report(white_class, prediction_white))\n",
    "print(classification_report(white_class, prediction_white))"
   ]
  },
  {
   "cell_type": "code",
   "execution_count": 92,
   "metadata": {},
   "outputs": [],
   "source": [
    "neural_network = KerasClassifier(build_fn=create_network_relu_32, \n",
    "                                     epochs=75,\n",
    "                                     verbose=0)"
   ]
  },
  {
   "cell_type": "code",
   "execution_count": 93,
   "metadata": {},
   "outputs": [],
   "source": [
    "prediction_white = cross_val_predict(neural_network, \n",
    "                                   white_data, white_class, cv=cv)"
   ]
  },
  {
   "cell_type": "code",
   "execution_count": 94,
   "metadata": {
    "scrolled": true
   },
   "outputs": [
    {
     "name": "stdout",
     "output_type": "stream",
     "text": [
      "rmse: \n",
      "0.6519750437998775\n",
      "acc: \n",
      "0.6135157207023275\n",
      "      __Prediction___\n",
      "         0     1     2\n",
      "    0 1076   538    26\n",
      "    1  482  1449   267\n",
      "    2   37   543   480\n",
      "\n",
      "              precision    recall  f1-score   support\n",
      "\n",
      "           0       0.67      0.66      0.67      1640\n",
      "           1       0.57      0.66      0.61      2198\n",
      "           2       0.62      0.45      0.52      1060\n",
      "\n",
      "   micro avg       0.61      0.61      0.61      4898\n",
      "   macro avg       0.62      0.59      0.60      4898\n",
      "weighted avg       0.62      0.61      0.61      4898\n",
      "\n"
     ]
    }
   ],
   "source": [
    "print('rmse: ' )\n",
    "print(math.sqrt(np.mean((white_class-prediction_white)*(white_class-prediction_white))))\n",
    "print('acc: ' )\n",
    "print(accuracy_score(white_class, prediction_white))\n",
    "print(confusion_matrix_report(white_class, prediction_white))\n",
    "print(classification_report(white_class, prediction_white))"
   ]
  },
  {
   "cell_type": "markdown",
   "metadata": {},
   "source": [
    "#### Deep White"
   ]
  },
  {
   "cell_type": "code",
   "execution_count": 96,
   "metadata": {},
   "outputs": [],
   "source": [
    "def create_network_less_deep_white():\n",
    "    model = tf.keras.Sequential()\n",
    "    model.add(layers.Flatten())\n",
    "    model.add(layers.Dense(24, activation='selu', kernel_initializer='lecun_normal', bias_initializer='lecun_normal'))\n",
    "    model.add(layers.AlphaDropout(0.01))\n",
    "    model.add(layers.Dense(96, activation='selu', kernel_initializer='lecun_normal', bias_initializer='lecun_normal'))\n",
    "\n",
    "    model.add(layers.Dense(96, activation='selu', kernel_initializer='lecun_normal', bias_initializer='lecun_normal'))\n",
    "    model.add(layers.AlphaDropout(0.01))\n",
    "    model.add(layers.Dense(96, activation='selu', kernel_initializer='lecun_normal', bias_initializer='lecun_normal'))\n",
    "    model.add(layers.AlphaDropout(0.01))\n",
    "    model.add(layers.Dense(96, activation='selu', kernel_initializer='lecun_normal', bias_initializer='lecun_normal'))\n",
    "\n",
    "    model.add(layers.Dense(96, activation='selu', kernel_initializer='lecun_normal', bias_initializer='lecun_normal'))\n",
    "    model.add(layers.AlphaDropout(0.01))\n",
    "    model.add(layers.Dense(12, activation='selu', kernel_initializer='lecun_normal', bias_initializer='lecun_normal'))\n",
    "    model.add(layers.Dense(3, activation='softmax'))\n",
    "    \n",
    "    model.compile(optimizer='adam',\n",
    "              loss='sparse_categorical_crossentropy',\n",
    "              metrics=['accuracy'])#,\n",
    "              #class_weight=class_weight_white)\n",
    "    \n",
    "    return model"
   ]
  },
  {
   "cell_type": "code",
   "execution_count": 97,
   "metadata": {},
   "outputs": [],
   "source": [
    "neural_network = KerasClassifier(build_fn=create_network_less_deep_white, \n",
    "                                     epochs=75,\n",
    "                                     verbose=0)"
   ]
  },
  {
   "cell_type": "code",
   "execution_count": 98,
   "metadata": {},
   "outputs": [],
   "source": [
    "prediction_white = cross_val_predict(neural_network, \n",
    "                                   white_data, white_class, cv=cv)"
   ]
  },
  {
   "cell_type": "code",
   "execution_count": 99,
   "metadata": {
    "scrolled": true
   },
   "outputs": [
    {
     "name": "stdout",
     "output_type": "stream",
     "text": [
      "rmse: \n",
      "0.6366062017484062\n",
      "acc: \n",
      "0.6792568395263373\n",
      "      __Prediction___\n",
      "         0     1     2\n",
      "    0 1153   424    63\n",
      "    1  426  1488   284\n",
      "    2   75   299   686\n",
      "\n",
      "              precision    recall  f1-score   support\n",
      "\n",
      "           0       0.70      0.70      0.70      1640\n",
      "           1       0.67      0.68      0.67      2198\n",
      "           2       0.66      0.65      0.66      1060\n",
      "\n",
      "   micro avg       0.68      0.68      0.68      4898\n",
      "   macro avg       0.68      0.68      0.68      4898\n",
      "weighted avg       0.68      0.68      0.68      4898\n",
      "\n"
     ]
    }
   ],
   "source": [
    "print('rmse: ' )\n",
    "print(math.sqrt(np.mean((white_class-prediction_white)*(white_class-prediction_white))))\n",
    "print('acc: ' )\n",
    "print(accuracy_score(white_class, prediction_white))\n",
    "print(confusion_matrix_report(white_class, prediction_white))\n",
    "print(classification_report(white_class, prediction_white))"
   ]
  },
  {
   "cell_type": "code",
   "execution_count": 100,
   "metadata": {},
   "outputs": [],
   "source": [
    "neural_network = KerasClassifier(build_fn=create_network_less_deep_white, \n",
    "                                     epochs=75,\n",
    "                                     verbose=0)"
   ]
  },
  {
   "cell_type": "code",
   "execution_count": 101,
   "metadata": {},
   "outputs": [],
   "source": [
    "prediction_white = cross_val_predict(neural_network, \n",
    "                                   white_data, white_class, cv=cv)"
   ]
  },
  {
   "cell_type": "code",
   "execution_count": 102,
   "metadata": {
    "scrolled": true
   },
   "outputs": [
    {
     "name": "stdout",
     "output_type": "stream",
     "text": [
      "rmse: \n",
      "0.6107449480662148\n",
      "acc: \n",
      "0.6894650877909351\n",
      "      __Prediction___\n",
      "         0     1     2\n",
      "    0 1181   407    52\n",
      "    1  446  1492   260\n",
      "    2   50   306   704\n",
      "\n",
      "              precision    recall  f1-score   support\n",
      "\n",
      "           0       0.70      0.72      0.71      1640\n",
      "           1       0.68      0.68      0.68      2198\n",
      "           2       0.69      0.66      0.68      1060\n",
      "\n",
      "   micro avg       0.69      0.69      0.69      4898\n",
      "   macro avg       0.69      0.69      0.69      4898\n",
      "weighted avg       0.69      0.69      0.69      4898\n",
      "\n"
     ]
    }
   ],
   "source": [
    "print('rmse: ' )\n",
    "print(math.sqrt(np.mean((white_class-prediction_white)*(white_class-prediction_white))))\n",
    "print('acc: ' )\n",
    "print(accuracy_score(white_class, prediction_white))\n",
    "print(confusion_matrix_report(white_class, prediction_white))\n",
    "print(classification_report(white_class, prediction_white))"
   ]
  },
  {
   "cell_type": "code",
   "execution_count": 103,
   "metadata": {},
   "outputs": [],
   "source": [
    "neural_network = KerasClassifier(build_fn=create_network_less_deep_white, \n",
    "                                     epochs=75,\n",
    "                                     verbose=0)"
   ]
  },
  {
   "cell_type": "code",
   "execution_count": 104,
   "metadata": {},
   "outputs": [],
   "source": [
    "prediction_white = cross_val_predict(neural_network, \n",
    "                                   white_data, white_class, cv=cv)"
   ]
  },
  {
   "cell_type": "code",
   "execution_count": 105,
   "metadata": {
    "scrolled": false
   },
   "outputs": [
    {
     "name": "stdout",
     "output_type": "stream",
     "text": [
      "rmse: \n",
      "0.6162360225133208\n",
      "acc: \n",
      "0.6906900775826869\n",
      "      __Prediction___\n",
      "         0     1     2\n",
      "    0 1175   405    60\n",
      "    1  392  1512   294\n",
      "    2   55   309   696\n",
      "\n",
      "              precision    recall  f1-score   support\n",
      "\n",
      "           0       0.72      0.72      0.72      1640\n",
      "           1       0.68      0.69      0.68      2198\n",
      "           2       0.66      0.66      0.66      1060\n",
      "\n",
      "   micro avg       0.69      0.69      0.69      4898\n",
      "   macro avg       0.69      0.69      0.69      4898\n",
      "weighted avg       0.69      0.69      0.69      4898\n",
      "\n"
     ]
    }
   ],
   "source": [
    "print('rmse: ' )\n",
    "print(math.sqrt(np.mean((white_class-prediction_white)*(white_class-prediction_white))))\n",
    "print('acc: ' )\n",
    "print(accuracy_score(white_class, prediction_white))\n",
    "print(confusion_matrix_report(white_class, prediction_white))\n",
    "print(classification_report(white_class, prediction_white))"
   ]
  },
  {
   "cell_type": "code",
   "execution_count": null,
   "metadata": {},
   "outputs": [],
   "source": []
  },
  {
   "cell_type": "code",
   "execution_count": null,
   "metadata": {},
   "outputs": [],
   "source": []
  },
  {
   "cell_type": "code",
   "execution_count": null,
   "metadata": {},
   "outputs": [],
   "source": []
  },
  {
   "cell_type": "code",
   "execution_count": null,
   "metadata": {},
   "outputs": [],
   "source": []
  },
  {
   "cell_type": "code",
   "execution_count": null,
   "metadata": {},
   "outputs": [],
   "source": []
  },
  {
   "cell_type": "code",
   "execution_count": null,
   "metadata": {},
   "outputs": [],
   "source": []
  },
  {
   "cell_type": "code",
   "execution_count": null,
   "metadata": {},
   "outputs": [],
   "source": []
  },
  {
   "cell_type": "markdown",
   "metadata": {},
   "source": [
    "### Old approach"
   ]
  },
  {
   "cell_type": "code",
   "execution_count": 14,
   "metadata": {},
   "outputs": [],
   "source": [
    "def rsme(targets, outputs):\n",
    "    return tf.sqrt(tf.reduce_mean(tf.square(tf.subtract(targets, outputs))))  \n",
    "\n",
    "# Create function returning a compiled network\n",
    "def create_network():\n",
    "    model = tf.keras.models.Sequential([\n",
    "        tf.keras.layers.Flatten(),\n",
    "        tf.keras.layers.Dense(33, activation=tf.nn.sigmoid),\n",
    "        tf.keras.layers.Dense(3, activation=tf.nn.softmax)\n",
    "    ])\n",
    "\n",
    "    model.compile(optimizer='adam',\n",
    "              loss='sparse_categorical_crossentropy',\n",
    "              metrics=['accuracy'],\n",
    "              class_weight=class_weight_white)\n",
    "    \n",
    "    # Return compiled network\n",
    "    return model\n",
    "\n"
   ]
  },
  {
   "cell_type": "code",
   "execution_count": 89,
   "metadata": {},
   "outputs": [],
   "source": [
    "# Create function returning a compiled network\n",
    "def create_network_2():\n",
    "    model = tf.keras.models.Sequential([\n",
    "        tf.keras.layers.Flatten(),\n",
    "        tf.keras.layers.Dense(2, activation=tf.nn.sigmoid),\n",
    "        tf.keras.layers.Dense(3, activation=tf.nn.softmax)\n",
    "    ])\n",
    "\n",
    "    model.compile(optimizer='adam',\n",
    "              loss='sparse_categorical_crossentropy',\n",
    "              metrics=['accuracy'])#,\n",
    "              #class_weight=class_weight_red)\n",
    "    \n",
    "    return model"
   ]
  },
  {
   "cell_type": "code",
   "execution_count": null,
   "metadata": {},
   "outputs": [],
   "source": [
    "# Create function returning a compiled network\n",
    "def create_network_2():\n",
    "    model = tf.keras.models.Sequential([\n",
    "        tf.keras.layers.Flatten(),\n",
    "        tf.keras.layers.Dense(2, activation=tf.nn.sigmoid),\n",
    "        tf.keras.layers.Dense(3, activation=tf.nn.softmax)\n",
    "    ])\n",
    "\n",
    "    model.compile(optimizer='adam',\n",
    "              loss='sparse_categorical_crossentropy',\n",
    "              metrics=['accuracy'])#,\n",
    "              #class_weight=class_weight_red)\n",
    "    \n",
    "    return model"
   ]
  },
  {
   "cell_type": "code",
   "execution_count": 97,
   "metadata": {},
   "outputs": [],
   "source": [
    "# Create function returning a compiled network\n",
    "def create_network_8_balanced():\n",
    "    model = tf.keras.models.Sequential([\n",
    "        tf.keras.layers.Flatten(),\n",
    "        tf.keras.layers.Dense(8, activation=tf.nn.sigmoid),\n",
    "        tf.keras.layers.Dense(3, activation=tf.nn.softmax)\n",
    "    ])\n",
    "\n",
    "    model.compile(optimizer='adam',\n",
    "              loss='sparse_categorical_crossentropy',\n",
    "              metrics=['accuracy'],\n",
    "              class_weight=class_weight_red)\n",
    "    \n",
    "    return model"
   ]
  },
  {
   "cell_type": "code",
   "execution_count": 98,
   "metadata": {},
   "outputs": [],
   "source": [
    "# Create function returning a compiled network\n",
    "def create_network_16_balanced():\n",
    "    model = tf.keras.models.Sequential([\n",
    "        tf.keras.layers.Flatten(),\n",
    "        tf.keras.layers.Dense(16, activation=tf.nn.sigmoid),\n",
    "        tf.keras.layers.Dense(3, activation=tf.nn.softmax)\n",
    "    ])\n",
    "\n",
    "    model.compile(optimizer='adam',\n",
    "              loss='sparse_categorical_crossentropy',\n",
    "              metrics=['accuracy'],\n",
    "              class_weight=class_weight_red)\n",
    "    \n",
    "    return model"
   ]
  },
  {
   "cell_type": "code",
   "execution_count": 99,
   "metadata": {},
   "outputs": [],
   "source": [
    "# Create function returning a compiled network\n",
    "def create_network_32_balanced():\n",
    "    model = tf.keras.models.Sequential([\n",
    "        tf.keras.layers.Flatten(),\n",
    "        tf.keras.layers.Dense(32, activation=tf.nn.sigmoid),\n",
    "        tf.keras.layers.Dense(3, activation=tf.nn.softmax)\n",
    "    ])\n",
    "\n",
    "    model.compile(optimizer='adam',\n",
    "              loss='sparse_categorical_crossentropy',\n",
    "              metrics=['accuracy'],\n",
    "              class_weight=class_weight_red)\n",
    "    \n",
    "    return model"
   ]
  },
  {
   "cell_type": "code",
   "execution_count": 100,
   "metadata": {},
   "outputs": [],
   "source": [
    "# Create function returning a compiled network\n",
    "def create_network_32_unbalanced():\n",
    "    model = tf.keras.models.Sequential([\n",
    "        tf.keras.layers.Flatten(),\n",
    "        tf.keras.layers.Dense(32, activation=tf.nn.sigmoid),\n",
    "        tf.keras.layers.Dense(3, activation=tf.nn.softmax)\n",
    "    ])\n",
    "\n",
    "    model.compile(optimizer='adam',\n",
    "              loss='sparse_categorical_crossentropy',\n",
    "              metrics=['accuracy'])#,\n",
    "              #class_weight=class_weight_red)\n",
    "    \n",
    "    return model"
   ]
  },
  {
   "cell_type": "code",
   "execution_count": 118,
   "metadata": {},
   "outputs": [],
   "source": [
    "# Create function returning a compiled network\n",
    "def create_network_48_unbalanced():\n",
    "    model = tf.keras.models.Sequential([\n",
    "        tf.keras.layers.Flatten(),\n",
    "        tf.keras.layers.Dense(48, activation=tf.nn.sigmoid),\n",
    "        tf.keras.layers.Dense(3, activation=tf.nn.softmax)\n",
    "    ])\n",
    "\n",
    "    model.compile(optimizer='adam',\n",
    "              loss='sparse_categorical_crossentropy',\n",
    "              metrics=['accuracy'])#,\n",
    "              #class_weight=class_weight_red)\n",
    "    \n",
    "    return model"
   ]
  },
  {
   "cell_type": "code",
   "execution_count": 119,
   "metadata": {},
   "outputs": [],
   "source": [
    "# Create function returning a compiled network\n",
    "def create_network_64_unbalanced():\n",
    "    model = tf.keras.models.Sequential([\n",
    "        tf.keras.layers.Flatten(),\n",
    "        tf.keras.layers.Dense(64, activation=tf.nn.sigmoid),\n",
    "        tf.keras.layers.Dense(3, activation=tf.nn.softmax)\n",
    "    ])\n",
    "\n",
    "    model.compile(optimizer='adam',\n",
    "              loss='sparse_categorical_crossentropy',\n",
    "              metrics=['accuracy'])#,\n",
    "              #class_weight=class_weight_red)\n",
    "    \n",
    "    return model"
   ]
  },
  {
   "cell_type": "code",
   "execution_count": 120,
   "metadata": {},
   "outputs": [],
   "source": [
    "# Create function returning a compiled network\n",
    "def create_network_128_unbalanced():\n",
    "    model = tf.keras.models.Sequential([\n",
    "        tf.keras.layers.Flatten(),\n",
    "        tf.keras.layers.Dense(128, activation=tf.nn.sigmoid),\n",
    "        tf.keras.layers.Dense(3, activation=tf.nn.softmax)\n",
    "    ])\n",
    "\n",
    "    model.compile(optimizer='adam',\n",
    "              loss='sparse_categorical_crossentropy',\n",
    "              metrics=['accuracy'])#,\n",
    "              #class_weight=class_weight_red)\n",
    "    \n",
    "    return model"
   ]
  },
  {
   "cell_type": "code",
   "execution_count": 131,
   "metadata": {},
   "outputs": [],
   "source": [
    "# Create function returning a compiled network\n",
    "def create_network_32_unb_tan():\n",
    "    model = tf.keras.models.Sequential([\n",
    "        tf.keras.layers.Flatten(),\n",
    "        tf.keras.layers.Dense(32, activation=tf.nn.tanh),\n",
    "        tf.keras.layers.Dense(3, activation=tf.nn.softmax)\n",
    "    ])\n",
    "\n",
    "    model.compile(optimizer='adam',\n",
    "              loss='sparse_categorical_crossentropy',\n",
    "              metrics=['accuracy'])#,\n",
    "              #class_weight=class_weight_red)\n",
    "    \n",
    "    return model"
   ]
  },
  {
   "cell_type": "code",
   "execution_count": 144,
   "metadata": {},
   "outputs": [],
   "source": [
    "# Create function returning a compiled network\n",
    "def create_network_32_unb_lrelu():\n",
    "    model = tf.keras.models.Sequential([\n",
    "        tf.keras.layers.Flatten(),\n",
    "        tf.keras.layers.Dense(32, activation=tf.nn.leaky_relu),\n",
    "        tf.keras.layers.Dense(3, activation=tf.nn.softmax)\n",
    "    ])\n",
    "\n",
    "    model.compile(optimizer='adam',\n",
    "              loss='sparse_categorical_crossentropy',\n",
    "              metrics=['accuracy'])#,\n",
    "              #class_weight=class_weight_red)\n",
    "    \n",
    "    return model"
   ]
  },
  {
   "cell_type": "code",
   "execution_count": 161,
   "metadata": {},
   "outputs": [],
   "source": [
    "# Create function returning a compiled network\n",
    "def create_network_2_layers_8sig_8sig_unbalanced():\n",
    "    model = tf.keras.models.Sequential([\n",
    "        tf.keras.layers.Flatten(),\n",
    "        tf.keras.layers.Dense(8, activation=tf.nn.sigmoid),\n",
    "        tf.keras.layers.Dense(8, activation=tf.nn.sigmoid),\n",
    "        tf.keras.layers.Dense(3, activation=tf.nn.softmax)\n",
    "    ])\n",
    "\n",
    "    model.compile(optimizer='adam',\n",
    "              loss='sparse_categorical_crossentropy',\n",
    "              metrics=['accuracy'])#,\n",
    "              #class_weight=class_weight_red)\n",
    "    \n",
    "    return model"
   ]
  },
  {
   "cell_type": "code",
   "execution_count": 157,
   "metadata": {},
   "outputs": [],
   "source": [
    "# Create function returning a compiled network\n",
    "def create_network_2_layers_8lrelu_8lrelu_unbalanced():\n",
    "    model = tf.keras.models.Sequential([\n",
    "        tf.keras.layers.Flatten(),\n",
    "        tf.keras.layers.Dense(8, activation=tf.nn.leaky_relu),\n",
    "        tf.keras.layers.Dense(8, activation=tf.nn.leaky_relu),\n",
    "        tf.keras.layers.Dense(3, activation=tf.nn.softmax)\n",
    "    ])\n",
    "\n",
    "    model.compile(optimizer='adam',\n",
    "              loss='sparse_categorical_crossentropy',\n",
    "              metrics=['accuracy'])#,\n",
    "              #class_weight=class_weight_red)\n",
    "    \n",
    "    return model"
   ]
  },
  {
   "cell_type": "code",
   "execution_count": 158,
   "metadata": {},
   "outputs": [],
   "source": [
    "# Create function returning a compiled network\n",
    "def create_network_2_layers_8tan_8tan_unbalanced():\n",
    "    model = tf.keras.models.Sequential([\n",
    "        tf.keras.layers.Flatten(),\n",
    "        tf.keras.layers.Dense(8, activation=tf.nn.tanh),\n",
    "        tf.keras.layers.Dense(8, activation=tf.nn.tanh),\n",
    "        tf.keras.layers.Dense(3, activation=tf.nn.softmax)\n",
    "    ])\n",
    "\n",
    "    model.compile(optimizer='adam',\n",
    "              loss='sparse_categorical_crossentropy',\n",
    "              metrics=['accuracy'])#,\n",
    "              #class_weight=class_weight_red)\n",
    "    \n",
    "    return model"
   ]
  },
  {
   "cell_type": "code",
   "execution_count": 159,
   "metadata": {},
   "outputs": [],
   "source": [
    "# Create function returning a compiled network\n",
    "def create_network_2_layers_8lrelu_8tan_unbalanced():\n",
    "    model = tf.keras.models.Sequential([\n",
    "        tf.keras.layers.Flatten(),\n",
    "        tf.keras.layers.Dense(8, activation=tf.nn.leaky_relu),\n",
    "        tf.keras.layers.Dense(8, activation=tf.nn.tanh),\n",
    "        tf.keras.layers.Dense(3, activation=tf.nn.softmax)\n",
    "    ])\n",
    "\n",
    "    model.compile(optimizer='adam',\n",
    "              loss='sparse_categorical_crossentropy',\n",
    "              metrics=['accuracy'])#,\n",
    "              #class_weight=class_weight_red)\n",
    "    \n",
    "    return model"
   ]
  },
  {
   "cell_type": "code",
   "execution_count": 160,
   "metadata": {},
   "outputs": [],
   "source": [
    "# Create function returning a compiled network\n",
    "def create_network_2_layers_8lrelu_8sig_unbalanced():\n",
    "    model = tf.keras.models.Sequential([\n",
    "        tf.keras.layers.Flatten(),\n",
    "        tf.keras.layers.Dense(8, activation=tf.nn.leaky_relu),\n",
    "        tf.keras.layers.Dense(8, activation=tf.nn.sigmoid),\n",
    "        tf.keras.layers.Dense(3, activation=tf.nn.softmax)\n",
    "    ])\n",
    "\n",
    "    model.compile(optimizer='adam',\n",
    "              loss='sparse_categorical_crossentropy',\n",
    "              metrics=['accuracy'])#,\n",
    "              #class_weight=class_weight_red)\n",
    "    \n",
    "    return model"
   ]
  },
  {
   "cell_type": "code",
   "execution_count": null,
   "metadata": {},
   "outputs": [],
   "source": []
  },
  {
   "cell_type": "code",
   "execution_count": null,
   "metadata": {},
   "outputs": [],
   "source": []
  },
  {
   "cell_type": "code",
   "execution_count": 93,
   "metadata": {},
   "outputs": [],
   "source": [
    "neural_network = KerasClassifier(build_fn=create_network_2, \n",
    "                                     epochs=1000,\n",
    "                                     verbose=0)"
   ]
  },
  {
   "cell_type": "markdown",
   "metadata": {},
   "source": [
    "## Red"
   ]
  },
  {
   "cell_type": "code",
   "execution_count": 94,
   "metadata": {},
   "outputs": [],
   "source": [
    "prediction_red = cross_val_predict(neural_network, \n",
    "                                   red_data, red_class, cv=cv)"
   ]
  },
  {
   "cell_type": "code",
   "execution_count": 95,
   "metadata": {
    "scrolled": false
   },
   "outputs": [
    {
     "name": "stdout",
     "output_type": "stream",
     "text": [
      "rmse: \n",
      "0.6540392607455786\n",
      "acc: \n",
      "0.6172607879924953\n",
      "      __Prediction___\n",
      "         0     1     2\n",
      "    0  558   175    11\n",
      "    1  231   343    64\n",
      "    2   13   118    86\n",
      "\n",
      "              precision    recall  f1-score   support\n",
      "\n",
      "           0       0.70      0.75      0.72       744\n",
      "           1       0.54      0.54      0.54       638\n",
      "           2       0.53      0.40      0.46       217\n",
      "\n",
      "   micro avg       0.62      0.62      0.62      1599\n",
      "   macro avg       0.59      0.56      0.57      1599\n",
      "weighted avg       0.61      0.62      0.61      1599\n",
      "\n"
     ]
    }
   ],
   "source": [
    "print('rmse: ' )\n",
    "print(math.sqrt(np.mean((red_class-prediction_red)*(red_class-prediction_red))))\n",
    "print('acc: ' )\n",
    "print(accuracy_score(red_class, prediction_red))\n",
    "print(confusion_matrix_report(red_class, prediction_red))\n",
    "print(classification_report(red_class, prediction_red))"
   ]
  },
  {
   "cell_type": "code",
   "execution_count": 35,
   "metadata": {},
   "outputs": [],
   "source": [
    "# Use train test split for determination of correct number of epochs\n",
    "# use this https://stackoverflow.com/questions/47079111/create-keras-callback-to-save-model-predictions-and-targets-for-each-batch-durin"
   ]
  },
  {
   "cell_type": "code",
   "execution_count": 101,
   "metadata": {},
   "outputs": [],
   "source": [
    "neural_network = KerasClassifier(build_fn=create_network_8_balanced, \n",
    "                                     epochs=500,\n",
    "                                     verbose=0)"
   ]
  },
  {
   "cell_type": "code",
   "execution_count": 102,
   "metadata": {},
   "outputs": [],
   "source": [
    "prediction_red = cross_val_predict(neural_network, \n",
    "                                   red_data, red_class, cv=cv)"
   ]
  },
  {
   "cell_type": "code",
   "execution_count": 103,
   "metadata": {
    "collapsed": true
   },
   "outputs": [
    {
     "name": "stdout",
     "output_type": "stream",
     "text": [
      "rmse: \n",
      "0.6414882633337861\n",
      "acc: \n",
      "0.6316447779862414\n",
      "      __Prediction___\n",
      "         0     1     2\n",
      "    0  569   165    10\n",
      "    1  231   349    58\n",
      "    2   13   112    92\n",
      "\n",
      "              precision    recall  f1-score   support\n",
      "\n",
      "           0       0.70      0.76      0.73       744\n",
      "           1       0.56      0.55      0.55       638\n",
      "           2       0.57      0.42      0.49       217\n",
      "\n",
      "   micro avg       0.63      0.63      0.63      1599\n",
      "   macro avg       0.61      0.58      0.59      1599\n",
      "weighted avg       0.63      0.63      0.63      1599\n",
      "\n"
     ]
    }
   ],
   "source": [
    "print('rmse: ' )\n",
    "print(math.sqrt(np.mean((red_class-prediction_red)*(red_class-prediction_red))))\n",
    "print('acc: ' )\n",
    "print(accuracy_score(red_class, prediction_red))\n",
    "print(confusion_matrix_report(red_class, prediction_red))\n",
    "print(classification_report(red_class, prediction_red))"
   ]
  },
  {
   "cell_type": "code",
   "execution_count": 104,
   "metadata": {},
   "outputs": [],
   "source": [
    "neural_network = KerasClassifier(build_fn=create_network_16_balanced, \n",
    "                                     epochs=500,\n",
    "                                     verbose=0)"
   ]
  },
  {
   "cell_type": "code",
   "execution_count": 105,
   "metadata": {},
   "outputs": [],
   "source": [
    "prediction_red = cross_val_predict(neural_network, \n",
    "                                   red_data, red_class, cv=cv)"
   ]
  },
  {
   "cell_type": "code",
   "execution_count": 106,
   "metadata": {
    "collapsed": true
   },
   "outputs": [
    {
     "name": "stdout",
     "output_type": "stream",
     "text": [
      "rmse: \n",
      "0.6356119111246085\n",
      "acc: \n",
      "0.6447779862414009\n",
      "      __Prediction___\n",
      "         0     1     2\n",
      "    0  580   152    12\n",
      "    1  223   359    56\n",
      "    2   14   111    92\n",
      "\n",
      "              precision    recall  f1-score   support\n",
      "\n",
      "           0       0.71      0.78      0.74       744\n",
      "           1       0.58      0.56      0.57       638\n",
      "           2       0.57      0.42      0.49       217\n",
      "\n",
      "   micro avg       0.64      0.64      0.64      1599\n",
      "   macro avg       0.62      0.59      0.60      1599\n",
      "weighted avg       0.64      0.64      0.64      1599\n",
      "\n"
     ]
    }
   ],
   "source": [
    "print('rmse: ' )\n",
    "print(math.sqrt(np.mean((red_class-prediction_red)*(red_class-prediction_red))))\n",
    "print('acc: ' )\n",
    "print(accuracy_score(red_class, prediction_red))\n",
    "print(confusion_matrix_report(red_class, prediction_red))\n",
    "print(classification_report(red_class, prediction_red))"
   ]
  },
  {
   "cell_type": "code",
   "execution_count": 107,
   "metadata": {},
   "outputs": [],
   "source": [
    "neural_network = KerasClassifier(build_fn=create_network_32_balanced, \n",
    "                                     epochs=500,\n",
    "                                     verbose=0)"
   ]
  },
  {
   "cell_type": "code",
   "execution_count": 108,
   "metadata": {},
   "outputs": [],
   "source": [
    "prediction_red = cross_val_predict(neural_network, \n",
    "                                   red_data, red_class, cv=cv)"
   ]
  },
  {
   "cell_type": "code",
   "execution_count": 109,
   "metadata": {
    "collapsed": true
   },
   "outputs": [
    {
     "name": "stdout",
     "output_type": "stream",
     "text": [
      "rmse: \n",
      "0.623191567522495\n",
      "acc: \n",
      "0.651031894934334\n",
      "      __Prediction___\n",
      "         0     1     2\n",
      "    0  580   154    10\n",
      "    1  214   368    56\n",
      "    2   11   113    93\n",
      "\n",
      "              precision    recall  f1-score   support\n",
      "\n",
      "           0       0.72      0.78      0.75       744\n",
      "           1       0.58      0.58      0.58       638\n",
      "           2       0.58      0.43      0.49       217\n",
      "\n",
      "   micro avg       0.65      0.65      0.65      1599\n",
      "   macro avg       0.63      0.59      0.61      1599\n",
      "weighted avg       0.65      0.65      0.65      1599\n",
      "\n"
     ]
    }
   ],
   "source": [
    "print('rmse: ' )\n",
    "print(math.sqrt(np.mean((red_class-prediction_red)*(red_class-prediction_red))))\n",
    "print('acc: ' )\n",
    "print(accuracy_score(red_class, prediction_red))\n",
    "print(confusion_matrix_report(red_class, prediction_red))\n",
    "print(classification_report(red_class, prediction_red))"
   ]
  },
  {
   "cell_type": "code",
   "execution_count": 110,
   "metadata": {},
   "outputs": [],
   "source": [
    "neural_network = KerasClassifier(build_fn=create_network_32_unbalanced, \n",
    "                                     epochs=500,\n",
    "                                     verbose=0)"
   ]
  },
  {
   "cell_type": "code",
   "execution_count": 111,
   "metadata": {},
   "outputs": [],
   "source": [
    "prediction_red = cross_val_predict(neural_network, \n",
    "                                   red_data, red_class, cv=cv)"
   ]
  },
  {
   "cell_type": "code",
   "execution_count": 112,
   "metadata": {},
   "outputs": [
    {
     "name": "stdout",
     "output_type": "stream",
     "text": [
      "rmse: \n",
      "0.6105185976682542\n",
      "acc: \n",
      "0.6610381488430269\n",
      "      __Prediction___\n",
      "         0     1     2\n",
      "    0  582   154     8\n",
      "    1  200   378    60\n",
      "    2   10   110    97\n",
      "\n",
      "              precision    recall  f1-score   support\n",
      "\n",
      "           0       0.73      0.78      0.76       744\n",
      "           1       0.59      0.59      0.59       638\n",
      "           2       0.59      0.45      0.51       217\n",
      "\n",
      "   micro avg       0.66      0.66      0.66      1599\n",
      "   macro avg       0.64      0.61      0.62      1599\n",
      "weighted avg       0.66      0.66      0.66      1599\n",
      "\n"
     ]
    }
   ],
   "source": [
    "print('rmse: ' )\n",
    "print(math.sqrt(np.mean((red_class-prediction_red)*(red_class-prediction_red))))\n",
    "print('acc: ' )\n",
    "print(accuracy_score(red_class, prediction_red))\n",
    "print(confusion_matrix_report(red_class, prediction_red))\n",
    "print(classification_report(red_class, prediction_red))"
   ]
  },
  {
   "cell_type": "code",
   "execution_count": 113,
   "metadata": {},
   "outputs": [],
   "source": [
    "neural_network = KerasClassifier(build_fn=create_network_32_unbalanced, \n",
    "                                     epochs=250,\n",
    "                                     verbose=0)"
   ]
  },
  {
   "cell_type": "code",
   "execution_count": 114,
   "metadata": {},
   "outputs": [],
   "source": [
    "prediction_red = cross_val_predict(neural_network, \n",
    "                                   red_data, red_class, cv=cv)"
   ]
  },
  {
   "cell_type": "code",
   "execution_count": 115,
   "metadata": {
    "collapsed": true
   },
   "outputs": [
    {
     "name": "stdout",
     "output_type": "stream",
     "text": [
      "rmse: \n",
      "0.6306731268022636\n",
      "acc: \n",
      "0.6454033771106942\n",
      "      __Prediction___\n",
      "         0     1     2\n",
      "    0  581   153    10\n",
      "    1  215   363    60\n",
      "    2   13   116    88\n",
      "\n",
      "              precision    recall  f1-score   support\n",
      "\n",
      "           0       0.72      0.78      0.75       744\n",
      "           1       0.57      0.57      0.57       638\n",
      "           2       0.56      0.41      0.47       217\n",
      "\n",
      "   micro avg       0.65      0.65      0.65      1599\n",
      "   macro avg       0.62      0.59      0.60      1599\n",
      "weighted avg       0.64      0.65      0.64      1599\n",
      "\n"
     ]
    }
   ],
   "source": [
    "print('rmse: ' )\n",
    "print(math.sqrt(np.mean((red_class-prediction_red)*(red_class-prediction_red))))\n",
    "print('acc: ' )\n",
    "print(accuracy_score(red_class, prediction_red))\n",
    "print(confusion_matrix_report(red_class, prediction_red))\n",
    "print(classification_report(red_class, prediction_red))"
   ]
  },
  {
   "cell_type": "code",
   "execution_count": 121,
   "metadata": {},
   "outputs": [],
   "source": [
    "neural_network = KerasClassifier(build_fn=create_network_48_unbalanced, \n",
    "                                     epochs=500,\n",
    "                                     verbose=0)"
   ]
  },
  {
   "cell_type": "code",
   "execution_count": 122,
   "metadata": {},
   "outputs": [],
   "source": [
    "prediction_red = cross_val_predict(neural_network, \n",
    "                                   red_data, red_class, cv=cv)"
   ]
  },
  {
   "cell_type": "code",
   "execution_count": 123,
   "metadata": {
    "collapsed": true
   },
   "outputs": [
    {
     "name": "stdout",
     "output_type": "stream",
     "text": [
      "rmse: \n",
      "0.6110305630392845\n",
      "acc: \n",
      "0.6660412757973734\n",
      "      __Prediction___\n",
      "         0     1     2\n",
      "    0  586   150     8\n",
      "    1  196   389    53\n",
      "    2   13   114    90\n",
      "\n",
      "              precision    recall  f1-score   support\n",
      "\n",
      "           0       0.74      0.79      0.76       744\n",
      "           1       0.60      0.61      0.60       638\n",
      "           2       0.60      0.41      0.49       217\n",
      "\n",
      "   micro avg       0.67      0.67      0.67      1599\n",
      "   macro avg       0.64      0.60      0.62      1599\n",
      "weighted avg       0.66      0.67      0.66      1599\n",
      "\n"
     ]
    }
   ],
   "source": [
    "print('rmse: ' )\n",
    "print(math.sqrt(np.mean((red_class-prediction_red)*(red_class-prediction_red))))\n",
    "print('acc: ' )\n",
    "print(accuracy_score(red_class, prediction_red))\n",
    "print(confusion_matrix_report(red_class, prediction_red))\n",
    "print(classification_report(red_class, prediction_red))"
   ]
  },
  {
   "cell_type": "code",
   "execution_count": 124,
   "metadata": {},
   "outputs": [],
   "source": [
    "neural_network = KerasClassifier(build_fn=create_network_64_unbalanced, \n",
    "                                     epochs=500,\n",
    "                                     verbose=0)"
   ]
  },
  {
   "cell_type": "code",
   "execution_count": 125,
   "metadata": {},
   "outputs": [],
   "source": [
    "prediction_red = cross_val_predict(neural_network, \n",
    "                                   red_data, red_class, cv=cv)"
   ]
  },
  {
   "cell_type": "code",
   "execution_count": 126,
   "metadata": {
    "collapsed": true
   },
   "outputs": [
    {
     "name": "stdout",
     "output_type": "stream",
     "text": [
      "rmse: \n",
      "0.6181535578949711\n",
      "acc: \n",
      "0.6591619762351469\n",
      "      __Prediction___\n",
      "         0     1     2\n",
      "    0  577   159     8\n",
      "    1  195   383    60\n",
      "    2   14   109    94\n",
      "\n",
      "              precision    recall  f1-score   support\n",
      "\n",
      "           0       0.73      0.78      0.75       744\n",
      "           1       0.59      0.60      0.59       638\n",
      "           2       0.58      0.43      0.50       217\n",
      "\n",
      "   micro avg       0.66      0.66      0.66      1599\n",
      "   macro avg       0.63      0.60      0.61      1599\n",
      "weighted avg       0.66      0.66      0.66      1599\n",
      "\n"
     ]
    }
   ],
   "source": [
    "print('rmse: ' )\n",
    "print(math.sqrt(np.mean((red_class-prediction_red)*(red_class-prediction_red))))\n",
    "print('acc: ' )\n",
    "print(accuracy_score(red_class, prediction_red))\n",
    "print(confusion_matrix_report(red_class, prediction_red))\n",
    "print(classification_report(red_class, prediction_red))"
   ]
  },
  {
   "cell_type": "code",
   "execution_count": 127,
   "metadata": {},
   "outputs": [],
   "source": [
    "neural_network = KerasClassifier(build_fn=create_network_128_unbalanced, \n",
    "                                     epochs=500,\n",
    "                                     verbose=0)"
   ]
  },
  {
   "cell_type": "code",
   "execution_count": 128,
   "metadata": {},
   "outputs": [],
   "source": [
    "prediction_red = cross_val_predict(neural_network, \n",
    "                                   red_data, red_class, cv=cv)"
   ]
  },
  {
   "cell_type": "code",
   "execution_count": 129,
   "metadata": {
    "collapsed": true
   },
   "outputs": [
    {
     "name": "stdout",
     "output_type": "stream",
     "text": [
      "rmse: \n",
      "0.6156190922898224\n",
      "acc: \n",
      "0.6660412757973734\n",
      "      __Prediction___\n",
      "         0     1     2\n",
      "    0  573   160    11\n",
      "    1  190   391    57\n",
      "    2   13   103   101\n",
      "\n",
      "              precision    recall  f1-score   support\n",
      "\n",
      "           0       0.74      0.77      0.75       744\n",
      "           1       0.60      0.61      0.61       638\n",
      "           2       0.60      0.47      0.52       217\n",
      "\n",
      "   micro avg       0.67      0.67      0.67      1599\n",
      "   macro avg       0.64      0.62      0.63      1599\n",
      "weighted avg       0.66      0.67      0.66      1599\n",
      "\n"
     ]
    }
   ],
   "source": [
    "print('rmse: ' )\n",
    "print(math.sqrt(np.mean((red_class-prediction_red)*(red_class-prediction_red))))\n",
    "print('acc: ' )\n",
    "print(accuracy_score(red_class, prediction_red))\n",
    "print(confusion_matrix_report(red_class, prediction_red))\n",
    "print(classification_report(red_class, prediction_red))"
   ]
  },
  {
   "cell_type": "code",
   "execution_count": 132,
   "metadata": {},
   "outputs": [],
   "source": [
    "neural_network = KerasClassifier(build_fn=create_network_32_unb_tan, \n",
    "                                     epochs=500,\n",
    "                                     verbose=0)"
   ]
  },
  {
   "cell_type": "code",
   "execution_count": 133,
   "metadata": {},
   "outputs": [],
   "source": [
    "prediction_red = cross_val_predict(neural_network, \n",
    "                                   red_data, red_class, cv=cv)"
   ]
  },
  {
   "cell_type": "code",
   "execution_count": 134,
   "metadata": {
    "scrolled": false
   },
   "outputs": [
    {
     "name": "stdout",
     "output_type": "stream",
     "text": [
      "rmse: \n",
      "0.650203220264462\n",
      "acc: \n",
      "0.6541588492808005\n",
      "      __Prediction___\n",
      "         0     1     2\n",
      "    0  549   170    25\n",
      "    1  196   379    63\n",
      "    2   16    83   118\n",
      "\n",
      "              precision    recall  f1-score   support\n",
      "\n",
      "           0       0.72      0.74      0.73       744\n",
      "           1       0.60      0.59      0.60       638\n",
      "           2       0.57      0.54      0.56       217\n",
      "\n",
      "   micro avg       0.65      0.65      0.65      1599\n",
      "   macro avg       0.63      0.63      0.63      1599\n",
      "weighted avg       0.65      0.65      0.65      1599\n",
      "\n"
     ]
    }
   ],
   "source": [
    "print('rmse: ' )\n",
    "print(math.sqrt(np.mean((red_class-prediction_red)*(red_class-prediction_red))))\n",
    "print('acc: ' )\n",
    "print(accuracy_score(red_class, prediction_red))\n",
    "print(confusion_matrix_report(red_class, prediction_red))\n",
    "print(classification_report(red_class, prediction_red))"
   ]
  },
  {
   "cell_type": "code",
   "execution_count": 135,
   "metadata": {},
   "outputs": [],
   "source": [
    "neural_network = KerasClassifier(build_fn=create_network_32_unb_tan, \n",
    "                                     epochs=250,\n",
    "                                     verbose=0)"
   ]
  },
  {
   "cell_type": "code",
   "execution_count": 136,
   "metadata": {},
   "outputs": [],
   "source": [
    "prediction_red = cross_val_predict(neural_network, \n",
    "                                   red_data, red_class, cv=cv)"
   ]
  },
  {
   "cell_type": "code",
   "execution_count": 137,
   "metadata": {
    "collapsed": true
   },
   "outputs": [
    {
     "name": "stdout",
     "output_type": "stream",
     "text": [
      "rmse: \n",
      "0.6186592050616435\n",
      "acc: \n",
      "0.6585365853658537\n",
      "      __Prediction___\n",
      "         0     1     2\n",
      "    0  569   166     9\n",
      "    1  203   380    55\n",
      "    2   13   100   104\n",
      "\n",
      "              precision    recall  f1-score   support\n",
      "\n",
      "           0       0.72      0.76      0.74       744\n",
      "           1       0.59      0.60      0.59       638\n",
      "           2       0.62      0.48      0.54       217\n",
      "\n",
      "   micro avg       0.66      0.66      0.66      1599\n",
      "   macro avg       0.64      0.61      0.63      1599\n",
      "weighted avg       0.66      0.66      0.66      1599\n",
      "\n"
     ]
    }
   ],
   "source": [
    "print('rmse: ' )\n",
    "print(math.sqrt(np.mean((red_class-prediction_red)*(red_class-prediction_red))))\n",
    "print('acc: ' )\n",
    "print(accuracy_score(red_class, prediction_red))\n",
    "print(confusion_matrix_report(red_class, prediction_red))\n",
    "print(classification_report(red_class, prediction_red))"
   ]
  },
  {
   "cell_type": "code",
   "execution_count": 138,
   "metadata": {},
   "outputs": [],
   "source": [
    "neural_network = KerasClassifier(build_fn=create_network_32_unb_tan, \n",
    "                                     epochs=100,\n",
    "                                     verbose=0)"
   ]
  },
  {
   "cell_type": "code",
   "execution_count": 139,
   "metadata": {},
   "outputs": [],
   "source": [
    "prediction_red = cross_val_predict(neural_network, \n",
    "                                   red_data, red_class, cv=cv)"
   ]
  },
  {
   "cell_type": "code",
   "execution_count": 140,
   "metadata": {
    "collapsed": true
   },
   "outputs": [
    {
     "name": "stdout",
     "output_type": "stream",
     "text": [
      "rmse: \n",
      "0.630177119547553\n",
      "acc: \n",
      "0.6516572858036273\n",
      "      __Prediction___\n",
      "         0     1     2\n",
      "    0  581   153    10\n",
      "    1  209   373    56\n",
      "    2   16   113    88\n",
      "\n",
      "              precision    recall  f1-score   support\n",
      "\n",
      "           0       0.72      0.78      0.75       744\n",
      "           1       0.58      0.58      0.58       638\n",
      "           2       0.57      0.41      0.47       217\n",
      "\n",
      "   micro avg       0.65      0.65      0.65      1599\n",
      "   macro avg       0.63      0.59      0.60      1599\n",
      "weighted avg       0.65      0.65      0.65      1599\n",
      "\n"
     ]
    }
   ],
   "source": [
    "print('rmse: ' )\n",
    "print(math.sqrt(np.mean((red_class-prediction_red)*(red_class-prediction_red))))\n",
    "print('acc: ' )\n",
    "print(accuracy_score(red_class, prediction_red))\n",
    "print(confusion_matrix_report(red_class, prediction_red))\n",
    "print(classification_report(red_class, prediction_red))"
   ]
  },
  {
   "cell_type": "code",
   "execution_count": 145,
   "metadata": {},
   "outputs": [],
   "source": [
    "neural_network = KerasClassifier(build_fn=create_network_32_unb_lrelu, \n",
    "                                     epochs=250,\n",
    "                                     verbose=0)"
   ]
  },
  {
   "cell_type": "code",
   "execution_count": 146,
   "metadata": {},
   "outputs": [],
   "source": [
    "prediction_red = cross_val_predict(neural_network, \n",
    "                                   red_data, red_class, cv=cv)"
   ]
  },
  {
   "cell_type": "code",
   "execution_count": 147,
   "metadata": {
    "scrolled": false
   },
   "outputs": [
    {
     "name": "stdout",
     "output_type": "stream",
     "text": [
      "rmse: \n",
      "0.6375767130633383\n",
      "acc: \n",
      "0.6554096310193871\n",
      "      __Prediction___\n",
      "         0     1     2\n",
      "    0  577   153    14\n",
      "    1  210   368    60\n",
      "    2   19    95   103\n",
      "\n",
      "              precision    recall  f1-score   support\n",
      "\n",
      "           0       0.72      0.78      0.74       744\n",
      "           1       0.60      0.58      0.59       638\n",
      "           2       0.58      0.47      0.52       217\n",
      "\n",
      "   micro avg       0.66      0.66      0.66      1599\n",
      "   macro avg       0.63      0.61      0.62      1599\n",
      "weighted avg       0.65      0.66      0.65      1599\n",
      "\n"
     ]
    }
   ],
   "source": [
    "print('rmse: ' )\n",
    "print(math.sqrt(np.mean((red_class-prediction_red)*(red_class-prediction_red))))\n",
    "print('acc: ' )\n",
    "print(accuracy_score(red_class, prediction_red))\n",
    "print(confusion_matrix_report(red_class, prediction_red))\n",
    "print(classification_report(red_class, prediction_red))"
   ]
  },
  {
   "cell_type": "code",
   "execution_count": 148,
   "metadata": {},
   "outputs": [],
   "source": [
    "neural_network = KerasClassifier(build_fn=create_network_32_unb_lrelu, \n",
    "                                     epochs=500,\n",
    "                                     verbose=0)"
   ]
  },
  {
   "cell_type": "code",
   "execution_count": 149,
   "metadata": {},
   "outputs": [],
   "source": [
    "prediction_red = cross_val_predict(neural_network, \n",
    "                                   red_data, red_class, cv=cv)"
   ]
  },
  {
   "cell_type": "code",
   "execution_count": 150,
   "metadata": {
    "scrolled": true
   },
   "outputs": [
    {
     "name": "stdout",
     "output_type": "stream",
     "text": [
      "rmse: \n",
      "0.6453761065838611\n",
      "acc: \n",
      "0.6416510318949343\n",
      "      __Prediction___\n",
      "         0     1     2\n",
      "    0  565   166    13\n",
      "    1  211   359    68\n",
      "    2   18    97   102\n",
      "\n",
      "              precision    recall  f1-score   support\n",
      "\n",
      "           0       0.71      0.76      0.73       744\n",
      "           1       0.58      0.56      0.57       638\n",
      "           2       0.56      0.47      0.51       217\n",
      "\n",
      "   micro avg       0.64      0.64      0.64      1599\n",
      "   macro avg       0.62      0.60      0.60      1599\n",
      "weighted avg       0.64      0.64      0.64      1599\n",
      "\n"
     ]
    }
   ],
   "source": [
    "print('rmse: ' )\n",
    "print(math.sqrt(np.mean((red_class-prediction_red)*(red_class-prediction_red))))\n",
    "print('acc: ' )\n",
    "print(accuracy_score(red_class, prediction_red))\n",
    "print(confusion_matrix_report(red_class, prediction_red))\n",
    "print(classification_report(red_class, prediction_red))"
   ]
  },
  {
   "cell_type": "code",
   "execution_count": 151,
   "metadata": {},
   "outputs": [],
   "source": [
    "neural_network = KerasClassifier(build_fn=create_network_32_unb_lrelu, \n",
    "                                     epochs=50,\n",
    "                                     verbose=0)"
   ]
  },
  {
   "cell_type": "code",
   "execution_count": 152,
   "metadata": {},
   "outputs": [],
   "source": [
    "prediction_red = cross_val_predict(neural_network, \n",
    "                                   red_data, red_class, cv=cv)"
   ]
  },
  {
   "cell_type": "code",
   "execution_count": 153,
   "metadata": {
    "scrolled": true
   },
   "outputs": [
    {
     "name": "stdout",
     "output_type": "stream",
     "text": [
      "rmse: \n",
      "0.6434351214164253\n",
      "acc: \n",
      "0.6404002501563477\n",
      "      __Prediction___\n",
      "         0     1     2\n",
      "    0  578   155    11\n",
      "    1  221   363    54\n",
      "    2   18   116    83\n",
      "\n",
      "              precision    recall  f1-score   support\n",
      "\n",
      "           0       0.71      0.78      0.74       744\n",
      "           1       0.57      0.57      0.57       638\n",
      "           2       0.56      0.38      0.45       217\n",
      "\n",
      "   micro avg       0.64      0.64      0.64      1599\n",
      "   macro avg       0.61      0.58      0.59      1599\n",
      "weighted avg       0.63      0.64      0.63      1599\n",
      "\n"
     ]
    }
   ],
   "source": [
    "print('rmse: ' )\n",
    "print(math.sqrt(np.mean((red_class-prediction_red)*(red_class-prediction_red))))\n",
    "print('acc: ' )\n",
    "print(accuracy_score(red_class, prediction_red))\n",
    "print(confusion_matrix_report(red_class, prediction_red))\n",
    "print(classification_report(red_class, prediction_red))"
   ]
  },
  {
   "cell_type": "code",
   "execution_count": 154,
   "metadata": {},
   "outputs": [],
   "source": [
    "neural_network = KerasClassifier(build_fn=create_network_32_unb_lrelu, \n",
    "                                     epochs=10,\n",
    "                                     verbose=0)"
   ]
  },
  {
   "cell_type": "code",
   "execution_count": 155,
   "metadata": {},
   "outputs": [],
   "source": [
    "prediction_red = cross_val_predict(neural_network, \n",
    "                                   red_data, red_class, cv=cv)"
   ]
  },
  {
   "cell_type": "code",
   "execution_count": 156,
   "metadata": {
    "scrolled": false
   },
   "outputs": [
    {
     "name": "stdout",
     "output_type": "stream",
     "text": [
      "rmse: \n",
      "0.6535609869991703\n",
      "acc: \n",
      "0.6216385240775485\n",
      "      __Prediction___\n",
      "         0     1     2\n",
      "    0  582   152    10\n",
      "    1  246   335    57\n",
      "    2   16   124    77\n",
      "\n",
      "              precision    recall  f1-score   support\n",
      "\n",
      "           0       0.69      0.78      0.73       744\n",
      "           1       0.55      0.53      0.54       638\n",
      "           2       0.53      0.35      0.43       217\n",
      "\n",
      "   micro avg       0.62      0.62      0.62      1599\n",
      "   macro avg       0.59      0.55      0.57      1599\n",
      "weighted avg       0.61      0.62      0.61      1599\n",
      "\n"
     ]
    }
   ],
   "source": [
    "print('rmse: ' )\n",
    "print(math.sqrt(np.mean((red_class-prediction_red)*(red_class-prediction_red))))\n",
    "print('acc: ' )\n",
    "print(accuracy_score(red_class, prediction_red))\n",
    "print(confusion_matrix_report(red_class, prediction_red))\n",
    "print(classification_report(red_class, prediction_red))"
   ]
  },
  {
   "cell_type": "markdown",
   "metadata": {},
   "source": [
    "## 2 Layers"
   ]
  },
  {
   "cell_type": "code",
   "execution_count": 167,
   "metadata": {},
   "outputs": [],
   "source": [
    "neural_network = KerasClassifier(build_fn=create_network_2_layers_8sig_8sig_unbalanced, \n",
    "                                     epochs=500,\n",
    "                                     verbose=0)"
   ]
  },
  {
   "cell_type": "code",
   "execution_count": 168,
   "metadata": {},
   "outputs": [],
   "source": [
    "prediction_red = cross_val_predict(neural_network, \n",
    "                                   red_data, red_class, cv=cv)"
   ]
  },
  {
   "cell_type": "code",
   "execution_count": 169,
   "metadata": {
    "scrolled": false
   },
   "outputs": [
    {
     "name": "stdout",
     "output_type": "stream",
     "text": [
      "rmse: \n",
      "0.6151109460271793\n",
      "acc: \n",
      "0.6572858036272671\n",
      "      __Prediction___\n",
      "         0     1     2\n",
      "    0  583   151    10\n",
      "    1  215   373    50\n",
      "    2    9   113    95\n",
      "\n",
      "              precision    recall  f1-score   support\n",
      "\n",
      "           0       0.72      0.78      0.75       744\n",
      "           1       0.59      0.58      0.59       638\n",
      "           2       0.61      0.44      0.51       217\n",
      "\n",
      "   micro avg       0.66      0.66      0.66      1599\n",
      "   macro avg       0.64      0.60      0.62      1599\n",
      "weighted avg       0.65      0.66      0.65      1599\n",
      "\n"
     ]
    }
   ],
   "source": [
    "print('rmse: ' )\n",
    "print(math.sqrt(np.mean((red_class-prediction_red)*(red_class-prediction_red))))\n",
    "print('acc: ' )\n",
    "print(accuracy_score(red_class, prediction_red))\n",
    "print(confusion_matrix_report(red_class, prediction_red))\n",
    "print(classification_report(red_class, prediction_red))"
   ]
  },
  {
   "cell_type": "code",
   "execution_count": 170,
   "metadata": {},
   "outputs": [],
   "source": [
    "neural_network = KerasClassifier(build_fn=create_network_2_layers_8tan_8tan_unbalanced, \n",
    "                                     epochs=500,\n",
    "                                     verbose=0)"
   ]
  },
  {
   "cell_type": "code",
   "execution_count": 171,
   "metadata": {},
   "outputs": [],
   "source": [
    "prediction_red = cross_val_predict(neural_network, \n",
    "                                   red_data, red_class, cv=cv)"
   ]
  },
  {
   "cell_type": "code",
   "execution_count": 172,
   "metadata": {
    "scrolled": false
   },
   "outputs": [
    {
     "name": "stdout",
     "output_type": "stream",
     "text": [
      "rmse: \n",
      "0.6291839319806762\n",
      "acc: \n",
      "0.6397748592870544\n",
      "      __Prediction___\n",
      "         0     1     2\n",
      "    0  579   152    13\n",
      "    1  217   349    72\n",
      "    2    6   116    95\n",
      "\n",
      "              precision    recall  f1-score   support\n",
      "\n",
      "           0       0.72      0.78      0.75       744\n",
      "           1       0.57      0.55      0.56       638\n",
      "           2       0.53      0.44      0.48       217\n",
      "\n",
      "   micro avg       0.64      0.64      0.64      1599\n",
      "   macro avg       0.61      0.59      0.59      1599\n",
      "weighted avg       0.63      0.64      0.64      1599\n",
      "\n"
     ]
    }
   ],
   "source": [
    "print('rmse: ' )\n",
    "print(math.sqrt(np.mean((red_class-prediction_red)*(red_class-prediction_red))))\n",
    "print('acc: ' )\n",
    "print(accuracy_score(red_class, prediction_red))\n",
    "print(confusion_matrix_report(red_class, prediction_red))\n",
    "print(classification_report(red_class, prediction_red))"
   ]
  },
  {
   "cell_type": "code",
   "execution_count": 173,
   "metadata": {},
   "outputs": [],
   "source": [
    "neural_network = KerasClassifier(build_fn=create_network_2_layers_8lrelu_8lrelu_unbalanced, \n",
    "                                     epochs=500,\n",
    "                                     verbose=0)"
   ]
  },
  {
   "cell_type": "code",
   "execution_count": 174,
   "metadata": {},
   "outputs": [],
   "source": [
    "prediction_red = cross_val_predict(neural_network, \n",
    "                                   red_data, red_class, cv=cv)"
   ]
  },
  {
   "cell_type": "code",
   "execution_count": 175,
   "metadata": {
    "scrolled": false
   },
   "outputs": [
    {
     "name": "stdout",
     "output_type": "stream",
     "text": [
      "rmse: \n",
      "0.6473112716665117\n",
      "acc: \n",
      "0.6391494684177611\n",
      "      __Prediction___\n",
      "         0     1     2\n",
      "    0  563   164    17\n",
      "    1  215   364    59\n",
      "    2   14   108    95\n",
      "\n",
      "              precision    recall  f1-score   support\n",
      "\n",
      "           0       0.71      0.76      0.73       744\n",
      "           1       0.57      0.57      0.57       638\n",
      "           2       0.56      0.44      0.49       217\n",
      "\n",
      "   micro avg       0.64      0.64      0.64      1599\n",
      "   macro avg       0.61      0.59      0.60      1599\n",
      "weighted avg       0.63      0.64      0.64      1599\n",
      "\n"
     ]
    }
   ],
   "source": [
    "print('rmse: ' )\n",
    "print(math.sqrt(np.mean((red_class-prediction_red)*(red_class-prediction_red))))\n",
    "print('acc: ' )\n",
    "print(accuracy_score(red_class, prediction_red))\n",
    "print(confusion_matrix_report(red_class, prediction_red))\n",
    "print(classification_report(red_class, prediction_red))"
   ]
  },
  {
   "cell_type": "code",
   "execution_count": 176,
   "metadata": {},
   "outputs": [],
   "source": [
    "neural_network = KerasClassifier(build_fn=create_network_2_layers_8lrelu_8sig_unbalanced, \n",
    "                                     epochs=500,\n",
    "                                     verbose=0)"
   ]
  },
  {
   "cell_type": "code",
   "execution_count": 177,
   "metadata": {},
   "outputs": [],
   "source": [
    "prediction_red = cross_val_predict(neural_network, \n",
    "                                   red_data, red_class, cv=cv)"
   ]
  },
  {
   "cell_type": "code",
   "execution_count": 178,
   "metadata": {
    "scrolled": false
   },
   "outputs": [
    {
     "name": "stdout",
     "output_type": "stream",
     "text": [
      "rmse: \n",
      "0.6458604414412116\n",
      "acc: \n",
      "0.6372732958098811\n",
      "      __Prediction___\n",
      "         0     1     2\n",
      "    0  566   163    15\n",
      "    1  217   355    66\n",
      "    2   14   105    98\n",
      "\n",
      "              precision    recall  f1-score   support\n",
      "\n",
      "           0       0.71      0.76      0.73       744\n",
      "           1       0.57      0.56      0.56       638\n",
      "           2       0.55      0.45      0.49       217\n",
      "\n",
      "   micro avg       0.64      0.64      0.64      1599\n",
      "   macro avg       0.61      0.59      0.60      1599\n",
      "weighted avg       0.63      0.64      0.63      1599\n",
      "\n"
     ]
    }
   ],
   "source": [
    "print('rmse: ' )\n",
    "print(math.sqrt(np.mean((red_class-prediction_red)*(red_class-prediction_red))))\n",
    "print('acc: ' )\n",
    "print(accuracy_score(red_class, prediction_red))\n",
    "print(confusion_matrix_report(red_class, prediction_red))\n",
    "print(classification_report(red_class, prediction_red))"
   ]
  },
  {
   "cell_type": "code",
   "execution_count": 179,
   "metadata": {},
   "outputs": [],
   "source": [
    "neural_network = KerasClassifier(build_fn=create_network_2_layers_8lrelu_8tan_unbalanced, \n",
    "                                     epochs=500,\n",
    "                                     verbose=0)"
   ]
  },
  {
   "cell_type": "code",
   "execution_count": 180,
   "metadata": {},
   "outputs": [],
   "source": [
    "prediction_red = cross_val_predict(neural_network, \n",
    "                                   red_data, red_class, cv=cv)"
   ]
  },
  {
   "cell_type": "code",
   "execution_count": 181,
   "metadata": {
    "scrolled": false
   },
   "outputs": [
    {
     "name": "stdout",
     "output_type": "stream",
     "text": [
      "rmse: \n",
      "0.6473112716665117\n",
      "acc: \n",
      "0.6410256410256411\n",
      "      __Prediction___\n",
      "         0     1     2\n",
      "    0  566   161    17\n",
      "    1  214   362    62\n",
      "    2   15   105    97\n",
      "\n",
      "              precision    recall  f1-score   support\n",
      "\n",
      "           0       0.71      0.76      0.74       744\n",
      "           1       0.58      0.57      0.57       638\n",
      "           2       0.55      0.45      0.49       217\n",
      "\n",
      "   micro avg       0.64      0.64      0.64      1599\n",
      "   macro avg       0.61      0.59      0.60      1599\n",
      "weighted avg       0.64      0.64      0.64      1599\n",
      "\n"
     ]
    }
   ],
   "source": [
    "print('rmse: ' )\n",
    "print(math.sqrt(np.mean((red_class-prediction_red)*(red_class-prediction_red))))\n",
    "print('acc: ' )\n",
    "print(accuracy_score(red_class, prediction_red))\n",
    "print(confusion_matrix_report(red_class, prediction_red))\n",
    "print(classification_report(red_class, prediction_red))"
   ]
  },
  {
   "cell_type": "code",
   "execution_count": null,
   "metadata": {},
   "outputs": [],
   "source": []
  },
  {
   "cell_type": "code",
   "execution_count": null,
   "metadata": {},
   "outputs": [],
   "source": []
  },
  {
   "cell_type": "code",
   "execution_count": null,
   "metadata": {},
   "outputs": [],
   "source": []
  },
  {
   "cell_type": "code",
   "execution_count": null,
   "metadata": {},
   "outputs": [],
   "source": []
  },
  {
   "cell_type": "code",
   "execution_count": null,
   "metadata": {},
   "outputs": [],
   "source": []
  },
  {
   "cell_type": "code",
   "execution_count": null,
   "metadata": {},
   "outputs": [],
   "source": []
  },
  {
   "cell_type": "code",
   "execution_count": null,
   "metadata": {},
   "outputs": [],
   "source": []
  },
  {
   "cell_type": "code",
   "execution_count": null,
   "metadata": {},
   "outputs": [],
   "source": []
  },
  {
   "cell_type": "code",
   "execution_count": null,
   "metadata": {},
   "outputs": [],
   "source": []
  },
  {
   "cell_type": "code",
   "execution_count": null,
   "metadata": {},
   "outputs": [],
   "source": []
  },
  {
   "cell_type": "code",
   "execution_count": null,
   "metadata": {},
   "outputs": [],
   "source": []
  },
  {
   "cell_type": "code",
   "execution_count": null,
   "metadata": {},
   "outputs": [],
   "source": []
  },
  {
   "cell_type": "code",
   "execution_count": null,
   "metadata": {},
   "outputs": [],
   "source": []
  },
  {
   "cell_type": "code",
   "execution_count": null,
   "metadata": {},
   "outputs": [],
   "source": []
  },
  {
   "cell_type": "code",
   "execution_count": null,
   "metadata": {},
   "outputs": [],
   "source": []
  },
  {
   "cell_type": "code",
   "execution_count": null,
   "metadata": {},
   "outputs": [],
   "source": []
  },
  {
   "cell_type": "code",
   "execution_count": null,
   "metadata": {},
   "outputs": [],
   "source": []
  },
  {
   "cell_type": "code",
   "execution_count": null,
   "metadata": {},
   "outputs": [],
   "source": []
  },
  {
   "cell_type": "code",
   "execution_count": null,
   "metadata": {},
   "outputs": [],
   "source": []
  },
  {
   "cell_type": "code",
   "execution_count": null,
   "metadata": {},
   "outputs": [],
   "source": []
  },
  {
   "cell_type": "code",
   "execution_count": null,
   "metadata": {},
   "outputs": [],
   "source": []
  },
  {
   "cell_type": "code",
   "execution_count": null,
   "metadata": {},
   "outputs": [],
   "source": []
  },
  {
   "cell_type": "markdown",
   "metadata": {},
   "source": [
    "# KrimsKrams"
   ]
  },
  {
   "cell_type": "code",
   "execution_count": 34,
   "metadata": {},
   "outputs": [],
   "source": [
    "prediction_red_1000ep = prediction_red # accuracy 65%"
   ]
  },
  {
   "cell_type": "code",
   "execution_count": 73,
   "metadata": {},
   "outputs": [],
   "source": [
    "prediction_red_500ep = prediction_red # accuracy 66%"
   ]
  },
  {
   "cell_type": "code",
   "execution_count": 19,
   "metadata": {},
   "outputs": [],
   "source": [
    "prediction_red_1000ep_2 = prediction_red # accuracy 68%"
   ]
  },
  {
   "cell_type": "code",
   "execution_count": 41,
   "metadata": {},
   "outputs": [
    {
     "name": "stdout",
     "output_type": "stream",
     "text": [
      "0.6216844514890689\n",
      "0.6791744840525328\n",
      "      __Prediction___\n",
      "         0     1     2\n",
      "    0  524   200    20\n",
      "    1  142   432    64\n",
      "    2   15    72   130\n",
      "\n",
      "              precision    recall  f1-score   support\n",
      "\n",
      "           0       0.77      0.70      0.74       744\n",
      "           1       0.61      0.68      0.64       638\n",
      "           2       0.61      0.60      0.60       217\n",
      "\n",
      "   micro avg       0.68      0.68      0.68      1599\n",
      "   macro avg       0.66      0.66      0.66      1599\n",
      "weighted avg       0.69      0.68      0.68      1599\n",
      "\n"
     ]
    }
   ],
   "source": [
    "print(math.sqrt(np.mean((red_class-prediction_red_1000ep_2)*(red_class-prediction_red_1000ep_2))))\n",
    "print(accuracy_score(red_class, prediction_red_1000ep_2))\n",
    "print(confusion_matrix_report(red_class, prediction_red_1000ep_2))\n",
    "print(classification_report(red_class, prediction_red_1000ep_2))"
   ]
  },
  {
   "cell_type": "markdown",
   "metadata": {},
   "source": [
    "## White"
   ]
  },
  {
   "cell_type": "code",
   "execution_count": 28,
   "metadata": {},
   "outputs": [],
   "source": [
    "prediction_white = cross_val_predict(neural_network, \n",
    "                                   white_data, white_class, cv=cv)"
   ]
  },
  {
   "cell_type": "code",
   "execution_count": 29,
   "metadata": {
    "scrolled": false
   },
   "outputs": [
    {
     "name": "stdout",
     "output_type": "stream",
     "text": [
      "0.6962025316455697\n",
      "      __Prediction___\n",
      "         0     1     2\n",
      "    0 1177   404    59\n",
      "    1  401  1517   280\n",
      "    2   56   288   716\n",
      "\n",
      "              precision    recall  f1-score   support\n",
      "\n",
      "           0       0.72      0.72      0.72      1640\n",
      "           1       0.69      0.69      0.69      2198\n",
      "           2       0.68      0.68      0.68      1060\n",
      "\n",
      "   micro avg       0.70      0.70      0.70      4898\n",
      "   macro avg       0.70      0.69      0.69      4898\n",
      "weighted avg       0.70      0.70      0.70      4898\n",
      "\n"
     ]
    }
   ],
   "source": [
    "print(accuracy_score(white_class, prediction_white))\n",
    "print(confusion_matrix_report(white_class, prediction_white))\n",
    "print(classification_report(white_class, prediction_white))"
   ]
  },
  {
   "cell_type": "code",
   "execution_count": 30,
   "metadata": {},
   "outputs": [
    {
     "name": "stdout",
     "output_type": "stream",
     "text": [
      "0.6117469913127119\n"
     ]
    }
   ],
   "source": [
    "print(math.sqrt(np.mean((white_class-prediction_white)*(white_class-prediction_white))))"
   ]
  },
  {
   "cell_type": "code",
   "execution_count": 25,
   "metadata": {},
   "outputs": [],
   "source": [
    "prediction_white_1000ep = prediction_white # accuracy 69%"
   ]
  },
  {
   "cell_type": "code",
   "execution_count": 44,
   "metadata": {},
   "outputs": [
    {
     "name": "stdout",
     "output_type": "stream",
     "text": [
      "0.6193754675345038\n",
      "0.6904859126173949\n",
      "      __Prediction___\n",
      "         0     1     2\n",
      "    0 1153   430    57\n",
      "    1  402  1548   248\n",
      "    2   64   315   681\n",
      "\n",
      "              precision    recall  f1-score   support\n",
      "\n",
      "           0       0.71      0.70      0.71      1640\n",
      "           1       0.68      0.70      0.69      2198\n",
      "           2       0.69      0.64      0.67      1060\n",
      "\n",
      "   micro avg       0.69      0.69      0.69      4898\n",
      "   macro avg       0.69      0.68      0.69      4898\n",
      "weighted avg       0.69      0.69      0.69      4898\n",
      "\n"
     ]
    }
   ],
   "source": [
    "print(math.sqrt(np.mean((white_class-prediction_white_1000ep)*(white_class-prediction_white_1000ep))))\n",
    "print(accuracy_score(white_class, prediction_white_1000ep))\n",
    "print(confusion_matrix_report(white_class, prediction_white_1000ep))\n",
    "print(classification_report(white_class, prediction_white_1000ep))"
   ]
  },
  {
   "cell_type": "code",
   "execution_count": null,
   "metadata": {},
   "outputs": [],
   "source": [
    "prediction_white_1000ep_deeper = prediction_white # accuracy 68.5%"
   ]
  },
  {
   "cell_type": "markdown",
   "metadata": {},
   "source": [
    "# Krims Krams"
   ]
  },
  {
   "cell_type": "markdown",
   "metadata": {},
   "source": [
    "model = tf.keras.Sequential()\n",
    "model.add(layers.Dense(33, activation='sigmoid'))\n",
    "model.add(layers.Dense(132, activation='sigmoid'))\n",
    "model.add(layers.LeakyReLU(alpha=0.1))\n",
    "model.add(layers.Dense(33, activation='linear'))\n",
    "model.add(layers.Dense(10, activation='softmax'))"
   ]
  },
  {
   "cell_type": "markdown",
   "metadata": {},
   "source": [
    "model.compile(optimizer=tf.train.AdamOptimizer(), \n",
    "              loss='mean_squared_error',   # can also use sparse_categorical_crossentropy then you don't need labels\n",
    "              metrics=['accuracy'])"
   ]
  },
  {
   "cell_type": "code",
   "execution_count": null,
   "metadata": {},
   "outputs": [],
   "source": []
  },
  {
   "cell_type": "markdown",
   "metadata": {
    "scrolled": true
   },
   "source": [
    "white_sk_train, white_sk_test = train_test_split(white, test_size=0.2, random_state=42)\n",
    "red_sk_train, red_sk_test = train_test_split(red, test_size=0.2, random_state=42)"
   ]
  },
  {
   "cell_type": "markdown",
   "metadata": {},
   "source": [
    "white_data_train = white_sk_train.drop(['quality', 'quality_class'], axis = 1)\n",
    "white_data_test = white_sk_test.drop(['quality', 'quality_class'], axis = 1)\n",
    "red_data_train = red_sk_train.drop(['quality', 'quality_class'], axis = 1)\n",
    "red_data_test = red_sk_test.drop(['quality', 'quality_class'], axis = 1)"
   ]
  },
  {
   "cell_type": "markdown",
   "metadata": {},
   "source": [
    "white_class_train = white_sk_train['quality_class']\n",
    "white_class_test = white_sk_test['quality_class']\n",
    "red_class_train = red_sk_train['quality_class']\n",
    "red_class_test = red_sk_test['quality_class']"
   ]
  },
  {
   "cell_type": "code",
   "execution_count": null,
   "metadata": {},
   "outputs": [],
   "source": []
  },
  {
   "cell_type": "code",
   "execution_count": 30,
   "metadata": {},
   "outputs": [],
   "source": [
    "model = tf.keras.Sequential()\n",
    "model.add(layers.Dense(33, activation='sigmoid'))\n",
    "model.add(layers.Dense(132, activation='sigmoid'))\n",
    "model.add(layers.LeakyReLU(alpha=0.1))\n",
    "model.add(layers.Dense(33, activation='linear'))\n",
    "model.add(layers.Dense(10, activation='softmax'))"
   ]
  },
  {
   "cell_type": "code",
   "execution_count": 34,
   "metadata": {},
   "outputs": [],
   "source": [
    "model.compile(optimizer=tf.train.AdamOptimizer(), \n",
    "              loss='mean_squared_error',   # can also use sparse_categorical_crossentropy then you don't need labels\n",
    "              metrics=['accuracy'])"
   ]
  },
  {
   "cell_type": "code",
   "execution_count": 33,
   "metadata": {
    "scrolled": false
   },
   "outputs": [],
   "source": [
    "model.fit(white_data_train, white_class_train, epochs=100, batch_size=16)"
   ]
  },
  {
   "cell_type": "code",
   "execution_count": null,
   "metadata": {},
   "outputs": [],
   "source": [
    "test_loss, test_acc = model.evaluate(white_data_test, white_class_test)\n",
    "print('Test accuracy:', test_acc)"
   ]
  },
  {
   "cell_type": "code",
   "execution_count": null,
   "metadata": {},
   "outputs": [],
   "source": [
    "model = tf.keras.models.Sequential([\n",
    "  tf.keras.layers.Flatten(),\n",
    "  tf.keras.layers.Dense(33, activation=tf.nn.relu),\n",
    "  tf.keras.layers.Dense(132, activation=tf.nn.sigmoid),\n",
    "  tf.keras.layers.Dropout(0.5),\n",
    "  tf.keras.layers.Dense(132*4, activation=tf.nn.selu),\n",
    "  tf.keras.layers.Dense(132*16, activation=tf.nn.sigmoid),\n",
    "  tf.keras.layers.Dense(132*4, activation=tf.nn.relu),\n",
    "  tf.keras.layers.Dense(132, activation=tf.nn.sigmoid),\n",
    "  tf.keras.layers.Dropout(0.2),\n",
    "  tf.keras.layers.Dense(33, activation=tf.nn.relu),\n",
    "  tf.keras.layers.Dense(3, activation=tf.nn.softmax)\n",
    "])\n",
    "model.compile(optimizer='adam',\n",
    "              loss='sparse_categorical_crossentropy',\n",
    "              metrics=['accuracy'])\n",
    "\n",
    "model.fit(white_data_train, white_class_train, epochs=150)\n",
    "model.evaluate(white_data_test, white_class_test)"
   ]
  },
  {
   "cell_type": "code",
   "execution_count": 31,
   "metadata": {
    "collapsed": true
   },
   "outputs": [
    {
     "ename": "ValueError",
     "evalue": "optimizer must be an instance of tf.train.Optimizer, not a <class 'str'>",
     "output_type": "error",
     "traceback": [
      "\u001b[1;31m---------------------------------------------------------------------------\u001b[0m",
      "\u001b[1;31mValueError\u001b[0m                                Traceback (most recent call last)",
      "\u001b[1;32m<ipython-input-31-6217e30cd262>\u001b[0m in \u001b[0;36m<module>\u001b[1;34m\u001b[0m\n\u001b[0;32m     11\u001b[0m model.compile(optimizer='adam',\n\u001b[0;32m     12\u001b[0m               \u001b[0mloss\u001b[0m\u001b[1;33m=\u001b[0m\u001b[1;34m'sparse_categorical_crossentropy'\u001b[0m\u001b[1;33m,\u001b[0m\u001b[1;33m\u001b[0m\u001b[1;33m\u001b[0m\u001b[0m\n\u001b[1;32m---> 13\u001b[1;33m               metrics=['accuracy'])\n\u001b[0m\u001b[0;32m     14\u001b[0m \u001b[1;33m\u001b[0m\u001b[0m\n\u001b[0;32m     15\u001b[0m \u001b[1;31m#model.fit(white_data_train, white_class_train, epochs=1000)\u001b[0m\u001b[1;33m\u001b[0m\u001b[1;33m\u001b[0m\u001b[1;33m\u001b[0m\u001b[0m\n",
      "\u001b[1;32m~\\Anaconda3\\envs\\tensorflow_gpuenv\\lib\\site-packages\\tensorflow\\python\\training\\checkpointable\\base.py\u001b[0m in \u001b[0;36m_method_wrapper\u001b[1;34m(self, *args, **kwargs)\u001b[0m\n\u001b[0;32m    472\u001b[0m     \u001b[0mself\u001b[0m\u001b[1;33m.\u001b[0m\u001b[0m_setattr_tracking\u001b[0m \u001b[1;33m=\u001b[0m \u001b[1;32mFalse\u001b[0m  \u001b[1;31m# pylint: disable=protected-access\u001b[0m\u001b[1;33m\u001b[0m\u001b[1;33m\u001b[0m\u001b[0m\n\u001b[0;32m    473\u001b[0m     \u001b[1;32mtry\u001b[0m\u001b[1;33m:\u001b[0m\u001b[1;33m\u001b[0m\u001b[1;33m\u001b[0m\u001b[0m\n\u001b[1;32m--> 474\u001b[1;33m       \u001b[0mmethod\u001b[0m\u001b[1;33m(\u001b[0m\u001b[0mself\u001b[0m\u001b[1;33m,\u001b[0m \u001b[1;33m*\u001b[0m\u001b[0margs\u001b[0m\u001b[1;33m,\u001b[0m \u001b[1;33m**\u001b[0m\u001b[0mkwargs\u001b[0m\u001b[1;33m)\u001b[0m\u001b[1;33m\u001b[0m\u001b[1;33m\u001b[0m\u001b[0m\n\u001b[0m\u001b[0;32m    475\u001b[0m     \u001b[1;32mfinally\u001b[0m\u001b[1;33m:\u001b[0m\u001b[1;33m\u001b[0m\u001b[1;33m\u001b[0m\u001b[0m\n\u001b[0;32m    476\u001b[0m       \u001b[0mself\u001b[0m\u001b[1;33m.\u001b[0m\u001b[0m_setattr_tracking\u001b[0m \u001b[1;33m=\u001b[0m \u001b[0mprevious_value\u001b[0m  \u001b[1;31m# pylint: disable=protected-access\u001b[0m\u001b[1;33m\u001b[0m\u001b[1;33m\u001b[0m\u001b[0m\n",
      "\u001b[1;32m~\\Anaconda3\\envs\\tensorflow_gpuenv\\lib\\site-packages\\tensorflow\\python\\keras\\engine\\training.py\u001b[0m in \u001b[0;36mcompile\u001b[1;34m(self, optimizer, loss, metrics, loss_weights, sample_weight_mode, weighted_metrics, target_tensors, distribute, **kwargs)\u001b[0m\n\u001b[0;32m    408\u001b[0m       raise ValueError(\n\u001b[0;32m    409\u001b[0m           \u001b[1;34m'optimizer must be an instance of tf.train.Optimizer, not '\u001b[0m\u001b[1;33m\u001b[0m\u001b[1;33m\u001b[0m\u001b[0m\n\u001b[1;32m--> 410\u001b[1;33m           'a %s' % type(optimizer))\n\u001b[0m\u001b[0;32m    411\u001b[0m \u001b[1;33m\u001b[0m\u001b[0m\n\u001b[0;32m    412\u001b[0m     \u001b[0mself\u001b[0m\u001b[1;33m.\u001b[0m\u001b[0moptimizer\u001b[0m \u001b[1;33m=\u001b[0m \u001b[0moptimizers\u001b[0m\u001b[1;33m.\u001b[0m\u001b[0mget\u001b[0m\u001b[1;33m(\u001b[0m\u001b[0moptimizer\u001b[0m\u001b[1;33m)\u001b[0m\u001b[1;33m\u001b[0m\u001b[1;33m\u001b[0m\u001b[0m\n",
      "\u001b[1;31mValueError\u001b[0m: optimizer must be an instance of tf.train.Optimizer, not a <class 'str'>"
     ]
    }
   ],
   "source": [
    "model = tf.keras.models.Sequential([\n",
    "    tf.keras.layers.Flatten(),\n",
    "    tf.keras.layers.Dense(33, activation=tf.nn.sigmoid),\n",
    "    tf.keras.layers.Dense(132, activation=tf.nn.sigmoid),\n",
    "    tf.keras.layers.Dense(132, activation=tf.nn.leaky_relu),\n",
    "    tf.keras.layers.Dense(33),\n",
    "    tf.keras.layers.Dense(3, activation=tf.nn.softmax)\n",
    "])\n",
    "\n",
    "model.epochs = 500\n",
    "model.compile(optimizer='adam',\n",
    "              loss='sparse_categorical_crossentropy',\n",
    "              metrics=['accuracy'])\n",
    "\n",
    "#model.fit(white_data_train, white_class_train, epochs=1000)\n",
    "#model.evaluate(white_data_test, white_class_test)\n"
   ]
  },
  {
   "cell_type": "markdown",
   "metadata": {},
   "source": [
    "white_data_train = white_data_train.values\n",
    "white_class_train = white_class_train.values\n",
    "categorical_labels_train = to_categorical(white_class_train, num_classes=None)\n",
    "white_data_test = white_data_test.values\n",
    "white_class_test = white_class_test.values\n",
    "categorical_labels_test = to_categorical(white_class_test, num_classes=None)"
   ]
  },
  {
   "cell_type": "code",
   "execution_count": null,
   "metadata": {},
   "outputs": [],
   "source": [
    "# Maximum Accuracy bisher 68% (very wide but not so deep network), konsistent 65%, new best is 0.706\n",
    "# Could use weights for losses for balancing classes (as described by some paper or website)"
   ]
  },
  {
   "cell_type": "code",
   "execution_count": null,
   "metadata": {},
   "outputs": [],
   "source": [
    "#predictions = model.predict(white_data_test)\n",
    "predictions = model.predict_classes(white_data_test)"
   ]
  },
  {
   "cell_type": "code",
   "execution_count": null,
   "metadata": {},
   "outputs": [],
   "source": [
    "print(accuracy_score(white_class_test, predictions))\n",
    "print(confusion_matrix_report(white_class_test, predictions))\n",
    "print(classification_report(white_class_test, predictions))"
   ]
  }
 ],
 "metadata": {
  "kernelspec": {
   "display_name": "Python 3",
   "language": "python",
   "name": "python3"
  },
  "language_info": {
   "codemirror_mode": {
    "name": "ipython",
    "version": 3
   },
   "file_extension": ".py",
   "mimetype": "text/x-python",
   "name": "python",
   "nbconvert_exporter": "python",
   "pygments_lexer": "ipython3",
   "version": "3.6.7"
  }
 },
 "nbformat": 4,
 "nbformat_minor": 2
}
