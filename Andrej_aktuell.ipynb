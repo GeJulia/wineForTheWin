{
 "cells": [
  {
   "cell_type": "markdown",
   "metadata": {},
   "source": [
    "# Import Libraries and Data"
   ]
  },
  {
   "cell_type": "markdown",
   "metadata": {},
   "source": [
    "## Basics"
   ]
  },
  {
   "cell_type": "code",
   "execution_count": 124,
   "metadata": {},
   "outputs": [],
   "source": [
    "import pandas as pd\n",
    "import numpy as np\n",
    "import matplotlib.pyplot as plt\n",
    "import seaborn as sns\n",
    "%matplotlib inline\n",
    "from copy import deepcopy"
   ]
  },
  {
   "cell_type": "markdown",
   "metadata": {},
   "source": [
    "## Preprocessing"
   ]
  },
  {
   "cell_type": "code",
   "execution_count": 125,
   "metadata": {},
   "outputs": [],
   "source": [
    "from scipy.stats import iqr, boxcox\n",
    "from sklearn.decomposition import PCA\n",
    "from sklearn import preprocessing\n",
    "from sklearn.preprocessing import MinMaxScaler, StandardScaler\n",
    "from sklearn.feature_selection import SelectKBest, chi2, RFECV\n",
    "from sklearn.decomposition import PCA"
   ]
  },
  {
   "cell_type": "markdown",
   "metadata": {},
   "source": [
    "## Algorithms"
   ]
  },
  {
   "cell_type": "code",
   "execution_count": 126,
   "metadata": {},
   "outputs": [],
   "source": [
    "from sklearn.naive_bayes import GaussianNB, MultinomialNB, BernoulliNB\n",
    "from sklearn.neighbors import KNeighborsClassifier\n",
    "from sklearn.svm import SVC, LinearSVC, NuSVC\n",
    "from sklearn.tree import DecisionTreeClassifier\n",
    "from sklearn.ensemble import RandomForestClassifier, AdaBoostClassifier, GradientBoostingClassifier\n",
    "from sklearn.discriminant_analysis import LinearDiscriminantAnalysis, QuadraticDiscriminantAnalysis\n",
    "import mord as m"
   ]
  },
  {
   "cell_type": "markdown",
   "metadata": {},
   "source": [
    "## Evaluation"
   ]
  },
  {
   "cell_type": "code",
   "execution_count": 127,
   "metadata": {},
   "outputs": [],
   "source": [
    "from sklearn.model_selection import StratifiedKFold, cross_val_predict, LeaveOneOut, train_test_split, KFold, cross_val_score, GridSearchCV, RandomizedSearchCV\n",
    "from sklearn.metrics import classification_report, confusion_matrix, accuracy_score, log_loss, recall_score\n",
    "from sklearn.utils.multiclass import unique_labels\n",
    "import graphviz\n",
    "from scipy.stats import chi2_contingency\n",
    "\n",
    "def confusion_matrix_report(y_true, y_pred):    \n",
    "    cm, labels = confusion_matrix(y_true, y_pred), unique_labels(y_true, y_pred)\n",
    "    column_width = max([len(str(x)) for x in labels] + [5])  # 5 is value length\n",
    "    report = \" \" * column_width + \" \" + \"{:_^{}}\".format(\"Prediction\", column_width * len(labels))+ \"\\n\"\n",
    "    report += \" \" * column_width + \" \".join([\"{:>{}}\".format(label, column_width) for label in labels]) + \"\\n\"\n",
    "    for i, label1 in enumerate(labels):\n",
    "        report += \"{:>{}}\".format(label1, column_width) + \" \".join([\"{:{}d}\".format(cm[i, j], column_width) for j in range(len(labels))]) + \"\\n\"\n",
    "    return report\n",
    "\n",
    "import math\n",
    "\n",
    "def calc_rmse(predicted, target):\n",
    "    error = pd.DataFrame()\n",
    "    error['Text'] = target + predicted\n",
    "    conditions = [(error['Text'] == \"1_low1_low\"),\n",
    "                 (error['Text'] == \"2_middle2_middle\"),\n",
    "                 (error['Text'] == \"3_high3_high\"),\n",
    "                 (error['Text'] == \"1_low3_high\"),\n",
    "                 (error['Text'] == \"3_high1_low\")]\n",
    "    choices = [0,0,0,2,2]\n",
    "    error['numeric'] = np.select(conditions, choices, default = 1)\n",
    "    rmse = math.sqrt((error['numeric']*error['numeric']).mean())\n",
    "    print(rmse)\n",
    "    return rmse\n",
    "\n",
    "def evaluation(prediction, label):\n",
    "    print(classification_report(label, prediction))\n",
    "    print(confusion_matrix_report(label, prediction))\n",
    "    rmse = calc_rmse(prediction, label)\n",
    "    print(\"Root Mean squared Error: {}\".format(rmse))"
   ]
  },
  {
   "cell_type": "markdown",
   "metadata": {},
   "source": [
    "## Data"
   ]
  },
  {
   "cell_type": "code",
   "execution_count": 128,
   "metadata": {},
   "outputs": [],
   "source": [
    "red = pd.read_csv(\"./data/winequality-red1.csv\")\n",
    "white = pd.read_csv(\"./data/winequality-white1.csv\")"
   ]
  },
  {
   "cell_type": "markdown",
   "metadata": {},
   "source": [
    "# Data Manipulation and Preprocessing"
   ]
  },
  {
   "cell_type": "code",
   "execution_count": 129,
   "metadata": {},
   "outputs": [],
   "source": [
    "conditions_white = [(white['quality'] <= 5),\n",
    "              (white['quality'] >= 7)]\n",
    "choices = ['1_low', '3_high']\n",
    "white['quality_class'] = np.select(conditions_white, choices, default = '2_middle')\n",
    "conditions_red = [(red['quality'] <= 5),\n",
    "              (red['quality'] >= 7)]\n",
    "red['quality_class'] = np.select(conditions_red, choices, default = '2_middle')"
   ]
  },
  {
   "cell_type": "code",
   "execution_count": 130,
   "metadata": {},
   "outputs": [],
   "source": [
    "white_data = white.drop(['quality', 'quality_class'], axis = 1)\n",
    "red_data = red.drop(['quality', 'quality_class'], axis = 1)"
   ]
  },
  {
   "cell_type": "code",
   "execution_count": 131,
   "metadata": {},
   "outputs": [],
   "source": [
    "white_label = white['quality_class']\n",
    "red_label = red['quality_class']"
   ]
  },
  {
   "cell_type": "code",
   "execution_count": 132,
   "metadata": {},
   "outputs": [],
   "source": [
    "import math\n",
    "\n",
    "def calc_rmse(predicted, target):\n",
    "    error = pd.DataFrame()\n",
    "    error['Text'] = target + predicted\n",
    "    conditions = [(error['Text'] == \"1_low1_low\"),\n",
    "                 (error['Text'] == \"2_middle2_middle\"),\n",
    "                 (error['Text'] == \"3_high3_high\"),\n",
    "                 (error['Text'] == \"1_low3_high\"),\n",
    "                 (error['Text'] == \"3_high1_low\")]\n",
    "    choices = [0,0,0,2,2]\n",
    "    error['numeric'] = np.select(conditions, choices, default = 1)\n",
    "    rmse = math.sqrt((error['numeric']*error['numeric']).mean())\n",
    "    #print(rmse)\n",
    "    return rmse"
   ]
  },
  {
   "cell_type": "markdown",
   "metadata": {},
   "source": [
    "# Classification - Red Wine"
   ]
  },
  {
   "cell_type": "markdown",
   "metadata": {},
   "source": [
    "## Naive Bayes Classifier"
   ]
  },
  {
   "cell_type": "code",
   "execution_count": 259,
   "metadata": {
    "scrolled": true
   },
   "outputs": [
    {
     "name": "stdout",
     "output_type": "stream",
     "text": [
      "--------------------------------------------------\n",
      "GaussianNB\n",
      "****Results****\n",
      "Accuracy: 60.5378%\n",
      "             precision    recall  f1-score   support\n",
      "\n",
      "      1_low       0.71      0.71      0.71       744\n",
      "   2_middle       0.54      0.50      0.52       638\n",
      "     3_high       0.45      0.56      0.50       217\n",
      "\n",
      "avg / total       0.61      0.61      0.61      1599\n",
      "\n",
      "         _______Prediction_______\n",
      "           1_low 2_middle   3_high\n",
      "   1_low     529      187       28\n",
      "2_middle     198      317      123\n",
      "  3_high      16       79      122\n",
      "\n",
      "Root Mean squared Error: 0.6907772674826483\n",
      "--------------------------------------------------\n",
      "MultinomialNB\n",
      "****Results****\n",
      "Accuracy: 46.0913%\n",
      "             precision    recall  f1-score   support\n",
      "\n",
      "      1_low       0.63      0.49      0.55       744\n",
      "   2_middle       0.48      0.41      0.44       638\n",
      "     3_high       0.24      0.53      0.33       217\n",
      "\n",
      "avg / total       0.52      0.46      0.48      1599\n",
      "\n",
      "         _______Prediction_______\n",
      "           1_low 2_middle   3_high\n",
      "   1_low     361      213      170\n",
      "2_middle     183      262      193\n",
      "  3_high      33       70      114\n",
      "\n",
      "Root Mean squared Error: 0.9591402237058232\n",
      "--------------------------------------------------\n",
      "BernoulliNB\n",
      "****Results****\n",
      "Accuracy: 46.5291%\n",
      "             precision    recall  f1-score   support\n",
      "\n",
      "      1_low       0.47      1.00      0.64       744\n",
      "   2_middle       0.00      0.00      0.00       638\n",
      "     3_high       0.00      0.00      0.00       217\n",
      "\n",
      "avg / total       0.22      0.47      0.30      1599\n",
      "\n",
      "         _______Prediction_______\n",
      "           1_low 2_middle   3_high\n",
      "   1_low     744        0        0\n",
      "2_middle     638        0        0\n",
      "  3_high     217        0        0\n",
      "\n",
      "Root Mean squared Error: 0.970483719160565\n"
     ]
    },
    {
     "name": "stderr",
     "output_type": "stream",
     "text": [
      "C:\\ProgramData\\Anaconda3\\lib\\site-packages\\sklearn\\metrics\\classification.py:1135: UndefinedMetricWarning: Precision and F-score are ill-defined and being set to 0.0 in labels with no predicted samples.\n",
      "  'precision', 'predicted', average, warn_for)\n"
     ]
    }
   ],
   "source": [
    "cv = StratifiedKFold(n_splits=10, shuffle=True, random_state=42)\n",
    "\n",
    "classifiers = [\n",
    "    GaussianNB(),\n",
    "    MultinomialNB(),\n",
    "    BernoulliNB()]\n",
    "\n",
    "for clf in classifiers:\n",
    "    prediction = cross_val_predict(clf, red_data, red_label, cv=cv)\n",
    "    name = clf.__class__.__name__\n",
    "    \n",
    "    print(\"-\"*50)\n",
    "    print(name)\n",
    "    \n",
    "    print('****Results****')\n",
    "    acc = accuracy_score(red_label, prediction)\n",
    "    print(\"Accuracy: {:.4%}\".format(acc))\n",
    "    evaluation(prediction, red_label)"
   ]
  },
  {
   "cell_type": "markdown",
   "metadata": {},
   "source": [
    "Gaussian Naive Bayes shows the best results"
   ]
  },
  {
   "cell_type": "code",
   "execution_count": 260,
   "metadata": {},
   "outputs": [],
   "source": [
    "model_bayes = GaussianNB()\n",
    "prediction_red = cross_val_predict(model_bayes, red_data, red_label, cv=cv)"
   ]
  },
  {
   "cell_type": "markdown",
   "metadata": {},
   "source": [
    "## Improving Power of NB"
   ]
  },
  {
   "cell_type": "markdown",
   "metadata": {},
   "source": [
    "### Feature selection"
   ]
  },
  {
   "cell_type": "code",
   "execution_count": 261,
   "metadata": {
    "scrolled": false
   },
   "outputs": [
    {
     "data": {
      "text/plain": [
       "Text(0.5,0,'Relative Importance')"
      ]
     },
     "execution_count": 261,
     "metadata": {},
     "output_type": "execute_result"
    },
    {
     "data": {
      "image/png": "[encoded data removed]",
      "text/plain": [
       "<Figure size 432x288 with 1 Axes>"
      ]
     },
     "metadata": {},
     "output_type": "display_data"
    }
   ],
   "source": [
    "### Using Random Forest to find feature importances ###\n",
    "### https://stackoverflow.com/questions/44101458/random-forest-feature-importance-chart-using-python\n",
    "\n",
    "rfc = RandomForestClassifier(random_state=42)\n",
    "rfc = rfc.fit(red_data, red_label)\n",
    "\n",
    "features = red_data.columns\n",
    "importances = rfc.feature_importances_\n",
    "indices = np.argsort(importances)\n",
    "\n",
    "plt.figure(1)\n",
    "plt.title('Feature Importances')\n",
    "plt.barh(range(len(indices)), importances[indices], color='b', align='center')\n",
    "plt.yticks(range(len(indices)), features[indices])\n",
    "plt.xlabel('Relative Importance')"
   ]
  },
  {
   "cell_type": "code",
   "execution_count": 262,
   "metadata": {},
   "outputs": [
    {
     "data": {
      "text/plain": [
       "<matplotlib.axes._subplots.AxesSubplot at 0x1e861b02390>"
      ]
     },
     "execution_count": 262,
     "metadata": {},
     "output_type": "execute_result"
    },
    {
     "data": {
      "image/png": "[encoded data removed]",
      "text/plain": [
       "<Figure size 432x288 with 2 Axes>"
      ]
     },
     "metadata": {},
     "output_type": "display_data"
    }
   ],
   "source": [
    "### Find correlations in data\n",
    "\n",
    "sns.heatmap(red_data_selected.corr(),cmap='coolwarm',annot=True)"
   ]
  },
  {
   "cell_type": "code",
   "execution_count": 263,
   "metadata": {},
   "outputs": [],
   "source": [
    "### Remove highly correlated variables ###\n",
    "red_data_selected = deepcopy(red_data)\n",
    "red_data_selected.pop(\"free sulfur dioxide\") ## low importances, thus removed\n",
    "red_data_selected.pop(\"pH\") # low importances, thus removed\n",
    "red_data_selected.pop(\"residual sugar\") # low importances, thus removed\n",
    "red_data_selected.pop(\"chlorides\") # low importances, thus removed\n",
    "red_data_selected.pop(\"citric acid\") # # low importances, thus removed\n",
    "red_data_selected.pop(\"fixed acidity\") # # low importances, thus removed\n",
    "red_data_selected.pop(\"density\") # Highly correlated with alcohol, thus removed\n",
    "\n",
    "\n",
    "\n",
    "\n",
    "#red_data_selected.pop(\"total sulfur dioxide\")\n",
    "#red_data_selected.pop(\"sulphates\")\n",
    "#red_data_selected.pop(\"volatile acidity\")\n",
    "#red_data_selected.pop(\"alcohol\") # kept as most important predictor\n",
    "\n",
    "prediction_red_selected = cross_val_predict(model_bayes, red_data_selected, red_label, cv=cv)"
   ]
  },
  {
   "cell_type": "markdown",
   "metadata": {},
   "source": [
    "After feature selection F1 score increased by 0.02 and R2 decreased by 0.06\n",
    "\n",
    "Alcohol, sulphates, total sulphur dioxide and volatile acidity are chosen for the models"
   ]
  },
  {
   "cell_type": "markdown",
   "metadata": {},
   "source": [
    "### Data Transformations"
   ]
  },
  {
   "cell_type": "code",
   "execution_count": 264,
   "metadata": {
    "scrolled": true
   },
   "outputs": [],
   "source": [
    "### Transform data to get a normal distribution via logarithm ###\n",
    "\n",
    "red_data_selected_log = np.log(red_data_selected)\n",
    "\n",
    "prediction_red_selected_log = cross_val_predict(model_bayes, red_data_selected_log, red_label, cv=cv)\n"
   ]
  },
  {
   "cell_type": "code",
   "execution_count": 265,
   "metadata": {},
   "outputs": [],
   "source": [
    "red_data_log1 = np.log(red_data + 1)\n",
    "\n",
    "prediction_red_log1 = cross_val_predict(model_bayes, red_data_log1, red_label, cv=cv)"
   ]
  },
  {
   "cell_type": "code",
   "execution_count": 266,
   "metadata": {},
   "outputs": [],
   "source": [
    "#sns.pairplot(red_data_corrout)\n",
    "#sns.pairplot(red_data_corrout_log)\n",
    "#sns.pairplot(red_data_log1)"
   ]
  },
  {
   "cell_type": "code",
   "execution_count": 279,
   "metadata": {},
   "outputs": [
    {
     "ename": "NotFittedError",
     "evalue": "This GaussianNB instance is not fitted yet. Call 'fit' with appropriate arguments before using this method.",
     "output_type": "error",
     "traceback": [
      "\u001b[1;31m---------------------------------------------------------------------------\u001b[0m",
      "\u001b[1;31mNotFittedError\u001b[0m                            Traceback (most recent call last)",
      "\u001b[1;32m<ipython-input-279-f3aa8b942298>\u001b[0m in \u001b[0;36m<module>\u001b[1;34m()\u001b[0m\n\u001b[0;32m      1\u001b[0m \u001b[1;31m### Try to understand the decision boundary ###\u001b[0m\u001b[1;33m\u001b[0m\u001b[1;33m\u001b[0m\u001b[0m\n\u001b[1;32m----> 2\u001b[1;33m \u001b[0myprob\u001b[0m \u001b[1;33m=\u001b[0m \u001b[0mmodel_bayes\u001b[0m\u001b[1;33m.\u001b[0m\u001b[0mpredict_proba\u001b[0m\u001b[1;33m(\u001b[0m\u001b[0mred_data\u001b[0m\u001b[1;33m)\u001b[0m\u001b[1;33m\u001b[0m\u001b[0m\n\u001b[0m",
      "\u001b[1;32mC:\\ProgramData\\Anaconda3\\lib\\site-packages\\sklearn\\naive_bayes.py\u001b[0m in \u001b[0;36mpredict_proba\u001b[1;34m(self, X)\u001b[0m\n\u001b[0;32m    102\u001b[0m             \u001b[0morder\u001b[0m\u001b[1;33m,\u001b[0m \u001b[1;32mas\u001b[0m \u001b[0mthey\u001b[0m \u001b[0mappear\u001b[0m \u001b[1;32min\u001b[0m \u001b[0mthe\u001b[0m \u001b[0mattribute\u001b[0m\u001b[0;31m \u001b[0m\u001b[0;31m`\u001b[0m\u001b[0mclasses_\u001b[0m\u001b[0;31m`\u001b[0m\u001b[1;33m.\u001b[0m\u001b[1;33m\u001b[0m\u001b[0m\n\u001b[0;32m    103\u001b[0m         \"\"\"\n\u001b[1;32m--> 104\u001b[1;33m         \u001b[1;32mreturn\u001b[0m \u001b[0mnp\u001b[0m\u001b[1;33m.\u001b[0m\u001b[0mexp\u001b[0m\u001b[1;33m(\u001b[0m\u001b[0mself\u001b[0m\u001b[1;33m.\u001b[0m\u001b[0mpredict_log_proba\u001b[0m\u001b[1;33m(\u001b[0m\u001b[0mX\u001b[0m\u001b[1;33m)\u001b[0m\u001b[1;33m)\u001b[0m\u001b[1;33m\u001b[0m\u001b[0m\n\u001b[0m\u001b[0;32m    105\u001b[0m \u001b[1;33m\u001b[0m\u001b[0m\n\u001b[0;32m    106\u001b[0m \u001b[1;33m\u001b[0m\u001b[0m\n",
      "\u001b[1;32mC:\\ProgramData\\Anaconda3\\lib\\site-packages\\sklearn\\naive_bayes.py\u001b[0m in \u001b[0;36mpredict_log_proba\u001b[1;34m(self, X)\u001b[0m\n\u001b[0;32m     82\u001b[0m             \u001b[0morder\u001b[0m\u001b[1;33m,\u001b[0m \u001b[1;32mas\u001b[0m \u001b[0mthey\u001b[0m \u001b[0mappear\u001b[0m \u001b[1;32min\u001b[0m \u001b[0mthe\u001b[0m \u001b[0mattribute\u001b[0m\u001b[0;31m \u001b[0m\u001b[0;31m`\u001b[0m\u001b[0mclasses_\u001b[0m\u001b[0;31m`\u001b[0m\u001b[1;33m.\u001b[0m\u001b[1;33m\u001b[0m\u001b[0m\n\u001b[0;32m     83\u001b[0m         \"\"\"\n\u001b[1;32m---> 84\u001b[1;33m         \u001b[0mjll\u001b[0m \u001b[1;33m=\u001b[0m \u001b[0mself\u001b[0m\u001b[1;33m.\u001b[0m\u001b[0m_joint_log_likelihood\u001b[0m\u001b[1;33m(\u001b[0m\u001b[0mX\u001b[0m\u001b[1;33m)\u001b[0m\u001b[1;33m\u001b[0m\u001b[0m\n\u001b[0m\u001b[0;32m     85\u001b[0m         \u001b[1;31m# normalize by P(x) = P(f_1, ..., f_n)\u001b[0m\u001b[1;33m\u001b[0m\u001b[1;33m\u001b[0m\u001b[0m\n\u001b[0;32m     86\u001b[0m         \u001b[0mlog_prob_x\u001b[0m \u001b[1;33m=\u001b[0m \u001b[0mlogsumexp\u001b[0m\u001b[1;33m(\u001b[0m\u001b[0mjll\u001b[0m\u001b[1;33m,\u001b[0m \u001b[0maxis\u001b[0m\u001b[1;33m=\u001b[0m\u001b[1;36m1\u001b[0m\u001b[1;33m)\u001b[0m\u001b[1;33m\u001b[0m\u001b[0m\n",
      "\u001b[1;32mC:\\ProgramData\\Anaconda3\\lib\\site-packages\\sklearn\\naive_bayes.py\u001b[0m in \u001b[0;36m_joint_log_likelihood\u001b[1;34m(self, X)\u001b[0m\n\u001b[0;32m    424\u001b[0m \u001b[1;33m\u001b[0m\u001b[0m\n\u001b[0;32m    425\u001b[0m     \u001b[1;32mdef\u001b[0m \u001b[0m_joint_log_likelihood\u001b[0m\u001b[1;33m(\u001b[0m\u001b[0mself\u001b[0m\u001b[1;33m,\u001b[0m \u001b[0mX\u001b[0m\u001b[1;33m)\u001b[0m\u001b[1;33m:\u001b[0m\u001b[1;33m\u001b[0m\u001b[0m\n\u001b[1;32m--> 426\u001b[1;33m         \u001b[0mcheck_is_fitted\u001b[0m\u001b[1;33m(\u001b[0m\u001b[0mself\u001b[0m\u001b[1;33m,\u001b[0m \u001b[1;34m\"classes_\"\u001b[0m\u001b[1;33m)\u001b[0m\u001b[1;33m\u001b[0m\u001b[0m\n\u001b[0m\u001b[0;32m    427\u001b[0m \u001b[1;33m\u001b[0m\u001b[0m\n\u001b[0;32m    428\u001b[0m         \u001b[0mX\u001b[0m \u001b[1;33m=\u001b[0m \u001b[0mcheck_array\u001b[0m\u001b[1;33m(\u001b[0m\u001b[0mX\u001b[0m\u001b[1;33m)\u001b[0m\u001b[1;33m\u001b[0m\u001b[0m\n",
      "\u001b[1;32mC:\\ProgramData\\Anaconda3\\lib\\site-packages\\sklearn\\utils\\validation.py\u001b[0m in \u001b[0;36mcheck_is_fitted\u001b[1;34m(estimator, attributes, msg, all_or_any)\u001b[0m\n\u001b[0;32m    766\u001b[0m \u001b[1;33m\u001b[0m\u001b[0m\n\u001b[0;32m    767\u001b[0m     \u001b[1;32mif\u001b[0m \u001b[1;32mnot\u001b[0m \u001b[0mall_or_any\u001b[0m\u001b[1;33m(\u001b[0m\u001b[1;33m[\u001b[0m\u001b[0mhasattr\u001b[0m\u001b[1;33m(\u001b[0m\u001b[0mestimator\u001b[0m\u001b[1;33m,\u001b[0m \u001b[0mattr\u001b[0m\u001b[1;33m)\u001b[0m \u001b[1;32mfor\u001b[0m \u001b[0mattr\u001b[0m \u001b[1;32min\u001b[0m \u001b[0mattributes\u001b[0m\u001b[1;33m]\u001b[0m\u001b[1;33m)\u001b[0m\u001b[1;33m:\u001b[0m\u001b[1;33m\u001b[0m\u001b[0m\n\u001b[1;32m--> 768\u001b[1;33m         \u001b[1;32mraise\u001b[0m \u001b[0mNotFittedError\u001b[0m\u001b[1;33m(\u001b[0m\u001b[0mmsg\u001b[0m \u001b[1;33m%\u001b[0m \u001b[1;33m{\u001b[0m\u001b[1;34m'name'\u001b[0m\u001b[1;33m:\u001b[0m \u001b[0mtype\u001b[0m\u001b[1;33m(\u001b[0m\u001b[0mestimator\u001b[0m\u001b[1;33m)\u001b[0m\u001b[1;33m.\u001b[0m\u001b[0m__name__\u001b[0m\u001b[1;33m}\u001b[0m\u001b[1;33m)\u001b[0m\u001b[1;33m\u001b[0m\u001b[0m\n\u001b[0m\u001b[0;32m    769\u001b[0m \u001b[1;33m\u001b[0m\u001b[0m\n\u001b[0;32m    770\u001b[0m \u001b[1;33m\u001b[0m\u001b[0m\n",
      "\u001b[1;31mNotFittedError\u001b[0m: This GaussianNB instance is not fitted yet. Call 'fit' with appropriate arguments before using this method."
     ]
    }
   ],
   "source": [
    "### Try to understand the decision boundary ###\n"
   ]
  },
  {
   "cell_type": "code",
   "execution_count": null,
   "metadata": {},
   "outputs": [],
   "source": []
  },
  {
   "cell_type": "markdown",
   "metadata": {},
   "source": [
    "## Comparison"
   ]
  },
  {
   "cell_type": "code",
   "execution_count": 267,
   "metadata": {
    "scrolled": true
   },
   "outputs": [
    {
     "name": "stdout",
     "output_type": "stream",
     "text": [
      "--------------------------------------------------\n",
      "GNB (normal)\n",
      "             precision    recall  f1-score   support\n",
      "\n",
      "      1_low       0.71      0.71      0.71       744\n",
      "   2_middle       0.54      0.50      0.52       638\n",
      "     3_high       0.45      0.56      0.50       217\n",
      "\n",
      "avg / total       0.61      0.61      0.61      1599\n",
      "\n",
      "         _______Prediction_______\n",
      "           1_low 2_middle   3_high\n",
      "   1_low     529      187       28\n",
      "2_middle     198      317      123\n",
      "  3_high      16       79      122\n",
      "\n",
      "Root Mean squared Error: 0.6907772674826483\n",
      "--------------------------------------------------\n",
      "GNB selected\n",
      "             precision    recall  f1-score   support\n",
      "\n",
      "      1_low       0.72      0.76      0.74       744\n",
      "   2_middle       0.56      0.59      0.57       638\n",
      "     3_high       0.56      0.35      0.43       217\n",
      "\n",
      "avg / total       0.63      0.64      0.63      1599\n",
      "\n",
      "         _______Prediction_______\n",
      "           1_low 2_middle   3_high\n",
      "   1_low     568      170        6\n",
      "2_middle     208      375       55\n",
      "  3_high      15      125       77\n",
      "\n",
      "Root Mean squared Error: 0.6336410167329005\n",
      "--------------------------------------------------\n",
      "GNB selected logarithm\n",
      "             precision    recall  f1-score   support\n",
      "\n",
      "      1_low       0.69      0.80      0.74       744\n",
      "   2_middle       0.55      0.49      0.52       638\n",
      "     3_high       0.54      0.42      0.47       217\n",
      "\n",
      "avg / total       0.61      0.62      0.61      1599\n",
      "\n",
      "         _______Prediction_______\n",
      "           1_low 2_middle   3_high\n",
      "   1_low     594      142        8\n",
      "2_middle     257      311       70\n",
      "  3_high      14      112       91\n",
      "\n",
      "Root Mean squared Error: 0.6468280231693918\n",
      "--------------------------------------------------\n",
      "GNB logarithm\n",
      "             precision    recall  f1-score   support\n",
      "\n",
      "      1_low       0.70      0.75      0.72       744\n",
      "   2_middle       0.55      0.45      0.49       638\n",
      "     3_high       0.45      0.58      0.51       217\n",
      "\n",
      "avg / total       0.60      0.61      0.60      1599\n",
      "\n",
      "         _______Prediction_______\n",
      "           1_low 2_middle   3_high\n",
      "   1_low     560      157       27\n",
      "2_middle     230      284      124\n",
      "  3_high      13       79      125\n",
      "\n",
      "Root Mean squared Error: 0.6848672513487423\n"
     ]
    }
   ],
   "source": [
    "prediction = [prediction_red,\n",
    "             prediction_red_selected,\n",
    "             prediction_red_selected_log,\n",
    "             prediction_red_log1]\n",
    "\n",
    "method = [\"GNB (normal)\", \n",
    "          \"GNB selected\", \n",
    "          \"GNB selected logarithm\",\n",
    "          \"GNB logarithm\"]\n",
    "\n",
    "for i, j in zip(prediction, method):\n",
    "    print(\"-\"*50)\n",
    "    print(j)\n",
    "    evaluation(i, red_label)"
   ]
  },
  {
   "cell_type": "markdown",
   "metadata": {},
   "source": [
    "Transforming the data to normal distribution does not improve the result."
   ]
  },
  {
   "cell_type": "markdown",
   "metadata": {},
   "source": [
    "## Classification - White wine"
   ]
  },
  {
   "cell_type": "code",
   "execution_count": 142,
   "metadata": {},
   "outputs": [
    {
     "name": "stdout",
     "output_type": "stream",
     "text": [
      "--------------------------------------------------\n",
      "GaussianNB\n",
      "****Results****\n",
      "Accuracy: 49.6121%\n",
      "             precision    recall  f1-score   support\n",
      "\n",
      "      1_low       0.57      0.56      0.56      1640\n",
      "   2_middle       0.52      0.35      0.42      2198\n",
      "     3_high       0.41      0.70      0.52      1060\n",
      "\n",
      "avg / total       0.51      0.50      0.49      4898\n",
      "\n",
      "         _______Prediction_______\n",
      "           1_low 2_middle   3_high\n",
      "   1_low     914      515      211\n",
      "2_middle     579      770      849\n",
      "  3_high     113      201      746\n",
      "\n",
      "Root Mean squared Error: 0.8380498079495802\n",
      "--------------------------------------------------\n",
      "MultinomialNB\n",
      "****Results****\n",
      "Accuracy: 45.7534%\n",
      "             precision    recall  f1-score   support\n",
      "\n",
      "      1_low       0.49      0.46      0.48      1640\n",
      "   2_middle       0.48      0.49      0.49      2198\n",
      "     3_high       0.36      0.38      0.37      1060\n",
      "\n",
      "avg / total       0.46      0.46      0.46      4898\n",
      "\n",
      "         _______Prediction_______\n",
      "           1_low 2_middle   3_high\n",
      "   1_low     762      666      212\n",
      "2_middle     620     1079      499\n",
      "  3_high     174      486      400\n",
      "\n",
      "Root Mean squared Error: 0.8825470766983547\n",
      "--------------------------------------------------\n",
      "BernoulliNB\n",
      "****Results****\n",
      "Accuracy: 44.9367%\n",
      "             precision    recall  f1-score   support\n",
      "\n",
      "      1_low       0.58      0.01      0.01      1640\n",
      "   2_middle       0.45      1.00      0.62      2198\n",
      "     3_high       0.00      0.00      0.00      1060\n",
      "\n",
      "avg / total       0.40      0.45      0.28      4898\n",
      "\n",
      "         _______Prediction_______\n",
      "           1_low 2_middle   3_high\n",
      "   1_low      11     1629        0\n",
      "2_middle       8     2190        0\n",
      "  3_high       0     1060        0\n",
      "\n",
      "Root Mean squared Error: 0.7420464347952931\n"
     ]
    },
    {
     "name": "stderr",
     "output_type": "stream",
     "text": [
      "C:\\ProgramData\\Anaconda3\\lib\\site-packages\\sklearn\\metrics\\classification.py:1135: UndefinedMetricWarning: Precision and F-score are ill-defined and being set to 0.0 in labels with no predicted samples.\n",
      "  'precision', 'predicted', average, warn_for)\n"
     ]
    }
   ],
   "source": [
    "cv = StratifiedKFold(n_splits=10, shuffle=True, random_state=42)\n",
    "\n",
    "classifiers = [\n",
    "    GaussianNB(),\n",
    "    MultinomialNB(),\n",
    "    BernoulliNB()]\n",
    "\n",
    "for clf in classifiers:\n",
    "    prediction_white = cross_val_predict(clf, white_data, white_label, cv=cv)\n",
    "    name = clf.__class__.__name__\n",
    "    \n",
    "    print(\"-\"*50)\n",
    "    print(name)\n",
    "    \n",
    "    print('****Results****')\n",
    "    acc = accuracy_score(white_label, prediction_white)\n",
    "    print(\"Accuracy: {:.4%}\".format(acc))\n",
    "    evaluation(prediction_white, white_label)"
   ]
  },
  {
   "cell_type": "code",
   "execution_count": 143,
   "metadata": {},
   "outputs": [],
   "source": [
    "prediction_white = cross_val_predict(model_bayes, white_data, white_label, cv=cv)"
   ]
  },
  {
   "cell_type": "markdown",
   "metadata": {},
   "source": [
    "### Feature selection"
   ]
  },
  {
   "cell_type": "code",
   "execution_count": 246,
   "metadata": {},
   "outputs": [
    {
     "data": {
      "image/png": "[encoded data removed]",
      "text/plain": [
       "<Figure size 432x288 with 1 Axes>"
      ]
     },
     "metadata": {},
     "output_type": "display_data"
    }
   ],
   "source": [
    "### Using Random Forests feature importances\n",
    "### https://stackoverflow.com/questions/44101458/random-forest-feature-importance-chart-using-python\n",
    "\n",
    "rfc = RandomForestClassifier(random_state=42)\n",
    "rfc = rfc.fit(white_data, white_label)\n",
    "\n",
    "features = white_data.columns\n",
    "importances = rfc.feature_importances_\n",
    "indices = np.argsort(importances)\n",
    "\n",
    "plt.figure(1)\n",
    "plt.title('Feature Importances')\n",
    "plt.barh(range(len(indices)), importances[indices], color='b', align='center')\n",
    "plt.yticks(range(len(indices)), features[indices])\n",
    "plt.xlabel('Relative Importance')\n",
    "plt.savefig('../wineForTheWin/importances_white.png')\n"
   ]
  },
  {
   "cell_type": "code",
   "execution_count": 258,
   "metadata": {},
   "outputs": [
    {
     "data": {
      "text/plain": [
       "<matplotlib.axes._subplots.AxesSubplot at 0x1e861a50198>"
      ]
     },
     "execution_count": 258,
     "metadata": {},
     "output_type": "execute_result"
    },
    {
     "data": {
      "image/png": "[encoded data removed]",
      "text/plain": [
       "<Figure size 432x288 with 2 Axes>"
      ]
     },
     "metadata": {},
     "output_type": "display_data"
    }
   ],
   "source": [
    "sns.heatmap(white_data_selected.corr(),cmap='coolwarm',annot=True, linewidths=.5, fmt= '.1f')"
   ]
  },
  {
   "cell_type": "code",
   "execution_count": 257,
   "metadata": {
    "scrolled": false
   },
   "outputs": [],
   "source": [
    "### Remove unimportant variables ###\n",
    "white_data_selected = deepcopy(white_data)\n",
    "\n",
    "white_data_selected.pop(\"fixed acidity\") # Highly correlated with pH and low importance, thus removed\n",
    "white_data_selected.pop(\"sulphates\") # low importance, thus removed\n",
    "white_data_selected.pop(\"chlorides\") # low importances, thus removed\n",
    "white_data_selected.pop(\"citric acid\") # low importances, thus removed\n",
    "white_data_selected.pop(\"pH\") # low importances, thus removed\n",
    "\n",
    "white_data_selected.pop(\"density\") # Highly correlated with alcohol and residual sugar, thus removed\n",
    "white_data_selected.pop(\"total sulfur dioxide\") #Higly correlated with free sulphur dioxide, thus removed, because other correlations are higher than off free total dioxide\n",
    "white_data_selected.pop(\"residual sugar\") # correlated with alcohol and free sulfur dioxide, thus removed\n",
    "\n",
    "#white_data_selected.pop(\"alcohol\") # Most important predictor, thus kept\n",
    "#white_data_selected.pop(\"free sulfur dioxide\") #kept as important predictor\n",
    "#white_data_selected.pop(\"volatile acidity\") # #kept as important predictor\n",
    "\n",
    "prediction_white_selected = cross_val_predict(model_bayes, white_data_selected, white_label, cv=cv)\n"
   ]
  },
  {
   "cell_type": "markdown",
   "metadata": {},
   "source": [
    "Feature selection brought an increase of 0.04 for F1 and a decrease in R2 of 0.13 compared to standard model"
   ]
  },
  {
   "cell_type": "markdown",
   "metadata": {},
   "source": [
    "### Data transformations"
   ]
  },
  {
   "cell_type": "code",
   "execution_count": 147,
   "metadata": {},
   "outputs": [],
   "source": [
    "### Transform data to get a normal distribution via logarithm ###\n",
    "\n",
    "white_data_selected_log = np.log(white_data_selected)\n",
    "\n",
    "prediction_white_selected_log = cross_val_predict(model_bayes, white_data_selected_log, white_label, cv=cv)\n"
   ]
  },
  {
   "cell_type": "code",
   "execution_count": 148,
   "metadata": {},
   "outputs": [],
   "source": [
    "white_data_log1 = np.log(white_data + 1)\n",
    "\n",
    "prediction_white_log1 = cross_val_predict(model_bayes, white_data_log1, white_label, cv=cv)"
   ]
  },
  {
   "cell_type": "code",
   "execution_count": 149,
   "metadata": {},
   "outputs": [
    {
     "name": "stdout",
     "output_type": "stream",
     "text": [
      "--------------------------------------------------\n",
      "GNB (normal)\n",
      "             precision    recall  f1-score   support\n",
      "\n",
      "      1_low       0.57      0.56      0.56      1640\n",
      "   2_middle       0.52      0.35      0.42      2198\n",
      "     3_high       0.41      0.70      0.52      1060\n",
      "\n",
      "avg / total       0.51      0.50      0.49      4898\n",
      "\n",
      "         _______Prediction_______\n",
      "           1_low 2_middle   3_high\n",
      "   1_low     914      515      211\n",
      "2_middle     579      770      849\n",
      "  3_high     113      201      746\n",
      "\n",
      "Root Mean squared Error: 0.8380498079495802\n",
      "--------------------------------------------------\n",
      "GNB selected\n",
      "             precision    recall  f1-score   support\n",
      "\n",
      "      1_low       0.64      0.50      0.56      1640\n",
      "   2_middle       0.50      0.67      0.58      2198\n",
      "     3_high       0.54      0.34      0.42      1060\n",
      "\n",
      "avg / total       0.56      0.54      0.54      4898\n",
      "\n",
      "         _______Prediction_______\n",
      "           1_low 2_middle   3_high\n",
      "   1_low     825      790       25\n",
      "2_middle     437     1480      281\n",
      "  3_high      32      666      362\n",
      "\n",
      "Root Mean squared Error: 0.7002886880646282\n",
      "--------------------------------------------------\n",
      "GNB selected logarithm\n",
      "             precision    recall  f1-score   support\n",
      "\n",
      "      1_low       0.64      0.60      0.62      1640\n",
      "   2_middle       0.52      0.65      0.58      2198\n",
      "     3_high       0.55      0.32      0.41      1060\n",
      "\n",
      "avg / total       0.57      0.56      0.56      4898\n",
      "\n",
      "         _______Prediction_______\n",
      "           1_low 2_middle   3_high\n",
      "   1_low     990      627       23\n",
      "2_middle     512     1425      261\n",
      "  3_high      40      676      344\n",
      "\n",
      "Root Mean squared Error: 0.6894171735601553\n",
      "--------------------------------------------------\n",
      "GNB logarithm\n",
      "             precision    recall  f1-score   support\n",
      "\n",
      "      1_low       0.59      0.58      0.59      1640\n",
      "   2_middle       0.53      0.40      0.46      2198\n",
      "     3_high       0.44      0.67      0.53      1060\n",
      "\n",
      "avg / total       0.53      0.52      0.52      4898\n",
      "\n",
      "         _______Prediction_______\n",
      "           1_low 2_middle   3_high\n",
      "   1_low     957      529      154\n",
      "2_middle     561      885      752\n",
      "  3_high     101      245      714\n",
      "\n",
      "Root Mean squared Error: 0.796454987530436\n"
     ]
    }
   ],
   "source": [
    "prediction = [prediction_white,\n",
    "             prediction_white_selected,\n",
    "             prediction_white_selected_log,\n",
    "             prediction_white_log1]\n",
    "\n",
    "method = [\"GNB (normal)\", \n",
    "          \"GNB selected\", \n",
    "          \"GNB selected logarithm\",\n",
    "          \"GNB logarithm\"]\n",
    "\n",
    "for i, j in zip(prediction, method):\n",
    "    print(\"-\"*50)\n",
    "    print(j)\n",
    "    evaluation(i, white_label)"
   ]
  },
  {
   "cell_type": "markdown",
   "metadata": {},
   "source": [
    "After transforming the data to normal form we can see an increase of 0.07 for F1 and a decrease in R2 of 0.15"
   ]
  },
  {
   "cell_type": "code",
   "execution_count": 236,
   "metadata": {},
   "outputs": [
    {
     "ename": "SyntaxError",
     "evalue": "invalid syntax (<ipython-input-236-6394c7120400>, line 6)",
     "output_type": "error",
     "traceback": [
      "\u001b[1;36m  File \u001b[1;32m\"<ipython-input-236-6394c7120400>\"\u001b[1;36m, line \u001b[1;32m6\u001b[0m\n\u001b[1;33m    red_binned[\"{}\".format(i)] = pd.qcut(red_binned[\"{}\".format(i], 4, labels=[\"1st quartile\", \"2nd quartile\", \"3th quartile\", \"4th quartile\"])\u001b[0m\n\u001b[1;37m                                                                 ^\u001b[0m\n\u001b[1;31mSyntaxError\u001b[0m\u001b[1;31m:\u001b[0m invalid syntax\n"
     ]
    }
   ],
   "source": [
    "### Discretize data ###\n",
    "red_binned = deepcopy(red_data)\n",
    "[\"fixed acidity\", \"volatile acidity\", \"citric acid\", \"residual sugar\", \"chlorides\", \"free sulfur dioxide\", \"total sulfur dioxide\", \"density\", \"pH\", \"sulphates\", \"alcohol\"]\n",
    "\n",
    "for i in attributes:\n",
    "    red_binned[\"{}\".format(i)] = pd.qcut(red_binned[\"{}\".format(i], 4, labels=[\"1st quartile\", \"2nd quartile\", \"3th quartile\", \"4th quartile\"])\n",
    "\n",
    "pd.qcut(red_binned[\"volatile acidity\"], 4, labels=[\"1st quartile\", \"2nd quartile\", \"3th quartile\", \"4th quartile\"])\n",
    "pd.qcut(red_binned[\"citric acid\"], 4, labels=[\"1st quartile\", \"2nd quartile\", \"3th quartile\", \"4th quartile\"])\n",
    "pd.qcut(red_binned[\"residual sugar\"], 4, labels=[\"1st quartile\", \"2nd quartile\", \"3th quartile\", \"4th quartile\"])\n",
    "pd.qcut(red_binned[\"density\"], 4, labels=[\"1st quartile\", \"2nd quartile\", \"3th quartile\", \"4th quartile\"])\n",
    "pd.qcut(red_binned[\"total sulfur dioxide\"], 4, labels=[\"1st quartile\", \"2nd quartile\", \"3th quartile\", \"4th quartile\"])\n",
    "pd.qcut(red_binned[\"free sulfur dioxide\"], 4, labels=[\"1st quartile\", \"2nd quartile\", \"3th quartile\", \"4th quartile\"])\n",
    "pd.qcut(red_binned[\"chlorides\"], 4, labels=[\"1st quartile\", \"2nd quartile\", \"3th quartile\", \"4th quartile\"])\n",
    "pd.qcut(red_binned[\"sulphates\"], 4, labels=[\"1st quartile\", \"2nd quartile\", \"3th quartile\", \"4th quartile\"])\n",
    "pd.qcut(red_binned[\"pH\"], 4, labels=[\"1st quartile\", \"2nd quartile\", \"3th quartile\", \"4th quartile\"])\n",
    "pd.qcut(red_binned[\"alcohol\"], 4, labels=[\"1st quartile\", \"2nd quartile\", \"3th quartile\", \"4th quartile\"])\n"
   ]
  },
  {
   "cell_type": "code",
   "execution_count": 242,
   "metadata": {},
   "outputs": [],
   "source": [
    "### Discretize data ###\n",
    "red_binned = deepcopy(red_data)\n",
    "attributes = [\"fixed acidity\", \"volatile acidity\", \"citric acid\", \"residual sugar\", \"chlorides\", \"free sulfur dioxide\", \"total sulfur dioxide\", \"density\", \"pH\", \"sulphates\", \"alcohol\"]\n",
    "\n",
    "for i in attributes:\n",
    "    red_binned[\"{}\".format(i)] = pd.qcut(red_binned[\"{}\".format(i)], 4, labels=[0, 1, 2, 3])\n"
   ]
  },
  {
   "cell_type": "code",
   "execution_count": 243,
   "metadata": {
    "scrolled": true
   },
   "outputs": [
    {
     "data": {
      "text/html": [
       "<div>\n",
       "<style scoped>\n",
       "    .dataframe tbody tr th:only-of-type {\n",
       "        vertical-align: middle;\n",
       "    }\n",
       "\n",
       "    .dataframe tbody tr th {\n",
       "        vertical-align: top;\n",
       "    }\n",
       "\n",
       "    .dataframe thead th {\n",
       "        text-align: right;\n",
       "    }\n",
       "</style>\n",
       "<table border=\"1\" class=\"dataframe\">\n",
       "  <thead>\n",
       "    <tr style=\"text-align: right;\">\n",
       "      <th></th>\n",
       "      <th>fixed acidity</th>\n",
       "      <th>volatile acidity</th>\n",
       "      <th>citric acid</th>\n",
       "      <th>residual sugar</th>\n",
       "      <th>chlorides</th>\n",
       "      <th>free sulfur dioxide</th>\n",
       "      <th>total sulfur dioxide</th>\n",
       "      <th>density</th>\n",
       "      <th>pH</th>\n",
       "      <th>sulphates</th>\n",
       "      <th>alcohol</th>\n",
       "    </tr>\n",
       "  </thead>\n",
       "  <tbody>\n",
       "    <tr>\n",
       "      <th>0</th>\n",
       "      <td>1</td>\n",
       "      <td>3</td>\n",
       "      <td>0</td>\n",
       "      <td>0</td>\n",
       "      <td>1</td>\n",
       "      <td>1</td>\n",
       "      <td>1</td>\n",
       "      <td>2</td>\n",
       "      <td>3</td>\n",
       "      <td>1</td>\n",
       "      <td>0</td>\n",
       "    </tr>\n",
       "    <tr>\n",
       "      <th>1</th>\n",
       "      <td>1</td>\n",
       "      <td>3</td>\n",
       "      <td>0</td>\n",
       "      <td>2</td>\n",
       "      <td>3</td>\n",
       "      <td>3</td>\n",
       "      <td>3</td>\n",
       "      <td>2</td>\n",
       "      <td>0</td>\n",
       "      <td>2</td>\n",
       "      <td>1</td>\n",
       "    </tr>\n",
       "    <tr>\n",
       "      <th>2</th>\n",
       "      <td>1</td>\n",
       "      <td>3</td>\n",
       "      <td>0</td>\n",
       "      <td>2</td>\n",
       "      <td>3</td>\n",
       "      <td>2</td>\n",
       "      <td>2</td>\n",
       "      <td>2</td>\n",
       "      <td>1</td>\n",
       "      <td>2</td>\n",
       "      <td>1</td>\n",
       "    </tr>\n",
       "    <tr>\n",
       "      <th>3</th>\n",
       "      <td>3</td>\n",
       "      <td>0</td>\n",
       "      <td>3</td>\n",
       "      <td>0</td>\n",
       "      <td>1</td>\n",
       "      <td>2</td>\n",
       "      <td>2</td>\n",
       "      <td>3</td>\n",
       "      <td>0</td>\n",
       "      <td>1</td>\n",
       "      <td>1</td>\n",
       "    </tr>\n",
       "    <tr>\n",
       "      <th>4</th>\n",
       "      <td>1</td>\n",
       "      <td>3</td>\n",
       "      <td>0</td>\n",
       "      <td>0</td>\n",
       "      <td>1</td>\n",
       "      <td>1</td>\n",
       "      <td>1</td>\n",
       "      <td>2</td>\n",
       "      <td>3</td>\n",
       "      <td>1</td>\n",
       "      <td>0</td>\n",
       "    </tr>\n",
       "  </tbody>\n",
       "</table>\n",
       "</div>"
      ],
      "text/plain": [
       "  fixed acidity volatile acidity citric acid residual sugar chlorides  \\\n",
       "0             1                3           0              0         1   \n",
       "1             1                3           0              2         3   \n",
       "2             1                3           0              2         3   \n",
       "3             3                0           3              0         1   \n",
       "4             1                3           0              0         1   \n",
       "\n",
       "  free sulfur dioxide total sulfur dioxide density pH sulphates alcohol  \n",
       "0                   1                    1       2  3         1       0  \n",
       "1                   3                    3       2  0         2       1  \n",
       "2                   2                    2       2  1         2       1  \n",
       "3                   2                    2       3  0         1       1  \n",
       "4                   1                    1       2  3         1       0  "
      ]
     },
     "execution_count": 243,
     "metadata": {},
     "output_type": "execute_result"
    }
   ],
   "source": [
    "red_binned.head()"
   ]
  },
  {
   "cell_type": "code",
   "execution_count": 244,
   "metadata": {},
   "outputs": [
    {
     "name": "stdout",
     "output_type": "stream",
     "text": [
      "             precision    recall  f1-score   support\n",
      "\n",
      "      1_low       0.69      0.75      0.72       744\n",
      "   2_middle       0.54      0.43      0.48       638\n",
      "     3_high       0.45      0.59      0.51       217\n",
      "\n",
      "avg / total       0.60      0.60      0.59      1599\n",
      "\n",
      "         _______Prediction_______\n",
      "           1_low 2_middle   3_high\n",
      "   1_low     558      154       32\n",
      "2_middle     239      273      126\n",
      "  3_high      12       76      129\n",
      "\n",
      "Root Mean squared Error: 0.6943891993868717\n"
     ]
    }
   ],
   "source": [
    "prediction_red_binned = cross_val_predict(model_bayes, red_binned, red_label, cv=cv)\n",
    "evaluation(prediction_red_binned, red_label)"
   ]
  },
  {
   "cell_type": "code",
   "execution_count": null,
   "metadata": {},
   "outputs": [],
   "source": []
  },
  {
   "cell_type": "markdown",
   "metadata": {},
   "source": [
    "# Random Forrest Classifier"
   ]
  },
  {
   "cell_type": "code",
   "execution_count": 199,
   "metadata": {},
   "outputs": [
    {
     "name": "stdout",
     "output_type": "stream",
     "text": [
      "Random Forest:\n",
      "             precision    recall  f1-score   support\n",
      "\n",
      "      1_low       0.79      0.83      0.81       744\n",
      "   2_middle       0.69      0.70      0.69       638\n",
      "     3_high       0.72      0.57      0.64       217\n",
      "\n",
      "avg / total       0.74      0.74      0.74      1599\n",
      "\n",
      "         _______Prediction_______\n",
      "           1_low 2_middle   3_high\n",
      "   1_low     617      119        8\n",
      "2_middle     152      446       40\n",
      "  3_high       9       84      124\n",
      "\n",
      "Root Mean squared Error: 0.5381040535833211\n"
     ]
    }
   ],
   "source": [
    "model_rfc = RandomForestClassifier(n_estimators=200, max_features=\"auto\", criterion=\"gini\")\n",
    "\n",
    "prediction_rfc_red = cross_val_predict(model_rfc, red_data, red_label, cv=cv)\n",
    "\n",
    "print(\"Random Forest:\")\n",
    "evaluation(prediction_rfc_red, red_label)"
   ]
  },
  {
   "cell_type": "code",
   "execution_count": 185,
   "metadata": {},
   "outputs": [
    {
     "name": "stdout",
     "output_type": "stream",
     "text": [
      "Random Forest:\n",
      "             precision    recall  f1-score   support\n",
      "\n",
      "      1_low       0.79      0.74      0.76      1640\n",
      "   2_middle       0.69      0.78      0.73      2198\n",
      "     3_high       0.78      0.64      0.70      1060\n",
      "\n",
      "avg / total       0.74      0.74      0.74      4898\n",
      "\n",
      "         _______Prediction_______\n",
      "           1_low 2_middle   3_high\n",
      "   1_low    1215      407       18\n",
      "2_middle     308     1715      175\n",
      "  3_high      22      356      682\n",
      "\n",
      "Root Mean squared Error: 0.5357760177541451\n"
     ]
    }
   ],
   "source": [
    "prediction_rfc_white = cross_val_predict(model_rfc, white_data, white_label, cv=cv)\n",
    "\n",
    "print(\"Random Forest:\")\n",
    "evaluation(prediction_rfc_white, white_label)"
   ]
  },
  {
   "cell_type": "code",
   "execution_count": 156,
   "metadata": {},
   "outputs": [
    {
     "name": "stdout",
     "output_type": "stream",
     "text": [
      "{'bootstrap': True,\n",
      " 'class_weight': None,\n",
      " 'criterion': 'gini',\n",
      " 'max_depth': None,\n",
      " 'max_features': 'auto',\n",
      " 'max_leaf_nodes': None,\n",
      " 'min_impurity_decrease': 0.0,\n",
      " 'min_impurity_split': None,\n",
      " 'min_samples_leaf': 1,\n",
      " 'min_samples_split': 2,\n",
      " 'min_weight_fraction_leaf': 0.0,\n",
      " 'n_estimators': 10,\n",
      " 'n_jobs': 1,\n",
      " 'oob_score': False,\n",
      " 'random_state': 42,\n",
      " 'verbose': 0,\n",
      " 'warm_start': False}\n"
     ]
    }
   ],
   "source": [
    "from sklearn.model_selection import RandomizedSearchCV, GridSearchCV\n",
    "from pprint import pprint\n",
    "pprint(rfc.get_params())"
   ]
  },
  {
   "cell_type": "code",
   "execution_count": 157,
   "metadata": {},
   "outputs": [],
   "source": [
    "param_grid = {'n_estimators': [200, 500],\n",
    "               'max_features': ['auto', 'sqrt', \"log2\"],\n",
    "               'max_depth': [4,5,6,7,8,9,10],\n",
    "               \"criterion\": [\"gini\", \"entropy\"]}"
   ]
  },
  {
   "cell_type": "code",
   "execution_count": 200,
   "metadata": {},
   "outputs": [],
   "source": [
    "param_grid = {'n_estimators': [10, 25, 50, 100, 200, 300, 400, 500],\n",
    "               'max_features': [\"auto\", \"sqrt\", \"log2\"]\n",
    "             }"
   ]
  },
  {
   "cell_type": "code",
   "execution_count": 201,
   "metadata": {},
   "outputs": [
    {
     "data": {
      "text/plain": [
       "GridSearchCV(cv=StratifiedKFold(n_splits=10, random_state=42, shuffle=True),\n",
       "       error_score='raise',\n",
       "       estimator=RandomForestClassifier(bootstrap=True, class_weight=None, criterion='gini',\n",
       "            max_depth=None, max_features='auto', max_leaf_nodes=None,\n",
       "            min_impurity_decrease=0.0, min_impurity_split=None,\n",
       "            min_samples_leaf=1, min_samples_split=2,\n",
       "            min_weight_fraction_leaf=0.0, n_estimators=200, n_jobs=1,\n",
       "            oob_score=False, random_state=None, verbose=0,\n",
       "            warm_start=False),\n",
       "       fit_params=None, iid=True, n_jobs=1,\n",
       "       param_grid={'n_estimators': [10, 25, 50, 100, 200, 300, 400, 500], 'max_features': ['auto', 'sqrt', 'log2']},\n",
       "       pre_dispatch='2*n_jobs', refit=True, return_train_score='warn',\n",
       "       scoring=None, verbose=0)"
      ]
     },
     "execution_count": 201,
     "metadata": {},
     "output_type": "execute_result"
    }
   ],
   "source": [
    "grid_crf = GridSearchCV(estimator = model_rfc, param_grid = param_grid, \n",
    "                          cv=cv)\n",
    "grid_crf.fit(red_data, red_label)"
   ]
  },
  {
   "cell_type": "code",
   "execution_count": 202,
   "metadata": {},
   "outputs": [
    {
     "data": {
      "text/plain": [
       "{'max_features': 'sqrt', 'n_estimators': 100}"
      ]
     },
     "execution_count": 202,
     "metadata": {},
     "output_type": "execute_result"
    }
   ],
   "source": [
    "grid_crf.best_params_"
   ]
  },
  {
   "cell_type": "code",
   "execution_count": 208,
   "metadata": {},
   "outputs": [
    {
     "name": "stdout",
     "output_type": "stream",
     "text": [
      "Random Forest:\n",
      "             precision    recall  f1-score   support\n",
      "\n",
      "      1_low       0.78      0.83      0.81       744\n",
      "   2_middle       0.68      0.69      0.69       638\n",
      "     3_high       0.76      0.59      0.66       217\n",
      "\n",
      "avg / total       0.74      0.74      0.74      1599\n",
      "\n",
      "         _______Prediction_______\n",
      "           1_low 2_middle   3_high\n",
      "   1_low     618      122        4\n",
      "2_middle     162      439       37\n",
      "  3_high       8       81      128\n",
      "\n",
      "Root Mean squared Error: 0.5304958917673055\n"
     ]
    }
   ],
   "source": [
    "rfc_grid = RandomForestClassifier(n_estimators=100, max_features=\"sqrt\")\n",
    "\n",
    "prediction_rfc_grid_red = cross_val_predict(model_rfc, red_data, red_label, cv=cv)\n",
    "\n",
    "print(\"Random Forest:\")\n",
    "evaluation(prediction_rfc_grid_red, red_label)"
   ]
  },
  {
   "cell_type": "code",
   "execution_count": null,
   "metadata": {},
   "outputs": [],
   "source": []
  },
  {
   "cell_type": "code",
   "execution_count": null,
   "metadata": {},
   "outputs": [],
   "source": []
  },
  {
   "cell_type": "code",
   "execution_count": null,
   "metadata": {},
   "outputs": [],
   "source": []
  },
  {
   "cell_type": "markdown",
   "metadata": {},
   "source": [
    "# Theory"
   ]
  },
  {
   "cell_type": "markdown",
   "metadata": {},
   "source": [
    "## Naive Bayes Classifier\n",
    "\n",
    "https://www.analyticsvidhya.com/blog/2017/09/naive-bayes-explained/:\n",
    "\n",
    "Pros:\n",
    "\n",
    "- It is easy and fast to predict class of test data set. It also perform well in multi class prediction\n",
    "- When assumption of independence holds, a Naive Bayes classifier performs better compare to other models like logistic regression and you need less training data.\n",
    "- It perform well in case of categorical input variables compared to numerical variable(s). For numerical variable, normal distribution is assumed (bell curve, which is a strong assumption).\n",
    "\n",
    "Cons:\n",
    "\n",
    "- If categorical variable has a category (in test data set), which was not observed in training data set, then model will assign a 0 (zero) probability and will be unable to make a prediction. This is often known as “Zero Frequency”. To solve this, we can use the smoothing technique. One of the simplest smoothing techniques is called Laplace estimation.\n",
    "- On the other side naive Bayes is also known as a bad estimator, so the probability outputs from predict_proba are not to be taken too seriously.\n",
    "- Another limitation of Naive Bayes is the assumption of independent predictors. In real life, it is almost impossible that we get a set of predictors which are completely independent.\n",
    " "
   ]
  },
  {
   "cell_type": "markdown",
   "metadata": {},
   "source": [
    "### Trying to improve the power of Naive Bayes\n",
    "\n",
    "https://www.analyticsvidhya.com/blog/2017/09/naive-bayes-explained/:\n",
    "\n",
    "- If continuous features do not have normal distribution, we should use transformation or different methods to convert it in normal distribution.\n",
    "- If test data set has zero frequency issue, apply smoothing techniques “Laplace Correction” to predict the class of test data set.\n",
    "- Remove correlated features, as the highly correlated features are voted twice in the model and it can lead to over inflating importance.\n",
    "- Naive Bayes classifiers has limited options for parameter tuning like alpha=1 for smoothing, fit_prior=[True|False] to learn class prior probabilities or not and some other options (look at detail here). I would recommend to focus on your  pre-processing of data and the feature selection.\n",
    "- You might think to apply some classifier combination technique like ensembling, bagging and boosting but these methods would not help. Actually, “ensembling, boosting, bagging” won’t help since their purpose is to reduce variance. Naive Bayes has no variance to minimize.\n",
    "\n",
    "Naive Bayes verbessern:\n",
    "- Fisher method\n",
    "- One against many approach bei classess\n",
    "- Tuning\n",
    "- Ensembling, Boosting, bagging, etc."
   ]
  },
  {
   "cell_type": "markdown",
   "metadata": {},
   "source": [
    "## Train/test-split vs. Stratified 10-fold Cross-Validation vs. LOOCV\n",
    "\n",
    "k-fold-CrossValidation\n",
    "-\tImportantly, each observation in the data sample is assigned to an individual group and stays in that group for the duration of the procedure. This means that each sample is given the opportunity to be used in the hold out set 1 time and used to train the model k-1 times.\n",
    "-\tIt is also important that any preparation of the data prior to fitting the model occur on the CV-assigned training dataset within the loop rather than on the broader data set. This also applies to any tuning of hyperparameters. A failure to perform these operations within the loop may result in data leakage and an optimistic estimate of the model skill.\n",
    "\n",
    "Configuration of k\n",
    "- A poorly chosen value for k may result in a mis-representative idea of the skill of the model, such as a score with a high variance (that may change a lot based on the data used to fit the model), or a high bias, (such as an overestimate of the skill of the model).\n",
    "\n",
    "Three common tactics for choosing a value for k are as follows:\n",
    "-\tRepresentative: The value for k is chosen such that each train/test group of data samples is large enough to be statistically representative of the broader dataset.\n",
    "-\tk=10: The value for k is fixed to 10, a value that has been found through experimentation to generally result in a model skill estimate with low bias a modest variance.\n",
    "-\tk=n: The value for k is fixed to n, where n is the size of the dataset to give each test sample an opportunity to be used in the hold out dataset. This approach is called leave-one-out cross-validation.\n",
    "It is preferable to split the data sample into k groups with the same number of samples, such that the sample of model skill scores are all equivalent!\n",
    "\n",
    "Reasons for cross-validation:\n",
    "-\tavoids overfitting\n",
    "-\tall available data is used for training, equal splits because stratified, everyone is represented\n"
   ]
  },
  {
   "cell_type": "markdown",
   "metadata": {},
   "source": []
  },
  {
   "cell_type": "markdown",
   "metadata": {},
   "source": [
    "Further questions?:\n",
    "- Is the classifier better in detecting average, good or bad wines? What could be the reason?\n",
    "- What can this classifier be used for in reality? What benefits does it have?\n",
    "- Comparison to regression techniques?\n",
    "- What follows from our split?"
   ]
  },
  {
   "cell_type": "code",
   "execution_count": null,
   "metadata": {},
   "outputs": [],
   "source": []
  }
 ],
 "metadata": {
  "kernelspec": {
   "display_name": "Python 3",
   "language": "python",
   "name": "python3"
  },
  "language_info": {
   "codemirror_mode": {
    "name": "ipython",
    "version": 3
   },
   "file_extension": ".py",
   "mimetype": "text/x-python",
   "name": "python",
   "nbconvert_exporter": "python",
   "pygments_lexer": "ipython3",
   "version": "3.6.5"
  }
 },
 "nbformat": 4,
 "nbformat_minor": 2
}
