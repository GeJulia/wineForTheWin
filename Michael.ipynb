{
 "cells": [
  {
   "cell_type": "code",
   "execution_count": 1,
   "metadata": {},
   "outputs": [],
   "source": [
    "import pandas as pd\n",
    "import matplotlib.pyplot as plt\n",
    "import numpy as np\n",
    "from scipy.stats.stats import pearsonr\n",
    "from sklearn.cluster import KMeans\n",
    "from sklearn import preprocessing\n",
    "from scipy.cluster.hierarchy import dendrogram, linkage\n",
    "fixed_acidity = 'fixed acidity'\n",
    "volatile_acidity = 'volatile acidity'\n",
    "citric_acid = 'citric acid'\n",
    "residual_sugar = 'residual sugar'\n",
    "chlorides = 'chlorides'\n",
    "free_sulfur_dioxide = 'free sulfur dioxide'\n",
    "total_sulfur_dioxide = 'total sulfur dioxide'\n",
    "density = 'density'\n",
    "pH = 'pH'\n",
    "sulphates = 'sulphates'\n",
    "alcohol = 'alcohol'\n",
    "quality = 'quality'\n",
    "qclass = 'qclass'"
   ]
  },
  {
   "cell_type": "code",
   "execution_count": 2,
   "metadata": {},
   "outputs": [],
   "source": [
    "white = pd.read_csv(\"data/winequality-white1.csv\")\n",
    "red = pd.read_csv(\"data/winequality-red1.csv\")\n",
    "white_quality = white[quality]\n",
    "red_quality = red[quality]\n",
    "white_input = white.drop(quality,axis=1)\n",
    "red_input = red.drop(quality,axis=1)\n",
    "white_norm=(white_input-white_input.min())/(white_input.max()-white_input.min())\n",
    "red_norm=(red_input-red_input.min())/(red_input.max()-red_input.min())"
   ]
  },
  {
   "cell_type": "code",
   "execution_count": 3,
   "metadata": {},
   "outputs": [
    {
     "data": {
      "text/plain": [
       "2_high    2198\n",
       "1_low     1640\n",
       "3_high    1060\n",
       "Name: class, dtype: int64"
      ]
     },
     "execution_count": 3,
     "metadata": {},
     "output_type": "execute_result"
    }
   ],
   "source": [
    "conditions = [(white['quality'] < 6),\n",
    "              (white['quality'] > 6)]\n",
    "choices = ['1_low', '3_high']\n",
    "white['class'] = np.select(conditions, choices, default = '2_high')\n",
    "white_norm['class']=white['class']\n",
    "white['class'].value_counts()"
   ]
  },
  {
   "cell_type": "code",
   "execution_count": 4,
   "metadata": {},
   "outputs": [
    {
     "data": {
      "text/plain": [
       "1_low     744\n",
       "2_high    638\n",
       "3_high    217\n",
       "Name: class, dtype: int64"
      ]
     },
     "execution_count": 4,
     "metadata": {},
     "output_type": "execute_result"
    }
   ],
   "source": [
    "conditions = [(red['quality'] < 6),\n",
    "              (red['quality'] > 6)]\n",
    "choices = ['1_low', '3_high']\n",
    "red['class'] = np.select(conditions, choices, default = '2_high')\n",
    "red_norm['class']=red['class']\n",
    "red['class'].value_counts()"
   ]
  },
  {
   "cell_type": "markdown",
   "metadata": {},
   "source": [
    "Normalisierter Datensatz zwischen 0 und 1 unter white_norm/red_norm"
   ]
  },
  {
   "cell_type": "code",
   "execution_count": 5,
   "metadata": {},
   "outputs": [
    {
     "data": {
      "text/html": [
       "<style  type=\"text/css\" >\n",
       "</style>  \n",
       "<table id=\"T_272dfa98_ecf6_11e8_a15f_5ce0c5fe058c\" > \n",
       "<thead>    <tr> \n",
       "        <th class=\"blank level0\" ></th> \n",
       "        <th class=\"col_heading level0 col0\" >fixed acidity</th> \n",
       "        <th class=\"col_heading level0 col1\" >volatile acidity</th> \n",
       "        <th class=\"col_heading level0 col2\" >citric acid</th> \n",
       "        <th class=\"col_heading level0 col3\" >residual sugar</th> \n",
       "        <th class=\"col_heading level0 col4\" >chlorides</th> \n",
       "        <th class=\"col_heading level0 col5\" >free sulfur dioxide</th> \n",
       "        <th class=\"col_heading level0 col6\" >total sulfur dioxide</th> \n",
       "        <th class=\"col_heading level0 col7\" >density</th> \n",
       "        <th class=\"col_heading level0 col8\" >pH</th> \n",
       "        <th class=\"col_heading level0 col9\" >sulphates</th> \n",
       "        <th class=\"col_heading level0 col10\" >alcohol</th> \n",
       "    </tr></thead> \n",
       "<tbody>    <tr> \n",
       "        <th id=\"T_272dfa98_ecf6_11e8_a15f_5ce0c5fe058clevel0_row0\" class=\"row_heading level0 row0\" >count</th> \n",
       "        <td id=\"T_272dfa98_ecf6_11e8_a15f_5ce0c5fe058crow0_col0\" class=\"data row0 col0\" >4898</td> \n",
       "        <td id=\"T_272dfa98_ecf6_11e8_a15f_5ce0c5fe058crow0_col1\" class=\"data row0 col1\" >4898</td> \n",
       "        <td id=\"T_272dfa98_ecf6_11e8_a15f_5ce0c5fe058crow0_col2\" class=\"data row0 col2\" >4898</td> \n",
       "        <td id=\"T_272dfa98_ecf6_11e8_a15f_5ce0c5fe058crow0_col3\" class=\"data row0 col3\" >4898</td> \n",
       "        <td id=\"T_272dfa98_ecf6_11e8_a15f_5ce0c5fe058crow0_col4\" class=\"data row0 col4\" >4898</td> \n",
       "        <td id=\"T_272dfa98_ecf6_11e8_a15f_5ce0c5fe058crow0_col5\" class=\"data row0 col5\" >4898</td> \n",
       "        <td id=\"T_272dfa98_ecf6_11e8_a15f_5ce0c5fe058crow0_col6\" class=\"data row0 col6\" >4898</td> \n",
       "        <td id=\"T_272dfa98_ecf6_11e8_a15f_5ce0c5fe058crow0_col7\" class=\"data row0 col7\" >4898</td> \n",
       "        <td id=\"T_272dfa98_ecf6_11e8_a15f_5ce0c5fe058crow0_col8\" class=\"data row0 col8\" >4898</td> \n",
       "        <td id=\"T_272dfa98_ecf6_11e8_a15f_5ce0c5fe058crow0_col9\" class=\"data row0 col9\" >4898</td> \n",
       "        <td id=\"T_272dfa98_ecf6_11e8_a15f_5ce0c5fe058crow0_col10\" class=\"data row0 col10\" >4898</td> \n",
       "    </tr>    <tr> \n",
       "        <th id=\"T_272dfa98_ecf6_11e8_a15f_5ce0c5fe058clevel0_row1\" class=\"row_heading level0 row1\" >mean</th> \n",
       "        <td id=\"T_272dfa98_ecf6_11e8_a15f_5ce0c5fe058crow1_col0\" class=\"data row1 col0\" >0.2937</td> \n",
       "        <td id=\"T_272dfa98_ecf6_11e8_a15f_5ce0c5fe058crow1_col1\" class=\"data row1 col1\" >0.1944</td> \n",
       "        <td id=\"T_272dfa98_ecf6_11e8_a15f_5ce0c5fe058crow1_col2\" class=\"data row1 col2\" >0.2013</td> \n",
       "        <td id=\"T_272dfa98_ecf6_11e8_a15f_5ce0c5fe058crow1_col3\" class=\"data row1 col3\" >0.08883</td> \n",
       "        <td id=\"T_272dfa98_ecf6_11e8_a15f_5ce0c5fe058crow1_col4\" class=\"data row1 col4\" >0.1091</td> \n",
       "        <td id=\"T_272dfa98_ecf6_11e8_a15f_5ce0c5fe058crow1_col5\" class=\"data row1 col5\" >0.1161</td> \n",
       "        <td id=\"T_272dfa98_ecf6_11e8_a15f_5ce0c5fe058crow1_col6\" class=\"data row1 col6\" >0.3001</td> \n",
       "        <td id=\"T_272dfa98_ecf6_11e8_a15f_5ce0c5fe058crow1_col7\" class=\"data row1 col7\" >0.1334</td> \n",
       "        <td id=\"T_272dfa98_ecf6_11e8_a15f_5ce0c5fe058crow1_col8\" class=\"data row1 col8\" >0.4257</td> \n",
       "        <td id=\"T_272dfa98_ecf6_11e8_a15f_5ce0c5fe058crow1_col9\" class=\"data row1 col9\" >0.3138</td> \n",
       "        <td id=\"T_272dfa98_ecf6_11e8_a15f_5ce0c5fe058crow1_col10\" class=\"data row1 col10\" >0.4055</td> \n",
       "    </tr>    <tr> \n",
       "        <th id=\"T_272dfa98_ecf6_11e8_a15f_5ce0c5fe058clevel0_row2\" class=\"row_heading level0 row2\" >std</th> \n",
       "        <td id=\"T_272dfa98_ecf6_11e8_a15f_5ce0c5fe058crow2_col0\" class=\"data row2 col0\" >0.08114</td> \n",
       "        <td id=\"T_272dfa98_ecf6_11e8_a15f_5ce0c5fe058crow2_col1\" class=\"data row2 col1\" >0.09882</td> \n",
       "        <td id=\"T_272dfa98_ecf6_11e8_a15f_5ce0c5fe058crow2_col2\" class=\"data row2 col2\" >0.0729</td> \n",
       "        <td id=\"T_272dfa98_ecf6_11e8_a15f_5ce0c5fe058crow2_col3\" class=\"data row2 col3\" >0.07779</td> \n",
       "        <td id=\"T_272dfa98_ecf6_11e8_a15f_5ce0c5fe058crow2_col4\" class=\"data row2 col4\" >0.06483</td> \n",
       "        <td id=\"T_272dfa98_ecf6_11e8_a15f_5ce0c5fe058crow2_col5\" class=\"data row2 col5\" >0.05926</td> \n",
       "        <td id=\"T_272dfa98_ecf6_11e8_a15f_5ce0c5fe058crow2_col6\" class=\"data row2 col6\" >0.0986</td> \n",
       "        <td id=\"T_272dfa98_ecf6_11e8_a15f_5ce0c5fe058crow2_col7\" class=\"data row2 col7\" >0.05766</td> \n",
       "        <td id=\"T_272dfa98_ecf6_11e8_a15f_5ce0c5fe058crow2_col8\" class=\"data row2 col8\" >0.1373</td> \n",
       "        <td id=\"T_272dfa98_ecf6_11e8_a15f_5ce0c5fe058crow2_col9\" class=\"data row2 col9\" >0.1327</td> \n",
       "        <td id=\"T_272dfa98_ecf6_11e8_a15f_5ce0c5fe058crow2_col10\" class=\"data row2 col10\" >0.1985</td> \n",
       "    </tr>    <tr> \n",
       "        <th id=\"T_272dfa98_ecf6_11e8_a15f_5ce0c5fe058clevel0_row3\" class=\"row_heading level0 row3\" >min</th> \n",
       "        <td id=\"T_272dfa98_ecf6_11e8_a15f_5ce0c5fe058crow3_col0\" class=\"data row3 col0\" >0</td> \n",
       "        <td id=\"T_272dfa98_ecf6_11e8_a15f_5ce0c5fe058crow3_col1\" class=\"data row3 col1\" >0</td> \n",
       "        <td id=\"T_272dfa98_ecf6_11e8_a15f_5ce0c5fe058crow3_col2\" class=\"data row3 col2\" >0</td> \n",
       "        <td id=\"T_272dfa98_ecf6_11e8_a15f_5ce0c5fe058crow3_col3\" class=\"data row3 col3\" >0</td> \n",
       "        <td id=\"T_272dfa98_ecf6_11e8_a15f_5ce0c5fe058crow3_col4\" class=\"data row3 col4\" >0</td> \n",
       "        <td id=\"T_272dfa98_ecf6_11e8_a15f_5ce0c5fe058crow3_col5\" class=\"data row3 col5\" >0</td> \n",
       "        <td id=\"T_272dfa98_ecf6_11e8_a15f_5ce0c5fe058crow3_col6\" class=\"data row3 col6\" >0</td> \n",
       "        <td id=\"T_272dfa98_ecf6_11e8_a15f_5ce0c5fe058crow3_col7\" class=\"data row3 col7\" >0</td> \n",
       "        <td id=\"T_272dfa98_ecf6_11e8_a15f_5ce0c5fe058crow3_col8\" class=\"data row3 col8\" >0</td> \n",
       "        <td id=\"T_272dfa98_ecf6_11e8_a15f_5ce0c5fe058crow3_col9\" class=\"data row3 col9\" >0</td> \n",
       "        <td id=\"T_272dfa98_ecf6_11e8_a15f_5ce0c5fe058crow3_col10\" class=\"data row3 col10\" >0</td> \n",
       "    </tr>    <tr> \n",
       "        <th id=\"T_272dfa98_ecf6_11e8_a15f_5ce0c5fe058clevel0_row4\" class=\"row_heading level0 row4\" >25%</th> \n",
       "        <td id=\"T_272dfa98_ecf6_11e8_a15f_5ce0c5fe058crow4_col0\" class=\"data row4 col0\" >0.2404</td> \n",
       "        <td id=\"T_272dfa98_ecf6_11e8_a15f_5ce0c5fe058crow4_col1\" class=\"data row4 col1\" >0.1275</td> \n",
       "        <td id=\"T_272dfa98_ecf6_11e8_a15f_5ce0c5fe058crow4_col2\" class=\"data row4 col2\" >0.1627</td> \n",
       "        <td id=\"T_272dfa98_ecf6_11e8_a15f_5ce0c5fe058crow4_col3\" class=\"data row4 col3\" >0.01687</td> \n",
       "        <td id=\"T_272dfa98_ecf6_11e8_a15f_5ce0c5fe058crow4_col4\" class=\"data row4 col4\" >0.08012</td> \n",
       "        <td id=\"T_272dfa98_ecf6_11e8_a15f_5ce0c5fe058crow4_col5\" class=\"data row4 col5\" >0.07317</td> \n",
       "        <td id=\"T_272dfa98_ecf6_11e8_a15f_5ce0c5fe058crow4_col6\" class=\"data row4 col6\" >0.2297</td> \n",
       "        <td id=\"T_272dfa98_ecf6_11e8_a15f_5ce0c5fe058crow4_col7\" class=\"data row4 col7\" >0.08892</td> \n",
       "        <td id=\"T_272dfa98_ecf6_11e8_a15f_5ce0c5fe058crow4_col8\" class=\"data row4 col8\" >0.3364</td> \n",
       "        <td id=\"T_272dfa98_ecf6_11e8_a15f_5ce0c5fe058crow4_col9\" class=\"data row4 col9\" >0.2209</td> \n",
       "        <td id=\"T_272dfa98_ecf6_11e8_a15f_5ce0c5fe058crow4_col10\" class=\"data row4 col10\" >0.2419</td> \n",
       "    </tr>    <tr> \n",
       "        <th id=\"T_272dfa98_ecf6_11e8_a15f_5ce0c5fe058clevel0_row5\" class=\"row_heading level0 row5\" >50%</th> \n",
       "        <td id=\"T_272dfa98_ecf6_11e8_a15f_5ce0c5fe058crow5_col0\" class=\"data row5 col0\" >0.2885</td> \n",
       "        <td id=\"T_272dfa98_ecf6_11e8_a15f_5ce0c5fe058crow5_col1\" class=\"data row5 col1\" >0.1765</td> \n",
       "        <td id=\"T_272dfa98_ecf6_11e8_a15f_5ce0c5fe058crow5_col2\" class=\"data row5 col2\" >0.1928</td> \n",
       "        <td id=\"T_272dfa98_ecf6_11e8_a15f_5ce0c5fe058crow5_col3\" class=\"data row5 col3\" >0.07055</td> \n",
       "        <td id=\"T_272dfa98_ecf6_11e8_a15f_5ce0c5fe058crow5_col4\" class=\"data row5 col4\" >0.1009</td> \n",
       "        <td id=\"T_272dfa98_ecf6_11e8_a15f_5ce0c5fe058crow5_col5\" class=\"data row5 col5\" >0.1115</td> \n",
       "        <td id=\"T_272dfa98_ecf6_11e8_a15f_5ce0c5fe058crow5_col6\" class=\"data row5 col6\" >0.29</td> \n",
       "        <td id=\"T_272dfa98_ecf6_11e8_a15f_5ce0c5fe058crow5_col7\" class=\"data row5 col7\" >0.1278</td> \n",
       "        <td id=\"T_272dfa98_ecf6_11e8_a15f_5ce0c5fe058crow5_col8\" class=\"data row5 col8\" >0.4182</td> \n",
       "        <td id=\"T_272dfa98_ecf6_11e8_a15f_5ce0c5fe058crow5_col9\" class=\"data row5 col9\" >0.2907</td> \n",
       "        <td id=\"T_272dfa98_ecf6_11e8_a15f_5ce0c5fe058crow5_col10\" class=\"data row5 col10\" >0.3871</td> \n",
       "    </tr>    <tr> \n",
       "        <th id=\"T_272dfa98_ecf6_11e8_a15f_5ce0c5fe058clevel0_row6\" class=\"row_heading level0 row6\" >75%</th> \n",
       "        <td id=\"T_272dfa98_ecf6_11e8_a15f_5ce0c5fe058crow6_col0\" class=\"data row6 col0\" >0.3365</td> \n",
       "        <td id=\"T_272dfa98_ecf6_11e8_a15f_5ce0c5fe058crow6_col1\" class=\"data row6 col1\" >0.2353</td> \n",
       "        <td id=\"T_272dfa98_ecf6_11e8_a15f_5ce0c5fe058crow6_col2\" class=\"data row6 col2\" >0.2349</td> \n",
       "        <td id=\"T_272dfa98_ecf6_11e8_a15f_5ce0c5fe058crow6_col3\" class=\"data row6 col3\" >0.1426</td> \n",
       "        <td id=\"T_272dfa98_ecf6_11e8_a15f_5ce0c5fe058crow6_col4\" class=\"data row6 col4\" >0.1217</td> \n",
       "        <td id=\"T_272dfa98_ecf6_11e8_a15f_5ce0c5fe058crow6_col5\" class=\"data row6 col5\" >0.1533</td> \n",
       "        <td id=\"T_272dfa98_ecf6_11e8_a15f_5ce0c5fe058crow6_col6\" class=\"data row6 col6\" >0.3666</td> \n",
       "        <td id=\"T_272dfa98_ecf6_11e8_a15f_5ce0c5fe058crow6_col7\" class=\"data row6 col7\" >0.1733</td> \n",
       "        <td id=\"T_272dfa98_ecf6_11e8_a15f_5ce0c5fe058crow6_col8\" class=\"data row6 col8\" >0.5091</td> \n",
       "        <td id=\"T_272dfa98_ecf6_11e8_a15f_5ce0c5fe058crow6_col9\" class=\"data row6 col9\" >0.3837</td> \n",
       "        <td id=\"T_272dfa98_ecf6_11e8_a15f_5ce0c5fe058crow6_col10\" class=\"data row6 col10\" >0.5484</td> \n",
       "    </tr>    <tr> \n",
       "        <th id=\"T_272dfa98_ecf6_11e8_a15f_5ce0c5fe058clevel0_row7\" class=\"row_heading level0 row7\" >max</th> \n",
       "        <td id=\"T_272dfa98_ecf6_11e8_a15f_5ce0c5fe058crow7_col0\" class=\"data row7 col0\" >1</td> \n",
       "        <td id=\"T_272dfa98_ecf6_11e8_a15f_5ce0c5fe058crow7_col1\" class=\"data row7 col1\" >1</td> \n",
       "        <td id=\"T_272dfa98_ecf6_11e8_a15f_5ce0c5fe058crow7_col2\" class=\"data row7 col2\" >1</td> \n",
       "        <td id=\"T_272dfa98_ecf6_11e8_a15f_5ce0c5fe058crow7_col3\" class=\"data row7 col3\" >1</td> \n",
       "        <td id=\"T_272dfa98_ecf6_11e8_a15f_5ce0c5fe058crow7_col4\" class=\"data row7 col4\" >1</td> \n",
       "        <td id=\"T_272dfa98_ecf6_11e8_a15f_5ce0c5fe058crow7_col5\" class=\"data row7 col5\" >1</td> \n",
       "        <td id=\"T_272dfa98_ecf6_11e8_a15f_5ce0c5fe058crow7_col6\" class=\"data row7 col6\" >1</td> \n",
       "        <td id=\"T_272dfa98_ecf6_11e8_a15f_5ce0c5fe058crow7_col7\" class=\"data row7 col7\" >1</td> \n",
       "        <td id=\"T_272dfa98_ecf6_11e8_a15f_5ce0c5fe058crow7_col8\" class=\"data row7 col8\" >1</td> \n",
       "        <td id=\"T_272dfa98_ecf6_11e8_a15f_5ce0c5fe058crow7_col9\" class=\"data row7 col9\" >1</td> \n",
       "        <td id=\"T_272dfa98_ecf6_11e8_a15f_5ce0c5fe058crow7_col10\" class=\"data row7 col10\" >1</td> \n",
       "    </tr></tbody> \n",
       "</table> "
      ],
      "text/plain": [
       "<pandas.io.formats.style.Styler at 0x27a0c4f9f28>"
      ]
     },
     "execution_count": 5,
     "metadata": {},
     "output_type": "execute_result"
    }
   ],
   "source": [
    "white_norm.describe().style.set_precision(4)"
   ]
  },
  {
   "cell_type": "code",
   "execution_count": 6,
   "metadata": {},
   "outputs": [
    {
     "data": {
      "text/html": [
       "<style  type=\"text/css\" >\n",
       "</style>  \n",
       "<table id=\"T_2914309e_ecf6_11e8_bbad_5ce0c5fe058c\" > \n",
       "<thead>    <tr> \n",
       "        <th class=\"blank level0\" ></th> \n",
       "        <th class=\"col_heading level0 col0\" >fixed acidity</th> \n",
       "        <th class=\"col_heading level0 col1\" >volatile acidity</th> \n",
       "        <th class=\"col_heading level0 col2\" >citric acid</th> \n",
       "        <th class=\"col_heading level0 col3\" >residual sugar</th> \n",
       "        <th class=\"col_heading level0 col4\" >chlorides</th> \n",
       "        <th class=\"col_heading level0 col5\" >free sulfur dioxide</th> \n",
       "        <th class=\"col_heading level0 col6\" >total sulfur dioxide</th> \n",
       "        <th class=\"col_heading level0 col7\" >density</th> \n",
       "        <th class=\"col_heading level0 col8\" >pH</th> \n",
       "        <th class=\"col_heading level0 col9\" >sulphates</th> \n",
       "        <th class=\"col_heading level0 col10\" >alcohol</th> \n",
       "        <th class=\"col_heading level0 col11\" >quality</th> \n",
       "    </tr></thead> \n",
       "<tbody>    <tr> \n",
       "        <th id=\"T_2914309e_ecf6_11e8_bbad_5ce0c5fe058clevel0_row0\" class=\"row_heading level0 row0\" >count</th> \n",
       "        <td id=\"T_2914309e_ecf6_11e8_bbad_5ce0c5fe058crow0_col0\" class=\"data row0 col0\" >4898</td> \n",
       "        <td id=\"T_2914309e_ecf6_11e8_bbad_5ce0c5fe058crow0_col1\" class=\"data row0 col1\" >4898</td> \n",
       "        <td id=\"T_2914309e_ecf6_11e8_bbad_5ce0c5fe058crow0_col2\" class=\"data row0 col2\" >4898</td> \n",
       "        <td id=\"T_2914309e_ecf6_11e8_bbad_5ce0c5fe058crow0_col3\" class=\"data row0 col3\" >4898</td> \n",
       "        <td id=\"T_2914309e_ecf6_11e8_bbad_5ce0c5fe058crow0_col4\" class=\"data row0 col4\" >4898</td> \n",
       "        <td id=\"T_2914309e_ecf6_11e8_bbad_5ce0c5fe058crow0_col5\" class=\"data row0 col5\" >4898</td> \n",
       "        <td id=\"T_2914309e_ecf6_11e8_bbad_5ce0c5fe058crow0_col6\" class=\"data row0 col6\" >4898</td> \n",
       "        <td id=\"T_2914309e_ecf6_11e8_bbad_5ce0c5fe058crow0_col7\" class=\"data row0 col7\" >4898</td> \n",
       "        <td id=\"T_2914309e_ecf6_11e8_bbad_5ce0c5fe058crow0_col8\" class=\"data row0 col8\" >4898</td> \n",
       "        <td id=\"T_2914309e_ecf6_11e8_bbad_5ce0c5fe058crow0_col9\" class=\"data row0 col9\" >4898</td> \n",
       "        <td id=\"T_2914309e_ecf6_11e8_bbad_5ce0c5fe058crow0_col10\" class=\"data row0 col10\" >4898</td> \n",
       "        <td id=\"T_2914309e_ecf6_11e8_bbad_5ce0c5fe058crow0_col11\" class=\"data row0 col11\" >4898</td> \n",
       "    </tr>    <tr> \n",
       "        <th id=\"T_2914309e_ecf6_11e8_bbad_5ce0c5fe058clevel0_row1\" class=\"row_heading level0 row1\" >mean</th> \n",
       "        <td id=\"T_2914309e_ecf6_11e8_bbad_5ce0c5fe058crow1_col0\" class=\"data row1 col0\" >6.855</td> \n",
       "        <td id=\"T_2914309e_ecf6_11e8_bbad_5ce0c5fe058crow1_col1\" class=\"data row1 col1\" >0.2782</td> \n",
       "        <td id=\"T_2914309e_ecf6_11e8_bbad_5ce0c5fe058crow1_col2\" class=\"data row1 col2\" >0.3342</td> \n",
       "        <td id=\"T_2914309e_ecf6_11e8_bbad_5ce0c5fe058crow1_col3\" class=\"data row1 col3\" >6.391</td> \n",
       "        <td id=\"T_2914309e_ecf6_11e8_bbad_5ce0c5fe058crow1_col4\" class=\"data row1 col4\" >0.04577</td> \n",
       "        <td id=\"T_2914309e_ecf6_11e8_bbad_5ce0c5fe058crow1_col5\" class=\"data row1 col5\" >35.31</td> \n",
       "        <td id=\"T_2914309e_ecf6_11e8_bbad_5ce0c5fe058crow1_col6\" class=\"data row1 col6\" >138.4</td> \n",
       "        <td id=\"T_2914309e_ecf6_11e8_bbad_5ce0c5fe058crow1_col7\" class=\"data row1 col7\" >0.994</td> \n",
       "        <td id=\"T_2914309e_ecf6_11e8_bbad_5ce0c5fe058crow1_col8\" class=\"data row1 col8\" >3.188</td> \n",
       "        <td id=\"T_2914309e_ecf6_11e8_bbad_5ce0c5fe058crow1_col9\" class=\"data row1 col9\" >0.4898</td> \n",
       "        <td id=\"T_2914309e_ecf6_11e8_bbad_5ce0c5fe058crow1_col10\" class=\"data row1 col10\" >10.51</td> \n",
       "        <td id=\"T_2914309e_ecf6_11e8_bbad_5ce0c5fe058crow1_col11\" class=\"data row1 col11\" >5.878</td> \n",
       "    </tr>    <tr> \n",
       "        <th id=\"T_2914309e_ecf6_11e8_bbad_5ce0c5fe058clevel0_row2\" class=\"row_heading level0 row2\" >std</th> \n",
       "        <td id=\"T_2914309e_ecf6_11e8_bbad_5ce0c5fe058crow2_col0\" class=\"data row2 col0\" >0.8439</td> \n",
       "        <td id=\"T_2914309e_ecf6_11e8_bbad_5ce0c5fe058crow2_col1\" class=\"data row2 col1\" >0.1008</td> \n",
       "        <td id=\"T_2914309e_ecf6_11e8_bbad_5ce0c5fe058crow2_col2\" class=\"data row2 col2\" >0.121</td> \n",
       "        <td id=\"T_2914309e_ecf6_11e8_bbad_5ce0c5fe058crow2_col3\" class=\"data row2 col3\" >5.072</td> \n",
       "        <td id=\"T_2914309e_ecf6_11e8_bbad_5ce0c5fe058crow2_col4\" class=\"data row2 col4\" >0.02185</td> \n",
       "        <td id=\"T_2914309e_ecf6_11e8_bbad_5ce0c5fe058crow2_col5\" class=\"data row2 col5\" >17.01</td> \n",
       "        <td id=\"T_2914309e_ecf6_11e8_bbad_5ce0c5fe058crow2_col6\" class=\"data row2 col6\" >42.5</td> \n",
       "        <td id=\"T_2914309e_ecf6_11e8_bbad_5ce0c5fe058crow2_col7\" class=\"data row2 col7\" >0.002991</td> \n",
       "        <td id=\"T_2914309e_ecf6_11e8_bbad_5ce0c5fe058crow2_col8\" class=\"data row2 col8\" >0.151</td> \n",
       "        <td id=\"T_2914309e_ecf6_11e8_bbad_5ce0c5fe058crow2_col9\" class=\"data row2 col9\" >0.1141</td> \n",
       "        <td id=\"T_2914309e_ecf6_11e8_bbad_5ce0c5fe058crow2_col10\" class=\"data row2 col10\" >1.231</td> \n",
       "        <td id=\"T_2914309e_ecf6_11e8_bbad_5ce0c5fe058crow2_col11\" class=\"data row2 col11\" >0.8856</td> \n",
       "    </tr>    <tr> \n",
       "        <th id=\"T_2914309e_ecf6_11e8_bbad_5ce0c5fe058clevel0_row3\" class=\"row_heading level0 row3\" >min</th> \n",
       "        <td id=\"T_2914309e_ecf6_11e8_bbad_5ce0c5fe058crow3_col0\" class=\"data row3 col0\" >3.8</td> \n",
       "        <td id=\"T_2914309e_ecf6_11e8_bbad_5ce0c5fe058crow3_col1\" class=\"data row3 col1\" >0.08</td> \n",
       "        <td id=\"T_2914309e_ecf6_11e8_bbad_5ce0c5fe058crow3_col2\" class=\"data row3 col2\" >0</td> \n",
       "        <td id=\"T_2914309e_ecf6_11e8_bbad_5ce0c5fe058crow3_col3\" class=\"data row3 col3\" >0.6</td> \n",
       "        <td id=\"T_2914309e_ecf6_11e8_bbad_5ce0c5fe058crow3_col4\" class=\"data row3 col4\" >0.009</td> \n",
       "        <td id=\"T_2914309e_ecf6_11e8_bbad_5ce0c5fe058crow3_col5\" class=\"data row3 col5\" >2</td> \n",
       "        <td id=\"T_2914309e_ecf6_11e8_bbad_5ce0c5fe058crow3_col6\" class=\"data row3 col6\" >9</td> \n",
       "        <td id=\"T_2914309e_ecf6_11e8_bbad_5ce0c5fe058crow3_col7\" class=\"data row3 col7\" >0.9871</td> \n",
       "        <td id=\"T_2914309e_ecf6_11e8_bbad_5ce0c5fe058crow3_col8\" class=\"data row3 col8\" >2.72</td> \n",
       "        <td id=\"T_2914309e_ecf6_11e8_bbad_5ce0c5fe058crow3_col9\" class=\"data row3 col9\" >0.22</td> \n",
       "        <td id=\"T_2914309e_ecf6_11e8_bbad_5ce0c5fe058crow3_col10\" class=\"data row3 col10\" >8</td> \n",
       "        <td id=\"T_2914309e_ecf6_11e8_bbad_5ce0c5fe058crow3_col11\" class=\"data row3 col11\" >3</td> \n",
       "    </tr>    <tr> \n",
       "        <th id=\"T_2914309e_ecf6_11e8_bbad_5ce0c5fe058clevel0_row4\" class=\"row_heading level0 row4\" >25%</th> \n",
       "        <td id=\"T_2914309e_ecf6_11e8_bbad_5ce0c5fe058crow4_col0\" class=\"data row4 col0\" >6.3</td> \n",
       "        <td id=\"T_2914309e_ecf6_11e8_bbad_5ce0c5fe058crow4_col1\" class=\"data row4 col1\" >0.21</td> \n",
       "        <td id=\"T_2914309e_ecf6_11e8_bbad_5ce0c5fe058crow4_col2\" class=\"data row4 col2\" >0.27</td> \n",
       "        <td id=\"T_2914309e_ecf6_11e8_bbad_5ce0c5fe058crow4_col3\" class=\"data row4 col3\" >1.7</td> \n",
       "        <td id=\"T_2914309e_ecf6_11e8_bbad_5ce0c5fe058crow4_col4\" class=\"data row4 col4\" >0.036</td> \n",
       "        <td id=\"T_2914309e_ecf6_11e8_bbad_5ce0c5fe058crow4_col5\" class=\"data row4 col5\" >23</td> \n",
       "        <td id=\"T_2914309e_ecf6_11e8_bbad_5ce0c5fe058crow4_col6\" class=\"data row4 col6\" >108</td> \n",
       "        <td id=\"T_2914309e_ecf6_11e8_bbad_5ce0c5fe058crow4_col7\" class=\"data row4 col7\" >0.9917</td> \n",
       "        <td id=\"T_2914309e_ecf6_11e8_bbad_5ce0c5fe058crow4_col8\" class=\"data row4 col8\" >3.09</td> \n",
       "        <td id=\"T_2914309e_ecf6_11e8_bbad_5ce0c5fe058crow4_col9\" class=\"data row4 col9\" >0.41</td> \n",
       "        <td id=\"T_2914309e_ecf6_11e8_bbad_5ce0c5fe058crow4_col10\" class=\"data row4 col10\" >9.5</td> \n",
       "        <td id=\"T_2914309e_ecf6_11e8_bbad_5ce0c5fe058crow4_col11\" class=\"data row4 col11\" >5</td> \n",
       "    </tr>    <tr> \n",
       "        <th id=\"T_2914309e_ecf6_11e8_bbad_5ce0c5fe058clevel0_row5\" class=\"row_heading level0 row5\" >50%</th> \n",
       "        <td id=\"T_2914309e_ecf6_11e8_bbad_5ce0c5fe058crow5_col0\" class=\"data row5 col0\" >6.8</td> \n",
       "        <td id=\"T_2914309e_ecf6_11e8_bbad_5ce0c5fe058crow5_col1\" class=\"data row5 col1\" >0.26</td> \n",
       "        <td id=\"T_2914309e_ecf6_11e8_bbad_5ce0c5fe058crow5_col2\" class=\"data row5 col2\" >0.32</td> \n",
       "        <td id=\"T_2914309e_ecf6_11e8_bbad_5ce0c5fe058crow5_col3\" class=\"data row5 col3\" >5.2</td> \n",
       "        <td id=\"T_2914309e_ecf6_11e8_bbad_5ce0c5fe058crow5_col4\" class=\"data row5 col4\" >0.043</td> \n",
       "        <td id=\"T_2914309e_ecf6_11e8_bbad_5ce0c5fe058crow5_col5\" class=\"data row5 col5\" >34</td> \n",
       "        <td id=\"T_2914309e_ecf6_11e8_bbad_5ce0c5fe058crow5_col6\" class=\"data row5 col6\" >134</td> \n",
       "        <td id=\"T_2914309e_ecf6_11e8_bbad_5ce0c5fe058crow5_col7\" class=\"data row5 col7\" >0.9937</td> \n",
       "        <td id=\"T_2914309e_ecf6_11e8_bbad_5ce0c5fe058crow5_col8\" class=\"data row5 col8\" >3.18</td> \n",
       "        <td id=\"T_2914309e_ecf6_11e8_bbad_5ce0c5fe058crow5_col9\" class=\"data row5 col9\" >0.47</td> \n",
       "        <td id=\"T_2914309e_ecf6_11e8_bbad_5ce0c5fe058crow5_col10\" class=\"data row5 col10\" >10.4</td> \n",
       "        <td id=\"T_2914309e_ecf6_11e8_bbad_5ce0c5fe058crow5_col11\" class=\"data row5 col11\" >6</td> \n",
       "    </tr>    <tr> \n",
       "        <th id=\"T_2914309e_ecf6_11e8_bbad_5ce0c5fe058clevel0_row6\" class=\"row_heading level0 row6\" >75%</th> \n",
       "        <td id=\"T_2914309e_ecf6_11e8_bbad_5ce0c5fe058crow6_col0\" class=\"data row6 col0\" >7.3</td> \n",
       "        <td id=\"T_2914309e_ecf6_11e8_bbad_5ce0c5fe058crow6_col1\" class=\"data row6 col1\" >0.32</td> \n",
       "        <td id=\"T_2914309e_ecf6_11e8_bbad_5ce0c5fe058crow6_col2\" class=\"data row6 col2\" >0.39</td> \n",
       "        <td id=\"T_2914309e_ecf6_11e8_bbad_5ce0c5fe058crow6_col3\" class=\"data row6 col3\" >9.9</td> \n",
       "        <td id=\"T_2914309e_ecf6_11e8_bbad_5ce0c5fe058crow6_col4\" class=\"data row6 col4\" >0.05</td> \n",
       "        <td id=\"T_2914309e_ecf6_11e8_bbad_5ce0c5fe058crow6_col5\" class=\"data row6 col5\" >46</td> \n",
       "        <td id=\"T_2914309e_ecf6_11e8_bbad_5ce0c5fe058crow6_col6\" class=\"data row6 col6\" >167</td> \n",
       "        <td id=\"T_2914309e_ecf6_11e8_bbad_5ce0c5fe058crow6_col7\" class=\"data row6 col7\" >0.9961</td> \n",
       "        <td id=\"T_2914309e_ecf6_11e8_bbad_5ce0c5fe058crow6_col8\" class=\"data row6 col8\" >3.28</td> \n",
       "        <td id=\"T_2914309e_ecf6_11e8_bbad_5ce0c5fe058crow6_col9\" class=\"data row6 col9\" >0.55</td> \n",
       "        <td id=\"T_2914309e_ecf6_11e8_bbad_5ce0c5fe058crow6_col10\" class=\"data row6 col10\" >11.4</td> \n",
       "        <td id=\"T_2914309e_ecf6_11e8_bbad_5ce0c5fe058crow6_col11\" class=\"data row6 col11\" >6</td> \n",
       "    </tr>    <tr> \n",
       "        <th id=\"T_2914309e_ecf6_11e8_bbad_5ce0c5fe058clevel0_row7\" class=\"row_heading level0 row7\" >max</th> \n",
       "        <td id=\"T_2914309e_ecf6_11e8_bbad_5ce0c5fe058crow7_col0\" class=\"data row7 col0\" >14.2</td> \n",
       "        <td id=\"T_2914309e_ecf6_11e8_bbad_5ce0c5fe058crow7_col1\" class=\"data row7 col1\" >1.1</td> \n",
       "        <td id=\"T_2914309e_ecf6_11e8_bbad_5ce0c5fe058crow7_col2\" class=\"data row7 col2\" >1.66</td> \n",
       "        <td id=\"T_2914309e_ecf6_11e8_bbad_5ce0c5fe058crow7_col3\" class=\"data row7 col3\" >65.8</td> \n",
       "        <td id=\"T_2914309e_ecf6_11e8_bbad_5ce0c5fe058crow7_col4\" class=\"data row7 col4\" >0.346</td> \n",
       "        <td id=\"T_2914309e_ecf6_11e8_bbad_5ce0c5fe058crow7_col5\" class=\"data row7 col5\" >289</td> \n",
       "        <td id=\"T_2914309e_ecf6_11e8_bbad_5ce0c5fe058crow7_col6\" class=\"data row7 col6\" >440</td> \n",
       "        <td id=\"T_2914309e_ecf6_11e8_bbad_5ce0c5fe058crow7_col7\" class=\"data row7 col7\" >1.039</td> \n",
       "        <td id=\"T_2914309e_ecf6_11e8_bbad_5ce0c5fe058crow7_col8\" class=\"data row7 col8\" >3.82</td> \n",
       "        <td id=\"T_2914309e_ecf6_11e8_bbad_5ce0c5fe058crow7_col9\" class=\"data row7 col9\" >1.08</td> \n",
       "        <td id=\"T_2914309e_ecf6_11e8_bbad_5ce0c5fe058crow7_col10\" class=\"data row7 col10\" >14.2</td> \n",
       "        <td id=\"T_2914309e_ecf6_11e8_bbad_5ce0c5fe058crow7_col11\" class=\"data row7 col11\" >9</td> \n",
       "    </tr></tbody> \n",
       "</table> "
      ],
      "text/plain": [
       "<pandas.io.formats.style.Styler at 0x27a11872f98>"
      ]
     },
     "execution_count": 6,
     "metadata": {},
     "output_type": "execute_result"
    }
   ],
   "source": [
    "white.describe().style.set_precision(4)"
   ]
  },
  {
   "cell_type": "code",
   "execution_count": 7,
   "metadata": {},
   "outputs": [
    {
     "data": {
      "text/html": [
       "<style  type=\"text/css\" >\n",
       "</style>  \n",
       "<table id=\"T_2a8e1c10_ecf6_11e8_8221_5ce0c5fe058c\" > \n",
       "<thead>    <tr> \n",
       "        <th class=\"blank level0\" ></th> \n",
       "        <th class=\"col_heading level0 col0\" >fixed acidity</th> \n",
       "        <th class=\"col_heading level0 col1\" >volatile acidity</th> \n",
       "        <th class=\"col_heading level0 col2\" >citric acid</th> \n",
       "        <th class=\"col_heading level0 col3\" >residual sugar</th> \n",
       "        <th class=\"col_heading level0 col4\" >chlorides</th> \n",
       "        <th class=\"col_heading level0 col5\" >free sulfur dioxide</th> \n",
       "        <th class=\"col_heading level0 col6\" >total sulfur dioxide</th> \n",
       "        <th class=\"col_heading level0 col7\" >density</th> \n",
       "        <th class=\"col_heading level0 col8\" >pH</th> \n",
       "        <th class=\"col_heading level0 col9\" >sulphates</th> \n",
       "        <th class=\"col_heading level0 col10\" >alcohol</th> \n",
       "    </tr></thead> \n",
       "<tbody>    <tr> \n",
       "        <th id=\"T_2a8e1c10_ecf6_11e8_8221_5ce0c5fe058clevel0_row0\" class=\"row_heading level0 row0\" >count</th> \n",
       "        <td id=\"T_2a8e1c10_ecf6_11e8_8221_5ce0c5fe058crow0_col0\" class=\"data row0 col0\" >1599</td> \n",
       "        <td id=\"T_2a8e1c10_ecf6_11e8_8221_5ce0c5fe058crow0_col1\" class=\"data row0 col1\" >1599</td> \n",
       "        <td id=\"T_2a8e1c10_ecf6_11e8_8221_5ce0c5fe058crow0_col2\" class=\"data row0 col2\" >1599</td> \n",
       "        <td id=\"T_2a8e1c10_ecf6_11e8_8221_5ce0c5fe058crow0_col3\" class=\"data row0 col3\" >1599</td> \n",
       "        <td id=\"T_2a8e1c10_ecf6_11e8_8221_5ce0c5fe058crow0_col4\" class=\"data row0 col4\" >1599</td> \n",
       "        <td id=\"T_2a8e1c10_ecf6_11e8_8221_5ce0c5fe058crow0_col5\" class=\"data row0 col5\" >1599</td> \n",
       "        <td id=\"T_2a8e1c10_ecf6_11e8_8221_5ce0c5fe058crow0_col6\" class=\"data row0 col6\" >1599</td> \n",
       "        <td id=\"T_2a8e1c10_ecf6_11e8_8221_5ce0c5fe058crow0_col7\" class=\"data row0 col7\" >1599</td> \n",
       "        <td id=\"T_2a8e1c10_ecf6_11e8_8221_5ce0c5fe058crow0_col8\" class=\"data row0 col8\" >1599</td> \n",
       "        <td id=\"T_2a8e1c10_ecf6_11e8_8221_5ce0c5fe058crow0_col9\" class=\"data row0 col9\" >1599</td> \n",
       "        <td id=\"T_2a8e1c10_ecf6_11e8_8221_5ce0c5fe058crow0_col10\" class=\"data row0 col10\" >1599</td> \n",
       "    </tr>    <tr> \n",
       "        <th id=\"T_2a8e1c10_ecf6_11e8_8221_5ce0c5fe058clevel0_row1\" class=\"row_heading level0 row1\" >mean</th> \n",
       "        <td id=\"T_2a8e1c10_ecf6_11e8_8221_5ce0c5fe058crow1_col0\" class=\"data row1 col0\" >0.3292</td> \n",
       "        <td id=\"T_2a8e1c10_ecf6_11e8_8221_5ce0c5fe058crow1_col1\" class=\"data row1 col1\" >0.2793</td> \n",
       "        <td id=\"T_2a8e1c10_ecf6_11e8_8221_5ce0c5fe058crow1_col2\" class=\"data row1 col2\" >0.271</td> \n",
       "        <td id=\"T_2a8e1c10_ecf6_11e8_8221_5ce0c5fe058crow1_col3\" class=\"data row1 col3\" >0.1122</td> \n",
       "        <td id=\"T_2a8e1c10_ecf6_11e8_8221_5ce0c5fe058crow1_col4\" class=\"data row1 col4\" >0.126</td> \n",
       "        <td id=\"T_2a8e1c10_ecf6_11e8_8221_5ce0c5fe058crow1_col5\" class=\"data row1 col5\" >0.2095</td> \n",
       "        <td id=\"T_2a8e1c10_ecf6_11e8_8221_5ce0c5fe058crow1_col6\" class=\"data row1 col6\" >0.143</td> \n",
       "        <td id=\"T_2a8e1c10_ecf6_11e8_8221_5ce0c5fe058crow1_col7\" class=\"data row1 col7\" >0.4902</td> \n",
       "        <td id=\"T_2a8e1c10_ecf6_11e8_8221_5ce0c5fe058crow1_col8\" class=\"data row1 col8\" >0.4497</td> \n",
       "        <td id=\"T_2a8e1c10_ecf6_11e8_8221_5ce0c5fe058crow1_col9\" class=\"data row1 col9\" >0.1965</td> \n",
       "        <td id=\"T_2a8e1c10_ecf6_11e8_8221_5ce0c5fe058crow1_col10\" class=\"data row1 col10\" >0.3112</td> \n",
       "    </tr>    <tr> \n",
       "        <th id=\"T_2a8e1c10_ecf6_11e8_8221_5ce0c5fe058clevel0_row2\" class=\"row_heading level0 row2\" >std</th> \n",
       "        <td id=\"T_2a8e1c10_ecf6_11e8_8221_5ce0c5fe058crow2_col0\" class=\"data row2 col0\" >0.1541</td> \n",
       "        <td id=\"T_2a8e1c10_ecf6_11e8_8221_5ce0c5fe058crow2_col1\" class=\"data row2 col1\" >0.1226</td> \n",
       "        <td id=\"T_2a8e1c10_ecf6_11e8_8221_5ce0c5fe058crow2_col2\" class=\"data row2 col2\" >0.1948</td> \n",
       "        <td id=\"T_2a8e1c10_ecf6_11e8_8221_5ce0c5fe058crow2_col3\" class=\"data row2 col3\" >0.09657</td> \n",
       "        <td id=\"T_2a8e1c10_ecf6_11e8_8221_5ce0c5fe058crow2_col4\" class=\"data row2 col4\" >0.07857</td> \n",
       "        <td id=\"T_2a8e1c10_ecf6_11e8_8221_5ce0c5fe058crow2_col5\" class=\"data row2 col5\" >0.1473</td> \n",
       "        <td id=\"T_2a8e1c10_ecf6_11e8_8221_5ce0c5fe058crow2_col6\" class=\"data row2 col6\" >0.1162</td> \n",
       "        <td id=\"T_2a8e1c10_ecf6_11e8_8221_5ce0c5fe058crow2_col7\" class=\"data row2 col7\" >0.1386</td> \n",
       "        <td id=\"T_2a8e1c10_ecf6_11e8_8221_5ce0c5fe058crow2_col8\" class=\"data row2 col8\" >0.1216</td> \n",
       "        <td id=\"T_2a8e1c10_ecf6_11e8_8221_5ce0c5fe058crow2_col9\" class=\"data row2 col9\" >0.1015</td> \n",
       "        <td id=\"T_2a8e1c10_ecf6_11e8_8221_5ce0c5fe058crow2_col10\" class=\"data row2 col10\" >0.1639</td> \n",
       "    </tr>    <tr> \n",
       "        <th id=\"T_2a8e1c10_ecf6_11e8_8221_5ce0c5fe058clevel0_row3\" class=\"row_heading level0 row3\" >min</th> \n",
       "        <td id=\"T_2a8e1c10_ecf6_11e8_8221_5ce0c5fe058crow3_col0\" class=\"data row3 col0\" >0</td> \n",
       "        <td id=\"T_2a8e1c10_ecf6_11e8_8221_5ce0c5fe058crow3_col1\" class=\"data row3 col1\" >0</td> \n",
       "        <td id=\"T_2a8e1c10_ecf6_11e8_8221_5ce0c5fe058crow3_col2\" class=\"data row3 col2\" >0</td> \n",
       "        <td id=\"T_2a8e1c10_ecf6_11e8_8221_5ce0c5fe058crow3_col3\" class=\"data row3 col3\" >0</td> \n",
       "        <td id=\"T_2a8e1c10_ecf6_11e8_8221_5ce0c5fe058crow3_col4\" class=\"data row3 col4\" >0</td> \n",
       "        <td id=\"T_2a8e1c10_ecf6_11e8_8221_5ce0c5fe058crow3_col5\" class=\"data row3 col5\" >0</td> \n",
       "        <td id=\"T_2a8e1c10_ecf6_11e8_8221_5ce0c5fe058crow3_col6\" class=\"data row3 col6\" >0</td> \n",
       "        <td id=\"T_2a8e1c10_ecf6_11e8_8221_5ce0c5fe058crow3_col7\" class=\"data row3 col7\" >0</td> \n",
       "        <td id=\"T_2a8e1c10_ecf6_11e8_8221_5ce0c5fe058crow3_col8\" class=\"data row3 col8\" >0</td> \n",
       "        <td id=\"T_2a8e1c10_ecf6_11e8_8221_5ce0c5fe058crow3_col9\" class=\"data row3 col9\" >0</td> \n",
       "        <td id=\"T_2a8e1c10_ecf6_11e8_8221_5ce0c5fe058crow3_col10\" class=\"data row3 col10\" >0</td> \n",
       "    </tr>    <tr> \n",
       "        <th id=\"T_2a8e1c10_ecf6_11e8_8221_5ce0c5fe058clevel0_row4\" class=\"row_heading level0 row4\" >25%</th> \n",
       "        <td id=\"T_2a8e1c10_ecf6_11e8_8221_5ce0c5fe058crow4_col0\" class=\"data row4 col0\" >0.2212</td> \n",
       "        <td id=\"T_2a8e1c10_ecf6_11e8_8221_5ce0c5fe058crow4_col1\" class=\"data row4 col1\" >0.1849</td> \n",
       "        <td id=\"T_2a8e1c10_ecf6_11e8_8221_5ce0c5fe058crow4_col2\" class=\"data row4 col2\" >0.09</td> \n",
       "        <td id=\"T_2a8e1c10_ecf6_11e8_8221_5ce0c5fe058crow4_col3\" class=\"data row4 col3\" >0.06849</td> \n",
       "        <td id=\"T_2a8e1c10_ecf6_11e8_8221_5ce0c5fe058crow4_col4\" class=\"data row4 col4\" >0.09683</td> \n",
       "        <td id=\"T_2a8e1c10_ecf6_11e8_8221_5ce0c5fe058crow4_col5\" class=\"data row4 col5\" >0.08451</td> \n",
       "        <td id=\"T_2a8e1c10_ecf6_11e8_8221_5ce0c5fe058crow4_col6\" class=\"data row4 col6\" >0.05654</td> \n",
       "        <td id=\"T_2a8e1c10_ecf6_11e8_8221_5ce0c5fe058crow4_col7\" class=\"data row4 col7\" >0.406</td> \n",
       "        <td id=\"T_2a8e1c10_ecf6_11e8_8221_5ce0c5fe058crow4_col8\" class=\"data row4 col8\" >0.3701</td> \n",
       "        <td id=\"T_2a8e1c10_ecf6_11e8_8221_5ce0c5fe058crow4_col9\" class=\"data row4 col9\" >0.1317</td> \n",
       "        <td id=\"T_2a8e1c10_ecf6_11e8_8221_5ce0c5fe058crow4_col10\" class=\"data row4 col10\" >0.1692</td> \n",
       "    </tr>    <tr> \n",
       "        <th id=\"T_2a8e1c10_ecf6_11e8_8221_5ce0c5fe058clevel0_row5\" class=\"row_heading level0 row5\" >50%</th> \n",
       "        <td id=\"T_2a8e1c10_ecf6_11e8_8221_5ce0c5fe058crow5_col0\" class=\"data row5 col0\" >0.292</td> \n",
       "        <td id=\"T_2a8e1c10_ecf6_11e8_8221_5ce0c5fe058crow5_col1\" class=\"data row5 col1\" >0.274</td> \n",
       "        <td id=\"T_2a8e1c10_ecf6_11e8_8221_5ce0c5fe058crow5_col2\" class=\"data row5 col2\" >0.26</td> \n",
       "        <td id=\"T_2a8e1c10_ecf6_11e8_8221_5ce0c5fe058crow5_col3\" class=\"data row5 col3\" >0.08904</td> \n",
       "        <td id=\"T_2a8e1c10_ecf6_11e8_8221_5ce0c5fe058crow5_col4\" class=\"data row5 col4\" >0.1119</td> \n",
       "        <td id=\"T_2a8e1c10_ecf6_11e8_8221_5ce0c5fe058crow5_col5\" class=\"data row5 col5\" >0.1831</td> \n",
       "        <td id=\"T_2a8e1c10_ecf6_11e8_8221_5ce0c5fe058crow5_col6\" class=\"data row5 col6\" >0.1131</td> \n",
       "        <td id=\"T_2a8e1c10_ecf6_11e8_8221_5ce0c5fe058crow5_col7\" class=\"data row5 col7\" >0.4905</td> \n",
       "        <td id=\"T_2a8e1c10_ecf6_11e8_8221_5ce0c5fe058crow5_col8\" class=\"data row5 col8\" >0.4488</td> \n",
       "        <td id=\"T_2a8e1c10_ecf6_11e8_8221_5ce0c5fe058crow5_col9\" class=\"data row5 col9\" >0.1737</td> \n",
       "        <td id=\"T_2a8e1c10_ecf6_11e8_8221_5ce0c5fe058crow5_col10\" class=\"data row5 col10\" >0.2769</td> \n",
       "    </tr>    <tr> \n",
       "        <th id=\"T_2a8e1c10_ecf6_11e8_8221_5ce0c5fe058clevel0_row6\" class=\"row_heading level0 row6\" >75%</th> \n",
       "        <td id=\"T_2a8e1c10_ecf6_11e8_8221_5ce0c5fe058crow6_col0\" class=\"data row6 col0\" >0.4071</td> \n",
       "        <td id=\"T_2a8e1c10_ecf6_11e8_8221_5ce0c5fe058crow6_col1\" class=\"data row6 col1\" >0.3562</td> \n",
       "        <td id=\"T_2a8e1c10_ecf6_11e8_8221_5ce0c5fe058crow6_col2\" class=\"data row6 col2\" >0.42</td> \n",
       "        <td id=\"T_2a8e1c10_ecf6_11e8_8221_5ce0c5fe058crow6_col3\" class=\"data row6 col3\" >0.1164</td> \n",
       "        <td id=\"T_2a8e1c10_ecf6_11e8_8221_5ce0c5fe058crow6_col4\" class=\"data row6 col4\" >0.1302</td> \n",
       "        <td id=\"T_2a8e1c10_ecf6_11e8_8221_5ce0c5fe058crow6_col5\" class=\"data row6 col5\" >0.2817</td> \n",
       "        <td id=\"T_2a8e1c10_ecf6_11e8_8221_5ce0c5fe058crow6_col6\" class=\"data row6 col6\" >0.1979</td> \n",
       "        <td id=\"T_2a8e1c10_ecf6_11e8_8221_5ce0c5fe058crow6_col7\" class=\"data row6 col7\" >0.5701</td> \n",
       "        <td id=\"T_2a8e1c10_ecf6_11e8_8221_5ce0c5fe058crow6_col8\" class=\"data row6 col8\" >0.5197</td> \n",
       "        <td id=\"T_2a8e1c10_ecf6_11e8_8221_5ce0c5fe058crow6_col9\" class=\"data row6 col9\" >0.2395</td> \n",
       "        <td id=\"T_2a8e1c10_ecf6_11e8_8221_5ce0c5fe058crow6_col10\" class=\"data row6 col10\" >0.4154</td> \n",
       "    </tr>    <tr> \n",
       "        <th id=\"T_2a8e1c10_ecf6_11e8_8221_5ce0c5fe058clevel0_row7\" class=\"row_heading level0 row7\" >max</th> \n",
       "        <td id=\"T_2a8e1c10_ecf6_11e8_8221_5ce0c5fe058crow7_col0\" class=\"data row7 col0\" >1</td> \n",
       "        <td id=\"T_2a8e1c10_ecf6_11e8_8221_5ce0c5fe058crow7_col1\" class=\"data row7 col1\" >1</td> \n",
       "        <td id=\"T_2a8e1c10_ecf6_11e8_8221_5ce0c5fe058crow7_col2\" class=\"data row7 col2\" >1</td> \n",
       "        <td id=\"T_2a8e1c10_ecf6_11e8_8221_5ce0c5fe058crow7_col3\" class=\"data row7 col3\" >1</td> \n",
       "        <td id=\"T_2a8e1c10_ecf6_11e8_8221_5ce0c5fe058crow7_col4\" class=\"data row7 col4\" >1</td> \n",
       "        <td id=\"T_2a8e1c10_ecf6_11e8_8221_5ce0c5fe058crow7_col5\" class=\"data row7 col5\" >1</td> \n",
       "        <td id=\"T_2a8e1c10_ecf6_11e8_8221_5ce0c5fe058crow7_col6\" class=\"data row7 col6\" >1</td> \n",
       "        <td id=\"T_2a8e1c10_ecf6_11e8_8221_5ce0c5fe058crow7_col7\" class=\"data row7 col7\" >1</td> \n",
       "        <td id=\"T_2a8e1c10_ecf6_11e8_8221_5ce0c5fe058crow7_col8\" class=\"data row7 col8\" >1</td> \n",
       "        <td id=\"T_2a8e1c10_ecf6_11e8_8221_5ce0c5fe058crow7_col9\" class=\"data row7 col9\" >1</td> \n",
       "        <td id=\"T_2a8e1c10_ecf6_11e8_8221_5ce0c5fe058crow7_col10\" class=\"data row7 col10\" >1</td> \n",
       "    </tr></tbody> \n",
       "</table> "
      ],
      "text/plain": [
       "<pandas.io.formats.style.Styler at 0x27a11a38cc0>"
      ]
     },
     "execution_count": 7,
     "metadata": {},
     "output_type": "execute_result"
    }
   ],
   "source": [
    "red_norm.describe().style.set_precision(4)"
   ]
  },
  {
   "cell_type": "code",
   "execution_count": 8,
   "metadata": {},
   "outputs": [
    {
     "data": {
      "text/html": [
       "<style  type=\"text/css\" >\n",
       "</style>  \n",
       "<table id=\"T_2bff3792_ecf6_11e8_a925_5ce0c5fe058c\" > \n",
       "<thead>    <tr> \n",
       "        <th class=\"blank level0\" ></th> \n",
       "        <th class=\"col_heading level0 col0\" >fixed acidity</th> \n",
       "        <th class=\"col_heading level0 col1\" >volatile acidity</th> \n",
       "        <th class=\"col_heading level0 col2\" >citric acid</th> \n",
       "        <th class=\"col_heading level0 col3\" >residual sugar</th> \n",
       "        <th class=\"col_heading level0 col4\" >chlorides</th> \n",
       "        <th class=\"col_heading level0 col5\" >free sulfur dioxide</th> \n",
       "        <th class=\"col_heading level0 col6\" >total sulfur dioxide</th> \n",
       "        <th class=\"col_heading level0 col7\" >density</th> \n",
       "        <th class=\"col_heading level0 col8\" >pH</th> \n",
       "        <th class=\"col_heading level0 col9\" >sulphates</th> \n",
       "        <th class=\"col_heading level0 col10\" >alcohol</th> \n",
       "        <th class=\"col_heading level0 col11\" >quality</th> \n",
       "    </tr></thead> \n",
       "<tbody>    <tr> \n",
       "        <th id=\"T_2bff3792_ecf6_11e8_a925_5ce0c5fe058clevel0_row0\" class=\"row_heading level0 row0\" >count</th> \n",
       "        <td id=\"T_2bff3792_ecf6_11e8_a925_5ce0c5fe058crow0_col0\" class=\"data row0 col0\" >1599</td> \n",
       "        <td id=\"T_2bff3792_ecf6_11e8_a925_5ce0c5fe058crow0_col1\" class=\"data row0 col1\" >1599</td> \n",
       "        <td id=\"T_2bff3792_ecf6_11e8_a925_5ce0c5fe058crow0_col2\" class=\"data row0 col2\" >1599</td> \n",
       "        <td id=\"T_2bff3792_ecf6_11e8_a925_5ce0c5fe058crow0_col3\" class=\"data row0 col3\" >1599</td> \n",
       "        <td id=\"T_2bff3792_ecf6_11e8_a925_5ce0c5fe058crow0_col4\" class=\"data row0 col4\" >1599</td> \n",
       "        <td id=\"T_2bff3792_ecf6_11e8_a925_5ce0c5fe058crow0_col5\" class=\"data row0 col5\" >1599</td> \n",
       "        <td id=\"T_2bff3792_ecf6_11e8_a925_5ce0c5fe058crow0_col6\" class=\"data row0 col6\" >1599</td> \n",
       "        <td id=\"T_2bff3792_ecf6_11e8_a925_5ce0c5fe058crow0_col7\" class=\"data row0 col7\" >1599</td> \n",
       "        <td id=\"T_2bff3792_ecf6_11e8_a925_5ce0c5fe058crow0_col8\" class=\"data row0 col8\" >1599</td> \n",
       "        <td id=\"T_2bff3792_ecf6_11e8_a925_5ce0c5fe058crow0_col9\" class=\"data row0 col9\" >1599</td> \n",
       "        <td id=\"T_2bff3792_ecf6_11e8_a925_5ce0c5fe058crow0_col10\" class=\"data row0 col10\" >1599</td> \n",
       "        <td id=\"T_2bff3792_ecf6_11e8_a925_5ce0c5fe058crow0_col11\" class=\"data row0 col11\" >1599</td> \n",
       "    </tr>    <tr> \n",
       "        <th id=\"T_2bff3792_ecf6_11e8_a925_5ce0c5fe058clevel0_row1\" class=\"row_heading level0 row1\" >mean</th> \n",
       "        <td id=\"T_2bff3792_ecf6_11e8_a925_5ce0c5fe058crow1_col0\" class=\"data row1 col0\" >8.32</td> \n",
       "        <td id=\"T_2bff3792_ecf6_11e8_a925_5ce0c5fe058crow1_col1\" class=\"data row1 col1\" >0.5278</td> \n",
       "        <td id=\"T_2bff3792_ecf6_11e8_a925_5ce0c5fe058crow1_col2\" class=\"data row1 col2\" >0.271</td> \n",
       "        <td id=\"T_2bff3792_ecf6_11e8_a925_5ce0c5fe058crow1_col3\" class=\"data row1 col3\" >2.539</td> \n",
       "        <td id=\"T_2bff3792_ecf6_11e8_a925_5ce0c5fe058crow1_col4\" class=\"data row1 col4\" >0.08747</td> \n",
       "        <td id=\"T_2bff3792_ecf6_11e8_a925_5ce0c5fe058crow1_col5\" class=\"data row1 col5\" >15.87</td> \n",
       "        <td id=\"T_2bff3792_ecf6_11e8_a925_5ce0c5fe058crow1_col6\" class=\"data row1 col6\" >46.47</td> \n",
       "        <td id=\"T_2bff3792_ecf6_11e8_a925_5ce0c5fe058crow1_col7\" class=\"data row1 col7\" >0.9967</td> \n",
       "        <td id=\"T_2bff3792_ecf6_11e8_a925_5ce0c5fe058crow1_col8\" class=\"data row1 col8\" >3.311</td> \n",
       "        <td id=\"T_2bff3792_ecf6_11e8_a925_5ce0c5fe058crow1_col9\" class=\"data row1 col9\" >0.6581</td> \n",
       "        <td id=\"T_2bff3792_ecf6_11e8_a925_5ce0c5fe058crow1_col10\" class=\"data row1 col10\" >10.42</td> \n",
       "        <td id=\"T_2bff3792_ecf6_11e8_a925_5ce0c5fe058crow1_col11\" class=\"data row1 col11\" >5.636</td> \n",
       "    </tr>    <tr> \n",
       "        <th id=\"T_2bff3792_ecf6_11e8_a925_5ce0c5fe058clevel0_row2\" class=\"row_heading level0 row2\" >std</th> \n",
       "        <td id=\"T_2bff3792_ecf6_11e8_a925_5ce0c5fe058crow2_col0\" class=\"data row2 col0\" >1.741</td> \n",
       "        <td id=\"T_2bff3792_ecf6_11e8_a925_5ce0c5fe058crow2_col1\" class=\"data row2 col1\" >0.1791</td> \n",
       "        <td id=\"T_2bff3792_ecf6_11e8_a925_5ce0c5fe058crow2_col2\" class=\"data row2 col2\" >0.1948</td> \n",
       "        <td id=\"T_2bff3792_ecf6_11e8_a925_5ce0c5fe058crow2_col3\" class=\"data row2 col3\" >1.41</td> \n",
       "        <td id=\"T_2bff3792_ecf6_11e8_a925_5ce0c5fe058crow2_col4\" class=\"data row2 col4\" >0.04707</td> \n",
       "        <td id=\"T_2bff3792_ecf6_11e8_a925_5ce0c5fe058crow2_col5\" class=\"data row2 col5\" >10.46</td> \n",
       "        <td id=\"T_2bff3792_ecf6_11e8_a925_5ce0c5fe058crow2_col6\" class=\"data row2 col6\" >32.9</td> \n",
       "        <td id=\"T_2bff3792_ecf6_11e8_a925_5ce0c5fe058crow2_col7\" class=\"data row2 col7\" >0.001887</td> \n",
       "        <td id=\"T_2bff3792_ecf6_11e8_a925_5ce0c5fe058crow2_col8\" class=\"data row2 col8\" >0.1544</td> \n",
       "        <td id=\"T_2bff3792_ecf6_11e8_a925_5ce0c5fe058crow2_col9\" class=\"data row2 col9\" >0.1695</td> \n",
       "        <td id=\"T_2bff3792_ecf6_11e8_a925_5ce0c5fe058crow2_col10\" class=\"data row2 col10\" >1.066</td> \n",
       "        <td id=\"T_2bff3792_ecf6_11e8_a925_5ce0c5fe058crow2_col11\" class=\"data row2 col11\" >0.8076</td> \n",
       "    </tr>    <tr> \n",
       "        <th id=\"T_2bff3792_ecf6_11e8_a925_5ce0c5fe058clevel0_row3\" class=\"row_heading level0 row3\" >min</th> \n",
       "        <td id=\"T_2bff3792_ecf6_11e8_a925_5ce0c5fe058crow3_col0\" class=\"data row3 col0\" >4.6</td> \n",
       "        <td id=\"T_2bff3792_ecf6_11e8_a925_5ce0c5fe058crow3_col1\" class=\"data row3 col1\" >0.12</td> \n",
       "        <td id=\"T_2bff3792_ecf6_11e8_a925_5ce0c5fe058crow3_col2\" class=\"data row3 col2\" >0</td> \n",
       "        <td id=\"T_2bff3792_ecf6_11e8_a925_5ce0c5fe058crow3_col3\" class=\"data row3 col3\" >0.9</td> \n",
       "        <td id=\"T_2bff3792_ecf6_11e8_a925_5ce0c5fe058crow3_col4\" class=\"data row3 col4\" >0.012</td> \n",
       "        <td id=\"T_2bff3792_ecf6_11e8_a925_5ce0c5fe058crow3_col5\" class=\"data row3 col5\" >1</td> \n",
       "        <td id=\"T_2bff3792_ecf6_11e8_a925_5ce0c5fe058crow3_col6\" class=\"data row3 col6\" >6</td> \n",
       "        <td id=\"T_2bff3792_ecf6_11e8_a925_5ce0c5fe058crow3_col7\" class=\"data row3 col7\" >0.9901</td> \n",
       "        <td id=\"T_2bff3792_ecf6_11e8_a925_5ce0c5fe058crow3_col8\" class=\"data row3 col8\" >2.74</td> \n",
       "        <td id=\"T_2bff3792_ecf6_11e8_a925_5ce0c5fe058crow3_col9\" class=\"data row3 col9\" >0.33</td> \n",
       "        <td id=\"T_2bff3792_ecf6_11e8_a925_5ce0c5fe058crow3_col10\" class=\"data row3 col10\" >8.4</td> \n",
       "        <td id=\"T_2bff3792_ecf6_11e8_a925_5ce0c5fe058crow3_col11\" class=\"data row3 col11\" >3</td> \n",
       "    </tr>    <tr> \n",
       "        <th id=\"T_2bff3792_ecf6_11e8_a925_5ce0c5fe058clevel0_row4\" class=\"row_heading level0 row4\" >25%</th> \n",
       "        <td id=\"T_2bff3792_ecf6_11e8_a925_5ce0c5fe058crow4_col0\" class=\"data row4 col0\" >7.1</td> \n",
       "        <td id=\"T_2bff3792_ecf6_11e8_a925_5ce0c5fe058crow4_col1\" class=\"data row4 col1\" >0.39</td> \n",
       "        <td id=\"T_2bff3792_ecf6_11e8_a925_5ce0c5fe058crow4_col2\" class=\"data row4 col2\" >0.09</td> \n",
       "        <td id=\"T_2bff3792_ecf6_11e8_a925_5ce0c5fe058crow4_col3\" class=\"data row4 col3\" >1.9</td> \n",
       "        <td id=\"T_2bff3792_ecf6_11e8_a925_5ce0c5fe058crow4_col4\" class=\"data row4 col4\" >0.07</td> \n",
       "        <td id=\"T_2bff3792_ecf6_11e8_a925_5ce0c5fe058crow4_col5\" class=\"data row4 col5\" >7</td> \n",
       "        <td id=\"T_2bff3792_ecf6_11e8_a925_5ce0c5fe058crow4_col6\" class=\"data row4 col6\" >22</td> \n",
       "        <td id=\"T_2bff3792_ecf6_11e8_a925_5ce0c5fe058crow4_col7\" class=\"data row4 col7\" >0.9956</td> \n",
       "        <td id=\"T_2bff3792_ecf6_11e8_a925_5ce0c5fe058crow4_col8\" class=\"data row4 col8\" >3.21</td> \n",
       "        <td id=\"T_2bff3792_ecf6_11e8_a925_5ce0c5fe058crow4_col9\" class=\"data row4 col9\" >0.55</td> \n",
       "        <td id=\"T_2bff3792_ecf6_11e8_a925_5ce0c5fe058crow4_col10\" class=\"data row4 col10\" >9.5</td> \n",
       "        <td id=\"T_2bff3792_ecf6_11e8_a925_5ce0c5fe058crow4_col11\" class=\"data row4 col11\" >5</td> \n",
       "    </tr>    <tr> \n",
       "        <th id=\"T_2bff3792_ecf6_11e8_a925_5ce0c5fe058clevel0_row5\" class=\"row_heading level0 row5\" >50%</th> \n",
       "        <td id=\"T_2bff3792_ecf6_11e8_a925_5ce0c5fe058crow5_col0\" class=\"data row5 col0\" >7.9</td> \n",
       "        <td id=\"T_2bff3792_ecf6_11e8_a925_5ce0c5fe058crow5_col1\" class=\"data row5 col1\" >0.52</td> \n",
       "        <td id=\"T_2bff3792_ecf6_11e8_a925_5ce0c5fe058crow5_col2\" class=\"data row5 col2\" >0.26</td> \n",
       "        <td id=\"T_2bff3792_ecf6_11e8_a925_5ce0c5fe058crow5_col3\" class=\"data row5 col3\" >2.2</td> \n",
       "        <td id=\"T_2bff3792_ecf6_11e8_a925_5ce0c5fe058crow5_col4\" class=\"data row5 col4\" >0.079</td> \n",
       "        <td id=\"T_2bff3792_ecf6_11e8_a925_5ce0c5fe058crow5_col5\" class=\"data row5 col5\" >14</td> \n",
       "        <td id=\"T_2bff3792_ecf6_11e8_a925_5ce0c5fe058crow5_col6\" class=\"data row5 col6\" >38</td> \n",
       "        <td id=\"T_2bff3792_ecf6_11e8_a925_5ce0c5fe058crow5_col7\" class=\"data row5 col7\" >0.9968</td> \n",
       "        <td id=\"T_2bff3792_ecf6_11e8_a925_5ce0c5fe058crow5_col8\" class=\"data row5 col8\" >3.31</td> \n",
       "        <td id=\"T_2bff3792_ecf6_11e8_a925_5ce0c5fe058crow5_col9\" class=\"data row5 col9\" >0.62</td> \n",
       "        <td id=\"T_2bff3792_ecf6_11e8_a925_5ce0c5fe058crow5_col10\" class=\"data row5 col10\" >10.2</td> \n",
       "        <td id=\"T_2bff3792_ecf6_11e8_a925_5ce0c5fe058crow5_col11\" class=\"data row5 col11\" >6</td> \n",
       "    </tr>    <tr> \n",
       "        <th id=\"T_2bff3792_ecf6_11e8_a925_5ce0c5fe058clevel0_row6\" class=\"row_heading level0 row6\" >75%</th> \n",
       "        <td id=\"T_2bff3792_ecf6_11e8_a925_5ce0c5fe058crow6_col0\" class=\"data row6 col0\" >9.2</td> \n",
       "        <td id=\"T_2bff3792_ecf6_11e8_a925_5ce0c5fe058crow6_col1\" class=\"data row6 col1\" >0.64</td> \n",
       "        <td id=\"T_2bff3792_ecf6_11e8_a925_5ce0c5fe058crow6_col2\" class=\"data row6 col2\" >0.42</td> \n",
       "        <td id=\"T_2bff3792_ecf6_11e8_a925_5ce0c5fe058crow6_col3\" class=\"data row6 col3\" >2.6</td> \n",
       "        <td id=\"T_2bff3792_ecf6_11e8_a925_5ce0c5fe058crow6_col4\" class=\"data row6 col4\" >0.09</td> \n",
       "        <td id=\"T_2bff3792_ecf6_11e8_a925_5ce0c5fe058crow6_col5\" class=\"data row6 col5\" >21</td> \n",
       "        <td id=\"T_2bff3792_ecf6_11e8_a925_5ce0c5fe058crow6_col6\" class=\"data row6 col6\" >62</td> \n",
       "        <td id=\"T_2bff3792_ecf6_11e8_a925_5ce0c5fe058crow6_col7\" class=\"data row6 col7\" >0.9978</td> \n",
       "        <td id=\"T_2bff3792_ecf6_11e8_a925_5ce0c5fe058crow6_col8\" class=\"data row6 col8\" >3.4</td> \n",
       "        <td id=\"T_2bff3792_ecf6_11e8_a925_5ce0c5fe058crow6_col9\" class=\"data row6 col9\" >0.73</td> \n",
       "        <td id=\"T_2bff3792_ecf6_11e8_a925_5ce0c5fe058crow6_col10\" class=\"data row6 col10\" >11.1</td> \n",
       "        <td id=\"T_2bff3792_ecf6_11e8_a925_5ce0c5fe058crow6_col11\" class=\"data row6 col11\" >6</td> \n",
       "    </tr>    <tr> \n",
       "        <th id=\"T_2bff3792_ecf6_11e8_a925_5ce0c5fe058clevel0_row7\" class=\"row_heading level0 row7\" >max</th> \n",
       "        <td id=\"T_2bff3792_ecf6_11e8_a925_5ce0c5fe058crow7_col0\" class=\"data row7 col0\" >15.9</td> \n",
       "        <td id=\"T_2bff3792_ecf6_11e8_a925_5ce0c5fe058crow7_col1\" class=\"data row7 col1\" >1.58</td> \n",
       "        <td id=\"T_2bff3792_ecf6_11e8_a925_5ce0c5fe058crow7_col2\" class=\"data row7 col2\" >1</td> \n",
       "        <td id=\"T_2bff3792_ecf6_11e8_a925_5ce0c5fe058crow7_col3\" class=\"data row7 col3\" >15.5</td> \n",
       "        <td id=\"T_2bff3792_ecf6_11e8_a925_5ce0c5fe058crow7_col4\" class=\"data row7 col4\" >0.611</td> \n",
       "        <td id=\"T_2bff3792_ecf6_11e8_a925_5ce0c5fe058crow7_col5\" class=\"data row7 col5\" >72</td> \n",
       "        <td id=\"T_2bff3792_ecf6_11e8_a925_5ce0c5fe058crow7_col6\" class=\"data row7 col6\" >289</td> \n",
       "        <td id=\"T_2bff3792_ecf6_11e8_a925_5ce0c5fe058crow7_col7\" class=\"data row7 col7\" >1.004</td> \n",
       "        <td id=\"T_2bff3792_ecf6_11e8_a925_5ce0c5fe058crow7_col8\" class=\"data row7 col8\" >4.01</td> \n",
       "        <td id=\"T_2bff3792_ecf6_11e8_a925_5ce0c5fe058crow7_col9\" class=\"data row7 col9\" >2</td> \n",
       "        <td id=\"T_2bff3792_ecf6_11e8_a925_5ce0c5fe058crow7_col10\" class=\"data row7 col10\" >14.9</td> \n",
       "        <td id=\"T_2bff3792_ecf6_11e8_a925_5ce0c5fe058crow7_col11\" class=\"data row7 col11\" >8</td> \n",
       "    </tr></tbody> \n",
       "</table> "
      ],
      "text/plain": [
       "<pandas.io.formats.style.Styler at 0x27a0af6e470>"
      ]
     },
     "execution_count": 8,
     "metadata": {},
     "output_type": "execute_result"
    }
   ],
   "source": [
    "red.describe().style.set_precision(4)"
   ]
  },
  {
   "cell_type": "code",
   "execution_count": 12,
   "metadata": {
    "scrolled": true
   },
   "outputs": [
    {
     "name": "stdout",
     "output_type": "stream",
     "text": [
      "6    2198\n",
      "5    1457\n",
      "7     880\n",
      "8     175\n",
      "4     163\n",
      "3      20\n",
      "9       5\n",
      "Name: quality, dtype: int64\n"
     ]
    },
    {
     "data": {
      "image/png": "[encoded data removed]",
      "text/plain": [
       "<Figure size 432x288 with 1 Axes>"
      ]
     },
     "metadata": {},
     "output_type": "display_data"
    }
   ],
   "source": [
    "print(white['quality'].value_counts())\n",
    "white['quality'].value_counts().sort_index().plot(kind='bar', title='Distribution of Quality (white) , n = '+str(white['quality'].count()))\n",
    "plt.show()"
   ]
  },
  {
   "cell_type": "code",
   "execution_count": 11,
   "metadata": {},
   "outputs": [
    {
     "name": "stdout",
     "output_type": "stream",
     "text": [
      "5    681\n",
      "6    638\n",
      "7    199\n",
      "4     53\n",
      "8     18\n",
      "3     10\n",
      "Name: quality, dtype: int64\n"
     ]
    },
    {
     "data": {
      "image/png": "[encoded data removed]",
      "text/plain": [
       "<Figure size 432x288 with 1 Axes>"
      ]
     },
     "metadata": {},
     "output_type": "display_data"
    }
   ],
   "source": [
    "print(red['quality'].value_counts())\n",
    "red['quality'].value_counts().sort_index().plot(kind='bar', title='Distribution of Quality (red) , n = '+str(red['quality'].count()))\n",
    "plt.show()"
   ]
  },
  {
   "cell_type": "markdown",
   "metadata": {},
   "source": [
    "Vorschlag für die Klassen: 3,4,5 (bad); 6 (average); 7,8,9 (good)"
   ]
  },
  {
   "cell_type": "code",
   "execution_count": 13,
   "metadata": {},
   "outputs": [
    {
     "name": "stdout",
     "output_type": "stream",
     "text": [
      "Share of rating 8 and up\n",
      "180\n",
      "4718\n",
      "3.6749693752552064 %\n"
     ]
    }
   ],
   "source": [
    "print('Share of rating 8 and up')\n",
    "print(white.quality[white.quality > 7].count())\n",
    "print(white.quality[white.quality <= 7].count())\n",
    "print(str(white.quality[white.quality > 7].count()/white.quality.count()*100)+' %')"
   ]
  },
  {
   "cell_type": "code",
   "execution_count": null,
   "metadata": {},
   "outputs": [],
   "source": [
    "print('Share of Rating 7 and up')\n",
    "print(white.quality[white.quality > 6].count())\n",
    "print(white.quality[white.quality <= 6].count())\n",
    "print(str(white.quality[white.quality > 6].count()/white.quality.count()*100)+' %')"
   ]
  },
  {
   "cell_type": "code",
   "execution_count": null,
   "metadata": {},
   "outputs": [],
   "source": [
    "plt.figure(5,(5,20))\n",
    "plot_y = white['quality']\n",
    "i=1\n",
    "curr_subplot={}\n",
    "for k in white.keys():\n",
    "    plot_x = white[k]\n",
    "    curr_subplot[k] = plt.subplot(6,2,i)\n",
    "    i = i + 1\n",
    "    curr_subplot[k].set_title(k)\n",
    "    curr_subplot[k].scatter(x=plot_x, y=plot_y)\n",
    "curr_subplot['quality'].set_visible(False)"
   ]
  },
  {
   "cell_type": "code",
   "execution_count": null,
   "metadata": {},
   "outputs": [],
   "source": [
    "plt.figure(5,(5,20))\n",
    "plot_y = red['quality']\n",
    "i=1\n",
    "curr_subplot={}\n",
    "for k in red.keys():\n",
    "    plot_x = red[k]\n",
    "    curr_subplot[k] = plt.subplot(6,2,i)\n",
    "    i = i + 1\n",
    "    curr_subplot[k].set_title(k)\n",
    "    curr_subplot[k].scatter(x=plot_x, y=plot_y)\n",
    "curr_subplot['quality'].set_visible(False)"
   ]
  },
  {
   "cell_type": "code",
   "execution_count": null,
   "metadata": {},
   "outputs": [],
   "source": [
    "wcorr = white.corr()\n",
    "wcorr.style.background_gradient().set_precision(1)"
   ]
  },
  {
   "cell_type": "code",
   "execution_count": null,
   "metadata": {},
   "outputs": [],
   "source": [
    "for k1 in white.keys():\n",
    "    print(k1+' (significance): ')\n",
    "    for k2 in white.keys():\n",
    "        print('\\t'+k2+' '+ str(1-pearsonr(x=white[k1],y=white[k2])[1]))"
   ]
  },
  {
   "cell_type": "code",
   "execution_count": null,
   "metadata": {},
   "outputs": [],
   "source": [
    "rcorr = red.corr()\n",
    "rcorr.style.background_gradient().set_precision(1)"
   ]
  },
  {
   "cell_type": "code",
   "execution_count": null,
   "metadata": {},
   "outputs": [],
   "source": [
    "for k1 in red.keys():\n",
    "    print(k1+' (significance): ')\n",
    "    for k2 in red.keys():\n",
    "        print('\\t'+k2+' '+ str(1-pearsonr(x=red[k1],y=red[k2])[1]))"
   ]
  },
  {
   "cell_type": "code",
   "execution_count": null,
   "metadata": {
    "scrolled": true
   },
   "outputs": [],
   "source": [
    "for k1 in white.keys():\n",
    "    print(k1+' (significance): ')\n",
    "    for k2 in white.keys():\n",
    "        print('\\t'+k2+' '+ str(1-pearsonr(x=white[k1],y=white[k2])[1]))\n"
   ]
  },
  {
   "cell_type": "code",
   "execution_count": null,
   "metadata": {
    "scrolled": true
   },
   "outputs": [],
   "source": [
    "v1= fixed_acidity\n",
    "v2= alcohol\n",
    "\n",
    "plt.figure(1, (10,10))\n",
    "for i in range(1,11):\n",
    "    estimator = KMeans(n_clusters = i)\n",
    "    estimator.fit(white_norm.loc[:,[v1,v2]])\n",
    "    plt.subplot(5,2,i)\n",
    "    plt.tight_layout() # automatically adjusts subplot params so that the subplot(s) fits in to the figure area\n",
    "    plt.title(\"#cluster = {}\".format(i))\n",
    "    plt.xlabel(v1)\n",
    "    plt.ylabel(v2)\n",
    "    plt.scatter(white_norm[v1], white_norm[v2], c=estimator.labels_)\n",
    "#    for i, row in white_norm.iterrows():\n",
    "#        # print(\"i= {} ; row = {}\".format(i, row))\n",
    "#        plt.annotate(row[quality],\n",
    "#                     (row[v1], row[v2]), \n",
    "#                     xytext=(row[v1] + 0.5, row[v2] + 0.5))\n",
    "plt.show()"
   ]
  },
  {
   "cell_type": "code",
   "execution_count": null,
   "metadata": {},
   "outputs": [],
   "source": [
    "v1= alcohol\n",
    "v2= quality\n",
    "\n",
    "plt.figure(1, (10,10))\n",
    "for i in range(1,11):\n",
    "    estimator = KMeans(n_clusters = i)\n",
    "    estimator.fit(white_norm.loc[:,[v1,v2]])\n",
    "    plt.subplot(5,2,i)\n",
    "    plt.tight_layout() # automatically adjusts subplot params so that the subplot(s) fits in to the figure area\n",
    "    plt.title(\"#cluster = {}\".format(i))\n",
    "    plt.xlabel(v1)\n",
    "    plt.ylabel(v2)\n",
    "    plt.scatter(white_norm[v1], white_norm[v2], c=estimator.labels_)\n",
    "#    for i, row in white_norm.iterrows():\n",
    "#        # print(\"i= {} ; row = {}\".format(i, row))\n",
    "#        plt.annotate(row[quality],\n",
    "#                     (row[v1], row[v2]), \n",
    "#                     xytext=(row[v1] + 0.5, row[v2] + 0.5))\n",
    "plt.show()"
   ]
  },
  {
   "cell_type": "code",
   "execution_count": null,
   "metadata": {},
   "outputs": [],
   "source": [
    "v1= quality\n",
    "v2= residual_sugar\n",
    "\n",
    "plt.figure(1, (10,10))\n",
    "for i in range(1,11):\n",
    "    estimator = KMeans(n_clusters = i)\n",
    "    estimator.fit(white_norm.loc[:,[v1,v2]])\n",
    "    plt.subplot(5,2,i)\n",
    "    plt.tight_layout() # automatically adjusts subplot params so that the subplot(s) fits in to the figure area\n",
    "    plt.title(\"#cluster = {}\".format(i))\n",
    "    plt.xlabel(v1)\n",
    "    plt.ylabel(v2)\n",
    "    plt.scatter(white_norm[v1], white_norm[v2], c=estimator.labels_)\n",
    "#    for i, row in white_norm.iterrows():\n",
    "#        # print(\"i= {} ; row = {}\".format(i, row))\n",
    "#        plt.annotate(row[quality],\n",
    "#                     (row[v1], row[v2]), \n",
    "#                     xytext=(row[v1] + 0.5, row[v2] + 0.5))\n",
    "plt.show()"
   ]
  },
  {
   "cell_type": "code",
   "execution_count": null,
   "metadata": {},
   "outputs": [],
   "source": [
    "v1= fixed_acidity\n",
    "v2= chlorides\n",
    "\n",
    "plt.figure(1, (10,10))\n",
    "for i in range(1,11):\n",
    "    estimator = KMeans(n_clusters = i)\n",
    "    estimator.fit(white_norm.loc[:,[v1,v2]])\n",
    "    plt.subplot(5,2,i)\n",
    "    plt.tight_layout() # automatically adjusts subplot params so that the subplot(s) fits in to the figure area\n",
    "    plt.title(\"#cluster = {}\".format(i))\n",
    "    plt.xlabel(v1)\n",
    "    plt.ylabel(v2)\n",
    "    plt.scatter(white_norm[v1], white_norm[v2], c=estimator.labels_)\n",
    "#    for i, row in white_norm.iterrows():\n",
    "#        # print(\"i= {} ; row = {}\".format(i, row))\n",
    "#        plt.annotate(row[quality],\n",
    "#                     (row[v1], row[v2]), \n",
    "#                     xytext=(row[v1] + 0.5, row[v2] + 0.5))\n",
    "plt.show()"
   ]
  },
  {
   "cell_type": "code",
   "execution_count": null,
   "metadata": {},
   "outputs": [],
   "source": [
    "v1= fixed_acidity\n",
    "v2= chlorides\n",
    "\n",
    "plt.figure(1, (10,10))\n",
    "for i in range(1,11):\n",
    "    estimator = KMeans(n_clusters = i)\n",
    "    estimator.fit(white.loc[:,[v1,v2]])\n",
    "    plt.subplot(5,2,i)\n",
    "    plt.tight_layout() # automatically adjusts subplot params so that the subplot(s) fits in to the figure area\n",
    "    plt.title(\"#cluster = {}\".format(i))\n",
    "    plt.xlabel(v1)\n",
    "    plt.ylabel(v2)\n",
    "    plt.scatter(white[v1], white[v2], c=estimator.labels_)\n",
    "#    for i, row in white_norm.iterrows():\n",
    "#        # print(\"i= {} ; row = {}\".format(i, row))\n",
    "#        plt.annotate(row[quality],\n",
    "#                     (row[v1], row[v2]), \n",
    "#                     xytext=(row[v1] + 0.5, row[v2] + 0.5))\n",
    "plt.show()"
   ]
  },
  {
   "cell_type": "code",
   "execution_count": null,
   "metadata": {},
   "outputs": [],
   "source": [
    "v1= fixed_acidity\n",
    "v2= free_sulfur_dioxide\n",
    "\n",
    "plt.figure(1, (10,10))\n",
    "for i in range(1,11):\n",
    "    estimator = KMeans(n_clusters = i)\n",
    "    estimator.fit(white_norm.loc[:,[v1,v2]])\n",
    "    plt.subplot(5,2,i)\n",
    "    plt.tight_layout() # automatically adjusts subplot params so that the subplot(s) fits in to the figure area\n",
    "    plt.title(\"#cluster = {}\".format(i))\n",
    "    plt.xlabel(v1)\n",
    "    plt.ylabel(v2)\n",
    "    plt.scatter(white_norm[v1], white_norm[v2], c=estimator.labels_)\n",
    "#    for i, row in white_norm.iterrows():\n",
    "#        # print(\"i= {} ; row = {}\".format(i, row))\n",
    "#        plt.annotate(row[quality],\n",
    "#                     (row[v1], row[v2]), \n",
    "#                     xytext=(row[v1] + 0.5, row[v2] + 0.5))\n",
    "plt.show()"
   ]
  },
  {
   "cell_type": "code",
   "execution_count": null,
   "metadata": {},
   "outputs": [],
   "source": [
    "v1= fixed_acidity\n",
    "v2= total_sulfur_dioxide\n",
    "\n",
    "plt.figure(1, (10,10))\n",
    "for i in range(1,11):\n",
    "    estimator = KMeans(n_clusters = i)\n",
    "    estimator.fit(white_norm.loc[:,[v1,v2]])\n",
    "    plt.subplot(5,2,i)\n",
    "    plt.tight_layout() # automatically adjusts subplot params so that the subplot(s) fits in to the figure area\n",
    "    plt.title(\"#cluster = {}\".format(i))\n",
    "    plt.xlabel(v1)\n",
    "    plt.ylabel(v2)\n",
    "    plt.scatter(white_norm[v1], white_norm[v2], c=estimator.labels_)\n",
    "#    for i, row in white_norm.iterrows():\n",
    "#        # print(\"i= {} ; row = {}\".format(i, row))\n",
    "#        plt.annotate(row[quality],\n",
    "#                     (row[v1], row[v2]), \n",
    "#                     xytext=(row[v1] + 0.5, row[v2] + 0.5))\n",
    "plt.show()"
   ]
  },
  {
   "cell_type": "code",
   "execution_count": null,
   "metadata": {},
   "outputs": [],
   "source": [
    "v1= fixed_acidity\n",
    "v2= density\n",
    "\n",
    "plt.figure(1, (10,10))\n",
    "for i in range(1,11):\n",
    "    estimator = KMeans(n_clusters = i)\n",
    "    estimator.fit(white_norm.loc[:,[v1,v2]])\n",
    "    plt.subplot(5,2,i)\n",
    "    plt.tight_layout() # automatically adjusts subplot params so that the subplot(s) fits in to the figure area\n",
    "    plt.title(\"#cluster = {}\".format(i))\n",
    "    plt.xlabel(v1)\n",
    "    plt.ylabel(v2)\n",
    "    plt.scatter(white_norm[v1], white_norm[v2], c=estimator.labels_)\n",
    "#    for i, row in white_norm.iterrows():\n",
    "#        # print(\"i= {} ; row = {}\".format(i, row))\n",
    "#        plt.annotate(row[quality],\n",
    "#                     (row[v1], row[v2]), \n",
    "#                     xytext=(row[v1] + 0.5, row[v2] + 0.5))\n",
    "plt.show()"
   ]
  },
  {
   "cell_type": "code",
   "execution_count": null,
   "metadata": {},
   "outputs": [],
   "source": [
    "v1= fixed_acidity\n",
    "v2= pH\n",
    "\n",
    "plt.figure(1, (10,10))\n",
    "for i in range(1,11):\n",
    "    estimator = KMeans(n_clusters = i)\n",
    "    estimator.fit(white_norm.loc[:,[v1,v2]])\n",
    "    plt.subplot(5,2,i)\n",
    "    plt.tight_layout() # automatically adjusts subplot params so that the subplot(s) fits in to the figure area\n",
    "    plt.title(\"#cluster = {}\".format(i))\n",
    "    plt.xlabel(v1)\n",
    "    plt.ylabel(v2)\n",
    "    plt.scatter(white_norm[v1], white_norm[v2], c=estimator.labels_)\n",
    "#    for i, row in white_norm.iterrows():\n",
    "#        # print(\"i= {} ; row = {}\".format(i, row))\n",
    "#        plt.annotate(row[quality],\n",
    "#                     (row[v1], row[v2]), \n",
    "#                     xytext=(row[v1] + 0.5, row[v2] + 0.5))\n",
    "plt.show()"
   ]
  },
  {
   "cell_type": "code",
   "execution_count": null,
   "metadata": {},
   "outputs": [],
   "source": [
    "white_norm['quality'] = white['class']\n",
    "red_norm['quality'] = str(red['class'])"
   ]
  },
  {
   "cell_type": "code",
   "execution_count": null,
   "metadata": {
    "scrolled": true
   },
   "outputs": [],
   "source": [
    "red_norm.describe()"
   ]
  },
  {
   "cell_type": "code",
   "execution_count": null,
   "metadata": {},
   "outputs": [],
   "source": [
    "Z = linkage(white[[alcohol, pH]], 'ward')\n",
    "\n",
    "plt.figure()\n",
    "plt.title('Hierarchical Clustering Dendrogram')\n",
    "plt.xlabel('class')\n",
    "plt.ylabel('distance')\n",
    "dendrogram(Z, labels=white['class'].values)\n",
    "plt.savefig('hierarchy.svg')\n",
    "plt.show()"
   ]
  },
  {
   "cell_type": "code",
   "execution_count": null,
   "metadata": {},
   "outputs": [],
   "source": [
    "plt.figure()\n",
    "counter = 1\n",
    "for i in [3,4]:\n",
    "    plt.subplot(1,2,counter)\n",
    "    counter += 1\n",
    "    plt.tight_layout()\n",
    "    plt.title('Dendrogram - {} clusters'.format(i))\n",
    "    plt.xlabel('Count of Wines')\n",
    "    plt.ylabel('distance')\n",
    "    dendrogram(Z, truncate_mode='lastp', p=i)\n",
    "plt.show()"
   ]
  },
  {
   "cell_type": "code",
   "execution_count": null,
   "metadata": {},
   "outputs": [],
   "source": [
    "methods = ['single', 'average', 'complete']\n",
    "\n",
    "plt.figure(1,(20,5))\n",
    "y_axis = None\n",
    "for i, method in enumerate(methods):\n",
    "    y_axis = plt.subplot(1,4,i + 1, sharey = y_axis)\n",
    "    plt.title('Dendrogram - method {}'.format(method))\n",
    "    plt.xlabel('class')\n",
    "    plt.ylabel('distance')\n",
    "    dendrogram(\n",
    "        linkage(white[['quality', 'alcohol']], method)\n",
    "    )\n",
    "plt.show()"
   ]
  },
  {
   "cell_type": "code",
   "execution_count": null,
   "metadata": {},
   "outputs": [],
   "source": [
    "v1= volatile_acidity\n",
    "v2= alcohol\n",
    "\n",
    "plt.figure(1, (10,10))\n",
    "for i in range(1,11):\n",
    "    estimator = KMeans(n_clusters = i)\n",
    "    estimator.fit(white_norm.loc[:,[v1,v2]])\n",
    "    plt.subplot(5,2,i)\n",
    "    plt.tight_layout() # automatically adjusts subplot params so that the subplot(s) fits in to the figure area\n",
    "    plt.title(\"#cluster = {}\".format(i))\n",
    "    plt.xlabel(v1)\n",
    "    plt.ylabel(v2)\n",
    "    plt.scatter(white_norm[v1], white_norm[v2], c=estimator.labels_)\n",
    "#    for i, row in white_norm.iterrows():\n",
    "#        # print(\"i= {} ; row = {}\".format(i, row))\n",
    "#        plt.annotate(row[quality],\n",
    "#                     (row[v1], row[v2]), \n",
    "#                     xytext=(row[v1] + 0.5, row[v2] + 0.5))\n",
    "plt.show()"
   ]
  },
  {
   "cell_type": "code",
   "execution_count": null,
   "metadata": {
    "scrolled": false
   },
   "outputs": [],
   "source": [
    "white.describe()"
   ]
  },
  {
   "cell_type": "code",
   "execution_count": null,
   "metadata": {},
   "outputs": [],
   "source": [
    "white_data = white\n",
    "white_target = white['class']\n",
    "white_data = white_data.drop('quality',axis = 1)\n",
    "white_data = white_data.drop('class', axis = 1)\n",
    "print(white_data)\n",
    "print(white_target)"
   ]
  },
  {
   "cell_type": "code",
   "execution_count": null,
   "metadata": {},
   "outputs": [],
   "source": [
    "white_data_binned = pd.DataFrame(dict(\n",
    "    fixed_acidity = pd.qcut(white_data['fixed acidity'], q=3, labels=['low', 'middle', 'high']),\n",
    "    volatile_acidity = pd.qcut(white_data['volatile acidity'], q=3, labels=['low', 'middle', 'high']),\n",
    "    citric_acid = pd.qcut(white_data['citric acid'], q=3, labels=['low', 'middle', 'high']),\n",
    "    residual_sugar = pd.qcut(white_data['residual sugar'], q=3, labels=['low', 'middle', 'high']),\n",
    "    chlorides = pd.qcut(white_data['chlorides'], q=3, labels=['low', 'middle', 'high']),\n",
    "    free_sulfur_dioxide = pd.qcut(white_data['free sulfur dioxide'], q=3, labels=['low', 'middle', 'high']),\n",
    "    total_sulfur_dioxide = pd.qcut(white_data['total sulfur dioxide'], q=3, labels=['low', 'middle', 'high']),\n",
    "    density = pd.qcut(white_data['density'], q=3, labels=['low', 'middle', 'high']),\n",
    "    pH = pd.qcut(white_data['pH'], q=3, labels=['low', 'middle', 'high']),\n",
    "    sulphates = pd.qcut(white_data['sulphates'], q=3, labels=['low', 'middle', 'high']),\n",
    "    alcohol = pd.qcut(white_data['alcohol'], q=3, labels=['low', 'middle', 'high']),\n",
    "))"
   ]
  },
  {
   "cell_type": "code",
   "execution_count": null,
   "metadata": {},
   "outputs": [],
   "source": [
    "white_data_binned_and_encoded = pd.get_dummies(white_data_binned)\n",
    "print(white_data_binned_and_encoded)"
   ]
  },
  {
   "cell_type": "code",
   "execution_count": null,
   "metadata": {},
   "outputs": [],
   "source": [
    "white_target.head()"
   ]
  },
  {
   "cell_type": "code",
   "execution_count": null,
   "metadata": {},
   "outputs": [],
   "source": [
    "#define function for computing average roc for cross validation\n",
    "#see http://scikit-learn.org/stable/auto_examples/model_selection/plot_roc_crossval.html\n",
    "from scipy import interp\n",
    "from sklearn.metrics import roc_curve, auc, accuracy_score \n",
    "\n",
    "def avg_roc(cv, estimator, data, target, pos_label):\n",
    "    mean_fpr = np.linspace(0, 1, 100) # = [0.0, 0.01, 0.02, 0.03, ... , 0.99, 1.0]\n",
    "    tprs = []\n",
    "    aucs = []\n",
    "    \n",
    "    for train_indices, test_indices in cv.split(data, target):\n",
    "        train_data = data[train_indices]\n",
    "        train_target = target[train_indices]\n",
    "        estimator.fit(train_data, train_target)\n",
    "\n",
    "        test_data = data[test_indices]\n",
    "        test_target = target[test_indices]\n",
    "        decision_for_each_class = estimator.predict_proba(test_data)#have to use predict_proba or decision_function \n",
    "        print(classification_report(test_target, estimator.predict(test_data)))\n",
    "        \n",
    "        fpr, tpr, thresholds = roc_curve(test_target, decision_for_each_class[:,1], pos_label=pos_label)\n",
    "        tprs.append(interp(mean_fpr, fpr, tpr))\n",
    "        tprs[-1][0] = 0.0 # tprs[-1] access the last element\n",
    "        aucs.append(auc(fpr, tpr))\n",
    "        \n",
    "        #plt.plot(fpr, tpr)# plot for each fold\n",
    "        \n",
    "    mean_tpr = np.mean(tprs, axis=0)\n",
    "    mean_tpr[-1] = 1.0 # set the last tpr to 1\n",
    "    mean_auc = auc(mean_fpr, mean_tpr)\n",
    "    std_auc = np.std(aucs)\n",
    "    \n",
    "    return mean_fpr, mean_tpr, mean_auc, std_auc"
   ]
  },
  {
   "cell_type": "code",
   "execution_count": null,
   "metadata": {},
   "outputs": [],
   "source": [
    "from sklearn.neighbors import KNeighborsClassifier\n",
    "from sklearn.naive_bayes import GaussianNB\n",
    "from sklearn.model_selection import StratifiedKFold\n",
    "from sklearn import tree\n",
    "from sklearn.metrics import classification_report\n",
    "cv = StratifiedKFold(n_splits=10, shuffle=True, random_state=1337)\n",
    "\n",
    "plt.figure(figsize=(10,10))\n",
    "plt.plot([0, 1], [0, 1], linestyle='--', lw=2, color='r', label='Luck', alpha=.8) # draw diagonal\n",
    "\n",
    "for n_neighbour in [1,2,3,4,5,6,7,8,9,10]:\n",
    "    print(str(n_neighbour) + \" neighbours:\")\n",
    "    knn_estimator = KNeighborsClassifier(n_neighbour)\n",
    "    mean_fpr, mean_tpr, mean_auc, std_auc = avg_roc(cv, knn_estimator, white_data.values, white_target, 'low')\n",
    "    plt.plot(mean_fpr, mean_tpr, label='{}-NN (AUC: {:.3f} $\\pm$ {:.3f})'.format(n_neighbour, mean_auc, std_auc))\n",
    "    print(str(n_neighbour)+ \" neighbours//\")\n",
    "    \n",
    "decision_tree = tree.DecisionTreeClassifier()\n",
    "mean_fpr, mean_tpr, mean_auc, std_auc = avg_roc(cv, decision_tree, white_data.values, white_target, 'low')\n",
    "plt.plot(mean_fpr, mean_tpr, label='DecisonTree (AUC: {:.3f} $\\pm$ {:.3f})'.format(mean_auc, std_auc))\n",
    "\n",
    "naive_bayes = GaussianNB()\n",
    "mean_fpr, mean_tpr, mean_auc, std_auc = avg_roc(cv, naive_bayes, white_data.values, white_target, 'low')\n",
    "plt.plot(mean_fpr, mean_tpr, label='NaiveBayes (AUC: {:.3f} $\\pm$ {:.3f})'.format(mean_auc, std_auc))\n",
    "\n",
    "plt.xlabel('false positive rate')\n",
    "plt.ylabel('true positive rate')\n",
    "plt.legend()\n",
    "plt.show()\n"
   ]
  },
  {
   "cell_type": "code",
   "execution_count": null,
   "metadata": {},
   "outputs": [],
   "source": [
    "cv = StratifiedKFold(n_splits=10, shuffle=True, random_state=42)\n",
    "\n",
    "plt.figure(figsize=(10,10))\n",
    "plt.plot([0, 1], [0, 1], linestyle='--', lw=2, color='r', label='Luck', alpha=.8) # draw diagonal\n",
    "\n",
    "for n_neighbour in [2,3,4,5,6]:\n",
    "    knn_estimator = KNeighborsClassifier(n_neighbour)\n",
    "    mean_fpr, mean_tpr, mean_auc, std_auc = avg_roc(cv, knn_estimator, white_data.values, white_target, 'middle')\n",
    "    plt.plot(mean_fpr, mean_tpr, label='{}-NN (AUC: {:.3f} $\\pm$ {:.3f})'.format(n_neighbour, mean_auc, std_auc))\n",
    "    \n",
    "decision_tree = tree.DecisionTreeClassifier()\n",
    "mean_fpr, mean_tpr, mean_auc, std_auc = avg_roc(cv, decision_tree, white_data.values, white_target, 'middle')\n",
    "plt.plot(mean_fpr, mean_tpr, label='DecisonTree (AUC: {:.3f} $\\pm$ {:.3f})'.format(mean_auc, std_auc))\n",
    "\n",
    "naive_bayes = GaussianNB()\n",
    "mean_fpr, mean_tpr, mean_auc, std_auc = avg_roc(cv, naive_bayes, white_data.values, white_target, 'middle')\n",
    "plt.plot(mean_fpr, mean_tpr, label='NaiveBayes (AUC: {:.3f} $\\pm$ {:.3f})'.format(mean_auc, std_auc))\n",
    "\n",
    "plt.xlabel('false positive rate')\n",
    "plt.ylabel('true positive rate')\n",
    "plt.legend()\n",
    "plt.show()"
   ]
  },
  {
   "cell_type": "code",
   "execution_count": null,
   "metadata": {},
   "outputs": [],
   "source": [
    "cv = StratifiedKFold(n_splits=10, shuffle=True, random_state=42)\n",
    "\n",
    "plt.figure(figsize=(10,10))\n",
    "plt.plot([0, 1], [0, 1], linestyle='--', lw=2, color='r', label='Luck', alpha=.8) # draw diagonal\n",
    "\n",
    "for n_neighbour in [2,3,4,5,6]:\n",
    "    knn_estimator = KNeighborsClassifier(n_neighbour)\n",
    "    mean_fpr, mean_tpr, mean_auc, std_auc = avg_roc(cv, knn_estimator, white_data.values, white_target, 'high')\n",
    "    plt.plot(mean_fpr, mean_tpr, label='{}-NN (AUC: {:.3f} $\\pm$ {:.3f})'.format(n_neighbour, mean_auc, std_auc))\n",
    "    \n",
    "decision_tree = tree.DecisionTreeClassifier()\n",
    "mean_fpr, mean_tpr, mean_auc, std_auc = avg_roc(cv, decision_tree, white_data.values, white_target, 'high')\n",
    "plt.plot(mean_fpr, mean_tpr, label='DecisonTree (AUC: {:.3f} $\\pm$ {:.3f})'.format(mean_auc, std_auc))\n",
    "\n",
    "naive_bayes = GaussianNB()\n",
    "mean_fpr, mean_tpr, mean_auc, std_auc = avg_roc(cv, naive_bayes, white_data.values, white_target, 'high')\n",
    "plt.plot(mean_fpr, mean_tpr, label='NaiveBayes (AUC: {:.3f} $\\pm$ {:.3f})'.format(mean_auc, std_auc))\n",
    "\n",
    "plt.xlabel('false positive rate')\n",
    "plt.ylabel('true positive rate')\n",
    "plt.legend()\n",
    "plt.show()"
   ]
  },
  {
   "cell_type": "code",
   "execution_count": null,
   "metadata": {},
   "outputs": [],
   "source": [
    "red = pd.read_csv(\"data/winequality-red1.csv\")"
   ]
  },
  {
   "cell_type": "code",
   "execution_count": null,
   "metadata": {},
   "outputs": [],
   "source": [
    "print(red['quality'].describe())\n",
    "print(red['quality'].median())"
   ]
  },
  {
   "cell_type": "code",
   "execution_count": null,
   "metadata": {},
   "outputs": [],
   "source": [
    "print(white['quality'].describe())\n",
    "print(red['quality'].median())"
   ]
  },
  {
   "cell_type": "code",
   "execution_count": null,
   "metadata": {},
   "outputs": [],
   "source": [
    "conditions = [(white['quality'] < 6),\n",
    "              (white['quality'] > 6)]\n",
    "choices = ['1_low', '3_high']\n",
    "white['class'] = np.select(conditions, choices, default = '2_middle')\n",
    "white['class'].value_counts()"
   ]
  },
  {
   "cell_type": "code",
   "execution_count": null,
   "metadata": {},
   "outputs": [],
   "source": [
    "conditions = [(red['quality'] < 6),\n",
    "              (red['quality'] > 6)]\n",
    "choices = ['1_low', '3_high']\n",
    "red['class'] = np.select(conditions, choices, default = '2_middle')\n",
    "red['class'].value_counts()"
   ]
  },
  {
   "cell_type": "code",
   "execution_count": null,
   "metadata": {},
   "outputs": [],
   "source": []
  }
 ],
 "metadata": {
  "kernelspec": {
   "display_name": "Python 3",
   "language": "python",
   "name": "python3"
  },
  "language_info": {
   "codemirror_mode": {
    "name": "ipython",
    "version": 3
   },
   "file_extension": ".py",
   "mimetype": "text/x-python",
   "name": "python",
   "nbconvert_exporter": "python",
   "pygments_lexer": "ipython3",
   "version": "3.7.0"
  }
 },
 "nbformat": 4,
 "nbformat_minor": 2
}
