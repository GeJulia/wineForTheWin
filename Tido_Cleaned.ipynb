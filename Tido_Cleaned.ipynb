{
 "cells": [
  {
   "cell_type": "code",
   "execution_count": 2,
   "metadata": {},
   "outputs": [],
   "source": [
    "import pandas as pd\n",
    "import matplotlib.pyplot as plt\n",
    "import numpy as np\n",
    "from sklearn import svm\n",
    "from sklearn.metrics import confusion_matrix\n",
    "from sklearn.metrics import classification_report\n",
    "from sklearn.metrics import accuracy_score\n",
    "from sklearn.model_selection import train_test_split\n",
    "from sklearn.utils.multiclass import unique_labels\n",
    "from sklearn.model_selection import StratifiedKFold\n",
    "from sklearn.model_selection import cross_val_predict\n",
    "from sklearn.model_selection import GridSearchCV\n",
    "from sklearn.preprocessing import LabelBinarizer\n",
    "import math"
   ]
  },
  {
   "cell_type": "code",
   "execution_count": 3,
   "metadata": {},
   "outputs": [],
   "source": [
    "def confusion_matrix_report(y_true, y_pred):    \n",
    "    cm, labels = confusion_matrix(y_true, y_pred), unique_labels(y_true, y_pred)\n",
    "    column_width = max([len(str(x)) for x in labels] + [5])  # 5 is value length\n",
    "    report = \" \" * column_width + \" \" + \"{:_^{}}\".format(\"Prediction\", column_width * len(labels))+ \"\\n\"\n",
    "    report += \" \" * column_width + \" \".join([\"{:>{}}\".format(label, column_width) for label in labels]) + \"\\n\"\n",
    "    for i, label1 in enumerate(labels):\n",
    "        report += \"{:>{}}\".format(label1, column_width) + \" \".join([\"{:{}d}\".format(cm[i, j], column_width) for j in range(len(labels))]) + \"\\n\"\n",
    "    return report"
   ]
  },
  {
   "cell_type": "code",
   "execution_count": 4,
   "metadata": {},
   "outputs": [],
   "source": [
    "white = pd.read_csv(\"data/winequality-white1.csv\")\n",
    "red = pd.read_csv(\"data/winequality-red1.csv\")"
   ]
  },
  {
   "cell_type": "code",
   "execution_count": 5,
   "metadata": {},
   "outputs": [],
   "source": [
    "conditions = [(white['quality'] <= 5),\n",
    "              (white['quality'] >= 7)]\n",
    "choices = ['1_low', '3_high']\n",
    "white['quality_class'] = np.select(conditions, choices, default = '2_middle')\n",
    "conditions = [(red['quality'] <= 5),\n",
    "              (red['quality'] >= 7)]\n",
    "red['quality_class'] = np.select(conditions, choices, default = '2_middle')"
   ]
  },
  {
   "cell_type": "code",
   "execution_count": 6,
   "metadata": {},
   "outputs": [],
   "source": [
    "white_data = white.drop(['quality', 'quality_class'], axis = 1)\n",
    "red_data = red.drop(['quality', 'quality_class'], axis = 1)"
   ]
  },
  {
   "cell_type": "code",
   "execution_count": 7,
   "metadata": {},
   "outputs": [],
   "source": [
    "white_class = white['quality_class']\n",
    "red_class = red['quality_class']"
   ]
  },
  {
   "cell_type": "code",
   "execution_count": 8,
   "metadata": {},
   "outputs": [],
   "source": [
    "white_data_z_stand = pd.DataFrame()\n",
    "for column in white_data:\n",
    "    mean = white_data[column].mean()\n",
    "    sd = white_data[column].std()\n",
    "    white_data_z_stand[column] = (white_data[column]-mean)/sd\n",
    "red_data_z_stand = pd.DataFrame()\n",
    "for column in red_data:\n",
    "    mean = red_data[column].mean()\n",
    "    sd = red_data[column].std()\n",
    "    red_data_z_stand[column] = (red_data[column]-mean)/sd"
   ]
  },
  {
   "cell_type": "code",
   "execution_count": 9,
   "metadata": {},
   "outputs": [
    {
     "data": {
      "text/html": [
       "<div>\n",
       "<style scoped>\n",
       "    .dataframe tbody tr th:only-of-type {\n",
       "        vertical-align: middle;\n",
       "    }\n",
       "\n",
       "    .dataframe tbody tr th {\n",
       "        vertical-align: top;\n",
       "    }\n",
       "\n",
       "    .dataframe thead th {\n",
       "        text-align: right;\n",
       "    }\n",
       "</style>\n",
       "<table border=\"1\" class=\"dataframe\">\n",
       "  <thead>\n",
       "    <tr style=\"text-align: right;\">\n",
       "      <th></th>\n",
       "      <th>fixed acidity</th>\n",
       "      <th>volatile acidity</th>\n",
       "      <th>citric acid</th>\n",
       "      <th>residual sugar</th>\n",
       "      <th>chlorides</th>\n",
       "      <th>free sulfur dioxide</th>\n",
       "      <th>total sulfur dioxide</th>\n",
       "      <th>density</th>\n",
       "      <th>pH</th>\n",
       "      <th>sulphates</th>\n",
       "      <th>alcohol</th>\n",
       "    </tr>\n",
       "  </thead>\n",
       "  <tbody>\n",
       "    <tr>\n",
       "      <th>count</th>\n",
       "      <td>4.898000e+03</td>\n",
       "      <td>4.898000e+03</td>\n",
       "      <td>4.898000e+03</td>\n",
       "      <td>4.898000e+03</td>\n",
       "      <td>4.898000e+03</td>\n",
       "      <td>4.898000e+03</td>\n",
       "      <td>4.898000e+03</td>\n",
       "      <td>4.898000e+03</td>\n",
       "      <td>4.898000e+03</td>\n",
       "      <td>4.898000e+03</td>\n",
       "      <td>4.898000e+03</td>\n",
       "    </tr>\n",
       "    <tr>\n",
       "      <th>mean</th>\n",
       "      <td>2.653755e-14</td>\n",
       "      <td>-1.053431e-14</td>\n",
       "      <td>5.344610e-14</td>\n",
       "      <td>-2.538326e-15</td>\n",
       "      <td>-1.419036e-15</td>\n",
       "      <td>6.210721e-18</td>\n",
       "      <td>-1.387439e-16</td>\n",
       "      <td>2.148461e-12</td>\n",
       "      <td>1.316599e-14</td>\n",
       "      <td>-1.280696e-14</td>\n",
       "      <td>-2.846868e-14</td>\n",
       "    </tr>\n",
       "    <tr>\n",
       "      <th>std</th>\n",
       "      <td>1.000000e+00</td>\n",
       "      <td>1.000000e+00</td>\n",
       "      <td>1.000000e+00</td>\n",
       "      <td>1.000000e+00</td>\n",
       "      <td>1.000000e+00</td>\n",
       "      <td>1.000000e+00</td>\n",
       "      <td>1.000000e+00</td>\n",
       "      <td>1.000000e+00</td>\n",
       "      <td>1.000000e+00</td>\n",
       "      <td>1.000000e+00</td>\n",
       "      <td>1.000000e+00</td>\n",
       "    </tr>\n",
       "    <tr>\n",
       "      <th>min</th>\n",
       "      <td>-3.619982e+00</td>\n",
       "      <td>-1.966784e+00</td>\n",
       "      <td>-2.761461e+00</td>\n",
       "      <td>-1.141827e+00</td>\n",
       "      <td>-1.683102e+00</td>\n",
       "      <td>-1.958477e+00</td>\n",
       "      <td>-3.043919e+00</td>\n",
       "      <td>-2.312802e+00</td>\n",
       "      <td>-3.101091e+00</td>\n",
       "      <td>-2.364468e+00</td>\n",
       "      <td>-2.043089e+00</td>\n",
       "    </tr>\n",
       "    <tr>\n",
       "      <th>25%</th>\n",
       "      <td>-6.574340e-01</td>\n",
       "      <td>-6.770318e-01</td>\n",
       "      <td>-5.304215e-01</td>\n",
       "      <td>-9.249530e-01</td>\n",
       "      <td>-4.472890e-01</td>\n",
       "      <td>-7.237012e-01</td>\n",
       "      <td>-7.144009e-01</td>\n",
       "      <td>-7.706280e-01</td>\n",
       "      <td>-6.507699e-01</td>\n",
       "      <td>-6.996389e-01</td>\n",
       "      <td>-8.241915e-01</td>\n",
       "    </tr>\n",
       "    <tr>\n",
       "      <th>50%</th>\n",
       "      <td>-6.492444e-02</td>\n",
       "      <td>-1.809733e-01</td>\n",
       "      <td>-1.172660e-01</td>\n",
       "      <td>-2.348977e-01</td>\n",
       "      <td>-1.268931e-01</td>\n",
       "      <td>-7.691388e-02</td>\n",
       "      <td>-1.026084e-01</td>\n",
       "      <td>-9.608339e-02</td>\n",
       "      <td>-5.474574e-02</td>\n",
       "      <td>-1.739035e-01</td>\n",
       "      <td>-9.285319e-02</td>\n",
       "    </tr>\n",
       "    <tr>\n",
       "      <th>75%</th>\n",
       "      <td>5.275851e-01</td>\n",
       "      <td>4.142970e-01</td>\n",
       "      <td>4.611517e-01</td>\n",
       "      <td>6.917479e-01</td>\n",
       "      <td>1.935028e-01</td>\n",
       "      <td>6.286722e-01</td>\n",
       "      <td>6.738976e-01</td>\n",
       "      <td>6.929749e-01</td>\n",
       "      <td>6.075033e-01</td>\n",
       "      <td>5.270772e-01</td>\n",
       "      <td>7.197450e-01</td>\n",
       "    </tr>\n",
       "    <tr>\n",
       "      <th>max</th>\n",
       "      <td>8.704217e+00</td>\n",
       "      <td>8.152811e+00</td>\n",
       "      <td>1.095530e+01</td>\n",
       "      <td>1.171292e+01</td>\n",
       "      <td>1.374167e+01</td>\n",
       "      <td>1.491679e+01</td>\n",
       "      <td>7.097720e+00</td>\n",
       "      <td>1.502976e+01</td>\n",
       "      <td>4.183648e+00</td>\n",
       "      <td>5.171074e+00</td>\n",
       "      <td>2.995020e+00</td>\n",
       "    </tr>\n",
       "  </tbody>\n",
       "</table>\n",
       "</div>"
      ],
      "text/plain": [
       "       fixed acidity  volatile acidity   citric acid  residual sugar  \\\n",
       "count   4.898000e+03      4.898000e+03  4.898000e+03    4.898000e+03   \n",
       "mean    2.653755e-14     -1.053431e-14  5.344610e-14   -2.538326e-15   \n",
       "std     1.000000e+00      1.000000e+00  1.000000e+00    1.000000e+00   \n",
       "min    -3.619982e+00     -1.966784e+00 -2.761461e+00   -1.141827e+00   \n",
       "25%    -6.574340e-01     -6.770318e-01 -5.304215e-01   -9.249530e-01   \n",
       "50%    -6.492444e-02     -1.809733e-01 -1.172660e-01   -2.348977e-01   \n",
       "75%     5.275851e-01      4.142970e-01  4.611517e-01    6.917479e-01   \n",
       "max     8.704217e+00      8.152811e+00  1.095530e+01    1.171292e+01   \n",
       "\n",
       "          chlorides  free sulfur dioxide  total sulfur dioxide       density  \\\n",
       "count  4.898000e+03         4.898000e+03          4.898000e+03  4.898000e+03   \n",
       "mean  -1.419036e-15         6.210721e-18         -1.387439e-16  2.148461e-12   \n",
       "std    1.000000e+00         1.000000e+00          1.000000e+00  1.000000e+00   \n",
       "min   -1.683102e+00        -1.958477e+00         -3.043919e+00 -2.312802e+00   \n",
       "25%   -4.472890e-01        -7.237012e-01         -7.144009e-01 -7.706280e-01   \n",
       "50%   -1.268931e-01        -7.691388e-02         -1.026084e-01 -9.608339e-02   \n",
       "75%    1.935028e-01         6.286722e-01          6.738976e-01  6.929749e-01   \n",
       "max    1.374167e+01         1.491679e+01          7.097720e+00  1.502976e+01   \n",
       "\n",
       "                 pH     sulphates       alcohol  \n",
       "count  4.898000e+03  4.898000e+03  4.898000e+03  \n",
       "mean   1.316599e-14 -1.280696e-14 -2.846868e-14  \n",
       "std    1.000000e+00  1.000000e+00  1.000000e+00  \n",
       "min   -3.101091e+00 -2.364468e+00 -2.043089e+00  \n",
       "25%   -6.507699e-01 -6.996389e-01 -8.241915e-01  \n",
       "50%   -5.474574e-02 -1.739035e-01 -9.285319e-02  \n",
       "75%    6.075033e-01  5.270772e-01  7.197450e-01  \n",
       "max    4.183648e+00  5.171074e+00  2.995020e+00  "
      ]
     },
     "execution_count": 9,
     "metadata": {},
     "output_type": "execute_result"
    }
   ],
   "source": [
    "white_data_z_stand.describe()"
   ]
  },
  {
   "cell_type": "code",
   "execution_count": 10,
   "metadata": {},
   "outputs": [],
   "source": [
    "white_data_01_stand = pd.DataFrame()\n",
    "for column in white_data:\n",
    "    mini = white_data[column].min()\n",
    "    maxi = white_data[column].max()\n",
    "    white_data_01_stand[column] = (white_data[column]-mini)/(maxi-mini)\n",
    "red_data_01_stand = pd.DataFrame()\n",
    "for column in red_data:\n",
    "    mini = red_data[column].min()\n",
    "    maxi = red_data[column].max()\n",
    "    red_data_01_stand[column] = (red_data[column]-mini)/(maxi-mini)"
   ]
  },
  {
   "cell_type": "code",
   "execution_count": 11,
   "metadata": {},
   "outputs": [],
   "source": [
    "cross_val = StratifiedKFold(n_splits=10, shuffle=True, random_state=42)"
   ]
  },
  {
   "cell_type": "markdown",
   "metadata": {},
   "source": [
    "# White"
   ]
  },
  {
   "cell_type": "code",
   "execution_count": null,
   "metadata": {},
   "outputs": [],
   "source": [
    "# We could really use a measure that does take into account all F1s or so\n",
    "# At least something that indicates which configurations might be\n",
    "# interesting to look at"
   ]
  },
  {
   "cell_type": "markdown",
   "metadata": {},
   "source": [
    "### Trying out other Cs"
   ]
  },
  {
   "cell_type": "code",
   "execution_count": null,
   "metadata": {},
   "outputs": [],
   "source": [
    "clf_01_001 = svm.SVC(C=0.1, gamma=0.01, cache_size=5000,\n",
    "              decision_function_shape='ovo', class_weight='balanced')"
   ]
  },
  {
   "cell_type": "code",
   "execution_count": null,
   "metadata": {},
   "outputs": [],
   "source": [
    "predicted = cross_val_predict(clf_01_001, \n",
    "                              white_data_z_stand, white_class, cv=cross_val)"
   ]
  },
  {
   "cell_type": "code",
   "execution_count": null,
   "metadata": {},
   "outputs": [],
   "source": [
    "print(accuracy_score(white['quality_class'], predicted))\n",
    "print(confusion_matrix_report(white['quality_class'], predicted))\n",
    "print(classification_report(white['quality_class'], predicted))"
   ]
  },
  {
   "cell_type": "code",
   "execution_count": null,
   "metadata": {},
   "outputs": [],
   "source": [
    "clf_1_001 = svm.SVC(C=1, gamma=0.01, cache_size=5000,\n",
    "              decision_function_shape='ovo', class_weight='balanced')"
   ]
  },
  {
   "cell_type": "code",
   "execution_count": null,
   "metadata": {
    "scrolled": true
   },
   "outputs": [],
   "source": [
    "predicted = cross_val_predict(clf_1_001, \n",
    "                              white_data_z_stand, white_class, cv=cross_val)"
   ]
  },
  {
   "cell_type": "code",
   "execution_count": null,
   "metadata": {},
   "outputs": [],
   "source": [
    "print(accuracy_score(white['quality_class'], predicted))\n",
    "print(confusion_matrix_report(white['quality_class'], predicted))\n",
    "print(classification_report(white['quality_class'], predicted))"
   ]
  },
  {
   "cell_type": "code",
   "execution_count": null,
   "metadata": {},
   "outputs": [],
   "source": [
    "clf_10_001 = svm.SVC(C=10, gamma=0.01, cache_size=5000,\n",
    "              decision_function_shape='ovo', class_weight='balanced')"
   ]
  },
  {
   "cell_type": "code",
   "execution_count": null,
   "metadata": {},
   "outputs": [],
   "source": [
    "predicted = cross_val_predict(clf_10_001, \n",
    "                              white_data_z_stand, white_class, cv=cross_val)"
   ]
  },
  {
   "cell_type": "code",
   "execution_count": null,
   "metadata": {},
   "outputs": [],
   "source": [
    "print(accuracy_score(white['quality_class'], predicted))\n",
    "print(confusion_matrix_report(white['quality_class'], predicted))\n",
    "print(classification_report(white['quality_class'], predicted))"
   ]
  },
  {
   "cell_type": "code",
   "execution_count": null,
   "metadata": {},
   "outputs": [],
   "source": [
    "clf_100_001 = svm.SVC(C=100, gamma=0.01, cache_size=5000,\n",
    "              decision_function_shape='ovo', class_weight='balanced')"
   ]
  },
  {
   "cell_type": "code",
   "execution_count": null,
   "metadata": {},
   "outputs": [],
   "source": [
    "predicted = cross_val_predict(clf_100_001, \n",
    "                              white_data_z_stand, white_class, cv=cross_val)"
   ]
  },
  {
   "cell_type": "code",
   "execution_count": null,
   "metadata": {},
   "outputs": [],
   "source": [
    "print(accuracy_score(white['quality_class'], predicted))\n",
    "print(confusion_matrix_report(white['quality_class'], predicted))\n",
    "print(classification_report(white['quality_class'], predicted))"
   ]
  },
  {
   "cell_type": "markdown",
   "metadata": {},
   "source": [
    "### Trying out other gamma"
   ]
  },
  {
   "cell_type": "code",
   "execution_count": 24,
   "metadata": {},
   "outputs": [],
   "source": [
    "clf_100_03 = svm.SVC(C=100, gamma=0.3, cache_size=5000,\n",
    "              decision_function_shape='ovo', class_weight='balanced')"
   ]
  },
  {
   "cell_type": "code",
   "execution_count": 25,
   "metadata": {},
   "outputs": [],
   "source": [
    "predicted = cross_val_predict(clf_100_03, \n",
    "                              white_data_z_stand, white_class, cv=cross_val)"
   ]
  },
  {
   "cell_type": "code",
   "execution_count": 26,
   "metadata": {},
   "outputs": [
    {
     "name": "stdout",
     "output_type": "stream",
     "text": [
      "0.6939567170273581\n",
      "         _______Prediction_______\n",
      "           1_low 2_middle   3_high\n",
      "   1_low    1194      401       45\n",
      "2_middle     440     1508      250\n",
      "  3_high      82      281      697\n",
      "\n",
      "             precision    recall  f1-score   support\n",
      "\n",
      "      1_low       0.70      0.73      0.71      1640\n",
      "   2_middle       0.69      0.69      0.69      2198\n",
      "     3_high       0.70      0.66      0.68      1060\n",
      "\n",
      "avg / total       0.69      0.69      0.69      4898\n",
      "\n"
     ]
    }
   ],
   "source": [
    "print(accuracy_score(white['quality_class'], predicted))\n",
    "print(confusion_matrix_report(white['quality_class'], predicted))\n",
    "print(classification_report(white['quality_class'], predicted))"
   ]
  },
  {
   "cell_type": "code",
   "execution_count": 21,
   "metadata": {},
   "outputs": [],
   "source": [
    "clf_100_01 = svm.SVC(C=100, gamma=0.1, cache_size=5000,\n",
    "              decision_function_shape='ovo', class_weight='balanced')"
   ]
  },
  {
   "cell_type": "code",
   "execution_count": 22,
   "metadata": {},
   "outputs": [],
   "source": [
    "predicted = cross_val_predict(clf_100_01, \n",
    "                              white_data_z_stand, white_class, cv=cross_val)"
   ]
  },
  {
   "cell_type": "code",
   "execution_count": 23,
   "metadata": {},
   "outputs": [
    {
     "name": "stdout",
     "output_type": "stream",
     "text": [
      "0.6606778276847693\n",
      "         _______Prediction_______\n",
      "           1_low 2_middle   3_high\n",
      "   1_low    1187      374       79\n",
      "2_middle     515     1286      397\n",
      "  3_high      65      232      763\n",
      "\n",
      "             precision    recall  f1-score   support\n",
      "\n",
      "      1_low       0.67      0.72      0.70      1640\n",
      "   2_middle       0.68      0.59      0.63      2198\n",
      "     3_high       0.62      0.72      0.66      1060\n",
      "\n",
      "avg / total       0.66      0.66      0.66      4898\n",
      "\n"
     ]
    }
   ],
   "source": [
    "print(accuracy_score(white['quality_class'], predicted))\n",
    "print(confusion_matrix_report(white['quality_class'], predicted))\n",
    "print(classification_report(white['quality_class'], predicted))"
   ]
  },
  {
   "cell_type": "code",
   "execution_count": 12,
   "metadata": {},
   "outputs": [],
   "source": [
    "clf_100_001 = svm.SVC(C=100, gamma=0.01, cache_size=5000,\n",
    "              decision_function_shape='ovo', class_weight='balanced')"
   ]
  },
  {
   "cell_type": "code",
   "execution_count": 13,
   "metadata": {},
   "outputs": [],
   "source": [
    "predicted = cross_val_predict(clf_100_001, \n",
    "                              white_data_z_stand, white_class, cv=cross_val)"
   ]
  },
  {
   "cell_type": "code",
   "execution_count": 14,
   "metadata": {},
   "outputs": [
    {
     "name": "stdout",
     "output_type": "stream",
     "text": [
      "0.5853409554920376\n",
      "         _______Prediction_______\n",
      "           1_low 2_middle   3_high\n",
      "   1_low    1179      352      109\n",
      "2_middle     609      902      687\n",
      "  3_high      62      212      786\n",
      "\n",
      "             precision    recall  f1-score   support\n",
      "\n",
      "      1_low       0.64      0.72      0.68      1640\n",
      "   2_middle       0.62      0.41      0.49      2198\n",
      "     3_high       0.50      0.74      0.60      1060\n",
      "\n",
      "avg / total       0.60      0.59      0.58      4898\n",
      "\n"
     ]
    }
   ],
   "source": [
    "print(accuracy_score(white['quality_class'], predicted))\n",
    "print(confusion_matrix_report(white['quality_class'], predicted))\n",
    "print(classification_report(white['quality_class'], predicted))"
   ]
  },
  {
   "cell_type": "code",
   "execution_count": 15,
   "metadata": {},
   "outputs": [],
   "source": [
    "clf_100_0001 = svm.SVC(C=100, gamma=0.001, cache_size=5000,\n",
    "              decision_function_shape='ovo', class_weight='balanced')"
   ]
  },
  {
   "cell_type": "code",
   "execution_count": 16,
   "metadata": {},
   "outputs": [],
   "source": [
    "predicted = cross_val_predict(clf_100_0001, \n",
    "                              white_data_z_stand, white_class, cv=cross_val)"
   ]
  },
  {
   "cell_type": "code",
   "execution_count": 17,
   "metadata": {},
   "outputs": [
    {
     "name": "stdout",
     "output_type": "stream",
     "text": [
      "0.5549203756635361\n",
      "         _______Prediction_______\n",
      "           1_low 2_middle   3_high\n",
      "   1_low    1194      349       97\n",
      "2_middle     701      806      691\n",
      "  3_high     125      217      718\n",
      "\n",
      "             precision    recall  f1-score   support\n",
      "\n",
      "      1_low       0.59      0.73      0.65      1640\n",
      "   2_middle       0.59      0.37      0.45      2198\n",
      "     3_high       0.48      0.68      0.56      1060\n",
      "\n",
      "avg / total       0.56      0.55      0.54      4898\n",
      "\n"
     ]
    }
   ],
   "source": [
    "print(accuracy_score(white['quality_class'], predicted))\n",
    "print(confusion_matrix_report(white['quality_class'], predicted))\n",
    "print(classification_report(white['quality_class'], predicted))"
   ]
  },
  {
   "cell_type": "code",
   "execution_count": 18,
   "metadata": {},
   "outputs": [],
   "source": [
    "clf_100_00001 = svm.SVC(C=100, gamma=0.0001, cache_size=5000,\n",
    "              decision_function_shape='ovo', class_weight='balanced')"
   ]
  },
  {
   "cell_type": "code",
   "execution_count": 19,
   "metadata": {},
   "outputs": [],
   "source": [
    "predicted = cross_val_predict(clf_100_00001, \n",
    "                              white_data_z_stand, white_class, cv=cross_val)"
   ]
  },
  {
   "cell_type": "code",
   "execution_count": 20,
   "metadata": {},
   "outputs": [
    {
     "name": "stdout",
     "output_type": "stream",
     "text": [
      "0.5289914250714577\n",
      "         _______Prediction_______\n",
      "           1_low 2_middle   3_high\n",
      "   1_low    1186      302      152\n",
      "2_middle     759      683      756\n",
      "  3_high     139      199      722\n",
      "\n",
      "             precision    recall  f1-score   support\n",
      "\n",
      "      1_low       0.57      0.72      0.64      1640\n",
      "   2_middle       0.58      0.31      0.40      2198\n",
      "     3_high       0.44      0.68      0.54      1060\n",
      "\n",
      "avg / total       0.55      0.53      0.51      4898\n",
      "\n"
     ]
    }
   ],
   "source": [
    "print(accuracy_score(white['quality_class'], predicted))\n",
    "print(confusion_matrix_report(white['quality_class'], predicted))\n",
    "print(classification_report(white['quality_class'], predicted))"
   ]
  },
  {
   "cell_type": "markdown",
   "metadata": {},
   "source": [
    "### Gridsearch"
   ]
  },
  {
   "cell_type": "code",
   "execution_count": 27,
   "metadata": {},
   "outputs": [],
   "source": [
    "clf = svm.SVC(cache_size=5000,\n",
    "              decision_function_shape='ovo', class_weight='balanced')"
   ]
  },
  {
   "cell_type": "code",
   "execution_count": 31,
   "metadata": {},
   "outputs": [],
   "source": [
    "parameters = [{'C': [0.1, 1, 10, 100, 1000, 10000], 'kernel': ['linear']},\n",
    "              {'C': [0.1, 1, 10, 100, 1000, 10000], 'gamma': [0.001, 0.01, 0.1, 0.2, 0.3, 0.4, 0.5, 0.6, 0.7], 'kernel': ['rbf']}]"
   ]
  },
  {
   "cell_type": "code",
   "execution_count": 32,
   "metadata": {},
   "outputs": [],
   "source": [
    "grid_search_estimator = GridSearchCV(clf, \n",
    "                                     parameters, scoring='accuracy', cv=cross_val)"
   ]
  },
  {
   "cell_type": "code",
   "execution_count": null,
   "metadata": {},
   "outputs": [],
   "source": [
    "grid_search_estimator.fit(white_data_z_stand, white_class)"
   ]
  },
  {
   "cell_type": "markdown",
   "metadata": {},
   "source": [
    "# Red"
   ]
  },
  {
   "cell_type": "code",
   "execution_count": null,
   "metadata": {},
   "outputs": [],
   "source": []
  },
  {
   "cell_type": "code",
   "execution_count": null,
   "metadata": {},
   "outputs": [],
   "source": []
  },
  {
   "cell_type": "code",
   "execution_count": null,
   "metadata": {},
   "outputs": [],
   "source": []
  }
 ],
 "metadata": {
  "kernelspec": {
   "display_name": "Python 3",
   "language": "python",
   "name": "python3"
  }
 },
 "nbformat": 4,
 "nbformat_minor": 2
}
