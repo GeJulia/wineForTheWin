{
 "cells": [
  {
   "cell_type": "code",
   "execution_count": 11,
   "metadata": {},
   "outputs": [],
   "source": [
    "import pandas as pd\n",
    "import numpy as np \n",
    "import matplotlib.pyplot as plt\n",
    "import seaborn as sns\n",
    "import tensorflow as tf \n",
    "from sklearn.model_selection import train_test_split\n",
    "from tensorflow.keras import layers\n",
    "import keras as keras\n",
    "from keras import models\n",
    "from keras import layers\n",
    "from keras.models import Sequential\n",
    "from keras.layers import Dense, Dropout, Activation\n",
    "from keras.optimizers import SGD\n",
    "from keras.utils.np_utils import to_categorical\n",
    "from keras.wrappers.scikit_learn import KerasClassifier\n",
    "from sklearn.model_selection import cross_val_score\n",
    "from sklearn.neural_network import MLPClassifier\n",
    "from keras import metrics\n",
    "from sklearn.metrics import mean_squared_error\n",
    "from math import sqrt\n",
    "from sklearn.preprocessing import LabelBinarizer\n",
    "from sklearn.model_selection import StratifiedKFold\n",
    "from sklearn.model_selection import cross_val_predict\n",
    "from sklearn.metrics import classification_report, confusion_matrix, accuracy_score"
   ]
  },
  {
   "cell_type": "code",
   "execution_count": 12,
   "metadata": {},
   "outputs": [],
   "source": [
    "red = pd.read_csv('data/winequality-red1.csv')\n",
    "white = pd.read_csv('data/winequality-white1.csv')"
   ]
  },
  {
   "cell_type": "code",
   "execution_count": 13,
   "metadata": {},
   "outputs": [],
   "source": [
    "red['quality'].replace(to_replace=[0,1,2,3,4,5], value=1, inplace=True)\n",
    "red['quality'].replace(to_replace=[6], value=2, inplace=True)\n",
    "red['quality'].replace(to_replace=[7,8,9,10], value=3, inplace=True)\n",
    "X_red = red[\n",
    "['fixed acidity',\n",
    " 'volatile acidity',\n",
    " 'citric acid',\n",
    " 'residual sugar',\n",
    " 'chlorides',\n",
    " 'free sulfur dioxide',\n",
    " 'total sulfur dioxide',\n",
    " 'density',\n",
    " 'pH',\n",
    " 'sulphates',\n",
    " 'alcohol']]\n",
    "Y_red = red[['quality']]\n",
    "white['quality'].replace(to_replace=[0,1,2,3,4,5], value=1, inplace=True)\n",
    "white['quality'].replace(to_replace=[6], value=2, inplace=True)\n",
    "white['quality'].replace(to_replace=[7,8,9,10], value=3, inplace=True)\n",
    "X_white = white[\n",
    "['fixed acidity',\n",
    " 'volatile acidity',\n",
    " 'citric acid',\n",
    " 'residual sugar',\n",
    " 'chlorides',\n",
    " 'free sulfur dioxide',\n",
    " 'total sulfur dioxide',\n",
    " 'density',\n",
    " 'pH',\n",
    " 'sulphates',\n",
    " 'alcohol']]\n",
    "\n",
    "Y_white = white[['quality']]\n",
    "X_red = X_red.values\n",
    "Y_red = Y_red.values\n",
    "X_white = X_white.values\n",
    "Y_white = Y_white.values\n",
    "number_of_features = 11"
   ]
  },
  {
   "cell_type": "code",
   "execution_count": 79,
   "metadata": {},
   "outputs": [],
   "source": [
    "def rsme(targets, outputs):\n",
    "    return tf.sqrt(tf.reduce_mean(tf.square(tf.subtract(targets, outputs))))  \n",
    "\n",
    "# Create function returning a compiled network\n",
    "def create_network():\n",
    "    network = models.Sequential()\n",
    "    network.add(layers.BatchNormalization())\n",
    "    network.add(layers.Dense(units=64, activation='relu'))\n",
    "    network.add(layers.Dense(3, activation='softmax'))\n",
    "\n",
    "    #network.compile(loss='binary_crossentropy', # Cross-entropy\n",
    "   #                 optimizer='rmsprop', # Root Mean Square Propagation\n",
    "    #                metrics=['accuracy']) # Accuracy performance metric\n",
    "    network.compile(loss='sparse_categorical_crossentropy',\n",
    "              optimizer='adam',\n",
    "              metrics=['accuracy', rsme])\n",
    "    \n",
    "    # Return compiled network\n",
    "    return network\n",
    "\n",
    "cv = StratifiedKFold(n_splits=10, shuffle=True, random_state=42)"
   ]
  },
  {
   "cell_type": "code",
   "execution_count": 80,
   "metadata": {},
   "outputs": [],
   "source": [
    "neural_network = KerasClassifier(build_fn=create_network, \n",
    "                                     epochs=10, \n",
    "                                     batch_size=100, \n",
    "                                     verbose=0)"
   ]
  },
  {
   "cell_type": "code",
   "execution_count": 75,
   "metadata": {},
   "outputs": [
    {
     "name": "stdout",
     "output_type": "stream",
     "text": [
      "BN, One layer Linear with 64 nodes and Softmax\n",
      "Red\n",
      "              precision    recall  f1-score   support\n",
      "\n",
      "           1       0.70      0.79      0.74       744\n",
      "           2       0.55      0.54      0.54       638\n",
      "           3       0.51      0.32      0.39       217\n",
      "\n",
      "   micro avg       0.63      0.63      0.63      1599\n",
      "   macro avg       0.59      0.55      0.56      1599\n",
      "weighted avg       0.62      0.63      0.62      1599\n",
      "\n",
      "White\n",
      "              precision    recall  f1-score   support\n",
      "\n",
      "           1       0.64      0.57      0.60      1640\n",
      "           2       0.53      0.67      0.59      2198\n",
      "           3       0.56      0.35      0.43      1060\n",
      "\n",
      "   micro avg       0.56      0.56      0.56      4898\n",
      "   macro avg       0.58      0.53      0.54      4898\n",
      "weighted avg       0.57      0.56      0.56      4898\n",
      "\n",
      "RSME red\n",
      "0.9594572166570099\n",
      "RSME white\n",
      "0.9712627605243774\n"
     ]
    }
   ],
   "source": [
    "print(\"BN, One layer Linear with 64 nodes and Softmax\")\n",
    "print(\"Red\")\n",
    "prediction_red = cross_val_predict(neural_network, X_red, Y_red, cv=cv) \n",
    "print(classification_report(Y_red, prediction_red))\n",
    "print(\"White\")\n",
    "prediction_white = cross_val_predict(neural_network, X_white, Y_white, cv=cv) \n",
    "print(classification_report(Y_white, prediction_white))\n",
    "print(\"RSME red\")\n",
    "print(sqrt(np.mean((Y_red-prediction_red)*(Y_red-prediction_red))))\n",
    "print('RSME white')\n",
    "print(sqrt(np.mean((Y_white-prediction_white)*(Y_white-prediction_white))))"
   ]
  },
  {
   "cell_type": "code",
   "execution_count": 78,
   "metadata": {},
   "outputs": [
    {
     "name": "stdout",
     "output_type": "stream",
     "text": [
      "BN, One layer Sigmoid with 64 nodes and Softmax\n",
      "Red\n",
      "              precision    recall  f1-score   support\n",
      "\n",
      "           1       0.65      0.81      0.73       744\n",
      "           2       0.51      0.53      0.52       638\n",
      "           3       0.69      0.04      0.08       217\n",
      "\n",
      "   micro avg       0.60      0.60      0.60      1599\n",
      "   macro avg       0.62      0.46      0.44      1599\n",
      "weighted avg       0.60      0.60      0.56      1599\n",
      "\n",
      "White\n",
      "              precision    recall  f1-score   support\n",
      "\n",
      "           1       0.65      0.56      0.60      1640\n",
      "           2       0.53      0.71      0.61      2198\n",
      "           3       0.60      0.31      0.41      1060\n",
      "\n",
      "   micro avg       0.57      0.57      0.57      4898\n",
      "   macro avg       0.59      0.53      0.54      4898\n",
      "weighted avg       0.59      0.57      0.56      4898\n",
      "\n",
      "RSME red\n",
      "0.9010400202041945\n",
      "RSME white\n",
      "0.9538702544931809\n"
     ]
    }
   ],
   "source": [
    "print(\"BN, One layer Sigmoid with 64 nodes and Softmax\")\n",
    "print(\"Red\")\n",
    "prediction_red = cross_val_predict(neural_network, X_red, Y_red, cv=cv) \n",
    "print(classification_report(Y_red, prediction_red))\n",
    "print(\"White\")\n",
    "prediction_white = cross_val_predict(neural_network, X_white, Y_white, cv=cv) \n",
    "print(classification_report(Y_white, prediction_white))\n",
    "print(\"RSME red\")\n",
    "print(sqrt(np.mean((Y_red-prediction_red)*(Y_red-prediction_red))))\n",
    "print('RSME white')\n",
    "print(sqrt(np.mean((Y_white-prediction_white)*(Y_white-prediction_white))))"
   ]
  },
  {
   "cell_type": "code",
   "execution_count": 81,
   "metadata": {},
   "outputs": [
    {
     "name": "stdout",
     "output_type": "stream",
     "text": [
      "BN, One layer Relu with 64 nodes and Softmax\n",
      "Red\n",
      "              precision    recall  f1-score   support\n",
      "\n",
      "           1       0.68      0.79      0.73       744\n",
      "           2       0.54      0.53      0.54       638\n",
      "           3       0.56      0.30      0.40       217\n",
      "\n",
      "   micro avg       0.62      0.62      0.62      1599\n",
      "   macro avg       0.60      0.54      0.55      1599\n",
      "weighted avg       0.61      0.62      0.61      1599\n",
      "\n",
      "White\n",
      "              precision    recall  f1-score   support\n",
      "\n",
      "           1       0.66      0.61      0.63      1640\n",
      "           2       0.55      0.68      0.61      2198\n",
      "           3       0.61      0.37      0.46      1060\n",
      "\n",
      "   micro avg       0.59      0.59      0.59      4898\n",
      "   macro avg       0.60      0.55      0.57      4898\n",
      "weighted avg       0.60      0.59      0.58      4898\n",
      "\n",
      "RSME red\n",
      "0.951804017566414\n",
      "RSME white\n",
      "0.9747912231867222\n"
     ]
    }
   ],
   "source": [
    "print(\"BN, One layer Relu with 64 nodes and Softmax\")\n",
    "print(\"Red\")\n",
    "prediction_red = cross_val_predict(neural_network, X_red, Y_red, cv=cv) \n",
    "print(classification_report(Y_red, prediction_red))\n",
    "print(\"White\")\n",
    "prediction_white = cross_val_predict(neural_network, X_white, Y_white, cv=cv) \n",
    "print(classification_report(Y_white, prediction_white))\n",
    "print(\"RSME red\")\n",
    "print(sqrt(np.mean((Y_red-prediction_red)*(Y_red-prediction_red))))\n",
    "print('RSME white')\n",
    "print(sqrt(np.mean((Y_white-prediction_white)*(Y_white-prediction_white))))"
   ]
  },
  {
   "cell_type": "code",
   "execution_count": 60,
   "metadata": {},
   "outputs": [
    {
     "name": "stdout",
     "output_type": "stream",
     "text": [
      "One layer Selu with 64 nodes and Softmax\n",
      "Red\n",
      "              precision    recall  f1-score   support\n",
      "\n",
      "           1       0.58      0.66      0.62       744\n",
      "           2       0.45      0.50      0.48       638\n",
      "           3       0.37      0.06      0.11       217\n",
      "\n",
      "   micro avg       0.52      0.52      0.52      1599\n",
      "   macro avg       0.47      0.41      0.40      1599\n",
      "weighted avg       0.50      0.52      0.49      1599\n",
      "\n",
      "White\n",
      "              precision    recall  f1-score   support\n",
      "\n",
      "           1       0.50      0.55      0.52      1640\n",
      "           2       0.48      0.54      0.50      2198\n",
      "           3       0.46      0.26      0.33      1060\n",
      "\n",
      "   micro avg       0.48      0.48      0.48      4898\n",
      "   macro avg       0.48      0.45      0.45      4898\n",
      "weighted avg       0.48      0.48      0.47      4898\n",
      "\n",
      "RSME red\n",
      "0.9073693082714352\n",
      "RSME white\n",
      "0.9940223760963623\n"
     ]
    }
   ],
   "source": [
    "print(\"BN, One layer Selu with 64 nodes and Softmax\")\n",
    "print(\"Red\")\n",
    "prediction_red = cross_val_predict(neural_network, X_red, Y_red, cv=cv) \n",
    "print(classification_report(Y_red, prediction_red))\n",
    "print(\"White\")\n",
    "prediction_white = cross_val_predict(neural_network, X_white, Y_white, cv=cv) \n",
    "print(classification_report(Y_white, prediction_white))\n",
    "print(\"RSME red\")\n",
    "print(sqrt(np.mean((Y_red-prediction_red)*(Y_red-prediction_red))))\n",
    "print('RSME white')\n",
    "print(sqrt(np.mean((Y_white-prediction_white)*(Y_white-prediction_white))))"
   ]
  },
  {
   "cell_type": "code",
   "execution_count": null,
   "metadata": {},
   "outputs": [],
   "source": []
  }
 ],
 "metadata": {
  "kernelspec": {
   "display_name": "Python 3",
   "language": "python",
   "name": "python3"
  },
  "language_info": {
   "codemirror_mode": {
    "name": "ipython",
    "version": 3
   },
   "file_extension": ".py",
   "mimetype": "text/x-python",
   "name": "python",
   "nbconvert_exporter": "python",
   "pygments_lexer": "ipython3",
   "version": "3.7.0"
  }
 },
 "nbformat": 4,
 "nbformat_minor": 2
}
