{
 "cells": [
  {
   "cell_type": "code",
   "execution_count": 1,
   "metadata": {},
   "outputs": [
    {
     "name": "stderr",
     "output_type": "stream",
     "text": [
      "Using TensorFlow backend.\n"
     ]
    }
   ],
   "source": [
    "import pandas as pd\n",
    "import numpy as np \n",
    "import matplotlib.pyplot as plt\n",
    "import seaborn as sns\n",
    "import tensorflow as tf \n",
    "from sklearn.model_selection import train_test_split\n",
    "from tensorflow.keras import layers\n",
    "import keras as keras\n",
    "from keras import models\n",
    "from keras import layers\n",
    "from keras.models import Sequential\n",
    "from keras.layers import Dense, Dropout, Activation\n",
    "from keras.optimizers import SGD\n",
    "from keras.utils.np_utils import to_categorical\n",
    "from keras.wrappers.scikit_learn import KerasClassifier\n",
    "from sklearn.model_selection import cross_val_score\n",
    "from sklearn.neural_network import MLPClassifier\n",
    "from keras import metrics\n",
    "from sklearn.metrics import mean_squared_error\n",
    "from math import sqrt\n",
    "from sklearn.preprocessing import LabelBinarizer\n",
    "from sklearn.model_selection import StratifiedKFold\n",
    "from sklearn.model_selection import cross_val_predict\n",
    "from sklearn.metrics import classification_report, confusion_matrix, accuracy_score\n",
    "from copy import deepcopy"
   ]
  },
  {
   "cell_type": "code",
   "execution_count": 2,
   "metadata": {},
   "outputs": [],
   "source": [
    "red = pd.read_csv('data/winequality-red1.csv')\n",
    "white = pd.read_csv('data/winequality-white1.csv')"
   ]
  },
  {
   "cell_type": "code",
   "execution_count": 3,
   "metadata": {},
   "outputs": [],
   "source": [
    "red['quality'].replace(to_replace=[0,1,2,3,4,5], value=1, inplace=True)\n",
    "red['quality'].replace(to_replace=[6], value=2, inplace=True)\n",
    "red['quality'].replace(to_replace=[7,8,9,10], value=3, inplace=True)\n",
    "X_red = red[\n",
    "['fixed acidity',\n",
    " 'volatile acidity',\n",
    " 'citric acid',\n",
    " 'residual sugar',\n",
    " 'chlorides',\n",
    " 'free sulfur dioxide',\n",
    " 'total sulfur dioxide',\n",
    " 'density',\n",
    " 'pH',\n",
    " 'sulphates',\n",
    " 'alcohol']]\n",
    "Y_red = red[['quality']]\n",
    "white['quality'].replace(to_replace=[0,1,2,3,4,5], value=1, inplace=True)\n",
    "white['quality'].replace(to_replace=[6], value=2, inplace=True)\n",
    "white['quality'].replace(to_replace=[7,8,9,10], value=3, inplace=True)\n",
    "X_white = white[\n",
    "['fixed acidity',\n",
    " 'volatile acidity',\n",
    " 'citric acid',\n",
    " 'residual sugar',\n",
    " 'chlorides',\n",
    " 'free sulfur dioxide',\n",
    " 'total sulfur dioxide',\n",
    " 'density',\n",
    " 'pH',\n",
    " 'sulphates',\n",
    " 'alcohol']]\n",
    "\n",
    "Y_white = white[['quality']]\n",
    "#X_red = X_red.values\n",
    "Y_red = Y_red.values\n",
    "#X_white = X_white.values\n",
    "Y_white = Y_white.values\n",
    "number_of_features = 11"
   ]
  },
  {
   "cell_type": "code",
   "execution_count": 4,
   "metadata": {},
   "outputs": [],
   "source": [
    "def rsme(targets, outputs):\n",
    "    return tf.sqrt(tf.reduce_mean(tf.square(tf.subtract(targets, outputs))))  \n",
    "\n",
    "cv = StratifiedKFold(n_splits=10, shuffle=True, random_state=42)\n",
    "\n",
    "# Create function returning a compiled network\n",
    "def create_network():\n",
    "    network = models.Sequential()\n",
    "    #network.add(layers.BatchNormalization())\n",
    "    network.add(layers.Dense(units=64, activation='linear'))\n",
    "    #network.add(layers.Dense(units=9, activation = 'relu'))\n",
    "    #network.add(layers.Dense(units=6, activation = 'relu'))\n",
    "    #network.add(layers.Dense(units=18, activation = 'relu'))\n",
    "    #network.add(layers.Dense(3, activation='softmax'))\n",
    "\n",
    "    #network.compile(loss='binary_crossentropy', # Cross-entropy\n",
    "   #                 optimizer='rmsprop', # Root Mean Square Propagation\n",
    "    #                metrics=['accuracy']) # Accuracy performance metric\n",
    "    network.compile(loss='sparse_categorical_crossentropy',\n",
    "              optimizer='adam',\n",
    "              metrics=['accuracy', rsme])\n",
    "    \n",
    "    # Return compiled network\n",
    "    return network\n",
    "\n",
    "\n",
    "neural_network = KerasClassifier(build_fn=create_network, \n",
    "                                     epochs=10, \n",
    "                                     batch_size=100, \n",
    "                                     verbose=0)"
   ]
  },
  {
   "cell_type": "code",
   "execution_count": 5,
   "metadata": {},
   "outputs": [],
   "source": [
    "def startStatistic(neural_network, X_red, Y_red, X_white, Y_white):\n",
    "    X_red = X_red.values\n",
    "    print(\"Red\")\n",
    "    prediction_red = cross_val_predict(neural_network, X_red, Y_red, cv=cv) \n",
    "    print(classification_report(Y_red, prediction_red))\n",
    "    print(\"RSME red\")\n",
    "    print(sqrt(np.mean((Y_red-prediction_red)*(Y_red-prediction_red))))\n",
    "    X_white = X_white.values\n",
    "    print(\"White\")\n",
    "    prediction_white = cross_val_predict(neural_network, X_white, Y_white, cv=cv) \n",
    "    print(classification_report(Y_white, prediction_white))\n",
    "    print('RSME white')\n",
    "    print(sqrt(np.mean((Y_white-prediction_white)*(Y_white-prediction_white))))"
   ]
  },
  {
   "cell_type": "markdown",
   "metadata": {},
   "source": [
    "## One Layer"
   ]
  },
  {
   "cell_type": "code",
   "execution_count": 6,
   "metadata": {
    "scrolled": false
   },
   "outputs": [
    {
     "name": "stdout",
     "output_type": "stream",
     "text": [
      "One Layer Linear\n",
      "Red\n"
     ]
    },
    {
     "ename": "IndexError",
     "evalue": "index 15 is out of bounds for axis 1 with size 3",
     "output_type": "error",
     "traceback": [
      "\u001b[1;31m---------------------------------------------------------------------------\u001b[0m",
      "\u001b[1;31mIndexError\u001b[0m                                Traceback (most recent call last)",
      "\u001b[1;32m<ipython-input-6-060697527df0>\u001b[0m in \u001b[0;36m<module>\u001b[1;34m()\u001b[0m\n\u001b[0;32m     16\u001b[0m                                      verbose=0)\n\u001b[0;32m     17\u001b[0m \u001b[0mprint\u001b[0m\u001b[1;33m(\u001b[0m\u001b[1;34m\"One Layer Linear\"\u001b[0m\u001b[1;33m)\u001b[0m\u001b[1;33m\u001b[0m\u001b[0m\n\u001b[1;32m---> 18\u001b[1;33m \u001b[0mstartStatistic\u001b[0m\u001b[1;33m(\u001b[0m\u001b[0mneural_network\u001b[0m\u001b[1;33m,\u001b[0m \u001b[0mX_red\u001b[0m\u001b[1;33m,\u001b[0m \u001b[0mY_red\u001b[0m\u001b[1;33m,\u001b[0m \u001b[0mX_white\u001b[0m\u001b[1;33m,\u001b[0m \u001b[0mY_white\u001b[0m\u001b[1;33m)\u001b[0m\u001b[1;33m\u001b[0m\u001b[0m\n\u001b[0m",
      "\u001b[1;32m<ipython-input-5-5981e4b4358b>\u001b[0m in \u001b[0;36mstartStatistic\u001b[1;34m(neural_network, X_red, Y_red, X_white, Y_white)\u001b[0m\n\u001b[0;32m      2\u001b[0m     \u001b[0mX_red\u001b[0m \u001b[1;33m=\u001b[0m \u001b[0mX_red\u001b[0m\u001b[1;33m.\u001b[0m\u001b[0mvalues\u001b[0m\u001b[1;33m\u001b[0m\u001b[0m\n\u001b[0;32m      3\u001b[0m     \u001b[0mprint\u001b[0m\u001b[1;33m(\u001b[0m\u001b[1;34m\"Red\"\u001b[0m\u001b[1;33m)\u001b[0m\u001b[1;33m\u001b[0m\u001b[0m\n\u001b[1;32m----> 4\u001b[1;33m     \u001b[0mprediction_red\u001b[0m \u001b[1;33m=\u001b[0m \u001b[0mcross_val_predict\u001b[0m\u001b[1;33m(\u001b[0m\u001b[0mneural_network\u001b[0m\u001b[1;33m,\u001b[0m \u001b[0mX_red\u001b[0m\u001b[1;33m,\u001b[0m \u001b[0mY_red\u001b[0m\u001b[1;33m,\u001b[0m \u001b[0mcv\u001b[0m\u001b[1;33m=\u001b[0m\u001b[0mcv\u001b[0m\u001b[1;33m)\u001b[0m\u001b[1;33m\u001b[0m\u001b[0m\n\u001b[0m\u001b[0;32m      5\u001b[0m     \u001b[0mprint\u001b[0m\u001b[1;33m(\u001b[0m\u001b[0mclassification_report\u001b[0m\u001b[1;33m(\u001b[0m\u001b[0mY_red\u001b[0m\u001b[1;33m,\u001b[0m \u001b[0mprediction_red\u001b[0m\u001b[1;33m)\u001b[0m\u001b[1;33m)\u001b[0m\u001b[1;33m\u001b[0m\u001b[0m\n\u001b[0;32m      6\u001b[0m     \u001b[0mprint\u001b[0m\u001b[1;33m(\u001b[0m\u001b[1;34m\"RSME red\"\u001b[0m\u001b[1;33m)\u001b[0m\u001b[1;33m\u001b[0m\u001b[0m\n",
      "\u001b[1;32m~\\AppData\\Local\\Continuum\\anaconda3\\lib\\site-packages\\sklearn\\model_selection\\_validation.py\u001b[0m in \u001b[0;36mcross_val_predict\u001b[1;34m(estimator, X, y, groups, cv, n_jobs, verbose, fit_params, pre_dispatch, method)\u001b[0m\n\u001b[0;32m    775\u001b[0m     prediction_blocks = parallel(delayed(_fit_and_predict)(\n\u001b[0;32m    776\u001b[0m         clone(estimator), X, y, train, test, verbose, fit_params, method)\n\u001b[1;32m--> 777\u001b[1;33m         for train, test in cv.split(X, y, groups))\n\u001b[0m\u001b[0;32m    778\u001b[0m \u001b[1;33m\u001b[0m\u001b[0m\n\u001b[0;32m    779\u001b[0m     \u001b[1;31m# Concatenate the predictions\u001b[0m\u001b[1;33m\u001b[0m\u001b[1;33m\u001b[0m\u001b[0m\n",
      "\u001b[1;32m~\\AppData\\Local\\Continuum\\anaconda3\\lib\\site-packages\\sklearn\\externals\\joblib\\parallel.py\u001b[0m in \u001b[0;36m__call__\u001b[1;34m(self, iterable)\u001b[0m\n\u001b[0;32m    981\u001b[0m             \u001b[1;31m# remaining jobs.\u001b[0m\u001b[1;33m\u001b[0m\u001b[1;33m\u001b[0m\u001b[0m\n\u001b[0;32m    982\u001b[0m             \u001b[0mself\u001b[0m\u001b[1;33m.\u001b[0m\u001b[0m_iterating\u001b[0m \u001b[1;33m=\u001b[0m \u001b[1;32mFalse\u001b[0m\u001b[1;33m\u001b[0m\u001b[0m\n\u001b[1;32m--> 983\u001b[1;33m             \u001b[1;32mif\u001b[0m \u001b[0mself\u001b[0m\u001b[1;33m.\u001b[0m\u001b[0mdispatch_one_batch\u001b[0m\u001b[1;33m(\u001b[0m\u001b[0miterator\u001b[0m\u001b[1;33m)\u001b[0m\u001b[1;33m:\u001b[0m\u001b[1;33m\u001b[0m\u001b[0m\n\u001b[0m\u001b[0;32m    984\u001b[0m                 \u001b[0mself\u001b[0m\u001b[1;33m.\u001b[0m\u001b[0m_iterating\u001b[0m \u001b[1;33m=\u001b[0m \u001b[0mself\u001b[0m\u001b[1;33m.\u001b[0m\u001b[0m_original_iterator\u001b[0m \u001b[1;32mis\u001b[0m \u001b[1;32mnot\u001b[0m \u001b[1;32mNone\u001b[0m\u001b[1;33m\u001b[0m\u001b[0m\n\u001b[0;32m    985\u001b[0m \u001b[1;33m\u001b[0m\u001b[0m\n",
      "\u001b[1;32m~\\AppData\\Local\\Continuum\\anaconda3\\lib\\site-packages\\sklearn\\externals\\joblib\\parallel.py\u001b[0m in \u001b[0;36mdispatch_one_batch\u001b[1;34m(self, iterator)\u001b[0m\n\u001b[0;32m    823\u001b[0m                 \u001b[1;32mreturn\u001b[0m \u001b[1;32mFalse\u001b[0m\u001b[1;33m\u001b[0m\u001b[0m\n\u001b[0;32m    824\u001b[0m             \u001b[1;32melse\u001b[0m\u001b[1;33m:\u001b[0m\u001b[1;33m\u001b[0m\u001b[0m\n\u001b[1;32m--> 825\u001b[1;33m                 \u001b[0mself\u001b[0m\u001b[1;33m.\u001b[0m\u001b[0m_dispatch\u001b[0m\u001b[1;33m(\u001b[0m\u001b[0mtasks\u001b[0m\u001b[1;33m)\u001b[0m\u001b[1;33m\u001b[0m\u001b[0m\n\u001b[0m\u001b[0;32m    826\u001b[0m                 \u001b[1;32mreturn\u001b[0m \u001b[1;32mTrue\u001b[0m\u001b[1;33m\u001b[0m\u001b[0m\n\u001b[0;32m    827\u001b[0m \u001b[1;33m\u001b[0m\u001b[0m\n",
      "\u001b[1;32m~\\AppData\\Local\\Continuum\\anaconda3\\lib\\site-packages\\sklearn\\externals\\joblib\\parallel.py\u001b[0m in \u001b[0;36m_dispatch\u001b[1;34m(self, batch)\u001b[0m\n\u001b[0;32m    780\u001b[0m         \u001b[1;32mwith\u001b[0m \u001b[0mself\u001b[0m\u001b[1;33m.\u001b[0m\u001b[0m_lock\u001b[0m\u001b[1;33m:\u001b[0m\u001b[1;33m\u001b[0m\u001b[0m\n\u001b[0;32m    781\u001b[0m             \u001b[0mjob_idx\u001b[0m \u001b[1;33m=\u001b[0m \u001b[0mlen\u001b[0m\u001b[1;33m(\u001b[0m\u001b[0mself\u001b[0m\u001b[1;33m.\u001b[0m\u001b[0m_jobs\u001b[0m\u001b[1;33m)\u001b[0m\u001b[1;33m\u001b[0m\u001b[0m\n\u001b[1;32m--> 782\u001b[1;33m             \u001b[0mjob\u001b[0m \u001b[1;33m=\u001b[0m \u001b[0mself\u001b[0m\u001b[1;33m.\u001b[0m\u001b[0m_backend\u001b[0m\u001b[1;33m.\u001b[0m\u001b[0mapply_async\u001b[0m\u001b[1;33m(\u001b[0m\u001b[0mbatch\u001b[0m\u001b[1;33m,\u001b[0m \u001b[0mcallback\u001b[0m\u001b[1;33m=\u001b[0m\u001b[0mcb\u001b[0m\u001b[1;33m)\u001b[0m\u001b[1;33m\u001b[0m\u001b[0m\n\u001b[0m\u001b[0;32m    783\u001b[0m             \u001b[1;31m# A job can complete so quickly than its callback is\u001b[0m\u001b[1;33m\u001b[0m\u001b[1;33m\u001b[0m\u001b[0m\n\u001b[0;32m    784\u001b[0m             \u001b[1;31m# called before we get here, causing self._jobs to\u001b[0m\u001b[1;33m\u001b[0m\u001b[1;33m\u001b[0m\u001b[0m\n",
      "\u001b[1;32m~\\AppData\\Local\\Continuum\\anaconda3\\lib\\site-packages\\sklearn\\externals\\joblib\\_parallel_backends.py\u001b[0m in \u001b[0;36mapply_async\u001b[1;34m(self, func, callback)\u001b[0m\n\u001b[0;32m    180\u001b[0m     \u001b[1;32mdef\u001b[0m \u001b[0mapply_async\u001b[0m\u001b[1;33m(\u001b[0m\u001b[0mself\u001b[0m\u001b[1;33m,\u001b[0m \u001b[0mfunc\u001b[0m\u001b[1;33m,\u001b[0m \u001b[0mcallback\u001b[0m\u001b[1;33m=\u001b[0m\u001b[1;32mNone\u001b[0m\u001b[1;33m)\u001b[0m\u001b[1;33m:\u001b[0m\u001b[1;33m\u001b[0m\u001b[0m\n\u001b[0;32m    181\u001b[0m         \u001b[1;34m\"\"\"Schedule a func to be run\"\"\"\u001b[0m\u001b[1;33m\u001b[0m\u001b[0m\n\u001b[1;32m--> 182\u001b[1;33m         \u001b[0mresult\u001b[0m \u001b[1;33m=\u001b[0m \u001b[0mImmediateResult\u001b[0m\u001b[1;33m(\u001b[0m\u001b[0mfunc\u001b[0m\u001b[1;33m)\u001b[0m\u001b[1;33m\u001b[0m\u001b[0m\n\u001b[0m\u001b[0;32m    183\u001b[0m         \u001b[1;32mif\u001b[0m \u001b[0mcallback\u001b[0m\u001b[1;33m:\u001b[0m\u001b[1;33m\u001b[0m\u001b[0m\n\u001b[0;32m    184\u001b[0m             \u001b[0mcallback\u001b[0m\u001b[1;33m(\u001b[0m\u001b[0mresult\u001b[0m\u001b[1;33m)\u001b[0m\u001b[1;33m\u001b[0m\u001b[0m\n",
      "\u001b[1;32m~\\AppData\\Local\\Continuum\\anaconda3\\lib\\site-packages\\sklearn\\externals\\joblib\\_parallel_backends.py\u001b[0m in \u001b[0;36m__init__\u001b[1;34m(self, batch)\u001b[0m\n\u001b[0;32m    543\u001b[0m         \u001b[1;31m# Don't delay the application, to avoid keeping the input\u001b[0m\u001b[1;33m\u001b[0m\u001b[1;33m\u001b[0m\u001b[0m\n\u001b[0;32m    544\u001b[0m         \u001b[1;31m# arguments in memory\u001b[0m\u001b[1;33m\u001b[0m\u001b[1;33m\u001b[0m\u001b[0m\n\u001b[1;32m--> 545\u001b[1;33m         \u001b[0mself\u001b[0m\u001b[1;33m.\u001b[0m\u001b[0mresults\u001b[0m \u001b[1;33m=\u001b[0m \u001b[0mbatch\u001b[0m\u001b[1;33m(\u001b[0m\u001b[1;33m)\u001b[0m\u001b[1;33m\u001b[0m\u001b[0m\n\u001b[0m\u001b[0;32m    546\u001b[0m \u001b[1;33m\u001b[0m\u001b[0m\n\u001b[0;32m    547\u001b[0m     \u001b[1;32mdef\u001b[0m \u001b[0mget\u001b[0m\u001b[1;33m(\u001b[0m\u001b[0mself\u001b[0m\u001b[1;33m)\u001b[0m\u001b[1;33m:\u001b[0m\u001b[1;33m\u001b[0m\u001b[0m\n",
      "\u001b[1;32m~\\AppData\\Local\\Continuum\\anaconda3\\lib\\site-packages\\sklearn\\externals\\joblib\\parallel.py\u001b[0m in \u001b[0;36m__call__\u001b[1;34m(self)\u001b[0m\n\u001b[0;32m    259\u001b[0m         \u001b[1;32mwith\u001b[0m \u001b[0mparallel_backend\u001b[0m\u001b[1;33m(\u001b[0m\u001b[0mself\u001b[0m\u001b[1;33m.\u001b[0m\u001b[0m_backend\u001b[0m\u001b[1;33m)\u001b[0m\u001b[1;33m:\u001b[0m\u001b[1;33m\u001b[0m\u001b[0m\n\u001b[0;32m    260\u001b[0m             return [func(*args, **kwargs)\n\u001b[1;32m--> 261\u001b[1;33m                     for func, args, kwargs in self.items]\n\u001b[0m\u001b[0;32m    262\u001b[0m \u001b[1;33m\u001b[0m\u001b[0m\n\u001b[0;32m    263\u001b[0m     \u001b[1;32mdef\u001b[0m \u001b[0m__len__\u001b[0m\u001b[1;33m(\u001b[0m\u001b[0mself\u001b[0m\u001b[1;33m)\u001b[0m\u001b[1;33m:\u001b[0m\u001b[1;33m\u001b[0m\u001b[0m\n",
      "\u001b[1;32m~\\AppData\\Local\\Continuum\\anaconda3\\lib\\site-packages\\sklearn\\externals\\joblib\\parallel.py\u001b[0m in \u001b[0;36m<listcomp>\u001b[1;34m(.0)\u001b[0m\n\u001b[0;32m    259\u001b[0m         \u001b[1;32mwith\u001b[0m \u001b[0mparallel_backend\u001b[0m\u001b[1;33m(\u001b[0m\u001b[0mself\u001b[0m\u001b[1;33m.\u001b[0m\u001b[0m_backend\u001b[0m\u001b[1;33m)\u001b[0m\u001b[1;33m:\u001b[0m\u001b[1;33m\u001b[0m\u001b[0m\n\u001b[0;32m    260\u001b[0m             return [func(*args, **kwargs)\n\u001b[1;32m--> 261\u001b[1;33m                     for func, args, kwargs in self.items]\n\u001b[0m\u001b[0;32m    262\u001b[0m \u001b[1;33m\u001b[0m\u001b[0m\n\u001b[0;32m    263\u001b[0m     \u001b[1;32mdef\u001b[0m \u001b[0m__len__\u001b[0m\u001b[1;33m(\u001b[0m\u001b[0mself\u001b[0m\u001b[1;33m)\u001b[0m\u001b[1;33m:\u001b[0m\u001b[1;33m\u001b[0m\u001b[0m\n",
      "\u001b[1;32m~\\AppData\\Local\\Continuum\\anaconda3\\lib\\site-packages\\sklearn\\model_selection\\_validation.py\u001b[0m in \u001b[0;36m_fit_and_predict\u001b[1;34m(estimator, X, y, train, test, verbose, fit_params, method)\u001b[0m\n\u001b[0;32m    850\u001b[0m         \u001b[0mestimator\u001b[0m\u001b[1;33m.\u001b[0m\u001b[0mfit\u001b[0m\u001b[1;33m(\u001b[0m\u001b[0mX_train\u001b[0m\u001b[1;33m,\u001b[0m \u001b[0my_train\u001b[0m\u001b[1;33m,\u001b[0m \u001b[1;33m**\u001b[0m\u001b[0mfit_params\u001b[0m\u001b[1;33m)\u001b[0m\u001b[1;33m\u001b[0m\u001b[0m\n\u001b[0;32m    851\u001b[0m     \u001b[0mfunc\u001b[0m \u001b[1;33m=\u001b[0m \u001b[0mgetattr\u001b[0m\u001b[1;33m(\u001b[0m\u001b[0mestimator\u001b[0m\u001b[1;33m,\u001b[0m \u001b[0mmethod\u001b[0m\u001b[1;33m)\u001b[0m\u001b[1;33m\u001b[0m\u001b[0m\n\u001b[1;32m--> 852\u001b[1;33m     \u001b[0mpredictions\u001b[0m \u001b[1;33m=\u001b[0m \u001b[0mfunc\u001b[0m\u001b[1;33m(\u001b[0m\u001b[0mX_test\u001b[0m\u001b[1;33m)\u001b[0m\u001b[1;33m\u001b[0m\u001b[0m\n\u001b[0m\u001b[0;32m    853\u001b[0m     \u001b[1;32mif\u001b[0m \u001b[0mmethod\u001b[0m \u001b[1;32min\u001b[0m \u001b[1;33m[\u001b[0m\u001b[1;34m'decision_function'\u001b[0m\u001b[1;33m,\u001b[0m \u001b[1;34m'predict_proba'\u001b[0m\u001b[1;33m,\u001b[0m \u001b[1;34m'predict_log_proba'\u001b[0m\u001b[1;33m]\u001b[0m\u001b[1;33m:\u001b[0m\u001b[1;33m\u001b[0m\u001b[0m\n\u001b[0;32m    854\u001b[0m         \u001b[0mn_classes\u001b[0m \u001b[1;33m=\u001b[0m \u001b[0mlen\u001b[0m\u001b[1;33m(\u001b[0m\u001b[0mset\u001b[0m\u001b[1;33m(\u001b[0m\u001b[0my\u001b[0m\u001b[1;33m)\u001b[0m\u001b[1;33m)\u001b[0m\u001b[1;33m\u001b[0m\u001b[0m\n",
      "\u001b[1;32m~\\AppData\\Local\\Continuum\\anaconda3\\lib\\site-packages\\keras\\wrappers\\scikit_learn.py\u001b[0m in \u001b[0;36mpredict\u001b[1;34m(self, x, **kwargs)\u001b[0m\n\u001b[0;32m    232\u001b[0m         \u001b[1;32melse\u001b[0m\u001b[1;33m:\u001b[0m\u001b[1;33m\u001b[0m\u001b[0m\n\u001b[0;32m    233\u001b[0m             \u001b[0mclasses\u001b[0m \u001b[1;33m=\u001b[0m \u001b[1;33m(\u001b[0m\u001b[0mproba\u001b[0m \u001b[1;33m>\u001b[0m \u001b[1;36m0.5\u001b[0m\u001b[1;33m)\u001b[0m\u001b[1;33m.\u001b[0m\u001b[0mastype\u001b[0m\u001b[1;33m(\u001b[0m\u001b[1;34m'int32'\u001b[0m\u001b[1;33m)\u001b[0m\u001b[1;33m\u001b[0m\u001b[0m\n\u001b[1;32m--> 234\u001b[1;33m         \u001b[1;32mreturn\u001b[0m \u001b[0mself\u001b[0m\u001b[1;33m.\u001b[0m\u001b[0mclasses_\u001b[0m\u001b[1;33m[\u001b[0m\u001b[0mclasses\u001b[0m\u001b[1;33m]\u001b[0m\u001b[1;33m\u001b[0m\u001b[0m\n\u001b[0m\u001b[0;32m    235\u001b[0m \u001b[1;33m\u001b[0m\u001b[0m\n\u001b[0;32m    236\u001b[0m     \u001b[1;32mdef\u001b[0m \u001b[0mpredict_proba\u001b[0m\u001b[1;33m(\u001b[0m\u001b[0mself\u001b[0m\u001b[1;33m,\u001b[0m \u001b[0mx\u001b[0m\u001b[1;33m,\u001b[0m \u001b[1;33m**\u001b[0m\u001b[0mkwargs\u001b[0m\u001b[1;33m)\u001b[0m\u001b[1;33m:\u001b[0m\u001b[1;33m\u001b[0m\u001b[0m\n",
      "\u001b[1;31mIndexError\u001b[0m: index 15 is out of bounds for axis 1 with size 3"
     ]
    }
   ],
   "source": [
    "# Create function returning a compiled network\n",
    "def create_network_linear():\n",
    "    network = models.Sequential()\n",
    "    network.add(layers.Dense(units=64, activation='linear'))\n",
    "\n",
    "    network.compile(loss='sparse_categorical_crossentropy',\n",
    "              optimizer='adam',\n",
    "              metrics=['accuracy', rsme])\n",
    "    \n",
    "    # Return compiled network\n",
    "    return network\n",
    "\n",
    "neural_network = KerasClassifier(build_fn=create_network_linear, \n",
    "                                     epochs=10, \n",
    "                                     batch_size=100, \n",
    "                                     verbose=0)\n",
    "print(\"One Layer Linear\")\n",
    "startStatistic(neural_network, X_red, Y_red, X_white, Y_white)"
   ]
  },
  {
   "cell_type": "code",
   "execution_count": 18,
   "metadata": {},
   "outputs": [
    {
     "name": "stdout",
     "output_type": "stream",
     "text": [
      "White\n",
      "              precision    recall  f1-score   support\n",
      "\n",
      "           1       0.65      0.63      0.64      1640\n",
      "           2       0.55      0.66      0.60      2198\n",
      "           3       0.59      0.37      0.46      1060\n",
      "\n",
      "   micro avg       0.59      0.59      0.59      4898\n",
      "   macro avg       0.60      0.56      0.57      4898\n",
      "weighted avg       0.59      0.59      0.58      4898\n",
      "\n",
      "RSME white\n",
      "0.982920202845265\n"
     ]
    }
   ],
   "source": [
    "network = models.Sequential()\n",
    "network.add(layers.Dense(units=64, activation='sigmoid'))\n",
    "network.compile(loss='sparse_categorical_crossentropy',\n",
    "              optimizer='adam',\n",
    "              metrics=['accuracy', rsme])\n",
    "neural_network = KerasClassifier(build_fn=network, \n",
    "                                     epochs=10, \n",
    "                                     batch_size=100, \n",
    "                                     verbose=0) \n",
    "print(\"One Layer Sigmoid\")\n",
    "startStatistic(neural_network, X_red, X_white)"
   ]
  },
  {
   "cell_type": "code",
   "execution_count": 19,
   "metadata": {},
   "outputs": [
    {
     "name": "stdout",
     "output_type": "stream",
     "text": [
      "BN, One layer Relu with 64 nodes, Relu 9 nodes, Relu 6, Relu18 and Softmax\n",
      "Red\n",
      "              precision    recall  f1-score   support\n",
      "\n",
      "           1       0.68      0.79      0.73       744\n",
      "           2       0.53      0.56      0.54       638\n",
      "           3       0.55      0.13      0.21       217\n",
      "\n",
      "   micro avg       0.61      0.61      0.61      1599\n",
      "   macro avg       0.58      0.49      0.49      1599\n",
      "weighted avg       0.60      0.61      0.58      1599\n",
      "\n",
      "White\n",
      "              precision    recall  f1-score   support\n",
      "\n",
      "           1       0.66      0.62      0.64      1640\n",
      "           2       0.56      0.64      0.60      2198\n",
      "           3       0.59      0.45      0.51      1060\n",
      "\n",
      "   micro avg       0.60      0.60      0.60      4898\n",
      "   macro avg       0.60      0.57      0.58      4898\n",
      "weighted avg       0.60      0.60      0.59      4898\n",
      "\n",
      "RSME red\n",
      "0.9161692350251881\n",
      "RSME white\n",
      "0.9979839959440506\n"
     ]
    }
   ],
   "source": [
    "print(\"BN, One layer Relu with 64 nodes, Relu 9 nodes, Relu 6, Relu18 and Softmax\")\n",
    "print(\"Red\")\n",
    "prediction_red = cross_val_predict(neural_network, X_red, Y_red, cv=cv) \n",
    "print(classification_report(Y_red, prediction_red))\n",
    "print(\"White\")\n",
    "prediction_white = cross_val_predict(neural_network, X_white, Y_white, cv=cv) \n",
    "print(classification_report(Y_white, prediction_white))\n",
    "print(\"RSME red\")\n",
    "print(sqrt(np.mean((Y_red-prediction_red)*(Y_red-prediction_red))))\n",
    "print('RSME white')\n",
    "print(sqrt(np.mean((Y_white-prediction_white)*(Y_white-prediction_white))))"
   ]
  },
  {
   "cell_type": "code",
   "execution_count": 9,
   "metadata": {},
   "outputs": [
    {
     "name": "stdout",
     "output_type": "stream",
     "text": [
      "BN, One layer Sigmoid with 64 nodes, relu 9 nodes and Softmax\n",
      "Red\n",
      "              precision    recall  f1-score   support\n",
      "\n",
      "           1       0.65      0.83      0.73       744\n",
      "           2       0.52      0.52      0.52       638\n",
      "           3       0.60      0.07      0.12       217\n",
      "\n",
      "   micro avg       0.60      0.60      0.60      1599\n",
      "   macro avg       0.59      0.47      0.46      1599\n",
      "weighted avg       0.60      0.60      0.57      1599\n",
      "\n",
      "White\n",
      "              precision    recall  f1-score   support\n",
      "\n",
      "           1       0.63      0.58      0.60      1640\n",
      "           2       0.53      0.67      0.59      2198\n",
      "           3       0.58      0.34      0.42      1060\n",
      "\n",
      "   micro avg       0.57      0.57      0.57      4898\n",
      "   macro avg       0.58      0.53      0.54      4898\n",
      "weighted avg       0.57      0.57      0.56      4898\n",
      "\n",
      "RSME red\n",
      "0.9100337580554019\n",
      "RSME white\n",
      "0.9710443331885646\n"
     ]
    }
   ],
   "source": [
    "print(\"BN, One layer Sigmoid with 64 nodes, relu 9 nodes and Softmax\")\n",
    "print(\"Red\")\n",
    "prediction_red = cross_val_predict(neural_network, X_red, Y_red, cv=cv) \n",
    "print(classification_report(Y_red, prediction_red))\n",
    "print(\"White\")\n",
    "prediction_white = cross_val_predict(neural_network, X_white, Y_white, cv=cv) \n",
    "print(classification_report(Y_white, prediction_white))\n",
    "print(\"RSME red\")\n",
    "print(sqrt(np.mean((Y_red-prediction_red)*(Y_red-prediction_red))))\n",
    "print('RSME white')\n",
    "print(sqrt(np.mean((Y_white-prediction_white)*(Y_white-prediction_white))))"
   ]
  },
  {
   "cell_type": "code",
   "execution_count": 12,
   "metadata": {},
   "outputs": [
    {
     "name": "stdout",
     "output_type": "stream",
     "text": [
      "BN, One layer Relu with 64 nodes, relu 9 nodes and Softmax\n",
      "Red\n",
      "              precision    recall  f1-score   support\n",
      "\n",
      "           1       0.69      0.81      0.74       744\n",
      "           2       0.55      0.56      0.56       638\n",
      "           3       0.59      0.20      0.30       217\n",
      "\n",
      "   micro avg       0.63      0.63      0.63      1599\n",
      "   macro avg       0.61      0.52      0.53      1599\n",
      "weighted avg       0.62      0.63      0.61      1599\n",
      "\n",
      "White\n",
      "              precision    recall  f1-score   support\n",
      "\n",
      "           1       0.65      0.65      0.65      1640\n",
      "           2       0.56      0.64      0.60      2198\n",
      "           3       0.60      0.43      0.50      1060\n",
      "\n",
      "   micro avg       0.59      0.59      0.59      4898\n",
      "   macro avg       0.60      0.57      0.58      4898\n",
      "weighted avg       0.60      0.59      0.59      4898\n",
      "\n",
      "RSME red\n",
      "0.9284291328541032\n",
      "RSME white\n",
      "0.9975910531370398\n"
     ]
    }
   ],
   "source": [
    "print(\"BN, One layer Relu with 64 nodes, relu 9 nodes and Softmax\")\n",
    "print(\"Red\")\n",
    "prediction_red = cross_val_predict(neural_network, X_red, Y_red, cv=cv) \n",
    "print(classification_report(Y_red, prediction_red))\n",
    "print(\"White\")\n",
    "prediction_white = cross_val_predict(neural_network, X_white, Y_white, cv=cv) \n",
    "print(classification_report(Y_white, prediction_white))\n",
    "print(\"RSME red\")\n",
    "print(sqrt(np.mean((Y_red-prediction_red)*(Y_red-prediction_red))))\n",
    "print('RSME white')\n",
    "print(sqrt(np.mean((Y_white-prediction_white)*(Y_white-prediction_white))))"
   ]
  },
  {
   "cell_type": "code",
   "execution_count": 13,
   "metadata": {},
   "outputs": [
    {
     "name": "stdout",
     "output_type": "stream",
     "text": [
      "BN, One layer Selu with 64 nodes, relu 9 nodes and Softmax\n",
      "Red\n",
      "              precision    recall  f1-score   support\n",
      "\n",
      "           1       0.68      0.81      0.74       744\n",
      "           2       0.56      0.52      0.54       638\n",
      "           3       0.58      0.30      0.40       217\n",
      "\n",
      "   micro avg       0.63      0.63      0.63      1599\n",
      "   macro avg       0.61      0.55      0.56      1599\n",
      "weighted avg       0.62      0.63      0.61      1599\n",
      "\n",
      "White\n",
      "              precision    recall  f1-score   support\n",
      "\n",
      "           1       0.66      0.65      0.65      1640\n",
      "           2       0.56      0.64      0.60      2198\n",
      "           3       0.59      0.43      0.50      1060\n",
      "\n",
      "   micro avg       0.60      0.60      0.60      4898\n",
      "   macro avg       0.60      0.57      0.58      4898\n",
      "weighted avg       0.60      0.60      0.59      4898\n",
      "\n",
      "RSME red\n",
      "0.9533028948172204\n",
      "RSME white\n",
      "0.9992914657944089\n"
     ]
    }
   ],
   "source": [
    "print(\"BN, One layer Selu with 64 nodes, relu 9 nodes and Softmax\")\n",
    "print(\"Red\")\n",
    "prediction_red = cross_val_predict(neural_network, X_red, Y_red, cv=cv) \n",
    "print(classification_report(Y_red, prediction_red))\n",
    "print(\"White\")\n",
    "prediction_white = cross_val_predict(neural_network, X_white, Y_white, cv=cv) \n",
    "print(classification_report(Y_white, prediction_white))\n",
    "print(\"RSME red\")\n",
    "print(sqrt(np.mean((Y_red-prediction_red)*(Y_red-prediction_red))))\n",
    "print('RSME white')\n",
    "print(sqrt(np.mean((Y_white-prediction_white)*(Y_white-prediction_white))))"
   ]
  },
  {
   "cell_type": "code",
   "execution_count": 16,
   "metadata": {
    "scrolled": true
   },
   "outputs": [
    {
     "name": "stdout",
     "output_type": "stream",
     "text": [
      "BN, One layer Relu with 64 nodes, relu 9 nodes, relu 6 nodes and Softmax\n",
      "Red\n",
      "              precision    recall  f1-score   support\n",
      "\n",
      "           1       0.66      0.78      0.71       744\n",
      "           2       0.51      0.52      0.52       638\n",
      "           3       0.49      0.15      0.23       217\n",
      "\n",
      "   micro avg       0.59      0.59      0.59      1599\n",
      "   macro avg       0.55      0.48      0.49      1599\n",
      "weighted avg       0.58      0.59      0.57      1599\n",
      "\n",
      "White\n",
      "              precision    recall  f1-score   support\n",
      "\n",
      "           1       0.67      0.65      0.66      1640\n",
      "           2       0.57      0.64      0.60      2198\n",
      "           3       0.58      0.44      0.50      1060\n",
      "\n",
      "   micro avg       0.60      0.60      0.60      4898\n",
      "   macro avg       0.61      0.58      0.59      4898\n",
      "weighted avg       0.60      0.60      0.60      4898\n",
      "\n",
      "RSME red\n",
      "0.9263366737294821\n",
      "RSME white\n",
      "1.0011794846167397\n"
     ]
    }
   ],
   "source": [
    "print(\"BN, One layer Relu with 64 nodes, relu 9 nodes, relu 6 nodes and Softmax\")\n",
    "print(\"Red\")\n",
    "prediction_red = cross_val_predict(neural_network, X_red, Y_red, cv=cv) \n",
    "print(classification_report(Y_red, prediction_red))\n",
    "print(\"White\")\n",
    "prediction_white = cross_val_predict(neural_network, X_white, Y_white, cv=cv) \n",
    "print(classification_report(Y_white, prediction_white))\n",
    "print(\"RSME red\")\n",
    "print(sqrt(np.mean((Y_red-prediction_red)*(Y_red-prediction_red))))\n",
    "print('RSME white')\n",
    "print(sqrt(np.mean((Y_white-prediction_white)*(Y_white-prediction_white))))"
   ]
  },
  {
   "cell_type": "markdown",
   "metadata": {},
   "source": [
    "## Feature Selection"
   ]
  },
  {
   "cell_type": "code",
   "execution_count": 21,
   "metadata": {},
   "outputs": [
    {
     "name": "stdout",
     "output_type": "stream",
     "text": [
      "              precision    recall  f1-score   support\n",
      "\n",
      "           1       0.69      0.80      0.74       744\n",
      "           2       0.55      0.57      0.56       638\n",
      "           3       0.62      0.23      0.34       217\n",
      "\n",
      "   micro avg       0.63      0.63      0.63      1599\n",
      "   macro avg       0.62      0.53      0.55      1599\n",
      "weighted avg       0.63      0.63      0.62      1599\n",
      "\n",
      "RSME red\n",
      "0.9311887338809622\n"
     ]
    }
   ],
   "source": [
    "### Remove highly correlated variables ###\n",
    "red_data_selected = deepcopy(X_red)\n",
    "red_data_selected.pop(\"free sulfur dioxide\") ## low importances, thus removed\n",
    "red_data_selected.pop(\"pH\") # low importances, thus removed\n",
    "red_data_selected.pop(\"residual sugar\") # low importances, thus removed\n",
    "red_data_selected.pop(\"chlorides\") # low importances, thus removed\n",
    "red_data_selected.pop(\"citric acid\") # # low importances, thus removed\n",
    "red_data_selected.pop(\"fixed acidity\") # # low importances, thus removed\n",
    "#red_data_selected.pop(\"density\") # Highly correlated with alcohol, thus removed\n",
    "\n",
    "#red_data_selected.pop(\"total sulfur dioxide\")\n",
    "#red_data_selected.pop(\"sulphates\")\n",
    "#red_data_selected.pop(\"volatile acidity\")\n",
    "#red_data_selected.pop(\"alcohol\") # kept as most important predictor\n",
    "\n"
   ]
  },
  {
   "cell_type": "code",
   "execution_count": 9,
   "metadata": {},
   "outputs": [
    {
     "name": "stdout",
     "output_type": "stream",
     "text": [
      "              precision    recall  f1-score   support\n",
      "\n",
      "           1       0.65      0.64      0.65      1640\n",
      "           2       0.55      0.65      0.59      2198\n",
      "           3       0.57      0.37      0.45      1060\n",
      "\n",
      "   micro avg       0.58      0.58      0.58      4898\n",
      "   macro avg       0.59      0.55      0.56      4898\n",
      "weighted avg       0.59      0.58      0.58      4898\n",
      "\n",
      "RSME white\n",
      "0.9864558999677373\n"
     ]
    }
   ],
   "source": [
    "\n",
    "### Remove unimportant variables ###\n",
    "white_data_selected = deepcopy(X_white)\n",
    "\n",
    "#white_data_selected.pop(\"fixed acidity\") # Highly correlated with pH and low importance, thus removed\n",
    "white_data_selected.pop(\"sulphates\") # low importance, thus removed\n",
    "white_data_selected.pop(\"chlorides\") # low importances, thus removed\n",
    "white_data_selected.pop(\"citric acid\") # low importances, thus removed\n",
    "white_data_selected.pop(\"pH\") # low importances, thus removed\n",
    "\n",
    "#white_data_selected.pop(\"density\") # Highly correlated with alcohol and residual sugar, thus removed\n",
    "#white_data_selected.pop(\"total sulfur dioxide\") #Higly correlated with free sulphur dioxide, thus removed, because other correlations are higher than off free total dioxide\n",
    "#white_data_selected.pop(\"residual sugar\") # correlated with alcohol and free sulfur dioxide, thus removed\n",
    "\n",
    "#white_data_selected.pop(\"alcohol\") # Most important predictor, thus kept\n",
    "#white_data_selected.pop(\"free sulfur dioxide\") #kept as important predictor\n",
    "#white_data_selected.pop(\"volatile acidity\") # #kept as important predictor\n"
   ]
  },
  {
   "cell_type": "code",
   "execution_count": null,
   "metadata": {},
   "outputs": [],
   "source": [
    "print(\"BN, One layer Relu with 64 nodes, relu 9 nodes, relu 6 nodes and Softmax\")\n",
    "print(\"Red\")\n",
    "prediction_red = cross_val_predict(neural_network, X_red, Y_red, cv=cv) \n",
    "print(classification_report(Y_red, prediction_red))\n",
    "print(\"White\")\n",
    "prediction_white = cross_val_predict(neural_network, X_white, Y_white, cv=cv) \n",
    "print(classification_report(Y_white, prediction_white))\n",
    "print(\"RSME red\")\n",
    "print(sqrt(np.mean((Y_red-prediction_red)*(Y_red-prediction_red))))\n",
    "print('RSME white')\n",
    "print(sqrt(np.mean((Y_white-prediction_white)*(Y_white-prediction_white))))"
   ]
  }
 ],
 "metadata": {
  "kernelspec": {
   "display_name": "Python 3",
   "language": "python",
   "name": "python3"
  },
  "language_info": {
   "codemirror_mode": {
    "name": "ipython",
    "version": 3
   },
   "file_extension": ".py",
   "mimetype": "text/x-python",
   "name": "python",
   "nbconvert_exporter": "python",
   "pygments_lexer": "ipython3",
   "version": "3.7.0"
  }
 },
 "nbformat": 4,
 "nbformat_minor": 2
}
