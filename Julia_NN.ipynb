{
 "cells": [
  {
   "cell_type": "code",
   "execution_count": 1,
   "metadata": {},
   "outputs": [],
   "source": [
    "import pandas as pd\n",
    "import numpy as np \n",
    "import matplotlib.pyplot as plt\n",
    "import seaborn as sns\n",
    "import tensorflow as tf \n",
    "from sklearn.model_selection import train_test_split"
   ]
  },
  {
   "cell_type": "code",
   "execution_count": 2,
   "metadata": {},
   "outputs": [],
   "source": [
    "red = pd.read_csv('data/winequality-red1.csv')\n",
    "white = pd.read_csv('data/winequality-white1.csv')"
   ]
  },
  {
   "cell_type": "code",
   "execution_count": 15,
   "metadata": {},
   "outputs": [
    {
     "name": "stdout",
     "output_type": "stream",
     "text": [
      "1280 train +  319  test\n"
     ]
    }
   ],
   "source": [
    "def split_train_test(data, test_ratio):\n",
    "    sh_is = np.random.permutation(len(data))\n",
    "    test_size = int(len(data)*test_ratio)\n",
    "    test_is = sh_is[:test_size]\n",
    "    train_is = sh_is[test_size:]\n",
    "    return data.iloc[train_is], data.iloc[test_is]\n",
    "\n",
    "train_set, test_set = split_train_test(red, 0.2)\n",
    "print(len(train_set), \"train + \", len(test_set), \" test\")"
   ]
  },
  {
   "cell_type": "code",
   "execution_count": 16,
   "metadata": {},
   "outputs": [
    {
     "name": "stdout",
     "output_type": "stream",
     "text": [
      "1279 + 320\n"
     ]
    }
   ],
   "source": [
    "sk_train, sk_test = train_test_split(red, test_size=0.2, random_state=42)\n",
    "print(len(sk_train), \"+\", len(sk_test))"
   ]
  },
  {
   "cell_type": "code",
   "execution_count": 17,
   "metadata": {},
   "outputs": [],
   "source": [
    "X_train = sk_train[\n",
    "['fixed acidity',\n",
    " 'volatile acidity',\n",
    " 'citric acid',\n",
    " 'residual sugar',\n",
    " 'chlorides',\n",
    " 'free sulfur dioxide',\n",
    " 'total sulfur dioxide',\n",
    " 'density',\n",
    " 'pH',\n",
    " 'sulphates',\n",
    " 'alcohol']]\n",
    "Y_train = sk_train[['quality']]"
   ]
  },
  {
   "cell_type": "code",
   "execution_count": 18,
   "metadata": {},
   "outputs": [],
   "source": [
    "X_train = X_train.values\n",
    "m, n = X_train.data.shape\n",
    "X_train_plus_bias = np.c_[np.ones((m,1)), X_train.data]\n",
    "Y_train = Y_train.values"
   ]
  },
  {
   "cell_type": "code",
   "execution_count": 19,
   "metadata": {},
   "outputs": [],
   "source": [
    "X = tf.constant(X_train_plus_bias, dtype=tf.float32, name='X')\n",
    "y = tf.constant(Y_train, dtype=tf.float32, name='y')\n",
    "XT = tf.transpose(X)\n",
    "theta = tf.matmul(tf.matmul(tf.matrix_inverse(tf.matmul(XT, X)), XT), y)\n",
    "\n",
    "with tf.Session() as sess:\n",
    "    theta_value = theta.eval()"
   ]
  },
  {
   "cell_type": "code",
   "execution_count": 20,
   "metadata": {},
   "outputs": [
    {
     "data": {
      "text/plain": [
       "array([[ 1.6320068e+01],\n",
       "       [ 2.5174171e-02],\n",
       "       [-1.0255580e+00],\n",
       "       [-1.5879834e-01],\n",
       "       [ 7.1520861e-03],\n",
       "       [-1.5524020e+00],\n",
       "       [ 5.5823661e-03],\n",
       "       [-3.6223063e-03],\n",
       "       [-1.1469131e+01],\n",
       "       [-3.8901305e-01],\n",
       "       [ 8.4121883e-01],\n",
       "       [ 2.8172094e-01]], dtype=float32)"
      ]
     },
     "execution_count": 20,
     "metadata": {},
     "output_type": "execute_result"
    }
   ],
   "source": [
    "theta_value"
   ]
  },
  {
   "cell_type": "code",
   "execution_count": null,
   "metadata": {},
   "outputs": [],
   "source": []
  }
 ],
 "metadata": {
  "kernelspec": {
   "display_name": "Python 3",
   "language": "python",
   "name": "python3"
  },
  "language_info": {
   "codemirror_mode": {
    "name": "ipython",
    "version": 3
   },
   "file_extension": ".py",
   "mimetype": "text/x-python",
   "name": "python",
   "nbconvert_exporter": "python",
   "pygments_lexer": "ipython3",
   "version": "3.7.0"
  }
 },
 "nbformat": 4,
 "nbformat_minor": 2
}
