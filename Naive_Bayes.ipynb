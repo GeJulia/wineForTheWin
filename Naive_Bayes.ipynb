{
 "cells": [
  {
   "cell_type": "markdown",
   "metadata": {},
   "source": [
    "# Import Libraries and Data"
   ]
  },
  {
   "cell_type": "markdown",
   "metadata": {},
   "source": [
    "## Basics"
   ]
  },
  {
   "cell_type": "code",
   "execution_count": 2,
   "metadata": {},
   "outputs": [],
   "source": [
    "import pandas as pd\n",
    "import numpy as np\n",
    "import matplotlib.pyplot as plt\n",
    "import seaborn as sns\n",
    "%matplotlib inline\n",
    "from copy import deepcopy\n",
    "from sklearn.decomposition import PCA\n",
    "from sklearn.naive_bayes import GaussianNB, MultinomialNB, BernoulliNB\n",
    "from sklearn.ensemble import RandomForestClassifier\n",
    "from sklearn.feature_selection import SelectFromModel"
   ]
  },
  {
   "cell_type": "markdown",
   "metadata": {},
   "source": [
    "## Evaluation"
   ]
  },
  {
   "cell_type": "code",
   "execution_count": 3,
   "metadata": {},
   "outputs": [],
   "source": [
    "from sklearn.model_selection import StratifiedKFold, cross_val_predict, cross_val_score\n",
    "from sklearn.metrics import classification_report, confusion_matrix\n",
    "from sklearn.utils.multiclass import unique_labels\n",
    "\n",
    "def confusion_matrix_report(y_true, y_pred):    \n",
    "    cm, labels = confusion_matrix(y_true, y_pred), unique_labels(y_true, y_pred)\n",
    "    column_width = max([len(str(x)) for x in labels] + [5])  # 5 is value length\n",
    "    report = \" \" * column_width + \" \" + \"{:_^{}}\".format(\"Prediction\", column_width * len(labels))+ \"\\n\"\n",
    "    report += \" \" * column_width + \" \".join([\"{:>{}}\".format(label, column_width) for label in labels]) + \"\\n\"\n",
    "    for i, label1 in enumerate(labels):\n",
    "        report += \"{:>{}}\".format(label1, column_width) + \" \".join([\"{:{}d}\".format(cm[i, j], column_width) for j in range(len(labels))]) + \"\\n\"\n",
    "    return report\n",
    "\n",
    "import math\n",
    "\n",
    "def calc_rmse(predicted, target):\n",
    "    error = pd.DataFrame()\n",
    "    error['Text'] = target + predicted\n",
    "    conditions = [(error['Text'] == \"1_low1_low\"),\n",
    "                 (error['Text'] == \"2_middle2_middle\"),\n",
    "                 (error['Text'] == \"3_high3_high\"),\n",
    "                 (error['Text'] == \"1_low3_high\"),\n",
    "                 (error['Text'] == \"3_high1_low\")]\n",
    "    choices = [0,0,0,2,2]\n",
    "    error['numeric'] = np.select(conditions, choices, default = 1)\n",
    "    rmse = math.sqrt((error['numeric']*error['numeric']).mean())\n",
    "    print(rmse)\n",
    "    return rmse\n",
    "\n",
    "def evaluation(prediction, label):\n",
    "    print(classification_report(label, prediction))\n",
    "    print(confusion_matrix_report(label, prediction))\n",
    "    print(\"Root Mean squared Error: {}\".format(calc_rmse(prediction, label)))"
   ]
  },
  {
   "cell_type": "markdown",
   "metadata": {},
   "source": [
    "## Data"
   ]
  },
  {
   "cell_type": "code",
   "execution_count": 4,
   "metadata": {},
   "outputs": [],
   "source": [
    "red = pd.read_csv(\"./data/winequality-red1.csv\")\n",
    "white = pd.read_csv(\"./data/winequality-white1.csv\")"
   ]
  },
  {
   "cell_type": "markdown",
   "metadata": {},
   "source": [
    "# Data Manipulation and Preprocessing"
   ]
  },
  {
   "cell_type": "code",
   "execution_count": 5,
   "metadata": {},
   "outputs": [],
   "source": [
    "conditions_white = [(white['quality'] <= 5),\n",
    "              (white['quality'] >= 7)]\n",
    "choices = ['1_low', '3_high']\n",
    "white['quality_class'] = np.select(conditions_white, choices, default = '2_middle')\n",
    "conditions_red = [(red['quality'] <= 5),\n",
    "              (red['quality'] >= 7)]\n",
    "red['quality_class'] = np.select(conditions_red, choices, default = '2_middle')"
   ]
  },
  {
   "cell_type": "code",
   "execution_count": 6,
   "metadata": {},
   "outputs": [],
   "source": [
    "white_data = white.drop(['quality', 'quality_class'], axis = 1)\n",
    "red_data = red.drop(['quality', 'quality_class'], axis = 1)"
   ]
  },
  {
   "cell_type": "code",
   "execution_count": 7,
   "metadata": {},
   "outputs": [],
   "source": [
    "white_label = white['quality_class']\n",
    "red_label = red['quality_class']"
   ]
  },
  {
   "cell_type": "markdown",
   "metadata": {},
   "source": [
    "# Classification - Red Wine"
   ]
  },
  {
   "cell_type": "markdown",
   "metadata": {},
   "source": [
    "## Comparison of Naive Bayes classifiers"
   ]
  },
  {
   "cell_type": "code",
   "execution_count": 8,
   "metadata": {
    "scrolled": true
   },
   "outputs": [
    {
     "name": "stdout",
     "output_type": "stream",
     "text": [
      "--------------------------------------------------\n",
      "GaussianNB\n",
      "             precision    recall  f1-score   support\n",
      "\n",
      "      1_low       0.71      0.71      0.71       744\n",
      "   2_middle       0.54      0.50      0.52       638\n",
      "     3_high       0.45      0.56      0.50       217\n",
      "\n",
      "avg / total       0.61      0.61      0.61      1599\n",
      "\n",
      "         _______Prediction_______\n",
      "           1_low 2_middle   3_high\n",
      "   1_low     529      187       28\n",
      "2_middle     198      317      123\n",
      "  3_high      16       79      122\n",
      "\n",
      "0.6907772674826483\n",
      "Root Mean squared Error: 0.6907772674826483\n",
      "--------------------------------------------------\n",
      "MultinomialNB\n",
      "             precision    recall  f1-score   support\n",
      "\n",
      "      1_low       0.63      0.49      0.55       744\n",
      "   2_middle       0.48      0.41      0.44       638\n",
      "     3_high       0.24      0.53      0.33       217\n",
      "\n",
      "avg / total       0.52      0.46      0.48      1599\n",
      "\n",
      "         _______Prediction_______\n",
      "           1_low 2_middle   3_high\n",
      "   1_low     361      213      170\n",
      "2_middle     183      262      193\n",
      "  3_high      33       70      114\n",
      "\n",
      "0.9591402237058232\n",
      "Root Mean squared Error: 0.9591402237058232\n",
      "--------------------------------------------------\n",
      "BernoulliNB\n",
      "             precision    recall  f1-score   support\n",
      "\n",
      "      1_low       0.47      1.00      0.64       744\n",
      "   2_middle       0.00      0.00      0.00       638\n",
      "     3_high       0.00      0.00      0.00       217\n",
      "\n",
      "avg / total       0.22      0.47      0.30      1599\n",
      "\n",
      "         _______Prediction_______\n",
      "           1_low 2_middle   3_high\n",
      "   1_low     744        0        0\n",
      "2_middle     638        0        0\n",
      "  3_high     217        0        0\n",
      "\n",
      "0.970483719160565\n",
      "Root Mean squared Error: 0.970483719160565\n"
     ]
    },
    {
     "name": "stderr",
     "output_type": "stream",
     "text": [
      "C:\\ProgramData\\Anaconda3\\lib\\site-packages\\sklearn\\metrics\\classification.py:1135: UndefinedMetricWarning: Precision and F-score are ill-defined and being set to 0.0 in labels with no predicted samples.\n",
      "  'precision', 'predicted', average, warn_for)\n"
     ]
    }
   ],
   "source": [
    "cv = StratifiedKFold(n_splits=10, shuffle=True, random_state=42)\n",
    "\n",
    "classifiers = [\n",
    "    GaussianNB(),\n",
    "    MultinomialNB(),\n",
    "    BernoulliNB()]\n",
    "\n",
    "for clf in classifiers:\n",
    "    prediction = cross_val_predict(clf, red_data, red_label, cv=cv)\n",
    "    name = clf.__class__.__name__\n",
    "    \n",
    "    print(\"-\"*50)\n",
    "    print(name)\n",
    "    \n",
    "    evaluation(prediction, red_label)"
   ]
  },
  {
   "cell_type": "markdown",
   "metadata": {},
   "source": [
    "Gaussian Naive Bayes shows the best results (RMSE=0.69)"
   ]
  },
  {
   "cell_type": "code",
   "execution_count": 9,
   "metadata": {},
   "outputs": [],
   "source": [
    "### Creating basic model to compare ###\n",
    "model_bayes = GaussianNB()\n",
    "prediction_red = cross_val_predict(model_bayes, red_data, red_label, cv=cv)"
   ]
  },
  {
   "cell_type": "markdown",
   "metadata": {},
   "source": [
    "## Comparison of classifiers with discretised data"
   ]
  },
  {
   "cell_type": "code",
   "execution_count": 10,
   "metadata": {},
   "outputs": [],
   "source": [
    "### Discretize data ###\n",
    "red_binned = deepcopy(red_data)\n",
    "attributes = [\"fixed acidity\", \"volatile acidity\", \"citric acid\", \"residual sugar\", \"chlorides\", \"free sulfur dioxide\", \"total sulfur dioxide\", \"density\", \"pH\", \"sulphates\", \"alcohol\"]\n",
    "\n",
    "for i in attributes:\n",
    "    red_binned[\"{}\".format(i)] = pd.qcut(red_binned[\"{}\".format(i)], 4, labels=[0, 1, 2, 3])\n"
   ]
  },
  {
   "cell_type": "code",
   "execution_count": 11,
   "metadata": {},
   "outputs": [
    {
     "name": "stdout",
     "output_type": "stream",
     "text": [
      "--------------------------------------------------\n",
      "GaussianNB\n",
      "             precision    recall  f1-score   support\n",
      "\n",
      "      1_low       0.69      0.75      0.72       744\n",
      "   2_middle       0.54      0.43      0.48       638\n",
      "     3_high       0.45      0.59      0.51       217\n",
      "\n",
      "avg / total       0.60      0.60      0.59      1599\n",
      "\n",
      "         _______Prediction_______\n",
      "           1_low 2_middle   3_high\n",
      "   1_low     558      154       32\n",
      "2_middle     239      273      126\n",
      "  3_high      12       76      129\n",
      "\n",
      "0.6943891993868717\n",
      "Root Mean squared Error: 0.6943891993868717\n",
      "--------------------------------------------------\n",
      "MultinomialNB\n",
      "             precision    recall  f1-score   support\n",
      "\n",
      "      1_low       0.70      0.76      0.73       744\n",
      "   2_middle       0.55      0.49      0.52       638\n",
      "     3_high       0.48      0.48      0.48       217\n",
      "\n",
      "avg / total       0.61      0.61      0.61      1599\n",
      "\n",
      "         _______Prediction_______\n",
      "           1_low 2_middle   3_high\n",
      "   1_low     564      158       22\n",
      "2_middle     233      313       92\n",
      "  3_high      11      101      105\n",
      "\n",
      "0.6691635543079201\n",
      "Root Mean squared Error: 0.6691635543079201\n",
      "--------------------------------------------------\n",
      "BernoulliNB\n",
      "             precision    recall  f1-score   support\n",
      "\n",
      "      1_low       0.63      0.73      0.67       744\n",
      "   2_middle       0.49      0.42      0.45       638\n",
      "     3_high       0.45      0.37      0.41       217\n",
      "\n",
      "avg / total       0.55      0.56      0.55      1599\n",
      "\n",
      "         _______Prediction_______\n",
      "           1_low 2_middle   3_high\n",
      "   1_low     544      182       18\n",
      "2_middle     290      270       78\n",
      "  3_high      35      102       80\n",
      "\n",
      "0.7350766701980266\n",
      "Root Mean squared Error: 0.7350766701980266\n"
     ]
    }
   ],
   "source": [
    "for clf in classifiers:\n",
    "    prediction = cross_val_predict(clf, red_binned, red_label, cv=cv)\n",
    "    name = clf.__class__.__name__\n",
    "    \n",
    "    print(\"-\"*50)\n",
    "    print(name)\n",
    "    evaluation(prediction, red_label)"
   ]
  },
  {
   "cell_type": "markdown",
   "metadata": {},
   "source": [
    "With discrete data, Multinomial Naive Bayes performs best (RMSE=0.67)"
   ]
  },
  {
   "cell_type": "code",
   "execution_count": 12,
   "metadata": {},
   "outputs": [],
   "source": [
    "### Create basic model to compare ###\n",
    "model_multi = MultinomialNB()\n",
    "prediction_red_multi = cross_val_predict(model_bayes, red_binned, red_label, cv=cv)\n"
   ]
  },
  {
   "cell_type": "markdown",
   "metadata": {},
   "source": [
    "## Improving Power of Gaussian NB"
   ]
  },
  {
   "cell_type": "markdown",
   "metadata": {},
   "source": [
    "### Feature selection"
   ]
  },
  {
   "cell_type": "code",
   "execution_count": 13,
   "metadata": {},
   "outputs": [
    {
     "ename": "NameError",
     "evalue": "name 'features' is not defined",
     "output_type": "error",
     "traceback": [
      "\u001b[1;31m---------------------------------------------------------------------------\u001b[0m",
      "\u001b[1;31mNameError\u001b[0m                                 Traceback (most recent call last)",
      "\u001b[1;32m<ipython-input-13-d9bc18da448f>\u001b[0m in \u001b[0;36m<module>\u001b[1;34m()\u001b[0m\n\u001b[0;32m      9\u001b[0m \u001b[0mplt\u001b[0m\u001b[1;33m.\u001b[0m\u001b[0mtitle\u001b[0m\u001b[1;33m(\u001b[0m\u001b[1;34m'Feature Importances'\u001b[0m\u001b[1;33m)\u001b[0m\u001b[1;33m\u001b[0m\u001b[0m\n\u001b[0;32m     10\u001b[0m \u001b[0mplt\u001b[0m\u001b[1;33m.\u001b[0m\u001b[0mbarh\u001b[0m\u001b[1;33m(\u001b[0m\u001b[0mrange\u001b[0m\u001b[1;33m(\u001b[0m\u001b[0mlen\u001b[0m\u001b[1;33m(\u001b[0m\u001b[0mindices\u001b[0m\u001b[1;33m)\u001b[0m\u001b[1;33m)\u001b[0m\u001b[1;33m,\u001b[0m \u001b[0mimportances\u001b[0m\u001b[1;33m[\u001b[0m\u001b[0mindices\u001b[0m\u001b[1;33m]\u001b[0m\u001b[1;33m,\u001b[0m \u001b[0mcolor\u001b[0m\u001b[1;33m=\u001b[0m\u001b[1;34m'b'\u001b[0m\u001b[1;33m,\u001b[0m \u001b[0malign\u001b[0m\u001b[1;33m=\u001b[0m\u001b[1;34m'center'\u001b[0m\u001b[1;33m)\u001b[0m\u001b[1;33m\u001b[0m\u001b[0m\n\u001b[1;32m---> 11\u001b[1;33m \u001b[0mplt\u001b[0m\u001b[1;33m.\u001b[0m\u001b[0myticks\u001b[0m\u001b[1;33m(\u001b[0m\u001b[0mrange\u001b[0m\u001b[1;33m(\u001b[0m\u001b[0mlen\u001b[0m\u001b[1;33m(\u001b[0m\u001b[0mindices\u001b[0m\u001b[1;33m)\u001b[0m\u001b[1;33m)\u001b[0m\u001b[1;33m,\u001b[0m \u001b[0mfeatures\u001b[0m\u001b[1;33m[\u001b[0m\u001b[0mindices\u001b[0m\u001b[1;33m]\u001b[0m\u001b[1;33m)\u001b[0m\u001b[1;33m\u001b[0m\u001b[0m\n\u001b[0m\u001b[0;32m     12\u001b[0m \u001b[0mplt\u001b[0m\u001b[1;33m.\u001b[0m\u001b[0mxlabel\u001b[0m\u001b[1;33m(\u001b[0m\u001b[1;34m'Relative Importance'\u001b[0m\u001b[1;33m)\u001b[0m\u001b[1;33m\u001b[0m\u001b[0m\n\u001b[0;32m     13\u001b[0m \u001b[0mplt\u001b[0m\u001b[1;33m.\u001b[0m\u001b[0msavefig\u001b[0m\u001b[1;33m(\u001b[0m\u001b[1;34m'../wineForTheWin/importances_white.png'\u001b[0m\u001b[1;33m)\u001b[0m\u001b[1;33m\u001b[0m\u001b[0m\n",
      "\u001b[1;31mNameError\u001b[0m: name 'features' is not defined"
     ]
    },
    {
     "data": {
      "image/png": "[encoded data removed]",
      "text/plain": [
       "<Figure size 432x288 with 1 Axes>"
      ]
     },
     "metadata": {},
     "output_type": "display_data"
    }
   ],
   "source": [
    "rf = RandomForestClassifier(random_state=42)\n",
    "rf_red = rf.fit(red_data, red_label)\n",
    "importances = rf_red.feature_importances_ \n",
    "\n",
    "indices = np.argsort(importances)\n",
    "\n",
    "\n",
    "plt.figure(1)\n",
    "plt.title('Feature Importances')\n",
    "plt.barh(range(len(indices)), importances[indices], color='b', align='center')\n",
    "plt.yticks(range(len(indices)), features[indices])\n",
    "plt.xlabel('Relative Importance')\n",
    "plt.savefig('../wineForTheWin/importances_white.png')\n"
   ]
  },
  {
   "cell_type": "code",
   "execution_count": null,
   "metadata": {},
   "outputs": [],
   "source": [
    "selection_red = SelectFromModel(rf_red, prefit=True)\n",
    "red_data_selected = pd.DataFrame(selection_red.transform(red_data))\n",
    "red_data_selected.shape  \n"
   ]
  },
  {
   "cell_type": "markdown",
   "metadata": {},
   "source": [
    "Alcohol, sulphates, total sulfur dioxide, volatile acidity and density are important features."
   ]
  },
  {
   "cell_type": "code",
   "execution_count": null,
   "metadata": {
    "scrolled": false
   },
   "outputs": [],
   "source": [
    "### Find correlations in data\n",
    "\n",
    "sns.heatmap(red_data.corr(),cmap='coolwarm',annot=True, linewidths=.5, fmt= '.1f')"
   ]
  },
  {
   "cell_type": "code",
   "execution_count": 16,
   "metadata": {},
   "outputs": [
    {
     "name": "stdout",
     "output_type": "stream",
     "text": [
      "Unimportant and highly correlated features are removed\n"
     ]
    }
   ],
   "source": [
    "## Drop irrelevant nd unimportant features and make classification##\n",
    "red_data_selected = deepcopy(red_data)\n",
    "red_data_selected.pop(\"residual sugar\") # low importances, thus removed\n",
    "#red_data_selected.pop(\"sulphates\") # # low importances, thus removed\n",
    "red_data_selected.pop(\"free sulfur dioxide\") # low importances, thus removed\n",
    "red_data_selected.pop(\"pH\") # low importances, thus removed\n",
    "red_data_selected.pop(\"density\") # Highly correlated with alcohol, thus removed\n",
    "red_data_selected.pop(\"chlorides\") # low importances, thus removed\n",
    "red_data_selected.pop(\"fixed acidity\") # low importances, thus removed\n",
    "red_data_selected.pop(\"citric acid\") # low importances, thus removed\n",
    "\n",
    "\n",
    "prediction_red_selected = cross_val_predict(model_bayes, red_data_selected, red_label, cv=cv)\n",
    "print(\"Unimportant and highly correlated features are removed\")"
   ]
  },
  {
   "cell_type": "markdown",
   "metadata": {},
   "source": [
    "After looking at correlations and importances, alcohol, sulphates, volatile acidity and total sulfur dioxide are kept as important not that highly correlated features."
   ]
  },
  {
   "cell_type": "code",
   "execution_count": 17,
   "metadata": {},
   "outputs": [],
   "source": [
    "### PCA to fit the independence assumption ###\n",
    "pca = PCA(n_components = 'mle', svd_solver = 'full')\n",
    "\n",
    "## All attributes ##\n",
    "red_data_pca = pd.DataFrame(pca.fit_transform(red_data))\n",
    "prediction_red_pca = cross_val_predict(model_bayes, red_data_pca, red_label, cv=cv)\n",
    "\n",
    "## Selected attributes ##\n",
    "red_data_pca_selected = pd.DataFrame(pca.fit_transform(red_data_selected))\n",
    "prediction_red_pca_selected = cross_val_predict(model_bayes, red_data_pca_selected, red_label, cv=cv)\n"
   ]
  },
  {
   "cell_type": "markdown",
   "metadata": {},
   "source": [
    "### Data Transformations"
   ]
  },
  {
   "cell_type": "code",
   "execution_count": 18,
   "metadata": {},
   "outputs": [],
   "source": [
    "### Transform data to get a normal distribution via logarithm ###\n",
    "\n",
    "## All attributes ##\n",
    "red_data_log = np.log(red_data + 1)\n",
    "prediction_red_log = cross_val_predict(model_bayes, red_data_log, red_label, cv=cv)\n",
    "\n",
    "## selected attributes ##\n",
    "red_data_selected_log = np.log(red_data_selected)\n",
    "prediction_red_selected_log = cross_val_predict(model_bayes, red_data_selected_log, red_label, cv=cv)"
   ]
  },
  {
   "cell_type": "code",
   "execution_count": 19,
   "metadata": {},
   "outputs": [],
   "source": [
    "### Transform selected data via MinMax Scaler ###\n",
    "\n",
    "## All attributes ##\n",
    "red_minmax=(red_data-red_data.min())/(red_data.max()-red_data.min())\n",
    "prediction_red_minmax = cross_val_predict(model_bayes, red_minmax, red_label, cv=cv)\n",
    "\n",
    "## Selected attributes ##\n",
    "red_selected_minmax=(red_data_selected-red_data_selected.min())/(red_data_selected.max()-red_data_selected.min())\n",
    "prediction_red_selected_minmax = cross_val_predict(model_bayes, red_selected_minmax, red_label, cv=cv)"
   ]
  },
  {
   "cell_type": "markdown",
   "metadata": {},
   "source": [
    "### Comparison of models"
   ]
  },
  {
   "cell_type": "code",
   "execution_count": 335,
   "metadata": {},
   "outputs": [
    {
     "name": "stdout",
     "output_type": "stream",
     "text": [
      "--------------------------------------------------\n",
      "GNB (normal)\n",
      "             precision    recall  f1-score   support\n",
      "\n",
      "      1_low       0.71      0.71      0.71       744\n",
      "   2_middle       0.54      0.50      0.52       638\n",
      "     3_high       0.45      0.56      0.50       217\n",
      "\n",
      "avg / total       0.61      0.61      0.61      1599\n",
      "\n",
      "         _______Prediction_______\n",
      "           1_low 2_middle   3_high\n",
      "   1_low     529      187       28\n",
      "2_middle     198      317      123\n",
      "  3_high      16       79      122\n",
      "\n",
      "0.6907772674826483\n",
      "Root Mean squared Error: 0.6907772674826483\n",
      "--------------------------------------------------\n",
      "GNB selected\n",
      "             precision    recall  f1-score   support\n",
      "\n",
      "      1_low       0.72      0.76      0.74       744\n",
      "   2_middle       0.56      0.59      0.57       638\n",
      "     3_high       0.56      0.35      0.43       217\n",
      "\n",
      "avg / total       0.63      0.64      0.63      1599\n",
      "\n",
      "         _______Prediction_______\n",
      "           1_low 2_middle   3_high\n",
      "   1_low     568      170        6\n",
      "2_middle     208      375       55\n",
      "  3_high      15      125       77\n",
      "\n",
      "0.6336410167329005\n",
      "Root Mean squared Error: 0.6336410167329005\n",
      "--------------------------------------------------\n",
      "GNB PCA\n",
      "             precision    recall  f1-score   support\n",
      "\n",
      "      1_low       0.73      0.70      0.72       744\n",
      "   2_middle       0.54      0.64      0.59       638\n",
      "     3_high       0.57      0.33      0.42       217\n",
      "\n",
      "avg / total       0.63      0.63      0.62      1599\n",
      "\n",
      "         _______Prediction_______\n",
      "           1_low 2_middle   3_high\n",
      "   1_low     523      212        9\n",
      "2_middle     184      410       44\n",
      "  3_high      11      135       71\n",
      "\n",
      "0.6400242334373887\n",
      "Root Mean squared Error: 0.6400242334373887\n",
      "--------------------------------------------------\n",
      "GNB logarithm\n",
      "             precision    recall  f1-score   support\n",
      "\n",
      "      1_low       0.70      0.75      0.72       744\n",
      "   2_middle       0.55      0.45      0.49       638\n",
      "     3_high       0.45      0.58      0.51       217\n",
      "\n",
      "avg / total       0.60      0.61      0.60      1599\n",
      "\n",
      "         _______Prediction_______\n",
      "           1_low 2_middle   3_high\n",
      "   1_low     560      157       27\n",
      "2_middle     230      284      124\n",
      "  3_high      13       79      125\n",
      "\n",
      "0.6848672513487423\n",
      "Root Mean squared Error: 0.6848672513487423\n",
      "--------------------------------------------------\n",
      "GNB minmax\n",
      "             precision    recall  f1-score   support\n",
      "\n",
      "      1_low       0.71      0.71      0.71       744\n",
      "   2_middle       0.54      0.49      0.51       638\n",
      "     3_high       0.45      0.57      0.50       217\n",
      "\n",
      "avg / total       0.60      0.60      0.60      1599\n",
      "\n",
      "         _______Prediction_______\n",
      "           1_low 2_middle   3_high\n",
      "   1_low     528      188       28\n",
      "2_middle     203      310      125\n",
      "  3_high      15       79      123\n",
      "\n",
      "0.6925855880307988\n",
      "Root Mean squared Error: 0.6925855880307988\n",
      "--------------------------------------------------\n",
      "GNB selected logarithm\n",
      "             precision    recall  f1-score   support\n",
      "\n",
      "      1_low       0.69      0.80      0.74       744\n",
      "   2_middle       0.55      0.49      0.52       638\n",
      "     3_high       0.54      0.42      0.47       217\n",
      "\n",
      "avg / total       0.61      0.62      0.61      1599\n",
      "\n",
      "         _______Prediction_______\n",
      "           1_low 2_middle   3_high\n",
      "   1_low     594      142        8\n",
      "2_middle     257      311       70\n",
      "  3_high      14      112       91\n",
      "\n",
      "0.6468280231693918\n",
      "Root Mean squared Error: 0.6468280231693918\n",
      "--------------------------------------------------\n",
      "GNB selected minmax\n",
      "             precision    recall  f1-score   support\n",
      "\n",
      "      1_low       0.72      0.76      0.74       744\n",
      "   2_middle       0.56      0.59      0.57       638\n",
      "     3_high       0.56      0.35      0.43       217\n",
      "\n",
      "avg / total       0.63      0.64      0.63      1599\n",
      "\n",
      "         _______Prediction_______\n",
      "           1_low 2_middle   3_high\n",
      "   1_low     568      170        6\n",
      "2_middle     208      375       55\n",
      "  3_high      15      125       77\n",
      "\n",
      "0.6336410167329005\n",
      "Root Mean squared Error: 0.6336410167329005\n",
      "--------------------------------------------------\n",
      "PCA selected\n",
      "             precision    recall  f1-score   support\n",
      "\n",
      "      1_low       0.70      0.78      0.74       744\n",
      "   2_middle       0.55      0.60      0.58       638\n",
      "     3_high       0.60      0.21      0.31       217\n",
      "\n",
      "avg / total       0.63      0.63      0.62      1599\n",
      "\n",
      "         _______Prediction_______\n",
      "           1_low 2_middle   3_high\n",
      "   1_low     584      154        6\n",
      "2_middle     232      382       24\n",
      "  3_high      18      154       45\n",
      "\n",
      "0.6424624298226189\n",
      "Root Mean squared Error: 0.6424624298226189\n"
     ]
    }
   ],
   "source": [
    "prediction_transformed = [prediction_red,\n",
    "             prediction_red_selected,\n",
    "             prediction_red_pca,\n",
    "             prediction_red_log,             \n",
    "             prediction_red_minmax,\n",
    "             prediction_red_selected_log,\n",
    "             prediction_red_selected_minmax,\n",
    "             prediction_red_pca_selected]\n",
    "\n",
    "method = [\"GNB (normal)\", \n",
    "          \"GNB selected\", \n",
    "          \"GNB PCA\",\n",
    "          \"GNB logarithm\",\n",
    "          \"GNB minmax\",\n",
    "          \"GNB selected logarithm\",\n",
    "          \"GNB selected minmax\",\n",
    "          \"PCA selected\"]\n",
    "\n",
    "for i, j in zip(prediction_transformed, method):\n",
    "    print(\"-\"*50)\n",
    "    print(j)\n",
    "    evaluation(i, red_label)"
   ]
  },
  {
   "cell_type": "markdown",
   "metadata": {},
   "source": [
    "Transforming the data into normal form does not improve the performance. With the selected features, the RMSE decreases by 0.06 with PCA by 0.05."
   ]
  },
  {
   "cell_type": "markdown",
   "metadata": {},
   "source": [
    "## Classification - White wine"
   ]
  },
  {
   "cell_type": "code",
   "execution_count": 336,
   "metadata": {},
   "outputs": [
    {
     "name": "stdout",
     "output_type": "stream",
     "text": [
      "--------------------------------------------------\n",
      "GaussianNB\n",
      "             precision    recall  f1-score   support\n",
      "\n",
      "      1_low       0.57      0.56      0.56      1640\n",
      "   2_middle       0.52      0.35      0.42      2198\n",
      "     3_high       0.41      0.70      0.52      1060\n",
      "\n",
      "avg / total       0.51      0.50      0.49      4898\n",
      "\n",
      "         _______Prediction_______\n",
      "           1_low 2_middle   3_high\n",
      "   1_low     914      515      211\n",
      "2_middle     579      770      849\n",
      "  3_high     113      201      746\n",
      "\n",
      "0.8380498079495802\n",
      "Root Mean squared Error: 0.8380498079495802\n",
      "--------------------------------------------------\n",
      "MultinomialNB\n",
      "             precision    recall  f1-score   support\n",
      "\n",
      "      1_low       0.49      0.46      0.48      1640\n",
      "   2_middle       0.48      0.49      0.49      2198\n",
      "     3_high       0.36      0.38      0.37      1060\n",
      "\n",
      "avg / total       0.46      0.46      0.46      4898\n",
      "\n",
      "         _______Prediction_______\n",
      "           1_low 2_middle   3_high\n",
      "   1_low     762      666      212\n",
      "2_middle     620     1079      499\n",
      "  3_high     174      486      400\n",
      "\n",
      "0.8825470766983547\n",
      "Root Mean squared Error: 0.8825470766983547\n",
      "--------------------------------------------------\n",
      "BernoulliNB\n",
      "             precision    recall  f1-score   support\n",
      "\n",
      "      1_low       0.58      0.01      0.01      1640\n",
      "   2_middle       0.45      1.00      0.62      2198\n",
      "     3_high       0.00      0.00      0.00      1060\n",
      "\n",
      "avg / total       0.40      0.45      0.28      4898\n",
      "\n",
      "         _______Prediction_______\n",
      "           1_low 2_middle   3_high\n",
      "   1_low      11     1629        0\n",
      "2_middle       8     2190        0\n",
      "  3_high       0     1060        0\n",
      "\n",
      "0.7420464347952931\n",
      "Root Mean squared Error: 0.7420464347952931\n"
     ]
    },
    {
     "name": "stderr",
     "output_type": "stream",
     "text": [
      "C:\\ProgramData\\Anaconda3\\lib\\site-packages\\sklearn\\metrics\\classification.py:1135: UndefinedMetricWarning: Precision and F-score are ill-defined and being set to 0.0 in labels with no predicted samples.\n",
      "  'precision', 'predicted', average, warn_for)\n"
     ]
    }
   ],
   "source": [
    "for clf in classifiers:\n",
    "    prediction_white = cross_val_predict(clf, white_data, white_label, cv=cv)\n",
    "    name = clf.__class__.__name__\n",
    "    \n",
    "    print(\"-\"*50)\n",
    "    print(name)\n",
    "    \n",
    "    evaluation(prediction_white, white_label)"
   ]
  },
  {
   "cell_type": "markdown",
   "metadata": {},
   "source": [
    "Gaussian Naive Bayes shows the best results (RMSE=0.83)"
   ]
  },
  {
   "cell_type": "code",
   "execution_count": 337,
   "metadata": {},
   "outputs": [],
   "source": [
    "### Creating basic model to compare ###\n",
    "prediction_white = cross_val_predict(model_bayes, white_data, white_label, cv=cv)"
   ]
  },
  {
   "cell_type": "markdown",
   "metadata": {},
   "source": [
    "## Comparison of classifiers with discretised data"
   ]
  },
  {
   "cell_type": "code",
   "execution_count": 338,
   "metadata": {},
   "outputs": [],
   "source": [
    "### Discretize data ###\n",
    "white_binned = deepcopy(white_data)\n",
    "attributes = [\"fixed acidity\", \"volatile acidity\", \"citric acid\", \"residual sugar\", \"chlorides\", \"free sulfur dioxide\", \"total sulfur dioxide\", \"density\", \"pH\", \"sulphates\", \"alcohol\"]\n",
    "\n",
    "for i in attributes:\n",
    "    white_binned[\"{}\".format(i)] = pd.qcut(white_binned[\"{}\".format(i)], 4, labels=[0, 1, 2, 3])\n"
   ]
  },
  {
   "cell_type": "code",
   "execution_count": 339,
   "metadata": {},
   "outputs": [
    {
     "name": "stdout",
     "output_type": "stream",
     "text": [
      "--------------------------------------------------\n",
      "GaussianNB\n",
      "             precision    recall  f1-score   support\n",
      "\n",
      "      1_low       0.54      0.66      0.60      1640\n",
      "   2_middle       0.53      0.35      0.42      2198\n",
      "     3_high       0.44      0.61      0.51      1060\n",
      "\n",
      "avg / total       0.51      0.51      0.50      4898\n",
      "\n",
      "         _______Prediction_______\n",
      "           1_low 2_middle   3_high\n",
      "   1_low    1077      396      167\n",
      "2_middle     769      759      670\n",
      "  3_high     134      281      645\n",
      "\n",
      "0.8233029119159567\n",
      "Root Mean squared Error: 0.8233029119159567\n",
      "--------------------------------------------------\n",
      "MultinomialNB\n",
      "             precision    recall  f1-score   support\n",
      "\n",
      "      1_low       0.57      0.62      0.59      1640\n",
      "   2_middle       0.53      0.46      0.49      2198\n",
      "     3_high       0.46      0.53      0.49      1060\n",
      "\n",
      "avg / total       0.53      0.53      0.53      4898\n",
      "\n",
      "         _______Prediction_______\n",
      "           1_low 2_middle   3_high\n",
      "   1_low    1010      509      121\n",
      "2_middle     650     1010      538\n",
      "  3_high     122      374      564\n",
      "\n",
      "0.7882093563155805\n",
      "Root Mean squared Error: 0.7882093563155805\n",
      "--------------------------------------------------\n",
      "BernoulliNB\n",
      "             precision    recall  f1-score   support\n",
      "\n",
      "      1_low       0.57      0.57      0.57      1640\n",
      "   2_middle       0.51      0.55      0.53      2198\n",
      "     3_high       0.48      0.38      0.42      1060\n",
      "\n",
      "avg / total       0.52      0.52      0.52      4898\n",
      "\n",
      "         _______Prediction_______\n",
      "           1_low 2_middle   3_high\n",
      "   1_low     936      631       73\n",
      "2_middle     613     1217      368\n",
      "  3_high     106      551      403\n",
      "\n",
      "0.7666752474650144\n",
      "Root Mean squared Error: 0.7666752474650144\n"
     ]
    }
   ],
   "source": [
    "for clf in classifiers:\n",
    "    prediction = cross_val_predict(clf, white_binned, white_label, cv=cv)\n",
    "    name = clf.__class__.__name__\n",
    "    \n",
    "    print(\"-\"*50)\n",
    "    print(name)\n",
    "    evaluation(prediction, white_label)"
   ]
  },
  {
   "cell_type": "markdown",
   "metadata": {},
   "source": [
    "With discrete data, Bernoulli Naive Bayes works best (RMSE=0.79)"
   ]
  },
  {
   "cell_type": "code",
   "execution_count": 340,
   "metadata": {},
   "outputs": [],
   "source": [
    "### Create basic model to compare ###\n",
    "prediction_white_multi = cross_val_predict(BernoulliNB(), white_binned, white_label, cv=cv)\n"
   ]
  },
  {
   "cell_type": "markdown",
   "metadata": {},
   "source": [
    "## Improving Power of Gaussian NB"
   ]
  },
  {
   "cell_type": "markdown",
   "metadata": {},
   "source": [
    "### Feature selection"
   ]
  },
  {
   "cell_type": "code",
   "execution_count": 341,
   "metadata": {
    "scrolled": true
   },
   "outputs": [
    {
     "data": {
      "image/png": "[encoded data removed]",
      "text/plain": [
       "<Figure size 432x288 with 1 Axes>"
      ]
     },
     "metadata": {},
     "output_type": "display_data"
    }
   ],
   "source": [
    "rf_white = rf.fit(white_data, white_label)\n",
    "importances = rf_white.feature_importances_ \n",
    "\n",
    "indices = np.argsort(importances)\n",
    "\n",
    "\n",
    "plt.figure(1)\n",
    "plt.title('Feature Importances')\n",
    "plt.barh(range(len(indices)), importances[indices], color='b', align='center')\n",
    "plt.yticks(range(len(indices)), features[indices])\n",
    "plt.xlabel('Relative Importance')\n",
    "plt.savefig('../wineForTheWin/importances_white.png')\n"
   ]
  },
  {
   "cell_type": "code",
   "execution_count": 342,
   "metadata": {
    "scrolled": true
   },
   "outputs": [
    {
     "data": {
      "text/plain": [
       "(4898, 6)"
      ]
     },
     "execution_count": 342,
     "metadata": {},
     "output_type": "execute_result"
    }
   ],
   "source": [
    "model = SelectFromModel(rf_white, prefit=True)\n",
    "white_selected = model.transform(white_data)\n",
    "white_selected.shape  "
   ]
  },
  {
   "cell_type": "markdown",
   "metadata": {},
   "source": [
    "Alcohol, density, volatile acidity, free sulfur dioxide, total sulfur dioxide and residual sugar are important features."
   ]
  },
  {
   "cell_type": "code",
   "execution_count": 343,
   "metadata": {
    "scrolled": true
   },
   "outputs": [
    {
     "data": {
      "text/plain": [
       "<matplotlib.axes._subplots.AxesSubplot at 0x2118911e6d8>"
      ]
     },
     "execution_count": 343,
     "metadata": {},
     "output_type": "execute_result"
    },
    {
     "data": {
      "image/png": "[encoded data removed]",
      "text/plain": [
       "<Figure size 432x288 with 2 Axes>"
      ]
     },
     "metadata": {},
     "output_type": "display_data"
    }
   ],
   "source": [
    "### Find correlations in data ###\n",
    "\n",
    "sns.heatmap(white_data.corr(),cmap='coolwarm',annot=True, linewidths=.5, fmt= '.1f')"
   ]
  },
  {
   "cell_type": "code",
   "execution_count": 345,
   "metadata": {},
   "outputs": [
    {
     "name": "stdout",
     "output_type": "stream",
     "text": [
      "Unimportant and highly correlated features are removed\n"
     ]
    }
   ],
   "source": [
    "## Drop irrelevant nd unimportant features and make classification##\n",
    "white_data_selected = deepcopy(white_data)\n",
    "white_data_selected.pop(\"residual sugar\") # low importances, thus removed\n",
    "white_data_selected.pop(\"sulphates\") # # low importances, thus removed\n",
    "white_data_selected.pop(\"total sulfur dioxide\") # low importances, thus removed\n",
    "white_data_selected.pop(\"pH\") # low importances, thus removed\n",
    "white_data_selected.pop(\"density\") # Highly correlated with alcohol, thus removed\n",
    "white_data_selected.pop(\"chlorides\") # Highly correlated with alcohol, thus removed\n",
    "white_data_selected.pop(\"fixed acidity\") # Highly correlated with pH and low importance, thus removed\n",
    "white_data_selected.pop(\"citric acid\") # Highly correlated with fixed acidity, thus removed\n",
    "\n",
    "\n",
    "prediction_white_selected = cross_val_predict(model_bayes, white_data_selected, white_label, cv=cv)\n",
    "print(\"Unimportant and highly correlated features are removed\")"
   ]
  },
  {
   "cell_type": "markdown",
   "metadata": {},
   "source": [
    "Alcohol, volatile acidity and free sulfur dioxide are kept as important features."
   ]
  },
  {
   "cell_type": "code",
   "execution_count": 346,
   "metadata": {
    "scrolled": true
   },
   "outputs": [],
   "source": [
    "### PCA to fit the independence assumption ###\n",
    "pca = PCA(n_components = 'mle', svd_solver = 'full')\n",
    "\n",
    "## All attributes ##\n",
    "white_data_pca = pd.DataFrame(pca.fit_transform(white_data))\n",
    "prediction_white_pca = cross_val_predict(model_bayes, white_data_pca, white_label, cv=cv)\n",
    "\n",
    "## Selected attributes ##\n",
    "white_data_pca_selected = pd.DataFrame(pca.fit_transform(white_data_selected))\n",
    "prediction_white_pca_selected = cross_val_predict(model_bayes, white_data_pca_selected, white_label, cv=cv)\n"
   ]
  },
  {
   "cell_type": "markdown",
   "metadata": {},
   "source": [
    "### Data transformations"
   ]
  },
  {
   "cell_type": "code",
   "execution_count": 347,
   "metadata": {},
   "outputs": [],
   "source": [
    "### Transform data to get a normal distribution via logarithm ###\n",
    "\n",
    "## All attributes ##\n",
    "white_data_log = np.log(white_data + 1)\n",
    "prediction_white_log = cross_val_predict(model_bayes, white_data_log, white_label, cv=cv)\n",
    "\n",
    "## selected attributes ##\n",
    "white_data_selected_log = np.log(white_data_selected)\n",
    "prediction_white_selected_log = cross_val_predict(model_bayes, white_data_selected_log, white_label, cv=cv)"
   ]
  },
  {
   "cell_type": "code",
   "execution_count": 348,
   "metadata": {},
   "outputs": [],
   "source": [
    "### Transform selected data via MinMax Scaler ###\n",
    "\n",
    "## All attributes ##\n",
    "white_minmax=(white_data-white_data.min())/(white_data.max()-white_data.min())\n",
    "prediction_white_minmax = cross_val_predict(model_bayes, white_minmax, white_label, cv=cv)\n",
    "\n",
    "## Selected attributes ##\n",
    "white_selected_minmax=(white_data_selected-white_data_selected.min())/(white_data_selected.max()-white_data_selected.min())\n",
    "prediction_white_selected_minmax = cross_val_predict(model_bayes, white_selected_minmax, white_label, cv=cv)"
   ]
  },
  {
   "cell_type": "markdown",
   "metadata": {},
   "source": [
    "### Comparison of models"
   ]
  },
  {
   "cell_type": "code",
   "execution_count": 349,
   "metadata": {},
   "outputs": [
    {
     "name": "stdout",
     "output_type": "stream",
     "text": [
      "--------------------------------------------------\n",
      "GNB (normal)\n",
      "             precision    recall  f1-score   support\n",
      "\n",
      "      1_low       0.57      0.56      0.56      1640\n",
      "   2_middle       0.52      0.35      0.42      2198\n",
      "     3_high       0.41      0.70      0.52      1060\n",
      "\n",
      "avg / total       0.51      0.50      0.49      4898\n",
      "\n",
      "         _______Prediction_______\n",
      "           1_low 2_middle   3_high\n",
      "   1_low     914      515      211\n",
      "2_middle     579      770      849\n",
      "  3_high     113      201      746\n",
      "\n",
      "0.8380498079495802\n",
      "Root Mean squared Error: 0.8380498079495802\n",
      "--------------------------------------------------\n",
      "GNB selected\n",
      "             precision    recall  f1-score   support\n",
      "\n",
      "      1_low       0.64      0.50      0.56      1640\n",
      "   2_middle       0.50      0.67      0.58      2198\n",
      "     3_high       0.54      0.34      0.42      1060\n",
      "\n",
      "avg / total       0.56      0.54      0.54      4898\n",
      "\n",
      "         _______Prediction_______\n",
      "           1_low 2_middle   3_high\n",
      "   1_low     825      790       25\n",
      "2_middle     437     1480      281\n",
      "  3_high      32      666      362\n",
      "\n",
      "0.7002886880646282\n",
      "Root Mean squared Error: 0.7002886880646282\n",
      "--------------------------------------------------\n",
      "GNB PCA\n",
      "             precision    recall  f1-score   support\n",
      "\n",
      "      1_low       0.65      0.43      0.52      1640\n",
      "   2_middle       0.51      0.58      0.54      2198\n",
      "     3_high       0.48      0.59      0.53      1060\n",
      "\n",
      "avg / total       0.55      0.53      0.53      4898\n",
      "\n",
      "         _______Prediction_______\n",
      "           1_low 2_middle   3_high\n",
      "   1_low     708      835       97\n",
      "2_middle     345     1268      585\n",
      "  3_high      38      394      628\n",
      "\n",
      "0.7423215215275581\n",
      "Root Mean squared Error: 0.7423215215275581\n",
      "--------------------------------------------------\n",
      "GNB logarithm\n",
      "             precision    recall  f1-score   support\n",
      "\n",
      "      1_low       0.59      0.58      0.59      1640\n",
      "   2_middle       0.53      0.40      0.46      2198\n",
      "     3_high       0.44      0.67      0.53      1060\n",
      "\n",
      "avg / total       0.53      0.52      0.52      4898\n",
      "\n",
      "         _______Prediction_______\n",
      "           1_low 2_middle   3_high\n",
      "   1_low     957      529      154\n",
      "2_middle     561      885      752\n",
      "  3_high     101      245      714\n",
      "\n",
      "0.796454987530436\n",
      "Root Mean squared Error: 0.796454987530436\n",
      "--------------------------------------------------\n",
      "GNB minmax\n",
      "             precision    recall  f1-score   support\n",
      "\n",
      "      1_low       0.57      0.56      0.57      1640\n",
      "   2_middle       0.52      0.34      0.41      2198\n",
      "     3_high       0.41      0.70      0.52      1060\n",
      "\n",
      "avg / total       0.51      0.50      0.49      4898\n",
      "\n",
      "         _______Prediction_______\n",
      "           1_low 2_middle   3_high\n",
      "   1_low     926      500      214\n",
      "2_middle     587      756      855\n",
      "  3_high     113      203      744\n",
      "\n",
      "0.8396318390539532\n",
      "Root Mean squared Error: 0.8396318390539532\n",
      "--------------------------------------------------\n",
      "GNB selected logarithm\n",
      "             precision    recall  f1-score   support\n",
      "\n",
      "      1_low       0.64      0.60      0.62      1640\n",
      "   2_middle       0.52      0.65      0.58      2198\n",
      "     3_high       0.55      0.32      0.41      1060\n",
      "\n",
      "avg / total       0.57      0.56      0.56      4898\n",
      "\n",
      "         _______Prediction_______\n",
      "           1_low 2_middle   3_high\n",
      "   1_low     990      627       23\n",
      "2_middle     512     1425      261\n",
      "  3_high      40      676      344\n",
      "\n",
      "0.6894171735601553\n",
      "Root Mean squared Error: 0.6894171735601553\n",
      "--------------------------------------------------\n",
      "GNB selected minmax\n",
      "             precision    recall  f1-score   support\n",
      "\n",
      "      1_low       0.64      0.50      0.56      1640\n",
      "   2_middle       0.50      0.67      0.58      2198\n",
      "     3_high       0.54      0.34      0.42      1060\n",
      "\n",
      "avg / total       0.56      0.54      0.54      4898\n",
      "\n",
      "         _______Prediction_______\n",
      "           1_low 2_middle   3_high\n",
      "   1_low     825      790       25\n",
      "2_middle     437     1480      281\n",
      "  3_high      32      666      362\n",
      "\n",
      "0.7002886880646282\n",
      "Root Mean squared Error: 0.7002886880646282\n",
      "--------------------------------------------------\n",
      "PCA selected\n",
      "             precision    recall  f1-score   support\n",
      "\n",
      "      1_low       0.54      0.69      0.61      1640\n",
      "   2_middle       0.52      0.51      0.52      2198\n",
      "     3_high       0.55      0.34      0.42      1060\n",
      "\n",
      "avg / total       0.54      0.54      0.53      4898\n",
      "\n",
      "         _______Prediction_______\n",
      "           1_low 2_middle   3_high\n",
      "   1_low    1134      481       25\n",
      "2_middle     803     1130      265\n",
      "  3_high     158      542      360\n",
      "\n",
      "0.7591822554691274\n",
      "Root Mean squared Error: 0.7591822554691274\n"
     ]
    }
   ],
   "source": [
    "prediction_transformed = [prediction_white,\n",
    "             prediction_white_selected,\n",
    "             prediction_white_pca,\n",
    "             prediction_white_log,             \n",
    "             prediction_white_minmax,\n",
    "             prediction_white_selected_log,\n",
    "             prediction_white_selected_minmax,\n",
    "             prediction_white_pca_selected]\n",
    "\n",
    "method = [\"GNB (normal)\", \n",
    "          \"GNB selected\", \n",
    "          \"GNB PCA\",\n",
    "          \"GNB logarithm\",\n",
    "          \"GNB minmax\",\n",
    "          \"GNB selected logarithm\",\n",
    "          \"GNB selected minmax\",\n",
    "          \"PCA selected\"]\n",
    "\n",
    "for i, j in zip(prediction_transformed, method):\n",
    "    print(\"-\"*50)\n",
    "    print(j)\n",
    "    evaluation(i, white_label)"
   ]
  },
  {
   "cell_type": "markdown",
   "metadata": {},
   "source": [
    "After transforming the data to normal form via logarithm and seleting features we can see an increase of 0.07 for F1 and a decrease in R2 of 0.15"
   ]
  },
  {
   "cell_type": "code",
   "execution_count": null,
   "metadata": {},
   "outputs": [],
   "source": []
  },
  {
   "cell_type": "code",
   "execution_count": null,
   "metadata": {},
   "outputs": [],
   "source": []
  }
 ],
 "metadata": {
  "kernelspec": {
   "display_name": "Python 3",
   "language": "python",
   "name": "python3"
  },
  "language_info": {
   "codemirror_mode": {
    "name": "ipython",
    "version": 3
   },
   "file_extension": ".py",
   "mimetype": "text/x-python",
   "name": "python",
   "nbconvert_exporter": "python",
   "pygments_lexer": "ipython3",
   "version": "3.6.5"
  }
 },
 "nbformat": 4,
 "nbformat_minor": 2
}
