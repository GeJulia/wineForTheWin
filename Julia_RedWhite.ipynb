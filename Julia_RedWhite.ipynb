{
 "cells": [
  {
   "cell_type": "code",
   "execution_count": 1,
   "metadata": {},
   "outputs": [
    {
     "name": "stderr",
     "output_type": "stream",
     "text": [
      "Using TensorFlow backend.\n"
     ]
    }
   ],
   "source": [
    "import pandas as pd\n",
    "import numpy as np \n",
    "import matplotlib.pyplot as plt\n",
    "import seaborn as sns\n",
    "import tensorflow as tf \n",
    "from sklearn.model_selection import train_test_split\n",
    "from tensorflow.keras import layers\n",
    "import keras as keras\n",
    "from keras.models import Sequential\n",
    "from keras.layers import Dense, Dropout, Activation\n",
    "from keras.optimizers import SGD\n",
    "from keras.utils.np_utils import to_categorical\n",
    "from keras.utils.np_utils import to_categorical"
   ]
  },
  {
   "cell_type": "code",
   "execution_count": 2,
   "metadata": {},
   "outputs": [],
   "source": [
    "red = pd.read_csv('data/winequality-red1.csv')\n",
    "white = pd.read_csv('data/winequality-white1.csv')"
   ]
  },
  {
   "cell_type": "code",
   "execution_count": 4,
   "metadata": {},
   "outputs": [
    {
     "name": "stdout",
     "output_type": "stream",
     "text": [
      "<class 'pandas.core.frame.DataFrame'>\n",
      "RangeIndex: 1599 entries, 0 to 1598\n",
      "Data columns (total 12 columns):\n",
      "fixed acidity           1599 non-null float64\n",
      "volatile acidity        1599 non-null float64\n",
      "citric acid             1599 non-null float64\n",
      "residual sugar          1599 non-null float64\n",
      "chlorides               1599 non-null float64\n",
      "free sulfur dioxide     1599 non-null float64\n",
      "total sulfur dioxide    1599 non-null float64\n",
      "density                 1599 non-null float64\n",
      "pH                      1599 non-null float64\n",
      "sulphates               1599 non-null float64\n",
      "alcohol                 1599 non-null float64\n",
      "quality                 1599 non-null int64\n",
      "dtypes: float64(11), int64(1)\n",
      "memory usage: 150.0 KB\n"
     ]
    }
   ],
   "source": [
    "red.info()"
   ]
  },
  {
   "cell_type": "code",
   "execution_count": 5,
   "metadata": {},
   "outputs": [],
   "source": [
    "red['color'] = np.ones(len(red))\n",
    "white['color'] = np.zeros(len(white))"
   ]
  },
  {
   "cell_type": "code",
   "execution_count": 9,
   "metadata": {},
   "outputs": [],
   "source": [
    "wine = pd.concat([red,white])"
   ]
  },
  {
   "cell_type": "code",
   "execution_count": 11,
   "metadata": {},
   "outputs": [
    {
     "name": "stdout",
     "output_type": "stream",
     "text": [
      "5197 + 1300\n"
     ]
    }
   ],
   "source": [
    "sk_train, sk_test = train_test_split(wine, test_size=0.2, random_state=42)\n",
    "print(len(sk_train), \"+\", len(sk_test))"
   ]
  },
  {
   "cell_type": "code",
   "execution_count": 12,
   "metadata": {},
   "outputs": [],
   "source": [
    "X_train = sk_train[\n",
    "['fixed acidity',\n",
    " 'volatile acidity',\n",
    " 'citric acid',\n",
    " 'residual sugar',\n",
    " 'chlorides',\n",
    " 'free sulfur dioxide',\n",
    " 'total sulfur dioxide',\n",
    " 'density',\n",
    " 'pH',\n",
    " 'sulphates',\n",
    " 'alcohol', \n",
    " 'quality']]\n",
    "Y_train = sk_train[['color']]\n",
    "X_test = sk_test[\n",
    "['fixed acidity',\n",
    " 'volatile acidity',\n",
    " 'citric acid',\n",
    " 'residual sugar',\n",
    " 'chlorides',\n",
    " 'free sulfur dioxide',\n",
    " 'total sulfur dioxide',\n",
    " 'density',\n",
    " 'pH',\n",
    " 'sulphates',\n",
    " 'alcohol', \n",
    " 'quality']]\n",
    "Y_test = sk_test[['color']]\n",
    "X_train = X_train.values\n",
    "Y_train = Y_train.values\n",
    "categorical_labels_train = to_categorical(Y_train, num_classes=None)\n",
    "X_test = X_test.values\n",
    "Y_test = Y_test.values\n",
    "categorical_labels_test = to_categorical(Y_test, num_classes=None)"
   ]
  },
  {
   "cell_type": "code",
   "execution_count": 16,
   "metadata": {},
   "outputs": [],
   "source": [
    "model = tf.keras.Sequential()\n",
    "model.add(layers.Dense(64, activation='relu'))\n",
    "#model.add(layers.Dense(64, activation='sigmoid'))\n",
    "#model.add(layers.Dense(20, activation='linear'))\n",
    "model.add(layers.Dense(2, activation='softmax'))"
   ]
  },
  {
   "cell_type": "code",
   "execution_count": 17,
   "metadata": {},
   "outputs": [],
   "source": [
    "model.compile(optimizer=tf.train.AdamOptimizer(), \n",
    "              loss='categorical_crossentropy',   # can also use sparse_categorical_crossentropy then you don't need labels\n",
    "              metrics=['accuracy'])"
   ]
  },
  {
   "cell_type": "code",
   "execution_count": 18,
   "metadata": {},
   "outputs": [
    {
     "name": "stdout",
     "output_type": "stream",
     "text": [
      "Epoch 1/20\n",
      "5197/5197 [==============================] - 1s 168us/step - loss: 0.7820 - acc: 0.8555\n",
      "Epoch 2/20\n",
      "5197/5197 [==============================] - 0s 49us/step - loss: 0.1621 - acc: 0.9440\n",
      "Epoch 3/20\n",
      "5197/5197 [==============================] - 0s 49us/step - loss: 0.1492 - acc: 0.9463\n",
      "Epoch 4/20\n",
      "5197/5197 [==============================] - 0s 49us/step - loss: 0.1323 - acc: 0.9507\n",
      "Epoch 5/20\n",
      "5197/5197 [==============================] - 0s 45us/step - loss: 0.1209 - acc: 0.9581\n",
      "Epoch 6/20\n",
      "5197/5197 [==============================] - 0s 52us/step - loss: 0.1088 - acc: 0.9611\n",
      "Epoch 7/20\n",
      "5197/5197 [==============================] - 0s 43us/step - loss: 0.1045 - acc: 0.9625\n",
      "Epoch 8/20\n",
      "5197/5197 [==============================] - 0s 53us/step - loss: 0.1072 - acc: 0.9648\n",
      "Epoch 9/20\n",
      "5197/5197 [==============================] - 0s 56us/step - loss: 0.0934 - acc: 0.9698\n",
      "Epoch 10/20\n",
      "5197/5197 [==============================] - 0s 46us/step - loss: 0.0920 - acc: 0.9688\n",
      "Epoch 11/20\n",
      "5197/5197 [==============================] - 0s 44us/step - loss: 0.0839 - acc: 0.9729\n",
      "Epoch 12/20\n",
      "5197/5197 [==============================] - 0s 44us/step - loss: 0.0798 - acc: 0.9746\n",
      "Epoch 13/20\n",
      "5197/5197 [==============================] - 0s 46us/step - loss: 0.0864 - acc: 0.9731\n",
      "Epoch 14/20\n",
      "5197/5197 [==============================] - 0s 45us/step - loss: 0.0827 - acc: 0.9731: 0s - loss: 0.0738 - acc: 0.97\n",
      "Epoch 15/20\n",
      "5197/5197 [==============================] - 0s 44us/step - loss: 0.0720 - acc: 0.9761\n",
      "Epoch 16/20\n",
      "5197/5197 [==============================] - 0s 44us/step - loss: 0.0722 - acc: 0.9767\n",
      "Epoch 17/20\n",
      "5197/5197 [==============================] - 0s 36us/step - loss: 0.0754 - acc: 0.9758\n",
      "Epoch 18/20\n",
      "5197/5197 [==============================] - 0s 49us/step - loss: 0.0671 - acc: 0.9790\n",
      "Epoch 19/20\n",
      "5197/5197 [==============================] - 0s 44us/step - loss: 0.0629 - acc: 0.9802\n",
      "Epoch 20/20\n",
      "5197/5197 [==============================] - 0s 44us/step - loss: 0.0653 - acc: 0.9796\n"
     ]
    },
    {
     "data": {
      "text/plain": [
       "<tensorflow.python.keras.callbacks.History at 0x27904c964a8>"
      ]
     },
     "execution_count": 18,
     "metadata": {},
     "output_type": "execute_result"
    }
   ],
   "source": [
    "model.fit(X_train, categorical_labels_train, epochs=20, batch_size=32)"
   ]
  },
  {
   "cell_type": "code",
   "execution_count": 19,
   "metadata": {},
   "outputs": [
    {
     "name": "stdout",
     "output_type": "stream",
     "text": [
      "1300/1300 [==============================] - 0s 65us/step\n",
      "Test accuracy: 0.9746153844319857\n"
     ]
    }
   ],
   "source": [
    "test_loss, test_acc = model.evaluate(X_test, categorical_labels_test)\n",
    "print('Test accuracy:', test_acc)"
   ]
  },
  {
   "cell_type": "code",
   "execution_count": null,
   "metadata": {},
   "outputs": [],
   "source": []
  }
 ],
 "metadata": {
  "kernelspec": {
   "display_name": "Python 3",
   "language": "python",
   "name": "python3"
  },
  "language_info": {
   "codemirror_mode": {
    "name": "ipython",
    "version": 3
   },
   "file_extension": ".py",
   "mimetype": "text/x-python",
   "name": "python",
   "nbconvert_exporter": "python",
   "pygments_lexer": "ipython3",
   "version": "3.7.0"
  }
 },
 "nbformat": 4,
 "nbformat_minor": 2
}
