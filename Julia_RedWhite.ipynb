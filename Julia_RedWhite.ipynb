{
 "cells": [
  {
   "cell_type": "code",
   "execution_count": 1,
   "metadata": {},
   "outputs": [
    {
     "name": "stderr",
     "output_type": "stream",
     "text": [
      "Using TensorFlow backend.\n"
     ]
    }
   ],
   "source": [
    "import pandas as pd\n",
    "import numpy as np \n",
    "import matplotlib.pyplot as plt\n",
    "import seaborn as sns\n",
    "import tensorflow as tf \n",
    "from sklearn.model_selection import train_test_split\n",
    "from tensorflow.keras import layers\n",
    "import keras as keras\n",
    "from keras import models\n",
    "from keras import layers\n",
    "from keras.models import Sequential\n",
    "from keras.layers import Dense, Dropout, Activation\n",
    "from keras.optimizers import SGD\n",
    "from keras.utils.np_utils import to_categorical\n",
    "from keras.wrappers.scikit_learn import KerasClassifier\n",
    "from sklearn.model_selection import cross_val_score\n",
    "from sklearn.neural_network import MLPClassifier\n",
    "from keras import metrics\n",
    "from sklearn.metrics import mean_squared_error\n",
    "from math import sqrt\n",
    "from sklearn.preprocessing import LabelBinarizer\n",
    "from sklearn.model_selection import StratifiedKFold\n",
    "from sklearn.model_selection import cross_val_predict\n",
    "from sklearn.metrics import classification_report, confusion_matrix, accuracy_score"
   ]
  },
  {
   "cell_type": "code",
   "execution_count": 2,
   "metadata": {},
   "outputs": [],
   "source": [
    "red = pd.read_csv('data/winequality-red1.csv')\n",
    "white = pd.read_csv('data/winequality-white1.csv')"
   ]
  },
  {
   "cell_type": "code",
   "execution_count": 3,
   "metadata": {},
   "outputs": [],
   "source": [
    "red['quality'].replace(to_replace=[0,1,2,3,4,5], value=1, inplace=True)\n",
    "red['quality'].replace(to_replace=[6], value=2, inplace=True)\n",
    "red['quality'].replace(to_replace=[7,8,9,10], value=3, inplace=True)\n",
    "X_red = red[\n",
    "['fixed acidity',\n",
    " 'volatile acidity',\n",
    " 'citric acid',\n",
    " 'residual sugar',\n",
    " 'chlorides',\n",
    " 'free sulfur dioxide',\n",
    " 'total sulfur dioxide',\n",
    " 'density',\n",
    " 'pH',\n",
    " 'sulphates',\n",
    " 'alcohol']]\n",
    "Y_red = red[['quality']]\n",
    "white['quality'].replace(to_replace=[0,1,2,3,4,5], value=1, inplace=True)\n",
    "white['quality'].replace(to_replace=[6], value=2, inplace=True)\n",
    "white['quality'].replace(to_replace=[7,8,9,10], value=3, inplace=True)\n",
    "X_white = white[\n",
    "['fixed acidity',\n",
    " 'volatile acidity',\n",
    " 'citric acid',\n",
    " 'residual sugar',\n",
    " 'chlorides',\n",
    " 'free sulfur dioxide',\n",
    " 'total sulfur dioxide',\n",
    " 'density',\n",
    " 'pH',\n",
    " 'sulphates',\n",
    " 'alcohol']]\n",
    "\n",
    "Y_white = white[['quality']]\n",
    "X_red = X_red.values\n",
    "Y_red = Y_red.values\n",
    "X_white = X_white.values\n",
    "Y_white = Y_white.values\n",
    "number_of_features = 11"
   ]
  },
  {
   "cell_type": "code",
   "execution_count": 11,
   "metadata": {},
   "outputs": [],
   "source": [
    "def rsme(targets, outputs):\n",
    "    return tf.sqrt(tf.reduce_mean(tf.square(tf.subtract(targets, outputs))))  \n",
    "\n",
    "# Create function returning a compiled network\n",
    "def create_network():\n",
    "    \n",
    "    # Start neural network\n",
    "    network = models.Sequential()\n",
    "\n",
    "    network.add(layers.Dense(units=64, activation='sigmoid', input_shape=(number_of_features,)))\n",
    "\n",
    "    \n",
    "    network.add(layers.Dense(3, activation='softmax'))\n",
    "\n",
    "    #network.compile(loss='binary_crossentropy', # Cross-entropy\n",
    "   #                 optimizer='rmsprop', # Root Mean Square Propagation\n",
    "    #                metrics=['accuracy']) # Accuracy performance metric\n",
    "    network.compile(loss='sparse_categorical_crossentropy',\n",
    "              optimizer='adam',\n",
    "              metrics=['accuracy', rsme])\n",
    "    \n",
    "    # Return compiled network\n",
    "    return network"
   ]
  },
  {
   "cell_type": "code",
   "execution_count": 12,
   "metadata": {},
   "outputs": [],
   "source": [
    "neural_network = KerasClassifier(build_fn=create_network, \n",
    "                                 epochs=10, \n",
    "                                 batch_size=100, \n",
    "                                 verbose=0)\n",
    "cv = StratifiedKFold(n_splits=10, shuffle=True, random_state=42)"
   ]
  },
  {
   "cell_type": "code",
   "execution_count": 14,
   "metadata": {},
   "outputs": [
    {
     "name": "stdout",
     "output_type": "stream",
     "text": [
      "Red\n"
     ]
    },
    {
     "name": "stderr",
     "output_type": "stream",
     "text": [
      "C:\\Users\\D064232\\AppData\\Local\\Continuum\\anaconda3\\lib\\site-packages\\sklearn\\metrics\\classification.py:1143: UndefinedMetricWarning: Precision and F-score are ill-defined and being set to 0.0 in labels with no predicted samples.\n",
      "  'precision', 'predicted', average, warn_for)\n",
      "C:\\Users\\D064232\\AppData\\Local\\Continuum\\anaconda3\\lib\\site-packages\\sklearn\\metrics\\classification.py:1143: UndefinedMetricWarning: Precision and F-score are ill-defined and being set to 0.0 in labels with no predicted samples.\n",
      "  'precision', 'predicted', average, warn_for)\n",
      "C:\\Users\\D064232\\AppData\\Local\\Continuum\\anaconda3\\lib\\site-packages\\sklearn\\metrics\\classification.py:1143: UndefinedMetricWarning: Precision and F-score are ill-defined and being set to 0.0 in labels with no predicted samples.\n",
      "  'precision', 'predicted', average, warn_for)\n"
     ]
    },
    {
     "name": "stdout",
     "output_type": "stream",
     "text": [
      "              precision    recall  f1-score   support\n",
      "\n",
      "           1       0.59      0.67      0.63       744\n",
      "           2       0.48      0.57      0.52       638\n",
      "           3       0.00      0.00      0.00       217\n",
      "\n",
      "   micro avg       0.54      0.54      0.54      1599\n",
      "   macro avg       0.36      0.41      0.38      1599\n",
      "weighted avg       0.47      0.54      0.50      1599\n",
      "\n",
      "White\n",
      "              precision    recall  f1-score   support\n",
      "\n",
      "           1       0.53      0.45      0.49      1640\n",
      "           2       0.48      0.76      0.59      2198\n",
      "           3       0.40      0.00      0.00      1060\n",
      "\n",
      "   micro avg       0.49      0.49      0.49      4898\n",
      "   macro avg       0.47      0.40      0.36      4898\n",
      "weighted avg       0.48      0.49      0.43      4898\n",
      "\n"
     ]
    }
   ],
   "source": [
    "#sigmoid64 mit sm\n",
    "print(\"Red\")\n",
    "prediction_red = cross_val_predict(neural_network, X_red, Y_red, cv=cv) \n",
    "print(classification_report(Y_red, prediction_red))\n",
    "print(\"White\")\n",
    "prediction_white = cross_val_predict(neural_network, X_white, Y_white, cv=cv) \n",
    "print(classification_report(Y_white, prediction_white))"
   ]
  },
  {
   "cell_type": "code",
   "execution_count": 10,
   "metadata": {},
   "outputs": [
    {
     "name": "stdout",
     "output_type": "stream",
     "text": [
      "Red\n",
      "              precision    recall  f1-score   support\n",
      "\n",
      "           1       0.47      0.53      0.50       744\n",
      "           2       0.40      0.20      0.27       638\n",
      "           3       0.14      0.29      0.19       217\n",
      "\n",
      "   micro avg       0.37      0.37      0.37      1599\n",
      "   macro avg       0.34      0.34      0.32      1599\n",
      "weighted avg       0.40      0.37      0.36      1599\n",
      "\n",
      "White\n",
      "              precision    recall  f1-score   support\n",
      "\n",
      "           1       0.34      0.61      0.43      1640\n",
      "           2       0.46      0.30      0.37      2198\n",
      "           3       0.25      0.11      0.16      1060\n",
      "\n",
      "   micro avg       0.37      0.37      0.37      4898\n",
      "   macro avg       0.35      0.34      0.32      4898\n",
      "weighted avg       0.37      0.37      0.34      4898\n",
      "\n"
     ]
    }
   ],
   "source": [
    "# one relu 64 nodes, bn, softmax3\n",
    "print(\"Red\")\n",
    "prediction_red = cross_val_predict(neural_network, X_red, Y_red, cv=cv) \n",
    "print(classification_report(Y_red, prediction_red))\n",
    "print(\"White\")\n",
    "prediction_white = cross_val_predict(neural_network, X_white, Y_white, cv=cv) \n",
    "print(classification_report(Y_white, prediction_white))"
   ]
  },
  {
   "cell_type": "code",
   "execution_count": 29,
   "metadata": {},
   "outputs": [
    {
     "name": "stdout",
     "output_type": "stream",
     "text": [
      "Red\n",
      "             precision    recall  f1-score   support\n",
      "\n",
      "          1       0.60      0.77      0.67       744\n",
      "          2       0.49      0.40      0.44       638\n",
      "          3       0.43      0.26      0.32       217\n",
      "\n",
      "avg / total       0.53      0.55      0.53      1599\n",
      "\n",
      "White\n",
      "             precision    recall  f1-score   support\n",
      "\n",
      "          1       0.55      0.53      0.54      1640\n",
      "          2       0.50      0.66      0.57      2198\n",
      "          3       0.56      0.21      0.30      1060\n",
      "\n",
      "avg / total       0.53      0.52      0.50      4898\n",
      "\n"
     ]
    }
   ],
   "source": [
    "# one sigmoid 64 nodes, bn, softmax3\n",
    "print(\"Red\")\n",
    "prediction_red = cross_val_predict(neural_network, X_red, Y_red, cv=cv) \n",
    "print(classification_report(Y_red, prediction_red))\n",
    "print(\"White\")\n",
    "prediction_white = cross_val_predict(neural_network, X_white, Y_white, cv=cv) \n",
    "print(classification_report(Y_white, prediction_white))"
   ]
  },
  {
   "cell_type": "code",
   "execution_count": 34,
   "metadata": {},
   "outputs": [
    {
     "name": "stdout",
     "output_type": "stream",
     "text": [
      "Red\n",
      "             precision    recall  f1-score   support\n",
      "\n",
      "          1       0.63      0.67      0.65       744\n",
      "          2       0.47      0.52      0.49       638\n",
      "          3       0.32      0.17      0.22       217\n",
      "\n",
      "avg / total       0.52      0.54      0.53      1599\n",
      "\n",
      "White\n",
      "             precision    recall  f1-score   support\n",
      "\n",
      "          1       0.45      0.65      0.53      1640\n",
      "          2       0.49      0.26      0.34      2198\n",
      "          3       0.32      0.41      0.36      1060\n",
      "\n",
      "avg / total       0.44      0.43      0.41      4898\n",
      "\n"
     ]
    }
   ],
   "source": [
    "# a lot of linears, nodes, linear again, bn, softmax3\n",
    "print(\"Red\")\n",
    "prediction_red = cross_val_predict(neural_network, X_red, Y_red, cv=cv) \n",
    "print(classification_report(Y_red, prediction_red))\n",
    "print(\"White\")\n",
    "prediction_white = cross_val_predict(neural_network, X_white, Y_white, cv=cv) \n",
    "print(classification_report(Y_white, prediction_white))"
   ]
  },
  {
   "cell_type": "code",
   "execution_count": 37,
   "metadata": {},
   "outputs": [
    {
     "name": "stdout",
     "output_type": "stream",
     "text": [
      "Red\n",
      "             precision    recall  f1-score   support\n",
      "\n",
      "          1       0.59      0.60      0.59       744\n",
      "          2       0.44      0.58      0.50       638\n",
      "          3       0.00      0.00      0.00       217\n",
      "\n",
      "avg / total       0.45      0.51      0.48      1599\n",
      "\n",
      "White\n",
      "             precision    recall  f1-score   support\n",
      "\n",
      "          1       0.51      0.29      0.37      1640\n",
      "          2       0.47      0.69      0.56      2198\n",
      "          3       0.28      0.20      0.23      1060\n",
      "\n",
      "avg / total       0.44      0.45      0.42      4898\n",
      "\n"
     ]
    }
   ],
   "source": [
    "# a lot of linears, softmax3\n",
    "print(\"Red\")\n",
    "prediction_red = cross_val_predict(neural_network, X_red, Y_red, cv=cv) \n",
    "print(classification_report(Y_red, prediction_red))\n",
    "print(\"White\")\n",
    "prediction_white = cross_val_predict(neural_network, X_white, Y_white, cv=cv) \n",
    "print(classification_report(Y_white, prediction_white))"
   ]
  },
  {
   "cell_type": "code",
   "execution_count": 40,
   "metadata": {},
   "outputs": [
    {
     "name": "stdout",
     "output_type": "stream",
     "text": [
      "Red\n",
      "             precision    recall  f1-score   support\n",
      "\n",
      "          1       0.59      0.56      0.57       744\n",
      "          2       0.44      0.61      0.51       638\n",
      "          3       0.00      0.00      0.00       217\n",
      "\n",
      "avg / total       0.45      0.50      0.47      1599\n",
      "\n",
      "White\n",
      "             precision    recall  f1-score   support\n",
      "\n",
      "          1       0.48      0.40      0.44      1640\n",
      "          2       0.47      0.65      0.55      2198\n",
      "          3       0.45      0.19      0.27      1060\n",
      "\n",
      "avg / total       0.47      0.47      0.45      4898\n",
      "\n"
     ]
    }
   ],
   "source": [
    "# two linears, softmax3\n",
    "print(\"Red\")\n",
    "prediction_red = cross_val_predict(neural_network, X_red, Y_red, cv=cv) \n",
    "print(classification_report(Y_red, prediction_red))\n",
    "print(\"White\")\n",
    "prediction_white = cross_val_predict(neural_network, X_white, Y_white, cv=cv) \n",
    "print(classification_report(Y_white, prediction_white))"
   ]
  },
  {
   "cell_type": "code",
   "execution_count": 43,
   "metadata": {},
   "outputs": [
    {
     "name": "stdout",
     "output_type": "stream",
     "text": [
      "Red\n",
      "             precision    recall  f1-score   support\n",
      "\n",
      "          1       0.50      0.56      0.53       744\n",
      "          2       0.42      0.41      0.41       638\n",
      "          3       0.17      0.11      0.13       217\n",
      "\n",
      "avg / total       0.42      0.44      0.43      1599\n",
      "\n",
      "White\n",
      "             precision    recall  f1-score   support\n",
      "\n",
      "          1       0.42      0.29      0.34      1640\n",
      "          2       0.46      0.67      0.54      2198\n",
      "          3       0.33      0.15      0.21      1060\n",
      "\n",
      "avg / total       0.42      0.43      0.40      4898\n",
      "\n"
     ]
    }
   ],
   "source": [
    "# one linear, softmax3\n",
    "print(\"Red\")\n",
    "prediction_red = cross_val_predict(neural_network, X_red, Y_red, cv=cv) \n",
    "print(classification_report(Y_red, prediction_red))\n",
    "print(\"White\")\n",
    "prediction_white = cross_val_predict(neural_network, X_white, Y_white, cv=cv) \n",
    "print(classification_report(Y_white, prediction_white))"
   ]
  },
  {
   "cell_type": "code",
   "execution_count": 22,
   "metadata": {},
   "outputs": [
    {
     "name": "stdout",
     "output_type": "stream",
     "text": [
      "RSME red\n",
      "0.9614523774621145\n",
      "RSME white\n",
      "0.9699337529605507\n"
     ]
    }
   ],
   "source": [
    "print(\"RSME red\")\n",
    "print(sqrt(np.mean((Y_red-prediction_red)*(Y_red-prediction_red))))\n",
    "print('RSME white')\n",
    "print(sqrt(np.mean((Y_white-prediction_white)*(Y_white-prediction_white))))"
   ]
  },
  {
   "cell_type": "code",
   "execution_count": null,
   "metadata": {},
   "outputs": [],
   "source": []
  }
 ],
 "metadata": {
  "kernelspec": {
   "display_name": "Python 3",
   "language": "python",
   "name": "python3"
  },
  "language_info": {
   "codemirror_mode": {
    "name": "ipython",
    "version": 3
   },
   "file_extension": ".py",
   "mimetype": "text/x-python",
   "name": "python",
   "nbconvert_exporter": "python",
   "pygments_lexer": "ipython3",
   "version": "3.7.0"
  }
 },
 "nbformat": 4,
 "nbformat_minor": 2
}
