{
 "cells": [
  {
   "cell_type": "code",
   "execution_count": 1,
   "metadata": {},
   "outputs": [
    {
     "name": "stderr",
     "output_type": "stream",
     "text": [
      "Using TensorFlow backend.\n"
     ]
    }
   ],
   "source": [
    "import pandas as pd\n",
    "import numpy as np \n",
    "import matplotlib.pyplot as plt\n",
    "import seaborn as sns\n",
    "import tensorflow as tf \n",
    "from sklearn.model_selection import train_test_split\n",
    "from tensorflow.keras import layers\n",
    "import keras as keras\n",
    "from keras import models\n",
    "from keras import layers\n",
    "from keras.models import Sequential\n",
    "from keras.layers import Dense, Dropout, Activation\n",
    "from keras.optimizers import SGD\n",
    "from keras.utils.np_utils import to_categorical\n",
    "from keras.wrappers.scikit_learn import KerasClassifier\n",
    "from sklearn.model_selection import cross_val_score\n",
    "from sklearn.neural_network import MLPClassifier\n",
    "from keras import metrics\n",
    "from sklearn.metrics import mean_squared_error\n",
    "from math import sqrt\n",
    "from sklearn.preprocessing import LabelBinarizer"
   ]
  },
  {
   "cell_type": "code",
   "execution_count": 2,
   "metadata": {},
   "outputs": [],
   "source": [
    "red = pd.read_csv('data/winequality-red1.csv')\n",
    "white = pd.read_csv('data/winequality-white1.csv')"
   ]
  },
  {
   "cell_type": "code",
   "execution_count": 3,
   "metadata": {},
   "outputs": [],
   "source": [
    "red['quality'].replace(to_replace=[0,1,2,3,4,5], value=1, inplace=True)\n",
    "red['quality'].replace(to_replace=[6], value=2, inplace=True)\n",
    "red['quality'].replace(to_replace=[7,8,9,10], value=3, inplace=True)\n",
    "X_red = red[\n",
    "['fixed acidity',\n",
    " 'volatile acidity',\n",
    " 'citric acid',\n",
    " 'residual sugar',\n",
    " 'chlorides',\n",
    " 'free sulfur dioxide',\n",
    " 'total sulfur dioxide',\n",
    " 'density',\n",
    " 'pH',\n",
    " 'sulphates',\n",
    " 'alcohol']]\n",
    "Y_red = red[['quality']]\n",
    "white['quality'].replace(to_replace=[0,1,2,3,4,5], value=1, inplace=True)\n",
    "white['quality'].replace(to_replace=[6], value=2, inplace=True)\n",
    "white['quality'].replace(to_replace=[7,8,9,10], value=3, inplace=True)\n",
    "X_white = white[\n",
    "['fixed acidity',\n",
    " 'volatile acidity',\n",
    " 'citric acid',\n",
    " 'residual sugar',\n",
    " 'chlorides',\n",
    " 'free sulfur dioxide',\n",
    " 'total sulfur dioxide',\n",
    " 'density',\n",
    " 'pH',\n",
    " 'sulphates',\n",
    " 'alcohol']]\n",
    "\n",
    "Y_white = white[['quality']]\n",
    "X_red = X_red.values\n",
    "Y_red = Y_red.values\n",
    "X_white = X_white.values\n",
    "Y_white = Y_white.values\n",
    "number_of_features = 11"
   ]
  },
  {
   "cell_type": "code",
   "execution_count": 10,
   "metadata": {},
   "outputs": [],
   "source": [
    "def rsme(targets, outputs):\n",
    "    return tf.sqrt(tf.reduce_mean(tf.square(tf.subtract(targets, outputs))))  \n",
    "\n",
    "# Create function returning a compiled network\n",
    "def create_network():\n",
    "    \n",
    "    # Start neural network\n",
    "    network = models.Sequential()\n",
    "\n",
    "    network.add(layers.Dense(units=12, activation='relu', input_shape=(number_of_features,)))\n",
    "    network.add(layers.Dense(units=30, activation='relu', input_shape=(number_of_features,)))\n",
    "    network.add(layers.Dense(units=4, activation='relu', input_shape=(number_of_features,)))\n",
    "    network.add(layers.Dense(units=6, activation='relu', input_shape=(number_of_features,)))\n",
    "    network.add(layers.Dense(units=12, activation='relu', input_shape=(number_of_features,)))\n",
    "    network.add(layers.Dense(units=20, activation='relu', input_shape=(number_of_features,)))\n",
    "    network.add(layers.Dense(units=42, activation='relu', input_shape=(number_of_features,)))\n",
    "    network.add(layers.Dense(units=5, activation='relu', input_shape=(number_of_features,)))\n",
    "    network.add(layers.Dense(units=3, activation='relu', input_shape=(number_of_features,)))\n",
    "    network.add(layers.Dense(units=5, activation='relu', input_shape=(number_of_features,)))\n",
    "    network.add(layers.Dense(units=4, activation='relu', input_shape=(number_of_features,)))\n",
    "    network.add(layers.Dense(units=4, activation='relu', input_shape=(number_of_features,)))\n",
    "    network.add(layers.Dense(units=4, activation='relu', input_shape=(number_of_features,)))\n",
    "    #network.add(layers.Dense(units=10, activation='sigmoid'))\n",
    "    \n",
    "    network.add(layers.Dense(3, activation='softmax'))\n",
    "\n",
    "    # Compile neural network\n",
    "    #network.compile(loss='binary_crossentropy', # Cross-entropy\n",
    "   #                 optimizer='rmsprop', # Root Mean Square Propagation\n",
    "    #                metrics=['accuracy']) # Accuracy performance metric\n",
    "    network.compile(loss='sparse_categorical_crossentropy',\n",
    "              optimizer='adam',\n",
    "              metrics=['accuracy', rsme])\n",
    "    \n",
    "    # Return compiled network\n",
    "    return network"
   ]
  },
  {
   "cell_type": "code",
   "execution_count": 5,
   "metadata": {},
   "outputs": [],
   "source": [
    "from sklearn.metrics import make_scorer, accuracy_score, precision_score, recall_score, f1_score\n",
    "\n",
    "scoring = {'accuracy' : make_scorer(accuracy_score), \n",
    "           'precision' : make_scorer(precision_score),\n",
    "           'recall' : make_scorer(recall_score), \n",
    "           'f1_score' : make_scorer(f1_score)}"
   ]
  },
  {
   "cell_type": "code",
   "execution_count": 6,
   "metadata": {},
   "outputs": [],
   "source": [
    "neural_network = KerasClassifier(build_fn=create_network, \n",
    "                                 epochs=10, \n",
    "                                 batch_size=100, \n",
    "                                 verbose=0)"
   ]
  },
  {
   "cell_type": "code",
   "execution_count": 7,
   "metadata": {},
   "outputs": [
    {
     "ename": "IndentationError",
     "evalue": "unexpected indent (<ipython-input-7-a719aab9bc5e>, line 2)",
     "output_type": "error",
     "traceback": [
      "\u001b[1;36m  File \u001b[1;32m\"<ipython-input-7-a719aab9bc5e>\"\u001b[1;36m, line \u001b[1;32m2\u001b[0m\n\u001b[1;33m    'precision',\u001b[0m\n\u001b[1;37m    ^\u001b[0m\n\u001b[1;31mIndentationError\u001b[0m\u001b[1;31m:\u001b[0m unexpected indent\n"
     ]
    }
   ],
   "source": [
    "#score = ['accuracy', \n",
    "           #'precision',\n",
    "           #'recall', \n",
    "           #'f1_score']\n",
    "#cross_val_score(neural_network, X_train, y_train, cv=7, scoring=score)\n",
    "    "
   ]
  },
  {
   "cell_type": "code",
   "execution_count": 12,
   "metadata": {},
   "outputs": [
    {
     "name": "stdout",
     "output_type": "stream",
     "text": [
      "Recall 0.48788293158940643 [0.45641026 0.74193548 0.43195266 0.3814433  0.42767296]\n",
      "Precision 0.6577557629302676 [0.87878788 0.50609756 0.77777778 0.45303867 0.67307692]\n",
      "F1 0.49868988030470884 [0.77511962 0.55335968 0.42918455 0.31205674 0.42372881]\n"
     ]
    }
   ],
   "source": [
    "from sklearn.preprocessing import LabelBinarizer\n",
    "\n",
    "lb = LabelBinarizer()\n",
    "y_train = np.array([number[0] for number in lb.fit_transform(Y_red)])\n",
    "X_train = X_red\n",
    "\n",
    "recall = cross_val_score(neural_network, X_train, y_train, cv=5, scoring='recall')\n",
    "print('Recall', np.mean(recall), recall)\n",
    "precision = cross_val_score(neural_network, X_train, y_train, cv=5, scoring='precision')\n",
    "print('Precision', np.mean(precision), precision)\n",
    "f1 = cross_val_score(neural_network, X_train, y_train, cv=5, scoring='f1')\n",
    "print('F1', np.mean(f1), f1)"
   ]
  },
  {
   "cell_type": "code",
   "execution_count": 13,
   "metadata": {},
   "outputs": [
    {
     "data": {
      "text/plain": [
       "array([0.61875001, 0.575     , 0.39999999, 0.49374999, 0.55      ,\n",
       "       0.4       , 0.46875   , 0.52500001, 0.55624998, 0.42767295])"
      ]
     },
     "execution_count": 13,
     "metadata": {},
     "output_type": "execute_result"
    }
   ],
   "source": [
    "cross_val_score(neural_network, X_red, Y_red, cv=10) #relu  #scoring=make_scorer(f1_score(average='weighted'))"
   ]
  },
  {
   "cell_type": "code",
   "execution_count": 106,
   "metadata": {},
   "outputs": [
    {
     "data": {
      "text/plain": [
       "array([0.45306122, 0.44489796, 0.46938775, 0.41632653, 0.5367347 ,\n",
       "       0.46734694, 0.48979591, 0.45306123, 0.50102248, 0.61349693])"
      ]
     },
     "execution_count": 106,
     "metadata": {},
     "output_type": "execute_result"
    }
   ],
   "source": [
    "cross_val_score(neural_network, X_white, Y_white, cv=10) #relu"
   ]
  },
  {
   "cell_type": "code",
   "execution_count": 109,
   "metadata": {},
   "outputs": [
    {
     "data": {
      "text/plain": [
       "array([0.71250002, 0.575     , 0.45625001, 0.4625    , 0.625     ,\n",
       "       0.36875001, 0.39374999, 0.47499999, 0.65624999, 0.47169812])"
      ]
     },
     "execution_count": 109,
     "metadata": {},
     "output_type": "execute_result"
    }
   ],
   "source": [
    "cross_val_score(neural_network, X_red, Y_red, cv=10) #sigmoid"
   ]
  },
  {
   "cell_type": "code",
   "execution_count": 111,
   "metadata": {},
   "outputs": [
    {
     "data": {
      "text/plain": [
       "array([0.45510204, 0.45510205, 0.45102041, 0.50408163, 0.52653061,\n",
       "       0.42244898, 0.45306122, 0.49183674, 0.58077709, 0.58895704])"
      ]
     },
     "execution_count": 111,
     "metadata": {},
     "output_type": "execute_result"
    }
   ],
   "source": [
    "cross_val_score(neural_network, X_white, Y_white, cv=10) #sogmoid"
   ]
  },
  {
   "cell_type": "code",
   "execution_count": 115,
   "metadata": {},
   "outputs": [
    {
     "data": {
      "text/plain": [
       "array([0.76250001, 0.58749999, 0.53749999, 0.44999999, 0.61875001,\n",
       "       0.3625    , 0.425     , 0.45      , 0.64375002, 0.49685535])"
      ]
     },
     "execution_count": 115,
     "metadata": {},
     "output_type": "execute_result"
    }
   ],
   "source": [
    "cross_val_score(neural_network, X_red, Y_red, cv=10) #tanh"
   ]
  },
  {
   "cell_type": "code",
   "execution_count": 118,
   "metadata": {},
   "outputs": [
    {
     "data": {
      "text/plain": [
       "array([0.45510205, 0.47959183, 0.44897959, 0.50408163, 0.54693877,\n",
       "       0.41020408, 0.48979592, 0.50612245, 0.58486708, 0.55623721])"
      ]
     },
     "execution_count": 118,
     "metadata": {},
     "output_type": "execute_result"
    }
   ],
   "source": [
    "cross_val_score(neural_network, X_white, Y_white, cv=10) #tanh"
   ]
  }
 ],
 "metadata": {
  "kernelspec": {
   "display_name": "Python 3",
   "language": "python",
   "name": "python3"
  },
  "language_info": {
   "codemirror_mode": {
    "name": "ipython",
    "version": 3
   },
   "file_extension": ".py",
   "mimetype": "text/x-python",
   "name": "python",
   "nbconvert_exporter": "python",
   "pygments_lexer": "ipython3",
   "version": "3.7.0"
  }
 },
 "nbformat": 4,
 "nbformat_minor": 2
}
