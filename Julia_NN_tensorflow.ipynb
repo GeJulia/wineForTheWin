{
 "cells": [
  {
   "cell_type": "code",
   "execution_count": 1,
   "metadata": {},
   "outputs": [
    {
     "name": "stderr",
     "output_type": "stream",
     "text": [
      "Using TensorFlow backend.\n"
     ]
    }
   ],
   "source": [
    "import pandas as pd\n",
    "import numpy as np \n",
    "import matplotlib.pyplot as plt\n",
    "import seaborn as sns\n",
    "import tensorflow as tf \n",
    "from sklearn.model_selection import train_test_split\n",
    "from tensorflow.keras import layers\n",
    "import keras as keras\n",
    "from keras.models import Sequential\n",
    "from keras.layers import Dense, Dropout, Activation\n",
    "from keras.optimizers import SGD\n",
    "from keras.utils.np_utils import to_categorical\n",
    "from keras.utils.np_utils import to_categorical"
   ]
  },
  {
   "cell_type": "code",
   "execution_count": 2,
   "metadata": {},
   "outputs": [],
   "source": [
    "red = pd.read_csv('data/winequality-red1.csv')\n",
    "white = pd.read_csv('data/winequality-white1.csv')"
   ]
  },
  {
   "cell_type": "code",
   "execution_count": 9,
   "metadata": {},
   "outputs": [
    {
     "name": "stdout",
     "output_type": "stream",
     "text": [
      "3918 + 980\n"
     ]
    }
   ],
   "source": [
    "sk_train, sk_test = train_test_split(white, test_size=0.2, random_state=42)\n",
    "print(len(sk_train), \"+\", len(sk_test))"
   ]
  },
  {
   "cell_type": "code",
   "execution_count": 10,
   "metadata": {},
   "outputs": [],
   "source": [
    "X_train = sk_train[\n",
    "['fixed acidity',\n",
    " 'volatile acidity',\n",
    " 'citric acid',\n",
    " 'residual sugar',\n",
    " 'chlorides',\n",
    " 'free sulfur dioxide',\n",
    " 'total sulfur dioxide',\n",
    " 'density',\n",
    " 'pH',\n",
    " 'sulphates',\n",
    " 'alcohol']]\n",
    "Y_train = sk_train[['quality']]\n",
    "X_test = sk_test[\n",
    "['fixed acidity',\n",
    " 'volatile acidity',\n",
    " 'citric acid',\n",
    " 'residual sugar',\n",
    " 'chlorides',\n",
    " 'free sulfur dioxide',\n",
    " 'total sulfur dioxide',\n",
    " 'density',\n",
    " 'pH',\n",
    " 'sulphates',\n",
    " 'alcohol']]\n",
    "Y_test = sk_test[['quality']]\n",
    "X_train = X_train.values\n",
    "Y_train = Y_train.values\n",
    "categorical_labels_train = to_categorical(Y_train, num_classes=None)\n",
    "X_test = X_test.values\n",
    "Y_test = Y_test.values\n",
    "categorical_labels_test = to_categorical(Y_test, num_classes=None)"
   ]
  },
  {
   "cell_type": "code",
   "execution_count": 38,
   "metadata": {},
   "outputs": [],
   "source": [
    "model = tf.keras.Sequential()\n",
    "model.add(layers.Dense(64, activation='relu'))\n",
    "model.add(layers.Dense(64, activation='sigmoid'))\n",
    "model.add(layers.Dense(20, activation='linear'))\n",
    "model.add(layers.Dense(10, activation='softmax'))"
   ]
  },
  {
   "cell_type": "code",
   "execution_count": 39,
   "metadata": {},
   "outputs": [],
   "source": [
    "model.compile(optimizer=tf.train.AdamOptimizer(), \n",
    "              loss='sparse_categorical_crossentropy',   # can also use sparse_categorical_crossentropy then you don't need labels\n",
    "              metrics=['accuracy'])"
   ]
  },
  {
   "cell_type": "code",
   "execution_count": 40,
   "metadata": {},
   "outputs": [
    {
     "name": "stdout",
     "output_type": "stream",
     "text": [
      "Epoch 1/20\n",
      "3918/3918 [==============================] - 0s 89us/step - loss: 1.3867 - acc: 0.4347\n",
      "Epoch 2/20\n",
      "3918/3918 [==============================] - 0s 20us/step - loss: 1.2597 - acc: 0.4548\n",
      "Epoch 3/20\n",
      "3918/3918 [==============================] - 0s 21us/step - loss: 1.2250 - acc: 0.4602\n",
      "Epoch 4/20\n",
      "3918/3918 [==============================] - 0s 20us/step - loss: 1.2021 - acc: 0.4661\n",
      "Epoch 5/20\n",
      "3918/3918 [==============================] - 0s 21us/step - loss: 1.2099 - acc: 0.4645\n",
      "Epoch 6/20\n",
      "3918/3918 [==============================] - 0s 21us/step - loss: 1.1884 - acc: 0.4668\n",
      "Epoch 7/20\n",
      "3918/3918 [==============================] - 0s 20us/step - loss: 1.1871 - acc: 0.4661\n",
      "Epoch 8/20\n",
      "3918/3918 [==============================] - 0s 20us/step - loss: 1.1894 - acc: 0.4760\n",
      "Epoch 9/20\n",
      "3918/3918 [==============================] - 0s 21us/step - loss: 1.1796 - acc: 0.4773\n",
      "Epoch 10/20\n",
      "3918/3918 [==============================] - 0s 21us/step - loss: 1.1687 - acc: 0.4724\n",
      "Epoch 11/20\n",
      "3918/3918 [==============================] - 0s 20us/step - loss: 1.1649 - acc: 0.4895\n",
      "Epoch 12/20\n",
      "3918/3918 [==============================] - 0s 21us/step - loss: 1.1695 - acc: 0.4781\n",
      "Epoch 13/20\n",
      "3918/3918 [==============================] - 0s 21us/step - loss: 1.1583 - acc: 0.4923\n",
      "Epoch 14/20\n",
      "3918/3918 [==============================] - 0s 21us/step - loss: 1.1511 - acc: 0.4898\n",
      "Epoch 15/20\n",
      "3918/3918 [==============================] - 0s 21us/step - loss: 1.1535 - acc: 0.4888\n",
      "Epoch 16/20\n",
      "3918/3918 [==============================] - 0s 20us/step - loss: 1.1504 - acc: 0.4895\n",
      "Epoch 17/20\n",
      "3918/3918 [==============================] - 0s 21us/step - loss: 1.1429 - acc: 0.4936\n",
      "Epoch 18/20\n",
      "3918/3918 [==============================] - 0s 20us/step - loss: 1.1304 - acc: 0.4911\n",
      "Epoch 19/20\n",
      "3918/3918 [==============================] - 0s 21us/step - loss: 1.1381 - acc: 0.4911\n",
      "Epoch 20/20\n",
      "3918/3918 [==============================] - 0s 21us/step - loss: 1.1309 - acc: 0.4990\n"
     ]
    },
    {
     "data": {
      "text/plain": [
       "<tensorflow.python.keras.callbacks.History at 0x2e2a8da14a8>"
      ]
     },
     "execution_count": 40,
     "metadata": {},
     "output_type": "execute_result"
    }
   ],
   "source": [
    "model.fit(X_train, Y_train, epochs=20, batch_size=32)"
   ]
  },
  {
   "cell_type": "code",
   "execution_count": 41,
   "metadata": {},
   "outputs": [
    {
     "name": "stdout",
     "output_type": "stream",
     "text": [
      "980/980 [==============================] - 0s 97us/step\n",
      "Test accuracy: 0.481632652574656\n"
     ]
    }
   ],
   "source": [
    "test_loss, test_acc = model.evaluate(X_test, Y_test)\n",
    "print('Test accuracy:', test_acc)"
   ]
  },
  {
   "cell_type": "code",
   "execution_count": null,
   "metadata": {},
   "outputs": [],
   "source": []
  }
 ],
 "metadata": {
  "kernelspec": {
   "display_name": "Python 3",
   "language": "python",
   "name": "python3"
  },
  "language_info": {
   "codemirror_mode": {
    "name": "ipython",
    "version": 3
   },
   "file_extension": ".py",
   "mimetype": "text/x-python",
   "name": "python",
   "nbconvert_exporter": "python",
   "pygments_lexer": "ipython3",
   "version": "3.7.0"
  }
 },
 "nbformat": 4,
 "nbformat_minor": 2
}
