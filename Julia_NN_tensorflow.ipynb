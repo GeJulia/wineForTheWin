{
 "cells": [
  {
   "cell_type": "code",
   "execution_count": 1,
   "metadata": {},
   "outputs": [
    {
     "name": "stderr",
     "output_type": "stream",
     "text": [
      "Using TensorFlow backend.\n"
     ]
    }
   ],
   "source": [
    "import pandas as pd\n",
    "import numpy as np \n",
    "import matplotlib.pyplot as plt\n",
    "import seaborn as sns\n",
    "import tensorflow as tf \n",
    "from sklearn.model_selection import train_test_split\n",
    "from tensorflow.keras import layers\n",
    "import keras as keras\n",
    "from keras.models import Sequential\n",
    "from keras.layers import Dense, Dropout, Activation\n",
    "from keras.optimizers import SGD\n",
    "from keras.utils.np_utils import to_categorical\n",
    "from keras.utils.np_utils import to_categorical"
   ]
  },
  {
   "cell_type": "code",
   "execution_count": 2,
   "metadata": {},
   "outputs": [],
   "source": [
    "red = pd.read_csv('data/winequality-red1.csv')\n",
    "white = pd.read_csv('data/winequality-white1.csv')"
   ]
  },
  {
   "cell_type": "code",
   "execution_count": 3,
   "metadata": {},
   "outputs": [
    {
     "name": "stdout",
     "output_type": "stream",
     "text": [
      "1279 + 320\n"
     ]
    }
   ],
   "source": [
    "sk_train, sk_test = train_test_split(red, test_size=0.2, random_state=42)\n",
    "print(len(sk_train), \"+\", len(sk_test))"
   ]
  },
  {
   "cell_type": "code",
   "execution_count": 4,
   "metadata": {},
   "outputs": [],
   "source": [
    "X_train = sk_train[\n",
    "['fixed acidity',\n",
    " 'volatile acidity',\n",
    " 'citric acid',\n",
    " 'residual sugar',\n",
    " 'chlorides',\n",
    " 'free sulfur dioxide',\n",
    " 'total sulfur dioxide',\n",
    " 'density',\n",
    " 'pH',\n",
    " 'sulphates',\n",
    " 'alcohol']]\n",
    "Y_train = sk_train[['quality']]\n",
    "X_test = sk_test[\n",
    "['fixed acidity',\n",
    " 'volatile acidity',\n",
    " 'citric acid',\n",
    " 'residual sugar',\n",
    " 'chlorides',\n",
    " 'free sulfur dioxide',\n",
    " 'total sulfur dioxide',\n",
    " 'density',\n",
    " 'pH',\n",
    " 'sulphates',\n",
    " 'alcohol']]\n",
    "Y_test = sk_test[['quality']]\n",
    "X_train = X_train.values\n",
    "Y_train = Y_train.values\n",
    "categorical_labels_train = to_categorical(Y_train, num_classes=None)\n",
    "X_test = X_test.values\n",
    "Y_test = Y_test.values\n",
    "categorical_labels_test = to_categorical(Y_test, num_classes=None)"
   ]
  },
  {
   "cell_type": "code",
   "execution_count": 5,
   "metadata": {},
   "outputs": [],
   "source": [
    "model = tf.keras.Sequential()\n",
    "model.add(layers.Dense(64, activation='relu'))\n",
    "#model.add(layers.Dense(64, activation='sigmoid'))\n",
    "#model.add(layers.Dense(20, activation='linear'))\n",
    "model.add(layers.Dense(9, activation='softmax'))"
   ]
  },
  {
   "cell_type": "code",
   "execution_count": 6,
   "metadata": {},
   "outputs": [],
   "source": [
    "model.compile(optimizer=tf.train.AdamOptimizer(), \n",
    "              loss='categorical_crossentropy',   # can also use sparse_categorical_crossentropy then you don't need labels\n",
    "              metrics=['accuracy'])"
   ]
  },
  {
   "cell_type": "code",
   "execution_count": 7,
   "metadata": {},
   "outputs": [
    {
     "name": "stdout",
     "output_type": "stream",
     "text": [
      "Epoch 1/20\n",
      "1279/1279 [==============================] - 1s 1ms/step - loss: 2.5401 - acc: 0.4871\n",
      "Epoch 2/20\n",
      "1279/1279 [==============================] - 0s 60us/step - loss: 1.3065 - acc: 0.4722\n",
      "Epoch 3/20\n",
      "1279/1279 [==============================] - 0s 53us/step - loss: 1.2190 - acc: 0.5043\n",
      "Epoch 4/20\n",
      "1279/1279 [==============================] - 0s 47us/step - loss: 1.1877 - acc: 0.5059\n",
      "Epoch 5/20\n",
      "1279/1279 [==============================] - 0s 53us/step - loss: 1.1698 - acc: 0.5020\n",
      "Epoch 6/20\n",
      "1279/1279 [==============================] - 0s 50us/step - loss: 1.1389 - acc: 0.5098\n",
      "Epoch 7/20\n",
      "1279/1279 [==============================] - 0s 52us/step - loss: 1.1347 - acc: 0.5254\n",
      "Epoch 8/20\n",
      "1279/1279 [==============================] - 0s 52us/step - loss: 1.1290 - acc: 0.5129\n",
      "Epoch 9/20\n",
      "1279/1279 [==============================] - 0s 54us/step - loss: 1.1214 - acc: 0.5152\n",
      "Epoch 10/20\n",
      "1279/1279 [==============================] - 0s 55us/step - loss: 1.1178 - acc: 0.5160\n",
      "Epoch 11/20\n",
      "1279/1279 [==============================] - 0s 58us/step - loss: 1.1000 - acc: 0.5356\n",
      "Epoch 12/20\n",
      "1279/1279 [==============================] - 0s 61us/step - loss: 1.0977 - acc: 0.5301\n",
      "Epoch 13/20\n",
      "1279/1279 [==============================] - 0s 61us/step - loss: 1.0918 - acc: 0.5254\n",
      "Epoch 14/20\n",
      "1279/1279 [==============================] - 0s 47us/step - loss: 1.0809 - acc: 0.5317\n",
      "Epoch 15/20\n",
      "1279/1279 [==============================] - 0s 48us/step - loss: 1.0743 - acc: 0.5410\n",
      "Epoch 16/20\n",
      "1279/1279 [==============================] - 0s 62us/step - loss: 1.0888 - acc: 0.5387\n",
      "Epoch 17/20\n",
      "1279/1279 [==============================] - 0s 58us/step - loss: 1.0750 - acc: 0.5434\n",
      "Epoch 18/20\n",
      "1279/1279 [==============================] - 0s 49us/step - loss: 1.0807 - acc: 0.5324\n",
      "Epoch 19/20\n",
      "1279/1279 [==============================] - 0s 58us/step - loss: 1.0582 - acc: 0.5418\n",
      "Epoch 20/20\n",
      "1279/1279 [==============================] - 0s 59us/step - loss: 1.0571 - acc: 0.5457\n"
     ]
    },
    {
     "data": {
      "text/plain": [
       "<tensorflow.python.keras.callbacks.History at 0x25cf90256d8>"
      ]
     },
     "execution_count": 7,
     "metadata": {},
     "output_type": "execute_result"
    }
   ],
   "source": [
    "model.fit(X_train, categorical_labels_train, epochs=20, batch_size=32)"
   ]
  },
  {
   "cell_type": "code",
   "execution_count": 8,
   "metadata": {},
   "outputs": [
    {
     "name": "stdout",
     "output_type": "stream",
     "text": [
      "320/320 [==============================] - 0s 240us/step\n",
      "Test accuracy: 0.534375\n"
     ]
    }
   ],
   "source": [
    "test_loss, test_acc = model.evaluate(X_test, categorical_labels_test)\n",
    "print('Test accuracy:', test_acc)"
   ]
  },
  {
   "cell_type": "code",
   "execution_count": null,
   "metadata": {},
   "outputs": [],
   "source": []
  }
 ],
 "metadata": {
  "kernelspec": {
   "display_name": "Python 3",
   "language": "python",
   "name": "python3"
  },
  "language_info": {
   "codemirror_mode": {
    "name": "ipython",
    "version": 3
   },
   "file_extension": ".py",
   "mimetype": "text/x-python",
   "name": "python",
   "nbconvert_exporter": "python",
   "pygments_lexer": "ipython3",
   "version": "3.7.0"
  }
 },
 "nbformat": 4,
 "nbformat_minor": 2
}
